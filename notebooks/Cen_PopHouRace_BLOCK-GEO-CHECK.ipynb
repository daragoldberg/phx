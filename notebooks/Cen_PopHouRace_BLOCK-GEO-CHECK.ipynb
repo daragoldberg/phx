{
 "cells": [
  {
   "cell_type": "markdown",
   "metadata": {},
   "source": [
    "## Pop & Housing variables pulled from 2010, and 2020 Censuses (using Cen API) for urban villages - checking the incorporated vs. unincorporated areas\n",
    "\n",
    "Total Housing Units, Population, Population by Ethncity, Total Occupied Housing Units,  "
   ]
  },
  {
   "cell_type": "code",
   "execution_count": 1,
   "metadata": {},
   "outputs": [],
   "source": [
    "import pandas as pd\n",
    "import numpy as np"
   ]
  },
  {
   "cell_type": "code",
   "execution_count": 2,
   "metadata": {},
   "outputs": [],
   "source": [
    "import getters as get"
   ]
  },
  {
   "cell_type": "code",
   "execution_count": 3,
   "metadata": {},
   "outputs": [],
   "source": [
    "b10_red = pd.read_csv('../data/geo/blk_vil_10_reduced.csv')\n",
    "b20_red = pd.read_csv('../data/geo/blk_vil_20_reduced.csv')\n",
    "b10_full = pd.read_csv('../data/geo/blk_vil_10_full.csv')\n",
    "b20_full = pd.read_csv('../data/geo/blk_vil_20_full.csv')\n",
    "for df in [b10_red,b20_red,b10_full,b20_full]: df.geoid = df.geoid.apply(lambda x: '{0:0>15}'.format(x))\n",
    "\n",
    "drop_cols = ['aland','awater','lat','lon']\n",
    "for df in [b10_red,b20_red,b10_full,b20_full]: df.drop(drop_cols,axis=1,inplace=True)\n",
    "for df in [b10_red,b20_red,b10_full,b20_full]: df.rename({'geoid':'GEO_ID'},axis=1,inplace=True)"
   ]
  },
  {
   "cell_type": "code",
   "execution_count": 4,
   "metadata": {},
   "outputs": [],
   "source": [
    "## set sources, define variable lists by Decennial Census year\n",
    "#SF1 Dec in 2010, Redistricting file in 2020 (until 2020 tables are released)\n",
    "\n",
    "source_dec = 'dec/sf1'\n",
    "source_red = 'dec/pl'\n",
    "\n",
    "#variables for each Census\n",
    "years = {'2010':'P001001,P005003,P005004,P005005,P005006,P005007,P005008,P005009,P005010,H003001,H003002,H003003',\\\n",
    "        '2020':'P1_001N,P2_002N,P2_005N,P2_006N,P2_007N,P2_008N,P2_009N,P2_010N,P2_011N,H1_001N,H1_002N,H1_003N'}\n",
    "\n",
    "#rename 2010 columns to group\n",
    "col_10_rename={'P001001':'Pop_10E','P005003':'P_Wh_10E','P005004':'P_Bl_10E','P005006':'P_As_10E','P005010':'P_Hi_10E',\\\n",
    "               'P005005':'P_Ot_10E','P005007':'P_Ot_10E','P005008':'P_Ot_10E','P005009':'P_Ot_10E',\\\n",
    "              'H003001':'Hou_10E','H003002':'Hou_O_10E','H003003':'Hou_V_10E'}\n",
    "\n",
    "#rename 2020 columns to group\n",
    "col_20_rename = {'P1_001N':'Pop_20E','P2_002N':'P_Hi_20E',\\\n",
    "              'P2_005N':'P_Wh_20E','P2_006N':'P_Bl_20E',\\\n",
    "              'P2_007N':'P_Ot_20E','P2_008N':'P_As_20E','P2_009N':'P_Ot_20E',\\\n",
    "              'P2_010N':'P_Ot_20E','P2_011N':'P_Ot_20E','H1_001N':'Hou_20E',\\\n",
    "              'H1_002N':'Hou_O_20E','H1_003N':'Hou_V_20E'}"
   ]
  },
  {
   "cell_type": "markdown",
   "metadata": {},
   "source": [
    "### Urban Village for 2010 QAQC"
   ]
  },
  {
   "cell_type": "code",
   "execution_count": 5,
   "metadata": {},
   "outputs": [],
   "source": [
    "df10_red = get.get_blk(source_dec,list(years.keys())[0],years.get(list(years.keys())[0]),b10_red)\n",
    "df10_full = get.get_blk(source_dec,list(years.keys())[0],years.get(list(years.keys())[0]),b10_full)"
   ]
  },
  {
   "cell_type": "code",
   "execution_count": 6,
   "metadata": {},
   "outputs": [],
   "source": [
    "for df in [df10_red,df10_full]:\n",
    "    for col in df.columns[2:]:\n",
    "        df[col] = df[col].astype(int)\n",
    "    df.drop(['GEO_ID'],axis=1,inplace=True)\n",
    "    df.rename(columns=col_10_rename,inplace=True)"
   ]
  },
  {
   "cell_type": "code",
   "execution_count": 7,
   "metadata": {},
   "outputs": [],
   "source": [
    "df10_red = df10_red.groupby(df10_red.columns,axis=1).sum().groupby(['name']).sum().reset_index()"
   ]
  },
  {
   "cell_type": "code",
   "execution_count": 8,
   "metadata": {},
   "outputs": [],
   "source": [
    "df10_full = df10_full.groupby(df10_full.columns,axis=1).sum().groupby(['name']).sum().reset_index()"
   ]
  },
  {
   "cell_type": "markdown",
   "metadata": {},
   "source": [
    "## Urban Village for 2020 QAQC"
   ]
  },
  {
   "cell_type": "code",
   "execution_count": null,
   "metadata": {},
   "outputs": [],
   "source": [
    "df20_red = get.get_blk(source_red,list(years.keys())[1],years.get(list(years.keys())[1]),b20_red)\n",
    "df20_full = get.get_blk(source_red,list(years.keys())[1],years.get(list(years.keys())[1]),b20_full)"
   ]
  },
  {
   "cell_type": "code",
   "execution_count": null,
   "metadata": {},
   "outputs": [],
   "source": [
    "for df in [df20_red,df20_full]:\n",
    "    for col in df.columns[2:]:\n",
    "        df[col] = df[col].astype(int)\n",
    "    df.drop(['GEO_ID'],axis=1,inplace=True)\n",
    "    df.rename(columns=col_20_rename,inplace=True)"
   ]
  },
  {
   "cell_type": "code",
   "execution_count": null,
   "metadata": {},
   "outputs": [],
   "source": [
    "df20_red = df20_red.groupby(df20_red.columns,axis=1).sum().groupby(['name']).sum().reset_index()"
   ]
  },
  {
   "cell_type": "code",
   "execution_count": null,
   "metadata": {},
   "outputs": [],
   "source": [
    "df20_full = df20_full.groupby(df20_full.columns,axis=1).sum().groupby(['name']).sum().reset_index()"
   ]
  },
  {
   "cell_type": "code",
   "execution_count": null,
   "metadata": {},
   "outputs": [],
   "source": [
    "with pd.ExcelWriter(f'output/Village-Block-Pop-QAQC.xlsx') as writer:\n",
    "    df10_red.to_excel(writer, sheet_name=\"uv_10_reduced\", index=False)\n",
    "    df10_full.to_excel(writer, sheet_name=\"uv_10_full\", index=False)\n",
    "    df20_red.to_excel(writer, sheet_name=\"uv_20_reduced\", index=False)\n",
    "    df20_full.to_excel(writer, sheet_name=\"uv_20_full\", index=False)"
   ]
  }
 ],
 "metadata": {
  "kernelspec": {
   "display_name": "Python 3 (ipykernel)",
   "language": "python",
   "name": "python3"
  },
  "language_info": {
   "codemirror_mode": {
    "name": "ipython",
    "version": 3
   },
   "file_extension": ".py",
   "mimetype": "text/x-python",
   "name": "python",
   "nbconvert_exporter": "python",
   "pygments_lexer": "ipython3",
   "version": "3.9.13"
  }
 },
 "nbformat": 4,
 "nbformat_minor": 2
}
