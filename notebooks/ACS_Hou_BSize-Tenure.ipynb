{
 "cells": [
  {
   "cell_type": "markdown",
   "metadata": {},
   "source": [
    "## ACS Housing Units by Building Size for Urban Villages, City of Phoenix\n",
    "\n",
    "Keep all building size categories as presented by ACS, add a couple of multifamily summary columns (5-20 units, 20+ units) in case needed for dealing with MOEs and statistical reliability\n",
    "\n",
    "- https://www.census.gov/data/developers/data-sets/acs-5year.html\n",
    "- https://api.census.gov/data/2013/acs/acs5/variables.html\n",
    "- https://api.census.gov/data/2021/acs/acs5/variables.html"
   ]
  },
  {
   "cell_type": "code",
   "execution_count": 1,
   "metadata": {},
   "outputs": [],
   "source": [
    "import pandas as pd\n",
    "import math\n",
    "import numpy as np"
   ]
  },
  {
   "cell_type": "code",
   "execution_count": 2,
   "metadata": {},
   "outputs": [],
   "source": [
    "import getters as get\n",
    "import utilcalcs as calc\n",
    "import geo_agg\n",
    "from acs_bsize_vars import *"
   ]
  },
  {
   "cell_type": "code",
   "execution_count": 3,
   "metadata": {},
   "outputs": [],
   "source": [
    "#Search parameters - NOTE DIFFERENT VARIABLE # ASSIGNMENTS IN 2010 VS 2020\n",
    "y1 = '2021'\n",
    "y0_5 = '2013'\n",
    "y0_1 = '2010'\n",
    "\n",
    "cols_ten = 'group(B25032)'\n",
    "cols = 'group(B25024)'\n",
    "\n",
    "source_1 = 'acs/acs1'\n",
    "source_5 = 'acs/acs5'"
   ]
  },
  {
   "cell_type": "code",
   "execution_count": 4,
   "metadata": {},
   "outputs": [],
   "source": [
    "#comp cities and big geo rename dictionary\n",
    "rename_geos = {'0455000':'Phoenix', '04013':'Maricopa', '0100000US':'US', '0400000US04':'AZ',\\\n",
    "               '0473000':'Tempe','0465000':'Scottsdale', '0427820':'Glendale',\\\n",
    "               '4865000':'San Antonio', '4835000':'Houston', '1235000':'Jacksonville'}"
   ]
  },
  {
   "cell_type": "markdown",
   "metadata": {},
   "source": [
    "#### Calculate building size columns function"
   ]
  },
  {
   "cell_type": "code",
   "execution_count": 5,
   "metadata": {},
   "outputs": [],
   "source": [
    "# function to sum select building columns & recalc MOES\n",
    "#added summary/duplicative counts in creating agg columns to deal with statistical reliability\n",
    "def group_bsize(df,year):\n",
    "    #df['u_1_E'] = df.loc[:,U1E].sum(axis=1)\n",
    "    #df['u_1_M'] = df.apply(lambda x: (calc.get_moe(x[U1M])),axis=1)\n",
    "    df['u_24_E'] = df.loc[:,U24E].sum(axis=1)\n",
    "    df['u_24_M'] = df.apply(lambda x: (calc.get_moe(x[U24M])),axis=1)\n",
    "    df['u_520_E'] = df.loc[:,U520E].sum(axis=1)\n",
    "    df['u_520_M'] = df.apply(lambda x: (calc.get_moe(x[U520M])),axis=1)\n",
    "    df['u_o20_E'] = df.loc[:,Uo20E].sum(axis=1)\n",
    "    df['u_o20_M'] = df.apply(lambda x: (calc.get_moe(x[Uo20M])),axis=1)\n",
    "    df['u_oth_E'] = df.loc[:,UOthE].sum(axis=1)\n",
    "    df['u_oth_M'] = df.apply(lambda x: (calc.get_moe(x[UOthM])),axis=1)\n",
    "    df = df.rename(hou_rename,axis=1).drop(columns=hou_vars)\n",
    "    return df"
   ]
  },
  {
   "cell_type": "code",
   "execution_count": 6,
   "metadata": {},
   "outputs": [],
   "source": [
    "# make city and larger geos\n",
    "def make_table(source,year,cols,geotype='big'):\n",
    "    if geotype=='big':\n",
    "        ph = get.get_phx(source,year,cols)\n",
    "        mar = get.get_maricopa(source,year,cols)\n",
    "        us = get.get_us(source,year,cols)\n",
    "        az = get.get_az(source,year,cols)\n",
    "        cit = get.get_comp_cities(source,year,cols)\n",
    "        df = pd.concat([ph,mar,us,az,cit])\n",
    "        df = df.drop(['NAME','us','state'],axis=1)\n",
    "        aggtype='GEO_ID'\n",
    "    elif geotype=='uv':\n",
    "        df = get.get_bgp(source,year,cols)\n",
    "        aggtype='name'\n",
    "    elif geotype=='az_places':\n",
    "        df = get.get_az_plc(source,year,cols)\n",
    "        aggtype='GEO_ID'\n",
    "    else:\n",
    "        pass\n",
    "    df = get.clean_table(df)\n",
    "    df = group_bsize(df,year)\n",
    "    if geotype=='uv': df = geo_agg.make_uv(df,int(year))\n",
    "    df = geo_agg.sumgeo_cv(df,aggtype)\n",
    "    \n",
    "    for col in df.columns[1:]:\n",
    "        df.rename(columns={col:f'{col[:-1]}{year[-2:]}{col[-1:]}'},inplace=True)\n",
    "    return df"
   ]
  },
  {
   "cell_type": "markdown",
   "metadata": {},
   "source": [
    "## 1-year table for for city & larger geos"
   ]
  },
  {
   "cell_type": "code",
   "execution_count": null,
   "metadata": {},
   "outputs": [],
   "source": [
    "geo_y1_1y = make_table(source_1,y1,cols)\n",
    "#geo_y0_1y = make_table(source_1,y0_1,cols)"
   ]
  },
  {
   "cell_type": "code",
   "execution_count": null,
   "metadata": {},
   "outputs": [],
   "source": [
    "big1 = pd.merge(geo_y0_1y,geo_y1_1y,how='left',on='GEO_ID')\n",
    "big1 = calc.calc_change(big1,y0_1,y1,change_vars)"
   ]
  },
  {
   "cell_type": "code",
   "execution_count": null,
   "metadata": {},
   "outputs": [],
   "source": [
    "big1['GEO_ID'] = big1.GEO_ID.map(rename_geos)"
   ]
  },
  {
   "cell_type": "markdown",
   "metadata": {},
   "source": [
    "## 5-year for AZ places and urban villages"
   ]
  },
  {
   "cell_type": "markdown",
   "metadata": {},
   "source": [
    "#### urban villages - 5yr"
   ]
  },
  {
   "cell_type": "code",
   "execution_count": null,
   "metadata": {},
   "outputs": [],
   "source": [
    "uv_y1_5y = make_table(source_5,y1,cols,'uv')\n",
    "uv_y0_5y = make_table(source_5,y0_5,cols,'uv')"
   ]
  },
  {
   "cell_type": "code",
   "execution_count": null,
   "metadata": {},
   "outputs": [],
   "source": [
    "uv = pd.merge(uv_y0_5y,uv_y1_5y,how='left',on='name')\n",
    "uv = calc.calc_change(uv,y0_5,y1,change_vars)\n",
    "uv.rename({'name':'GEO_ID'},axis=1,inplace=True)"
   ]
  },
  {
   "cell_type": "markdown",
   "metadata": {},
   "source": [
    "### urban vill - size tenure"
   ]
  },
  {
   "cell_type": "code",
   "execution_count": 14,
   "metadata": {},
   "outputs": [],
   "source": [
    "uv_y1_5y = get.get_bgp(source_5,y1,cols_ten)"
   ]
  },
  {
   "cell_type": "code",
   "execution_count": 15,
   "metadata": {},
   "outputs": [],
   "source": [
    "uv_y1_5y = uv_y1_5y.loc[:,~uv_y1_5y.columns.str.endswith('A')].copy()"
   ]
  },
  {
   "cell_type": "code",
   "execution_count": 16,
   "metadata": {},
   "outputs": [],
   "source": [
    "uv_y1_5y = get.clean_table(uv_y1_5y)\n",
    "uv_y1_5y = geo_agg.make_uv(uv_y1_5y,int(y1))\n",
    "uv_y1_5y = geo_agg.sumgeo_cv(uv_y1_5y,'name')"
   ]
  },
  {
   "cell_type": "code",
   "execution_count": 17,
   "metadata": {
    "scrolled": true
   },
   "outputs": [
    {
     "data": {
      "text/html": [
       "<div>\n",
       "<style scoped>\n",
       "    .dataframe tbody tr th:only-of-type {\n",
       "        vertical-align: middle;\n",
       "    }\n",
       "\n",
       "    .dataframe tbody tr th {\n",
       "        vertical-align: top;\n",
       "    }\n",
       "\n",
       "    .dataframe thead th {\n",
       "        text-align: right;\n",
       "    }\n",
       "</style>\n",
       "<table border=\"1\" class=\"dataframe\">\n",
       "  <thead>\n",
       "    <tr style=\"text-align: right;\">\n",
       "      <th></th>\n",
       "      <th>name</th>\n",
       "      <th>B25032_001E</th>\n",
       "      <th>B25032_001M</th>\n",
       "      <th>B25032_001C</th>\n",
       "      <th>B25032_014E</th>\n",
       "      <th>B25032_014M</th>\n",
       "      <th>B25032_014C</th>\n",
       "      <th>B25032_019E</th>\n",
       "      <th>B25032_019M</th>\n",
       "      <th>B25032_019C</th>\n",
       "      <th>...</th>\n",
       "      <th>B25032_005C</th>\n",
       "      <th>B25032_015E</th>\n",
       "      <th>B25032_015M</th>\n",
       "      <th>B25032_015C</th>\n",
       "      <th>B25032_013E</th>\n",
       "      <th>B25032_013M</th>\n",
       "      <th>B25032_013C</th>\n",
       "      <th>B25032_006E</th>\n",
       "      <th>B25032_006M</th>\n",
       "      <th>B25032_006C</th>\n",
       "    </tr>\n",
       "  </thead>\n",
       "  <tbody>\n",
       "    <tr>\n",
       "      <th>0</th>\n",
       "      <td>Maryvale</td>\n",
       "      <td>67881.0</td>\n",
       "      <td>2069.703360</td>\n",
       "      <td>1.853506</td>\n",
       "      <td>14645.0</td>\n",
       "      <td>1066.705208</td>\n",
       "      <td>4.427812</td>\n",
       "      <td>3141.0</td>\n",
       "      <td>512.059567</td>\n",
       "      <td>9.910296</td>\n",
       "      <td>...</td>\n",
       "      <td>216.479120</td>\n",
       "      <td>1004.0</td>\n",
       "      <td>285.049119</td>\n",
       "      <td>17.259177</td>\n",
       "      <td>31681.0</td>\n",
       "      <td>1565.288472</td>\n",
       "      <td>3.003514</td>\n",
       "      <td>534.0</td>\n",
       "      <td>403.432770</td>\n",
       "      <td>45.926570</td>\n",
       "    </tr>\n",
       "    <tr>\n",
       "      <th>1</th>\n",
       "      <td>Estrella</td>\n",
       "      <td>24874.0</td>\n",
       "      <td>1100.737934</td>\n",
       "      <td>2.690125</td>\n",
       "      <td>6785.0</td>\n",
       "      <td>781.861880</td>\n",
       "      <td>7.005099</td>\n",
       "      <td>99.0</td>\n",
       "      <td>114.415908</td>\n",
       "      <td>70.256307</td>\n",
       "      <td>...</td>\n",
       "      <td>394.715698</td>\n",
       "      <td>43.0</td>\n",
       "      <td>100.538550</td>\n",
       "      <td>142.134092</td>\n",
       "      <td>8609.0</td>\n",
       "      <td>829.745142</td>\n",
       "      <td>5.859035</td>\n",
       "      <td>39.0</td>\n",
       "      <td>106.000000</td>\n",
       "      <td>165.224846</td>\n",
       "    </tr>\n",
       "    <tr>\n",
       "      <th>2</th>\n",
       "      <td>Paradise Valley</td>\n",
       "      <td>70807.0</td>\n",
       "      <td>1731.503971</td>\n",
       "      <td>1.486556</td>\n",
       "      <td>7196.0</td>\n",
       "      <td>706.803367</td>\n",
       "      <td>5.970924</td>\n",
       "      <td>3192.0</td>\n",
       "      <td>713.106584</td>\n",
       "      <td>13.580810</td>\n",
       "      <td>...</td>\n",
       "      <td>115.922671</td>\n",
       "      <td>1177.0</td>\n",
       "      <td>274.568753</td>\n",
       "      <td>14.181062</td>\n",
       "      <td>24082.0</td>\n",
       "      <td>1268.502661</td>\n",
       "      <td>3.202086</td>\n",
       "      <td>487.0</td>\n",
       "      <td>211.964620</td>\n",
       "      <td>26.458701</td>\n",
       "    </tr>\n",
       "    <tr>\n",
       "      <th>3</th>\n",
       "      <td>Deer Valley</td>\n",
       "      <td>69672.0</td>\n",
       "      <td>1889.569792</td>\n",
       "      <td>1.648689</td>\n",
       "      <td>7290.0</td>\n",
       "      <td>714.915380</td>\n",
       "      <td>5.961578</td>\n",
       "      <td>3980.0</td>\n",
       "      <td>636.059746</td>\n",
       "      <td>9.715137</td>\n",
       "      <td>...</td>\n",
       "      <td>314.911567</td>\n",
       "      <td>1009.0</td>\n",
       "      <td>337.896434</td>\n",
       "      <td>20.357598</td>\n",
       "      <td>26088.0</td>\n",
       "      <td>1404.344687</td>\n",
       "      <td>3.272405</td>\n",
       "      <td>263.0</td>\n",
       "      <td>178.179685</td>\n",
       "      <td>41.184760</td>\n",
       "    </tr>\n",
       "    <tr>\n",
       "      <th>4</th>\n",
       "      <td>North Mountain</td>\n",
       "      <td>68220.0</td>\n",
       "      <td>1953.184323</td>\n",
       "      <td>1.740466</td>\n",
       "      <td>6350.0</td>\n",
       "      <td>671.349387</td>\n",
       "      <td>6.427010</td>\n",
       "      <td>5352.0</td>\n",
       "      <td>779.740341</td>\n",
       "      <td>8.856620</td>\n",
       "      <td>...</td>\n",
       "      <td>87.978051</td>\n",
       "      <td>1196.0</td>\n",
       "      <td>325.086142</td>\n",
       "      <td>16.523475</td>\n",
       "      <td>32149.0</td>\n",
       "      <td>1550.172248</td>\n",
       "      <td>2.931208</td>\n",
       "      <td>361.0</td>\n",
       "      <td>168.914179</td>\n",
       "      <td>28.444153</td>\n",
       "    </tr>\n",
       "  </tbody>\n",
       "</table>\n",
       "<p>5 rows × 70 columns</p>\n",
       "</div>"
      ],
      "text/plain": [
       "              name  B25032_001E  B25032_001M  B25032_001C  B25032_014E  \\\n",
       "0         Maryvale      67881.0  2069.703360     1.853506      14645.0   \n",
       "1         Estrella      24874.0  1100.737934     2.690125       6785.0   \n",
       "2  Paradise Valley      70807.0  1731.503971     1.486556       7196.0   \n",
       "3      Deer Valley      69672.0  1889.569792     1.648689       7290.0   \n",
       "4   North Mountain      68220.0  1953.184323     1.740466       6350.0   \n",
       "\n",
       "   B25032_014M  B25032_014C  B25032_019E  B25032_019M  B25032_019C  ...  \\\n",
       "0  1066.705208     4.427812       3141.0   512.059567     9.910296  ...   \n",
       "1   781.861880     7.005099         99.0   114.415908    70.256307  ...   \n",
       "2   706.803367     5.970924       3192.0   713.106584    13.580810  ...   \n",
       "3   714.915380     5.961578       3980.0   636.059746     9.715137  ...   \n",
       "4   671.349387     6.427010       5352.0   779.740341     8.856620  ...   \n",
       "\n",
       "   B25032_005C  B25032_015E  B25032_015M  B25032_015C  B25032_013E  \\\n",
       "0   216.479120       1004.0   285.049119    17.259177      31681.0   \n",
       "1   394.715698         43.0   100.538550   142.134092       8609.0   \n",
       "2   115.922671       1177.0   274.568753    14.181062      24082.0   \n",
       "3   314.911567       1009.0   337.896434    20.357598      26088.0   \n",
       "4    87.978051       1196.0   325.086142    16.523475      32149.0   \n",
       "\n",
       "   B25032_013M  B25032_013C  B25032_006E  B25032_006M  B25032_006C  \n",
       "0  1565.288472     3.003514        534.0   403.432770    45.926570  \n",
       "1   829.745142     5.859035         39.0   106.000000   165.224846  \n",
       "2  1268.502661     3.202086        487.0   211.964620    26.458701  \n",
       "3  1404.344687     3.272405        263.0   178.179685    41.184760  \n",
       "4  1550.172248     2.931208        361.0   168.914179    28.444153  \n",
       "\n",
       "[5 rows x 70 columns]"
      ]
     },
     "execution_count": 17,
     "metadata": {},
     "output_type": "execute_result"
    }
   ],
   "source": [
    "uv_y1_5y.head()"
   ]
  },
  {
   "cell_type": "code",
   "execution_count": 18,
   "metadata": {},
   "outputs": [],
   "source": [
    "uv_y1_5y.to_excel('output/bsize_ten_uv_5yr_21.xlsx',index=False)"
   ]
  },
  {
   "cell_type": "markdown",
   "metadata": {},
   "source": [
    "#### other places AZ - 5YR"
   ]
  },
  {
   "cell_type": "code",
   "execution_count": null,
   "metadata": {},
   "outputs": [],
   "source": [
    "pl_y1_5y = make_table(source_5,y1,cols,'az_places')\n",
    "pl_y0_5y = make_table(source_5,y0_5,cols,'az_places')"
   ]
  },
  {
   "cell_type": "code",
   "execution_count": null,
   "metadata": {},
   "outputs": [],
   "source": [
    "pl = pd.merge(pl_y0_5y,pl_y1_5y,how='left',on='GEO_ID')\n",
    "pl = calc.calc_change(pl,y0_5,y1,change_vars)"
   ]
  },
  {
   "cell_type": "code",
   "execution_count": null,
   "metadata": {},
   "outputs": [],
   "source": [
    "geo_y1_5y = make_table(source_5,y1,cols)\n",
    "geo_y0_5y = make_table(source_5,y0_5,cols)\n",
    "big5 = pd.merge(geo_y0_5y,geo_y1_5y,how='left',on='GEO_ID')\n",
    "big5 = calc.calc_change(big5,y0_5,y1,change_vars)"
   ]
  },
  {
   "cell_type": "code",
   "execution_count": null,
   "metadata": {},
   "outputs": [],
   "source": [
    "y5_table = pd.concat([uv,pl,big5])"
   ]
  },
  {
   "cell_type": "code",
   "execution_count": null,
   "metadata": {},
   "outputs": [],
   "source": [
    "with pd.ExcelWriter(f'output/acs_blgsize_allgeos.xlsx') as writer:\n",
    "    big1.to_excel(writer, sheet_name=\"1yr_big_geos\", index=False)\n",
    "    y5_table.to_excel(writer, sheet_name=\"5yr_all_geos\", index=False)"
   ]
  }
 ],
 "metadata": {
  "kernelspec": {
   "display_name": "Python 3",
   "language": "python",
   "name": "python3"
  },
  "language_info": {
   "codemirror_mode": {
    "name": "ipython",
    "version": 3
   },
   "file_extension": ".py",
   "mimetype": "text/x-python",
   "name": "python",
   "nbconvert_exporter": "python",
   "pygments_lexer": "ipython3",
   "version": "3.8.5"
  }
 },
 "nbformat": 4,
 "nbformat_minor": 2
}
