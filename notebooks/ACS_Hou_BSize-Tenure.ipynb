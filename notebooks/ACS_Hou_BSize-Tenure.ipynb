{
 "cells": [
  {
   "cell_type": "markdown",
   "metadata": {},
   "source": [
    "## ACS Housing Units by Building Size for Urban Villages, City of Phoenix\n",
    "\n",
    "Keep all building size categories as presented by ACS, add a couple of multifamily summary columns (5-20 units, 20+ units) in case needed for dealing with MOEs and statistical reliability\n",
    "\n",
    "- https://www.census.gov/data/developers/data-sets/acs-5year.html\n",
    "- https://api.census.gov/data/2013/acs/acs5/variables.html\n",
    "- https://api.census.gov/data/2021/acs/acs5/variables.html"
   ]
  },
  {
   "cell_type": "code",
   "execution_count": 1,
   "metadata": {},
   "outputs": [],
   "source": [
    "import pandas as pd\n",
    "import math\n",
    "import numpy as np"
   ]
  },
  {
   "cell_type": "code",
   "execution_count": 2,
   "metadata": {},
   "outputs": [],
   "source": [
    "import getters as get\n",
    "import utilcalcs as calc\n",
    "import geo_agg\n",
    "from acs_bsize_vars import *"
   ]
  },
  {
   "cell_type": "code",
   "execution_count": 3,
   "metadata": {},
   "outputs": [],
   "source": [
    "#Search parameters - NOTE DIFFERENT VARIABLE # ASSIGNMENTS IN 2010 VS 2020\n",
    "y1 = '2021'\n",
    "y0_5 = '2013'\n",
    "y0_1 = '2010'\n",
    "\n",
    "cols_ten = 'group(B25032)'\n",
    "cols = 'group(B25024)'\n",
    "\n",
    "source_1 = 'acs/acs1'\n",
    "#source_5 = 'acs/acs5'"
   ]
  },
  {
   "cell_type": "code",
   "execution_count": 4,
   "metadata": {},
   "outputs": [],
   "source": [
    "#comp cities and big geo rename dictionary\n",
    "rename_geos = {'0455000':'Phoenix', '04013':'Maricopa', '0100000US':'US', '0400000US04':'AZ',\\\n",
    "               '0473000':'Tempe','0465000':'Scottsdale', '0427820':'Glendale',\\\n",
    "               '4865000':'San Antonio', '4835000':'Houston', '1235000':'Jacksonville'}"
   ]
  },
  {
   "cell_type": "markdown",
   "metadata": {},
   "source": [
    "#### Calculate building size columns function"
   ]
  },
  {
   "cell_type": "code",
   "execution_count": 5,
   "metadata": {},
   "outputs": [],
   "source": [
    "# function to sum select building columns & recalc MOES\n",
    "#added summary/duplicative counts in creating agg columns to deal with statistical reliability\n",
    "def group_bsize(df,year):\n",
    "    df['u_1_E'] = df.loc[:,U1E].sum(axis=1)\n",
    "    df['u_1_M'] = df.apply(lambda x: (calc.get_moe(x[U1M])),axis=1)\n",
    "    df['u_24_E'] = df.loc[:,U24E].sum(axis=1)\n",
    "    df['u_24_M'] = df.apply(lambda x: (calc.get_moe(x[U24M])),axis=1)\n",
    "    df['u_520_E'] = df.loc[:,U520E].sum(axis=1)\n",
    "    df['u_520_M'] = df.apply(lambda x: (calc.get_moe(x[U520M])),axis=1)\n",
    "    df['u_o20_E'] = df.loc[:,Uo20E].sum(axis=1)\n",
    "    df['u_o20_M'] = df.apply(lambda x: (calc.get_moe(x[Uo20M])),axis=1)\n",
    "    df['u_oth_E'] = df.loc[:,UOthE].sum(axis=1)\n",
    "    df['u_oth_M'] = df.apply(lambda x: (calc.get_moe(x[UOthM])),axis=1)\n",
    "    df = df.rename(hou_rename,axis=1).drop(columns=hou_vars)\n",
    "    return df"
   ]
  },
  {
   "cell_type": "code",
   "execution_count": 6,
   "metadata": {},
   "outputs": [],
   "source": [
    "# make city and larger geos\n",
    "def make_table(source,year,cols,geotype='big'):\n",
    "    if geotype=='big':\n",
    "        ph = get.get_phx(source,year,cols)\n",
    "        mar = get.get_maricopa(source,year,cols)\n",
    "        us = get.get_us(source,year,cols)\n",
    "        az = get.get_az(source,year,cols)\n",
    "        cit = get.get_comp_cities(source,year,cols)\n",
    "        df = pd.concat([ph,mar,us,az,cit])\n",
    "        df = df.drop(['NAME','us','state'],axis=1)\n",
    "        aggtype='GEO_ID'\n",
    "    elif geotype=='uv':\n",
    "        df = get.get_bgp(source,year,cols)\n",
    "        aggtype='name'\n",
    "    elif geotype=='az_places':\n",
    "        df = get.get_az_plc(source,year,cols)\n",
    "        aggtype='GEO_ID'\n",
    "    else:\n",
    "        pass\n",
    "    df = get.clean_table(df)\n",
    "    df = group_bsize(df,year)\n",
    "    if geotype=='uv': df = geo_agg.make_uv(df,int(year))\n",
    "    df = geo_agg.sumgeo_cv(df,aggtype)\n",
    "    \n",
    "    for col in df.columns[1:]:\n",
    "        df.rename(columns={col:f'{col[:-1]}{year[-2:]}{col[-1:]}'},inplace=True)\n",
    "    return df"
   ]
  },
  {
   "cell_type": "markdown",
   "metadata": {},
   "source": [
    "## 1-year table for for city & larger geos"
   ]
  },
  {
   "cell_type": "code",
   "execution_count": 8,
   "metadata": {},
   "outputs": [],
   "source": [
    "geo_y1_1y = make_table(source_1,y1,cols)\n",
    "#geo_y0_1y = make_table(source_1,y0_1,cols)"
   ]
  },
  {
   "cell_type": "code",
   "execution_count": 9,
   "metadata": {},
   "outputs": [],
   "source": [
    "big1 = pd.merge(geo_y0_1y,geo_y1_1y,how='left',on='GEO_ID')\n",
    "big1 = calc.calc_change(big1,y0_1,y1,change_vars)"
   ]
  },
  {
   "cell_type": "code",
   "execution_count": 10,
   "metadata": {},
   "outputs": [],
   "source": [
    "big1['GEO_ID'] = big1.GEO_ID.map(rename_geos)"
   ]
  },
  {
   "cell_type": "markdown",
   "metadata": {},
   "source": [
    "## 5-year for AZ places and urban villages"
   ]
  },
  {
   "cell_type": "markdown",
   "metadata": {},
   "source": [
    "#### urban villages - 5yr"
   ]
  },
  {
   "cell_type": "code",
   "execution_count": 11,
   "metadata": {},
   "outputs": [],
   "source": [
    "uv_y1_5y = make_table(source_5,y1,cols,'uv')\n",
    "uv_y0_5y = make_table(source_5,y0_5,cols,'uv')"
   ]
  },
  {
   "cell_type": "code",
   "execution_count": 12,
   "metadata": {},
   "outputs": [],
   "source": [
    "uv = pd.merge(uv_y0_5y,uv_y1_5y,how='left',on='name')\n",
    "uv = calc.calc_change(uv,y0_5,y1,change_vars)\n",
    "uv.rename({'name':'GEO_ID'},axis=1,inplace=True)"
   ]
  },
  {
   "cell_type": "markdown",
   "metadata": {},
   "source": [
    "#### other places AZ - 5YR"
   ]
  },
  {
   "cell_type": "code",
   "execution_count": 13,
   "metadata": {},
   "outputs": [],
   "source": [
    "pl_y1_5y = make_table(source_5,y1,cols,'az_places')\n",
    "pl_y0_5y = make_table(source_5,y0_5,cols,'az_places')"
   ]
  },
  {
   "cell_type": "code",
   "execution_count": 14,
   "metadata": {},
   "outputs": [],
   "source": [
    "pl = pd.merge(pl_y0_5y,pl_y1_5y,how='left',on='GEO_ID')\n",
    "pl = calc.calc_change(pl,y0_5,y1,change_vars)"
   ]
  },
  {
   "cell_type": "code",
   "execution_count": 16,
   "metadata": {},
   "outputs": [],
   "source": [
    "geo_y1_5y = make_table(source_5,y1,cols)\n",
    "geo_y0_5y = make_table(source_5,y0_5,cols)\n",
    "big5 = pd.merge(geo_y0_5y,geo_y1_5y,how='left',on='GEO_ID')\n",
    "big5 = calc.calc_change(big5,y0_5,y1,change_vars)"
   ]
  },
  {
   "cell_type": "code",
   "execution_count": 17,
   "metadata": {},
   "outputs": [],
   "source": [
    "y5_table = pd.concat([uv,pl,big5])"
   ]
  },
  {
   "cell_type": "code",
   "execution_count": 19,
   "metadata": {},
   "outputs": [],
   "source": [
    "with pd.ExcelWriter(f'output/acs_blgsize_allgeos.xlsx') as writer:\n",
    "    big1.to_excel(writer, sheet_name=\"1yr_big_geos\", index=False)\n",
    "    y5_table.to_excel(writer, sheet_name=\"5yr_all_geos\", index=False)"
   ]
  }
 ],
 "metadata": {
  "kernelspec": {
   "display_name": "Python 3 (ipykernel)",
   "language": "python",
   "name": "python3"
  },
  "language_info": {
   "codemirror_mode": {
    "name": "ipython",
    "version": 3
   },
   "file_extension": ".py",
   "mimetype": "text/x-python",
   "name": "python",
   "nbconvert_exporter": "python",
   "pygments_lexer": "ipython3",
   "version": "3.9.13"
  }
 },
 "nbformat": 4,
 "nbformat_minor": 2
}
