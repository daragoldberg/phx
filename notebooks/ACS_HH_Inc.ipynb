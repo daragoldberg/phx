{
 "cells": [
  {
   "cell_type": "markdown",
   "metadata": {},
   "source": [
    "# ACS Household Income in Phoenix Urban Villages, City of Phoenix, U.S.\n",
    "\n",
    "- https://www.census.gov/data/developers/data-sets/acs-5year.html\n",
    "\n",
    "For households by income and race/ethnicity:\n",
    "- https://api.census.gov/data/2013/acs/acs5/variables.html\n",
    "- https://api.census.gov/data/2021/acs/acs5/variables.html\n",
    "\n",
    "** Note: Census Block Groups (which are aggregated to Phoenix Urban Village areas) are not available until 2013. "
   ]
  },
  {
   "cell_type": "code",
   "execution_count": 1,
   "metadata": {},
   "outputs": [],
   "source": [
    "import pandas as pd\n",
    "import math\n",
    "import numpy as np\n",
    "import os"
   ]
  },
  {
   "cell_type": "code",
   "execution_count": 2,
   "metadata": {},
   "outputs": [],
   "source": [
    "import getters as get\n",
    "import utilcalcs as calc\n",
    "import geo_agg\n",
    "from acs_income_vars import *\n",
    "from geos import *"
   ]
  },
  {
   "cell_type": "code",
   "execution_count": 3,
   "metadata": {},
   "outputs": [],
   "source": [
    "#Search parameters\n",
    "y1 = '2021'\n",
    "y0_1 = '2013'\n",
    "y0_5 = '2013'\n",
    "\n",
    "cols_inc = 'group(B19001)'\n",
    "cols_inc_w = 'group(B19001A)'\n",
    "cols_inc_agg = 'group(B19025),B19001_001E,B19001_001M'\n",
    "cols_inc_size = 'group(B19019)'\n",
    "\n",
    "source_5 = 'acs/acs5'\n",
    "source_1 = 'acs/acs1'"
   ]
  },
  {
   "cell_type": "code",
   "execution_count": 4,
   "metadata": {},
   "outputs": [],
   "source": [
    "#comp cities and big geo rename dictionary\n",
    "rename_geos = {'0455000':'Phoenix', '04013':'Maricopa', '0100000US':'US', '0400000US04':'AZ',\\\n",
    "               '0473000':'Tempe','0465000':'Scottsdale', '0427820':'Glendale',\\\n",
    "               '4865000':'San Antonio', '4835000':'Houston', '1235000':'Jacksonville'}"
   ]
  },
  {
   "cell_type": "code",
   "execution_count": 5,
   "metadata": {},
   "outputs": [],
   "source": [
    "hh_size_rename = {'B19019_001E':'hh_tot_E','B19019_001M':'hh_tot_M','B19019_002E':'hh_1_E','B19019_002M':'hh_1_M',\\\n",
    "               'B19019_003E':'hh_2_E','B19019_003M':'hh_2_M','B19019_004E':'hh_3_E','B19019_004M':'hh_3_M',\\\n",
    "               'B19019_005E':'hh_4_E','B19019_005M':'hh_4_M','B19019_006E':'hh_5_E','B19019_006M':'hh_5_M',\\\n",
    "               'B19019_007E':'hh_6_E','B19019_007M':'hh_6_M','B19019_008E':'hh_7_E','B19019_008M':'hh_7_M'}"
   ]
  },
  {
   "cell_type": "markdown",
   "metadata": {},
   "source": [
    "## Households by Income Band\n",
    "<30k, 30-50k, 50-75k, 75-100k, +100k"
   ]
  },
  {
   "cell_type": "markdown",
   "metadata": {},
   "source": [
    "### Urban Villages"
   ]
  },
  {
   "cell_type": "code",
   "execution_count": 6,
   "metadata": {},
   "outputs": [],
   "source": [
    "def group_inc(df,year):\n",
    "    df['i_u30_E'] = df.loc[:,i_u30E].sum(axis=1)\n",
    "    df['i_u30_M'] = df.apply(lambda x: (calc.get_moe(x[i_u30M])),axis=1)\n",
    "    df['i_3050_E'] = df.loc[:,i_3050E].sum(axis=1)\n",
    "    df['i_3050_M'] = df.apply(lambda x: (calc.get_moe(x[i_3050M])),axis=1)\n",
    "    df['i_5075_E'] = df.loc[:,i_5075E].sum(axis=1)\n",
    "    df['i_5075_M'] = df.apply(lambda x: (calc.get_moe(x[i_5075M])),axis=1)\n",
    "    df['i_o100_E'] = df.loc[:,i_o100E].sum(axis=1)\n",
    "    df['i_o100_M'] = df.apply(lambda x: (calc.get_moe(x[i_o100M])),axis=1)\n",
    "    df = df.drop(columns=inc_vars).rename(inc_rename,axis=1)\n",
    "    \n",
    "    #add end-year into column name\n",
    "    for col in df.columns[1:]:\n",
    "        df.rename(columns={col:f'{col[:-1]}{year[-2:]}{col[-1:]}'},inplace=True)\n",
    "    return df"
   ]
  },
  {
   "cell_type": "code",
   "execution_count": 7,
   "metadata": {},
   "outputs": [],
   "source": [
    "# make city and larger geos\n",
    "def make_table(source,year,cols,geotype='big'):\n",
    "    if geotype=='big':\n",
    "        ph = get.get_phx(source,year,cols)\n",
    "        mar = get.get_maricopa(source,year,cols)\n",
    "        us = get.get_us(source,year,cols)\n",
    "        az = get.get_az(source,year,cols)\n",
    "        cit = get.get_comp_cities(source,year,cols)\n",
    "        df = pd.concat([ph,mar,us,az,cit])\n",
    "        df = df.drop(['NAME','us','state'],axis=1)\n",
    "        aggtype='GEO_ID'\n",
    "    elif geotype=='uv':\n",
    "        df = get.get_bgp(source,year,cols)\n",
    "        aggtype='name'\n",
    "    elif geotype=='az_places':\n",
    "        df = get.get_az_plc(source,year,cols)\n",
    "        aggtype='GEO_ID'\n",
    "    else:\n",
    "        pass\n",
    "    df = get.clean_table(df)\n",
    "    df = group_inc(df,year)\n",
    "    if geotype=='uv': df = geo_agg.make_uv(df,int(year))\n",
    "    df = geo_agg.sumgeo_cv(df,aggtype)\n",
    "    \n",
    "    for col in df.columns[1:]:\n",
    "        df.rename(columns={col:f'{col[:-1]}{year[-2:]}{col[-1:]}'},inplace=True)\n",
    "    return df"
   ]
  },
  {
   "cell_type": "markdown",
   "metadata": {},
   "source": [
    "### 1 year - Income by Band for Large Geos"
   ]
  },
  {
   "cell_type": "code",
   "execution_count": 8,
   "metadata": {},
   "outputs": [],
   "source": [
    "geo_y1_1y = make_table(source_1,y1,cols_inc)"
   ]
  },
  {
   "cell_type": "code",
   "execution_count": 9,
   "metadata": {},
   "outputs": [],
   "source": [
    "geo_y1_1y['GEO_ID'] = geo_y1_1y.GEO_ID.map(rename_geos)"
   ]
  },
  {
   "cell_type": "markdown",
   "metadata": {},
   "source": [
    "### 5 year - Income by Band for Smaller Geos"
   ]
  },
  {
   "cell_type": "code",
   "execution_count": 10,
   "metadata": {},
   "outputs": [],
   "source": [
    "uv_y1_5y = make_table(source_5,y1,cols_inc,'uv')\n",
    "uv_y1_5y.rename({'name':'GEO_ID'},axis=1,inplace=True)\n",
    "\n",
    "pl_y1_5y = make_table(source_5,y1,cols_inc,'az_places')\n",
    "geo_y1_5y = make_table(source_5,y1,cols_inc)"
   ]
  },
  {
   "cell_type": "code",
   "execution_count": 11,
   "metadata": {},
   "outputs": [],
   "source": [
    "big5 = pd.concat([uv_y1_5y,geo_y1_5y,pl_y1_5y])"
   ]
  },
  {
   "cell_type": "markdown",
   "metadata": {},
   "source": [
    "## Aggregate income for PUMAs, City, County, AZ, U.S."
   ]
  },
  {
   "cell_type": "code",
   "execution_count": 14,
   "metadata": {},
   "outputs": [],
   "source": [
    "def calc_avg_income(source,year):\n",
    "    cols = cols_inc_agg\n",
    "    pum = get.get_puma(source,year,cols)\n",
    "    pum = pum[pum.GEO_ID.isin(phx_pumas)]\n",
    "    mar = get.get_maricopa(source,year,cols)\n",
    "    us = get.get_us(source,year,cols)\n",
    "    az = get.get_az(source,year,cols)\n",
    "    pl = get.get_az_plc(source,year,cols)\n",
    "    df = pd.concat([pum,mar,us,az,pl])\n",
    "    df = df.drop(['NAME','us','state'],axis=1)\n",
    "    df = get.clean_table(df)\n",
    "    df.rename({'B19001_001E':'tot_hh_E','B19001_001M':'tot_hh_M',\\\n",
    "                'B19025_001E':'tot_inc_E','B19025_001M':'tot_inc_M',},axis=1,inplace=True)\n",
    "    df = geo_agg.sumgeo_cv(df,'GEO_ID')\n",
    "    df['avg_inc_E'] = df['tot_inc_E'] / df['tot_hh_E']\n",
    "    return df"
   ]
  },
  {
   "cell_type": "code",
   "execution_count": 15,
   "metadata": {},
   "outputs": [],
   "source": [
    "avg_inc = calc_avg_income(source_1,y1)"
   ]
  },
  {
   "cell_type": "markdown",
   "metadata": {},
   "source": [
    "### Median HHI by HH Size, total HHs by Size"
   ]
  },
  {
   "cell_type": "code",
   "execution_count": 18,
   "metadata": {},
   "outputs": [],
   "source": [
    "def make_hh_size(source,year):\n",
    "    cols = cols_inc_size\n",
    "    pum = get.get_puma(source,year,cols)\n",
    "    pum = pum[pum.GEO_ID.isin(phx_pumas)]\n",
    "    mar = get.get_maricopa(source,year,cols)\n",
    "    us = get.get_us(source,year,cols)\n",
    "    az = get.get_az(source,year,cols)\n",
    "    pl = get.get_az_plc(source,year,cols)\n",
    "    df = pd.concat([pum,mar,us,az,pl])\n",
    "    df = df.drop(['NAME','us','state'],axis=1)\n",
    "    df = get.clean_table(df)\n",
    "    df.rename(columns=hh_size_rename,inplace=True)\n",
    "    df = geo_agg.sumgeo_cv(df,'GEO_ID')\n",
    "    return df"
   ]
  },
  {
   "cell_type": "code",
   "execution_count": 19,
   "metadata": {},
   "outputs": [],
   "source": [
    "big_hhsize = make_hh_size(source_1,y1)"
   ]
  },
  {
   "cell_type": "code",
   "execution_count": 20,
   "metadata": {},
   "outputs": [],
   "source": [
    "with pd.ExcelWriter(f'output/HH_inc.xlsx') as writer:\n",
    "    geo_y1_1y.to_excel(writer, sheet_name=\"Inc_Band_1YR\", index=False)\n",
    "    big5.to_excel(writer, sheet_name=\"Inc_Band_5YR\", index=False)\n",
    "    avg_inc.to_excel(writer, sheet_name=\"Inc_Avg\", index=False)\n",
    "    big_hhsize.to_excel(writer, sheet_name=\"Inc_HHSize_1YR\", index=False)"
   ]
  }
 ],
 "metadata": {
  "kernelspec": {
   "display_name": "Python 3",
   "language": "python",
   "name": "python3"
  },
  "language_info": {
   "codemirror_mode": {
    "name": "ipython",
    "version": 3
   },
   "file_extension": ".py",
   "mimetype": "text/x-python",
   "name": "python",
   "nbconvert_exporter": "python",
   "pygments_lexer": "ipython3",
   "version": "3.8.5"
  }
 },
 "nbformat": 4,
 "nbformat_minor": 2
}
