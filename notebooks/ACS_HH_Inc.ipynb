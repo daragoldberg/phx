{
 "cells": [
  {
   "cell_type": "markdown",
   "metadata": {},
   "source": [
    "# ACS Household Income in Phoenix Urban Villages, City of Phoenix, U.S.\n",
    "\n",
    "- https://www.census.gov/data/developers/data-sets/acs-5year.html\n",
    "\n",
    "For households by income and race/ethnicity:\n",
    "- https://api.census.gov/data/2013/acs/acs5/variables.html\n",
    "- https://api.census.gov/data/2021/acs/acs5/variables.html\n",
    "\n",
    "** Note: Census Block Groups (which are aggregated to Phoenix Urban Village areas) are not available until 2013. "
   ]
  },
  {
   "cell_type": "code",
   "execution_count": 1,
   "metadata": {},
   "outputs": [],
   "source": [
    "import pandas as pd\n",
    "import math\n",
    "import numpy as np\n",
    "import os"
   ]
  },
  {
   "cell_type": "code",
   "execution_count": 2,
   "metadata": {},
   "outputs": [],
   "source": [
    "import get_acs as get\n",
    "import utilcalcs as calc\n",
    "import geo_agg\n",
    "from acs_income_vars import *"
   ]
  },
  {
   "cell_type": "code",
   "execution_count": 3,
   "metadata": {},
   "outputs": [],
   "source": [
    "bgp_10 = pd.read_csv('../data/geo/bgp_vil_10.csv')\n",
    "bgp_20 = pd.read_csv('../data/geo/bgp_vil_20.csv')\n",
    "for df in [bgp_10,bgp_20]: df.geoid = df.geoid.apply(lambda x: '{0:0>12}'.format(x))\n",
    "    \n",
    "#get ride of area & geo stuff not being useed\n",
    "bgp_20 = bgp_20.drop(['aland20','awater20','lat20','lon20','land_acre'],axis=1)\n",
    "bgp_10 = bgp_10.drop(['aland10','awater10','lat10','lon10','land_acre'],axis=1)"
   ]
  },
  {
   "cell_type": "code",
   "execution_count": 4,
   "metadata": {},
   "outputs": [],
   "source": [
    "#Search parameters - NOTE DIFFERENT VARIABLE # ASSIGNMENTS IN 2010 VS 2020\n",
    "y1 = '2021'\n",
    "y0 = '2013'\n",
    "\n",
    "cols_inc = 'group(B19001)'\n",
    "cols_inc_w = 'group(B19001A)'\n",
    "cols_inc_agg = 'group(B19025)'\n",
    "\n",
    "source = 'acs/acs5'"
   ]
  },
  {
   "cell_type": "markdown",
   "metadata": {},
   "source": [
    "## Households by Income Band\n",
    "<30k, 30-50k, 50-75k, 75-100k, +100k"
   ]
  },
  {
   "cell_type": "markdown",
   "metadata": {},
   "source": [
    "#### Urban Villages"
   ]
  },
  {
   "cell_type": "code",
   "execution_count": 5,
   "metadata": {},
   "outputs": [],
   "source": [
    "def group_inc(df,year):\n",
    "    df['i_u30_E'] = df.loc[:,i_u30E].sum(axis=1)\n",
    "    df['i_u30_M'] = df.apply(lambda x: (calc.get_moe(x[i_u30M])),axis=1)\n",
    "    df['i_3050_E'] = df.loc[:,i_3050E].sum(axis=1)\n",
    "    df['i_3050_M'] = df.apply(lambda x: (calc.get_moe(x[i_3050M])),axis=1)\n",
    "    df['i_5075_E'] = df.loc[:,i_5075E].sum(axis=1)\n",
    "    df['i_5075_M'] = df.apply(lambda x: (calc.get_moe(x[i_5075M])),axis=1)\n",
    "    df['i_o100_E'] = df.loc[:,i_o100E].sum(axis=1)\n",
    "    df['i_o100_M'] = df.apply(lambda x: (calc.get_moe(x[i_o100M])),axis=1)\n",
    "    df = df.drop(columns=inc_vars).rename(inc_rename,axis=1)\n",
    "    \n",
    "    #add end-year into column name\n",
    "    for col in df.columns[1:]:\n",
    "        df.rename(columns={col:f'{col[:-1]}{year[-2:]}{col[-1:]}'},inplace=True)\n",
    "    return df"
   ]
  },
  {
   "cell_type": "code",
   "execution_count": 6,
   "metadata": {
    "scrolled": true
   },
   "outputs": [],
   "source": [
    "def make_inc_vil(geo_df,year,cols):\n",
    "    df = get.get_bgp(source,year,cols)\n",
    "    df = df.filter(regex='(?<!A)$',axis=1)\n",
    "    df = df[['GEO_ID']+[col for col in df.columns if col != 'GEO_ID']] #move id to first col\n",
    "    df = get.clean_data(df,df.columns)\n",
    "    df = group_inc(df,year)\n",
    "    df = pd.merge(geo_df,df,how='left',left_on='geoid',right_on='GEO_ID')\n",
    "    df = df.drop(['geoid','GEO_ID'],axis=1)\n",
    "    df = geo_agg.sumgeo_cv(df,'name')\n",
    "    return df"
   ]
  },
  {
   "cell_type": "code",
   "execution_count": 7,
   "metadata": {},
   "outputs": [],
   "source": [
    "uv1 = make_inc_vil(bgp_20,y1,cols_inc)"
   ]
  },
  {
   "cell_type": "code",
   "execution_count": 8,
   "metadata": {},
   "outputs": [
    {
     "data": {
      "text/html": [
       "<div>\n",
       "<style scoped>\n",
       "    .dataframe tbody tr th:only-of-type {\n",
       "        vertical-align: middle;\n",
       "    }\n",
       "\n",
       "    .dataframe tbody tr th {\n",
       "        vertical-align: top;\n",
       "    }\n",
       "\n",
       "    .dataframe thead th {\n",
       "        text-align: right;\n",
       "    }\n",
       "</style>\n",
       "<table border=\"1\" class=\"dataframe\">\n",
       "  <thead>\n",
       "    <tr style=\"text-align: right;\">\n",
       "      <th></th>\n",
       "      <th>name</th>\n",
       "      <th>i_75100_21E</th>\n",
       "      <th>i_75100_21M</th>\n",
       "      <th>i_75100_21C</th>\n",
       "      <th>i_o100_21E</th>\n",
       "      <th>i_o100_21M</th>\n",
       "      <th>i_o100_21C</th>\n",
       "      <th>i_3050_21E</th>\n",
       "      <th>i_3050_21M</th>\n",
       "      <th>i_3050_21C</th>\n",
       "      <th>i_5075_21E</th>\n",
       "      <th>i_5075_21M</th>\n",
       "      <th>i_5075_21C</th>\n",
       "      <th>i_u30_21E</th>\n",
       "      <th>i_u30_21M</th>\n",
       "      <th>i_u30_21C</th>\n",
       "      <th>i_tot_21E</th>\n",
       "      <th>i_tot_21M</th>\n",
       "      <th>i_tot_21C</th>\n",
       "    </tr>\n",
       "  </thead>\n",
       "  <tbody>\n",
       "    <tr>\n",
       "      <th>0</th>\n",
       "      <td>Alhambra</td>\n",
       "      <td>5183.0</td>\n",
       "      <td>606.375296</td>\n",
       "      <td>7.112043</td>\n",
       "      <td>10473.0</td>\n",
       "      <td>773.206311</td>\n",
       "      <td>4.488057</td>\n",
       "      <td>10110.0</td>\n",
       "      <td>988.023785</td>\n",
       "      <td>5.940874</td>\n",
       "      <td>8951.0</td>\n",
       "      <td>869.187552</td>\n",
       "      <td>5.903044</td>\n",
       "      <td>13818.0</td>\n",
       "      <td>940.514753</td>\n",
       "      <td>4.137657</td>\n",
       "      <td>48535.0</td>\n",
       "      <td>1548.695903</td>\n",
       "      <td>1.939748</td>\n",
       "    </tr>\n",
       "    <tr>\n",
       "      <th>1</th>\n",
       "      <td>North Mountain</td>\n",
       "      <td>7728.0</td>\n",
       "      <td>723.302150</td>\n",
       "      <td>5.689666</td>\n",
       "      <td>15347.0</td>\n",
       "      <td>1071.279142</td>\n",
       "      <td>4.243393</td>\n",
       "      <td>14237.0</td>\n",
       "      <td>1129.666765</td>\n",
       "      <td>4.823541</td>\n",
       "      <td>13303.0</td>\n",
       "      <td>1178.969465</td>\n",
       "      <td>5.387497</td>\n",
       "      <td>16248.0</td>\n",
       "      <td>1184.021115</td>\n",
       "      <td>4.429897</td>\n",
       "      <td>66863.0</td>\n",
       "      <td>1941.481651</td>\n",
       "      <td>1.765150</td>\n",
       "    </tr>\n",
       "    <tr>\n",
       "      <th>2</th>\n",
       "      <td>Maryvale</td>\n",
       "      <td>9540.0</td>\n",
       "      <td>975.326099</td>\n",
       "      <td>6.214920</td>\n",
       "      <td>12378.0</td>\n",
       "      <td>1077.165261</td>\n",
       "      <td>5.290125</td>\n",
       "      <td>16122.0</td>\n",
       "      <td>1307.730859</td>\n",
       "      <td>4.930984</td>\n",
       "      <td>14787.0</td>\n",
       "      <td>1088.873730</td>\n",
       "      <td>4.476427</td>\n",
       "      <td>15054.0</td>\n",
       "      <td>1147.874993</td>\n",
       "      <td>4.635289</td>\n",
       "      <td>67881.0</td>\n",
       "      <td>2069.703360</td>\n",
       "      <td>1.853506</td>\n",
       "    </tr>\n",
       "    <tr>\n",
       "      <th>3</th>\n",
       "      <td>South Mountain</td>\n",
       "      <td>4983.0</td>\n",
       "      <td>533.222280</td>\n",
       "      <td>6.505063</td>\n",
       "      <td>10358.0</td>\n",
       "      <td>958.072022</td>\n",
       "      <td>5.622848</td>\n",
       "      <td>7497.0</td>\n",
       "      <td>775.470825</td>\n",
       "      <td>6.287993</td>\n",
       "      <td>7798.0</td>\n",
       "      <td>829.032569</td>\n",
       "      <td>6.462826</td>\n",
       "      <td>8912.0</td>\n",
       "      <td>877.740850</td>\n",
       "      <td>5.987220</td>\n",
       "      <td>39548.0</td>\n",
       "      <td>1473.240306</td>\n",
       "      <td>2.264557</td>\n",
       "    </tr>\n",
       "    <tr>\n",
       "      <th>4</th>\n",
       "      <td>Laveen</td>\n",
       "      <td>3566.0</td>\n",
       "      <td>442.940177</td>\n",
       "      <td>7.550885</td>\n",
       "      <td>6879.0</td>\n",
       "      <td>723.904690</td>\n",
       "      <td>6.397204</td>\n",
       "      <td>2438.0</td>\n",
       "      <td>422.561238</td>\n",
       "      <td>10.536347</td>\n",
       "      <td>3758.0</td>\n",
       "      <td>530.823888</td>\n",
       "      <td>8.586729</td>\n",
       "      <td>1933.0</td>\n",
       "      <td>337.621089</td>\n",
       "      <td>10.617733</td>\n",
       "      <td>18574.0</td>\n",
       "      <td>921.296369</td>\n",
       "      <td>3.015283</td>\n",
       "    </tr>\n",
       "  </tbody>\n",
       "</table>\n",
       "</div>"
      ],
      "text/plain": [
       "             name  i_75100_21E  i_75100_21M  i_75100_21C  i_o100_21E  \\\n",
       "0        Alhambra       5183.0   606.375296     7.112043     10473.0   \n",
       "1  North Mountain       7728.0   723.302150     5.689666     15347.0   \n",
       "2        Maryvale       9540.0   975.326099     6.214920     12378.0   \n",
       "3  South Mountain       4983.0   533.222280     6.505063     10358.0   \n",
       "4          Laveen       3566.0   442.940177     7.550885      6879.0   \n",
       "\n",
       "    i_o100_21M  i_o100_21C  i_3050_21E   i_3050_21M  i_3050_21C  i_5075_21E  \\\n",
       "0   773.206311    4.488057     10110.0   988.023785    5.940874      8951.0   \n",
       "1  1071.279142    4.243393     14237.0  1129.666765    4.823541     13303.0   \n",
       "2  1077.165261    5.290125     16122.0  1307.730859    4.930984     14787.0   \n",
       "3   958.072022    5.622848      7497.0   775.470825    6.287993      7798.0   \n",
       "4   723.904690    6.397204      2438.0   422.561238   10.536347      3758.0   \n",
       "\n",
       "    i_5075_21M  i_5075_21C  i_u30_21E    i_u30_21M  i_u30_21C  i_tot_21E  \\\n",
       "0   869.187552    5.903044    13818.0   940.514753   4.137657    48535.0   \n",
       "1  1178.969465    5.387497    16248.0  1184.021115   4.429897    66863.0   \n",
       "2  1088.873730    4.476427    15054.0  1147.874993   4.635289    67881.0   \n",
       "3   829.032569    6.462826     8912.0   877.740850   5.987220    39548.0   \n",
       "4   530.823888    8.586729     1933.0   337.621089  10.617733    18574.0   \n",
       "\n",
       "     i_tot_21M  i_tot_21C  \n",
       "0  1548.695903   1.939748  \n",
       "1  1941.481651   1.765150  \n",
       "2  2069.703360   1.853506  \n",
       "3  1473.240306   2.264557  \n",
       "4   921.296369   3.015283  "
      ]
     },
     "execution_count": 8,
     "metadata": {},
     "output_type": "execute_result"
    }
   ],
   "source": [
    "uv1.head()"
   ]
  },
  {
   "cell_type": "markdown",
   "metadata": {},
   "source": [
    "##### Make Phoenix & U.S. function"
   ]
  },
  {
   "cell_type": "code",
   "execution_count": 9,
   "metadata": {
    "scrolled": true
   },
   "outputs": [],
   "source": [
    "def make_inc(year,geo):\n",
    "    if geo == 'phoenix':\n",
    "        df = get.get_phx(source,year,cols_inc)\n",
    "    elif geo == 'us':\n",
    "        df = get.get_us(source,year,cols_inc)\n",
    "        df = df.drop(['NAME','us'],axis=1)\n",
    "    else:\n",
    "        pass\n",
    "    \n",
    "    df.rename(columns=inc_rename,inplace=True)\n",
    "    df = df.filter(regex='(?<!A)$',axis=1) #drop non-estimate columns\n",
    "    df = df[['GEO_ID']+[col for col in df.columns if col != 'GEO_ID']] #move id to first col\n",
    "    df = get.clean_data(df,df.columns)\n",
    "    df = group_inc(df,year)\n",
    "    df = geo_agg.sumgeo_cv(df,'GEO_ID')\n",
    "    return df"
   ]
  },
  {
   "cell_type": "markdown",
   "metadata": {},
   "source": [
    "### City of Phoenix & U.S."
   ]
  },
  {
   "cell_type": "code",
   "execution_count": 10,
   "metadata": {},
   "outputs": [],
   "source": [
    "ph1 = make_inc(y1,'phoenix')\n",
    "us1 = make_inc(y1,'us')"
   ]
  },
  {
   "cell_type": "code",
   "execution_count": 11,
   "metadata": {},
   "outputs": [
    {
     "data": {
      "text/html": [
       "<div>\n",
       "<style scoped>\n",
       "    .dataframe tbody tr th:only-of-type {\n",
       "        vertical-align: middle;\n",
       "    }\n",
       "\n",
       "    .dataframe tbody tr th {\n",
       "        vertical-align: top;\n",
       "    }\n",
       "\n",
       "    .dataframe thead th {\n",
       "        text-align: right;\n",
       "    }\n",
       "</style>\n",
       "<table border=\"1\" class=\"dataframe\">\n",
       "  <thead>\n",
       "    <tr style=\"text-align: right;\">\n",
       "      <th></th>\n",
       "      <th>GEO_ID</th>\n",
       "      <th>i_75100_21E</th>\n",
       "      <th>i_75100_21M</th>\n",
       "      <th>i_75100_21C</th>\n",
       "      <th>i_o100_21E</th>\n",
       "      <th>i_o100_21M</th>\n",
       "      <th>i_o100_21C</th>\n",
       "      <th>i_3050_21E</th>\n",
       "      <th>i_3050_21M</th>\n",
       "      <th>i_3050_21C</th>\n",
       "      <th>i_5075_21E</th>\n",
       "      <th>i_5075_21M</th>\n",
       "      <th>i_5075_21C</th>\n",
       "      <th>i_u30_21E</th>\n",
       "      <th>i_u30_21M</th>\n",
       "      <th>i_u30_21C</th>\n",
       "      <th>i_tot_21E</th>\n",
       "      <th>i_tot_21M</th>\n",
       "      <th>i_tot_21C</th>\n",
       "    </tr>\n",
       "  </thead>\n",
       "  <tbody>\n",
       "    <tr>\n",
       "      <th>0</th>\n",
       "      <td>0455000</td>\n",
       "      <td>78450.0</td>\n",
       "      <td>2480.0</td>\n",
       "      <td>1.921732</td>\n",
       "      <td>173831.0</td>\n",
       "      <td>3470.972918</td>\n",
       "      <td>1.213831</td>\n",
       "      <td>105129.0</td>\n",
       "      <td>3066.725941</td>\n",
       "      <td>1.773318</td>\n",
       "      <td>105274.0</td>\n",
       "      <td>2780.022482</td>\n",
       "      <td>1.605319</td>\n",
       "      <td>117192.0</td>\n",
       "      <td>3115.801662</td>\n",
       "      <td>1.61624</td>\n",
       "      <td>579876.0</td>\n",
       "      <td>2997.0</td>\n",
       "      <td>0.314185</td>\n",
       "    </tr>\n",
       "  </tbody>\n",
       "</table>\n",
       "</div>"
      ],
      "text/plain": [
       "    GEO_ID  i_75100_21E  i_75100_21M  i_75100_21C  i_o100_21E   i_o100_21M  \\\n",
       "0  0455000      78450.0       2480.0     1.921732    173831.0  3470.972918   \n",
       "\n",
       "   i_o100_21C  i_3050_21E   i_3050_21M  i_3050_21C  i_5075_21E   i_5075_21M  \\\n",
       "0    1.213831    105129.0  3066.725941    1.773318    105274.0  2780.022482   \n",
       "\n",
       "   i_5075_21C  i_u30_21E    i_u30_21M  i_u30_21C  i_tot_21E  i_tot_21M  \\\n",
       "0    1.605319   117192.0  3115.801662    1.61624   579876.0     2997.0   \n",
       "\n",
       "   i_tot_21C  \n",
       "0   0.314185  "
      ]
     },
     "execution_count": 11,
     "metadata": {},
     "output_type": "execute_result"
    }
   ],
   "source": [
    "ph1.head()"
   ]
  },
  {
   "cell_type": "code",
   "execution_count": 12,
   "metadata": {},
   "outputs": [
    {
     "data": {
      "text/html": [
       "<div>\n",
       "<style scoped>\n",
       "    .dataframe tbody tr th:only-of-type {\n",
       "        vertical-align: middle;\n",
       "    }\n",
       "\n",
       "    .dataframe tbody tr th {\n",
       "        vertical-align: top;\n",
       "    }\n",
       "\n",
       "    .dataframe thead th {\n",
       "        text-align: right;\n",
       "    }\n",
       "</style>\n",
       "<table border=\"1\" class=\"dataframe\">\n",
       "  <thead>\n",
       "    <tr style=\"text-align: right;\">\n",
       "      <th></th>\n",
       "      <th>GEO_ID</th>\n",
       "      <th>i_75100_21E</th>\n",
       "      <th>i_75100_21M</th>\n",
       "      <th>i_75100_21C</th>\n",
       "      <th>i_o100_21E</th>\n",
       "      <th>i_o100_21M</th>\n",
       "      <th>i_o100_21C</th>\n",
       "      <th>i_3050_21E</th>\n",
       "      <th>i_3050_21M</th>\n",
       "      <th>i_3050_21C</th>\n",
       "      <th>i_5075_21E</th>\n",
       "      <th>i_5075_21M</th>\n",
       "      <th>i_5075_21C</th>\n",
       "      <th>i_u30_21E</th>\n",
       "      <th>i_u30_21M</th>\n",
       "      <th>i_u30_21C</th>\n",
       "      <th>i_tot_21E</th>\n",
       "      <th>i_tot_21M</th>\n",
       "      <th>i_tot_21C</th>\n",
       "    </tr>\n",
       "  </thead>\n",
       "  <tbody>\n",
       "    <tr>\n",
       "      <th>0</th>\n",
       "      <td>0100000US</td>\n",
       "      <td>15895589.0</td>\n",
       "      <td>44008.0</td>\n",
       "      <td>0.168302</td>\n",
       "      <td>41662649.0</td>\n",
       "      <td>97392.519205</td>\n",
       "      <td>0.142106</td>\n",
       "      <td>19259497.0</td>\n",
       "      <td>38265.320213</td>\n",
       "      <td>0.12078</td>\n",
       "      <td>20845331.0</td>\n",
       "      <td>39549.492854</td>\n",
       "      <td>0.115336</td>\n",
       "      <td>26347926.0</td>\n",
       "      <td>45154.223933</td>\n",
       "      <td>0.10418</td>\n",
       "      <td>124010992.0</td>\n",
       "      <td>196755.0</td>\n",
       "      <td>0.096449</td>\n",
       "    </tr>\n",
       "  </tbody>\n",
       "</table>\n",
       "</div>"
      ],
      "text/plain": [
       "      GEO_ID  i_75100_21E  i_75100_21M  i_75100_21C  i_o100_21E    i_o100_21M  \\\n",
       "0  0100000US   15895589.0      44008.0     0.168302  41662649.0  97392.519205   \n",
       "\n",
       "   i_o100_21C  i_3050_21E    i_3050_21M  i_3050_21C  i_5075_21E    i_5075_21M  \\\n",
       "0    0.142106  19259497.0  38265.320213     0.12078  20845331.0  39549.492854   \n",
       "\n",
       "   i_5075_21C   i_u30_21E     i_u30_21M  i_u30_21C    i_tot_21E  i_tot_21M  \\\n",
       "0    0.115336  26347926.0  45154.223933    0.10418  124010992.0   196755.0   \n",
       "\n",
       "   i_tot_21C  \n",
       "0   0.096449  "
      ]
     },
     "execution_count": 12,
     "metadata": {},
     "output_type": "execute_result"
    }
   ],
   "source": [
    "us1.head()"
   ]
  },
  {
   "cell_type": "code",
   "execution_count": 13,
   "metadata": {},
   "outputs": [],
   "source": [
    "with pd.ExcelWriter(f'output/HH_inc.xlsx') as writer:\n",
    "    uv1.to_excel(writer, sheet_name=\"urban_village\", index=False)\n",
    "    ph1.to_excel(writer, sheet_name=\"phoenix\", index=False)\n",
    "    us1.to_excel(writer, sheet_name=\"us\", index=False)"
   ]
  },
  {
   "cell_type": "markdown",
   "metadata": {},
   "source": [
    "## Aggregate income to calculate mean income"
   ]
  },
  {
   "cell_type": "code",
   "execution_count": 14,
   "metadata": {},
   "outputs": [],
   "source": [
    "## ADD MORE HERE"
   ]
  },
  {
   "cell_type": "code",
   "execution_count": null,
   "metadata": {},
   "outputs": [],
   "source": []
  }
 ],
 "metadata": {
  "kernelspec": {
   "display_name": "Python 3 (ipykernel)",
   "language": "python",
   "name": "python3"
  },
  "language_info": {
   "codemirror_mode": {
    "name": "ipython",
    "version": 3
   },
   "file_extension": ".py",
   "mimetype": "text/x-python",
   "name": "python",
   "nbconvert_exporter": "python",
   "pygments_lexer": "ipython3",
   "version": "3.9.13"
  }
 },
 "nbformat": 4,
 "nbformat_minor": 2
}
