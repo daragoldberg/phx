{
 "cells": [
  {
   "cell_type": "markdown",
   "metadata": {},
   "source": [
    "## ACS Housing Units by Building Size for Urban Villages, City of Phoenix\n",
    "\n",
    "Keep all building size categories as presented by ACS, add a couple of multifamily summary columns (5-20 units, 20+ units) in case needed for dealing with MOEs and statistical reliability\n",
    "\n",
    "- https://www.census.gov/data/developers/data-sets/acs-5year.html\n",
    "- https://api.census.gov/data/2013/acs/acs5/variables.html\n",
    "- https://api.census.gov/data/2021/acs/acs5/variables.html"
   ]
  },
  {
   "cell_type": "code",
   "execution_count": 1,
   "metadata": {},
   "outputs": [],
   "source": [
    "import pandas as pd\n",
    "import math\n",
    "import numpy as np"
   ]
  },
  {
   "cell_type": "code",
   "execution_count": 2,
   "metadata": {},
   "outputs": [],
   "source": [
    "import getters as get\n",
    "import utilcalcs as calc\n",
    "import geo_agg"
   ]
  },
  {
   "cell_type": "code",
   "execution_count": 3,
   "metadata": {},
   "outputs": [],
   "source": [
    "#Search parameters - NOTE DIFFERENT VARIABLE # ASSIGNMENTS IN 2010 VS 2020\n",
    "y1 = '2021'\n",
    "#y0_5 = '2013'\n",
    "y0_1 = '2010'\n",
    "\n",
    "cols = 'group(B25004)'\n",
    "cols_v = 'group(B25005)'\n",
    "\n",
    "source_1 = 'acs/acs1'\n",
    "source_5 = 'acs/acs5'"
   ]
  },
  {
   "cell_type": "code",
   "execution_count": 4,
   "metadata": {},
   "outputs": [],
   "source": [
    "#comp cities and big geo rename dictionary\n",
    "rename_geos = {'0455000':'Phoenix', '04013':'Maricopa', '0100000US':'US', '0400000US04':'AZ',\\\n",
    "               '0473000':'Tempe','0465000':'Scottsdale', '0427820':'Glendale',\\\n",
    "               '4865000':'San Antonio', '4835000':'Houston', '1235000':'Jacksonville'}"
   ]
  },
  {
   "cell_type": "code",
   "execution_count": 12,
   "metadata": {},
   "outputs": [],
   "source": [
    "rename_vars = {'B25004_001E':'tot_E','B25004_001M':'tot_M',\\\n",
    "               'B25004_002E':'ForRent_E','B25004_002M':'ForRent_M',\\\n",
    "               'B25004_003E':'RentUnOc_E','B25004_003M':'RentUnOc_M',\\\n",
    "               'B25004_004E':'ForSale_E','B25004_004M':'ForSale_M',\\\n",
    "               'B25004_005E':'Sold_E','B25004_005M':'Sold_M',\\\n",
    "               'B25004_006E':'Seas_E','B25004_006M':'Seas_M',\\\n",
    "               'B25004_007E':'Mig_E','B25004_007M':'Mig_M',\\\n",
    "               'B25004_008E':'Oth_E','B25004_008M':'Oth_M'}"
   ]
  },
  {
   "cell_type": "markdown",
   "metadata": {},
   "source": [
    "#### Calculate building size columns function"
   ]
  },
  {
   "cell_type": "code",
   "execution_count": 13,
   "metadata": {},
   "outputs": [],
   "source": [
    "# make city and larger geos\n",
    "def make_table(source,year,cols,geotype='big'):\n",
    "    if geotype=='big':\n",
    "        ph = get.get_phx(source,year,cols)\n",
    "        mar = get.get_maricopa(source,year,cols)\n",
    "        us = get.get_us(source,year,cols)\n",
    "        az = get.get_az(source,year,cols)\n",
    "        cit = get.get_comp_cities(source,year,cols)\n",
    "        df = pd.concat([ph,mar,us,az,cit])\n",
    "        df = df.drop(['NAME','us','state'],axis=1)\n",
    "        aggtype='GEO_ID'\n",
    "    elif geotype=='az_places':\n",
    "        df = get.get_az_plc(source,year,cols)\n",
    "        aggtype='GEO_ID'\n",
    "    else:\n",
    "        pass\n",
    "    df.rename(rename_vars,axis=1,inplace=True)\n",
    "    df = get.clean_table(df)\n",
    "    df = geo_agg.sumgeo_cv(df,aggtype)\n",
    "    \n",
    "    for col in df.columns[1:]:\n",
    "        df.rename(columns={col:f'{col[:-1]}{year[-2:]}{col[-1:]}'},inplace=True)\n",
    "    return df"
   ]
  },
  {
   "cell_type": "markdown",
   "metadata": {},
   "source": [
    "## 1-year table for for city & larger geos"
   ]
  },
  {
   "cell_type": "code",
   "execution_count": 14,
   "metadata": {},
   "outputs": [],
   "source": [
    "geo_y1_1y = make_table(source_1,y1,cols)\n",
    "geo_y0_1y = make_table(source_1,y0_1,cols)"
   ]
  },
  {
   "cell_type": "code",
   "execution_count": 18,
   "metadata": {},
   "outputs": [],
   "source": [
    "change_vars = ['tot','ForRent','RentUnOc','ForSale',\\\n",
    "               'Sold','Seas','Mig','Oth']"
   ]
  },
  {
   "cell_type": "code",
   "execution_count": 19,
   "metadata": {},
   "outputs": [],
   "source": [
    "df_1y = pd.merge(geo_y0_1y,geo_y1_1y,how='left',on='GEO_ID')"
   ]
  },
  {
   "cell_type": "code",
   "execution_count": 20,
   "metadata": {},
   "outputs": [],
   "source": [
    "dff = calc.calc_change(df_1y,y0_1,y1,change_vars)"
   ]
  },
  {
   "cell_type": "code",
   "execution_count": 22,
   "metadata": {},
   "outputs": [],
   "source": [
    "dff.GEO_ID = dff.GEO_ID.map(rename_geos)"
   ]
  },
  {
   "cell_type": "markdown",
   "metadata": {},
   "source": [
    "### try 1-year for AZ places"
   ]
  },
  {
   "cell_type": "code",
   "execution_count": 29,
   "metadata": {},
   "outputs": [],
   "source": [
    "pl_y1_1y = make_table(source_1,y1,cols,'az_places')\n",
    "pl_y0_1y = make_table(source_1,y0_1,cols,'az_places')"
   ]
  },
  {
   "cell_type": "code",
   "execution_count": 30,
   "metadata": {},
   "outputs": [],
   "source": [
    "pl_1 = pd.merge(pl_y0_1y,pl_y1_1y,how='left',on='GEO_ID')\n",
    "pl_1 = calc.calc_change(pl_1,y0_1,y1,change_vars)"
   ]
  },
  {
   "cell_type": "markdown",
   "metadata": {},
   "source": [
    "## 5-year for AZ places and urban villages"
   ]
  },
  {
   "cell_type": "markdown",
   "metadata": {},
   "source": [
    "#### other places AZ - 5YR"
   ]
  },
  {
   "cell_type": "code",
   "execution_count": 24,
   "metadata": {},
   "outputs": [],
   "source": [
    "pl_y1_5y = make_table(source_5,y1,cols,'az_places')\n",
    "pl_y0_5y = make_table(source_5,y0_1,cols,'az_places')"
   ]
  },
  {
   "cell_type": "code",
   "execution_count": 26,
   "metadata": {},
   "outputs": [],
   "source": [
    "pl = pd.merge(pl_y0_5y,pl_y1_5y,how='left',on='GEO_ID')\n",
    "pl = calc.calc_change(pl,y0_1,y1,change_vars)"
   ]
  },
  {
   "cell_type": "code",
   "execution_count": 27,
   "metadata": {
    "scrolled": true
   },
   "outputs": [
    {
     "data": {
      "text/html": [
       "<div>\n",
       "<style scoped>\n",
       "    .dataframe tbody tr th:only-of-type {\n",
       "        vertical-align: middle;\n",
       "    }\n",
       "\n",
       "    .dataframe tbody tr th {\n",
       "        vertical-align: top;\n",
       "    }\n",
       "\n",
       "    .dataframe thead th {\n",
       "        text-align: right;\n",
       "    }\n",
       "</style>\n",
       "<table border=\"1\" class=\"dataframe\">\n",
       "  <thead>\n",
       "    <tr style=\"text-align: right;\">\n",
       "      <th></th>\n",
       "      <th>GEO_ID</th>\n",
       "      <th>ForSale_10E</th>\n",
       "      <th>ForSale_10M</th>\n",
       "      <th>ForSale_10C</th>\n",
       "      <th>Sold_10E</th>\n",
       "      <th>Sold_10M</th>\n",
       "      <th>Sold_10C</th>\n",
       "      <th>Seas_10E</th>\n",
       "      <th>Seas_10M</th>\n",
       "      <th>Seas_10C</th>\n",
       "      <th>...</th>\n",
       "      <th>Mig_1021E</th>\n",
       "      <th>Mig_1021M</th>\n",
       "      <th>Mig_1021C</th>\n",
       "      <th>Mig_10P</th>\n",
       "      <th>Mig_21P</th>\n",
       "      <th>Oth_1021E</th>\n",
       "      <th>Oth_1021M</th>\n",
       "      <th>Oth_1021C</th>\n",
       "      <th>Oth_10P</th>\n",
       "      <th>Oth_21P</th>\n",
       "    </tr>\n",
       "  </thead>\n",
       "  <tbody>\n",
       "    <tr>\n",
       "      <th>0</th>\n",
       "      <td>Aguila</td>\n",
       "      <td>0.0</td>\n",
       "      <td>132.0</td>\n",
       "      <td>0.000000</td>\n",
       "      <td>0.0</td>\n",
       "      <td>132.0</td>\n",
       "      <td>0.000000</td>\n",
       "      <td>9.0</td>\n",
       "      <td>14.0</td>\n",
       "      <td>94.562648</td>\n",
       "      <td>...</td>\n",
       "      <td>0.0</td>\n",
       "      <td>132.638607</td>\n",
       "      <td>NaN</td>\n",
       "      <td>0.0</td>\n",
       "      <td>0.0</td>\n",
       "      <td>-16.0</td>\n",
       "      <td>32.649655</td>\n",
       "      <td>124.048843</td>\n",
       "      <td>0.640000</td>\n",
       "      <td>0.470588</td>\n",
       "    </tr>\n",
       "    <tr>\n",
       "      <th>1</th>\n",
       "      <td>Anthem</td>\n",
       "      <td>517.0</td>\n",
       "      <td>204.0</td>\n",
       "      <td>23.986878</td>\n",
       "      <td>189.0</td>\n",
       "      <td>132.0</td>\n",
       "      <td>42.456699</td>\n",
       "      <td>1232.0</td>\n",
       "      <td>246.0</td>\n",
       "      <td>12.138318</td>\n",
       "      <td>...</td>\n",
       "      <td>0.0</td>\n",
       "      <td>134.346567</td>\n",
       "      <td>NaN</td>\n",
       "      <td>0.0</td>\n",
       "      <td>0.0</td>\n",
       "      <td>35.0</td>\n",
       "      <td>105.152271</td>\n",
       "      <td>182.635294</td>\n",
       "      <td>0.032619</td>\n",
       "      <td>0.103960</td>\n",
       "    </tr>\n",
       "    <tr>\n",
       "      <th>2</th>\n",
       "      <td>Arlington</td>\n",
       "      <td>0.0</td>\n",
       "      <td>132.0</td>\n",
       "      <td>0.000000</td>\n",
       "      <td>0.0</td>\n",
       "      <td>132.0</td>\n",
       "      <td>0.000000</td>\n",
       "      <td>4.0</td>\n",
       "      <td>7.0</td>\n",
       "      <td>106.382979</td>\n",
       "      <td>...</td>\n",
       "      <td>0.0</td>\n",
       "      <td>132.638607</td>\n",
       "      <td>NaN</td>\n",
       "      <td>0.0</td>\n",
       "      <td>NaN</td>\n",
       "      <td>0.0</td>\n",
       "      <td>132.638607</td>\n",
       "      <td>NaN</td>\n",
       "      <td>0.000000</td>\n",
       "      <td>NaN</td>\n",
       "    </tr>\n",
       "    <tr>\n",
       "      <th>3</th>\n",
       "      <td>Avondale</td>\n",
       "      <td>803.0</td>\n",
       "      <td>305.0</td>\n",
       "      <td>23.089705</td>\n",
       "      <td>172.0</td>\n",
       "      <td>110.0</td>\n",
       "      <td>38.877501</td>\n",
       "      <td>245.0</td>\n",
       "      <td>164.0</td>\n",
       "      <td>40.692265</td>\n",
       "      <td>...</td>\n",
       "      <td>0.0</td>\n",
       "      <td>135.591298</td>\n",
       "      <td>NaN</td>\n",
       "      <td>0.0</td>\n",
       "      <td>0.0</td>\n",
       "      <td>-354.0</td>\n",
       "      <td>274.798108</td>\n",
       "      <td>47.189413</td>\n",
       "      <td>0.230636</td>\n",
       "      <td>0.221986</td>\n",
       "    </tr>\n",
       "    <tr>\n",
       "      <th>4</th>\n",
       "      <td>Buckeye</td>\n",
       "      <td>503.0</td>\n",
       "      <td>161.0</td>\n",
       "      <td>19.457722</td>\n",
       "      <td>209.0</td>\n",
       "      <td>121.0</td>\n",
       "      <td>35.194369</td>\n",
       "      <td>499.0</td>\n",
       "      <td>189.0</td>\n",
       "      <td>23.024773</td>\n",
       "      <td>...</td>\n",
       "      <td>0.0</td>\n",
       "      <td>135.591298</td>\n",
       "      <td>NaN</td>\n",
       "      <td>0.0</td>\n",
       "      <td>0.0</td>\n",
       "      <td>-402.0</td>\n",
       "      <td>314.268993</td>\n",
       "      <td>47.523627</td>\n",
       "      <td>0.320763</td>\n",
       "      <td>0.105871</td>\n",
       "    </tr>\n",
       "  </tbody>\n",
       "</table>\n",
       "<p>5 rows × 89 columns</p>\n",
       "</div>"
      ],
      "text/plain": [
       "      GEO_ID  ForSale_10E  ForSale_10M  ForSale_10C  Sold_10E  Sold_10M  \\\n",
       "0     Aguila          0.0        132.0     0.000000       0.0     132.0   \n",
       "1     Anthem        517.0        204.0    23.986878     189.0     132.0   \n",
       "2  Arlington          0.0        132.0     0.000000       0.0     132.0   \n",
       "3   Avondale        803.0        305.0    23.089705     172.0     110.0   \n",
       "4    Buckeye        503.0        161.0    19.457722     209.0     121.0   \n",
       "\n",
       "    Sold_10C  Seas_10E  Seas_10M    Seas_10C  ...  Mig_1021E   Mig_1021M  \\\n",
       "0   0.000000       9.0      14.0   94.562648  ...        0.0  132.638607   \n",
       "1  42.456699    1232.0     246.0   12.138318  ...        0.0  134.346567   \n",
       "2   0.000000       4.0       7.0  106.382979  ...        0.0  132.638607   \n",
       "3  38.877501     245.0     164.0   40.692265  ...        0.0  135.591298   \n",
       "4  35.194369     499.0     189.0   23.024773  ...        0.0  135.591298   \n",
       "\n",
       "   Mig_1021C  Mig_10P  Mig_21P  Oth_1021E   Oth_1021M   Oth_1021C   Oth_10P  \\\n",
       "0        NaN      0.0      0.0      -16.0   32.649655  124.048843  0.640000   \n",
       "1        NaN      0.0      0.0       35.0  105.152271  182.635294  0.032619   \n",
       "2        NaN      0.0      NaN        0.0  132.638607         NaN  0.000000   \n",
       "3        NaN      0.0      0.0     -354.0  274.798108   47.189413  0.230636   \n",
       "4        NaN      0.0      0.0     -402.0  314.268993   47.523627  0.320763   \n",
       "\n",
       "    Oth_21P  \n",
       "0  0.470588  \n",
       "1  0.103960  \n",
       "2       NaN  \n",
       "3  0.221986  \n",
       "4  0.105871  \n",
       "\n",
       "[5 rows x 89 columns]"
      ]
     },
     "execution_count": 27,
     "metadata": {},
     "output_type": "execute_result"
    }
   ],
   "source": [
    "pl.head()"
   ]
  },
  {
   "cell_type": "markdown",
   "metadata": {},
   "source": [
    "## Occupancy Status"
   ]
  },
  {
   "cell_type": "code",
   "execution_count": 35,
   "metadata": {},
   "outputs": [],
   "source": [
    "df_y1_1y = make_table(source_1,y1,cols_v)\n",
    "df_y0_1y = make_table(source_1,y0_1,cols_v)\n",
    "dff_y1_1y = make_table(source_1,y1,cols_v,'az_places')\n",
    "dff_y0_1y = make_table(source_1,y0_1,cols_v,'az_places')"
   ]
  },
  {
   "cell_type": "code",
   "execution_count": 36,
   "metadata": {},
   "outputs": [
    {
     "data": {
      "text/html": [
       "<div>\n",
       "<style scoped>\n",
       "    .dataframe tbody tr th:only-of-type {\n",
       "        vertical-align: middle;\n",
       "    }\n",
       "\n",
       "    .dataframe tbody tr th {\n",
       "        vertical-align: top;\n",
       "    }\n",
       "\n",
       "    .dataframe thead th {\n",
       "        text-align: right;\n",
       "    }\n",
       "</style>\n",
       "<table border=\"1\" class=\"dataframe\">\n",
       "  <thead>\n",
       "    <tr style=\"text-align: right;\">\n",
       "      <th></th>\n",
       "      <th>GEO_ID</th>\n",
       "      <th>B25005_00321E</th>\n",
       "      <th>B25005_00321M</th>\n",
       "      <th>B25005_00321C</th>\n",
       "      <th>B25005_00221E</th>\n",
       "      <th>B25005_00221M</th>\n",
       "      <th>B25005_00221C</th>\n",
       "      <th>B25005_00121E</th>\n",
       "      <th>B25005_00121M</th>\n",
       "      <th>B25005_00121C</th>\n",
       "    </tr>\n",
       "  </thead>\n",
       "  <tbody>\n",
       "    <tr>\n",
       "      <th>0</th>\n",
       "      <td>0455000</td>\n",
       "      <td>39936.0</td>\n",
       "      <td>3305.0</td>\n",
       "      <td>5.030846</td>\n",
       "      <td>2650.0</td>\n",
       "      <td>1234.0</td>\n",
       "      <td>28.307622</td>\n",
       "      <td>42586.0</td>\n",
       "      <td>3312.0</td>\n",
       "      <td>4.727783</td>\n",
       "    </tr>\n",
       "    <tr>\n",
       "      <th>1</th>\n",
       "      <td>04013</td>\n",
       "      <td>130713.0</td>\n",
       "      <td>7109.0</td>\n",
       "      <td>3.306160</td>\n",
       "      <td>10356.0</td>\n",
       "      <td>2179.0</td>\n",
       "      <td>12.790846</td>\n",
       "      <td>141069.0</td>\n",
       "      <td>7183.0</td>\n",
       "      <td>3.095340</td>\n",
       "    </tr>\n",
       "    <tr>\n",
       "      <th>2</th>\n",
       "      <td>0100000US</td>\n",
       "      <td>14081560.0</td>\n",
       "      <td>95249.0</td>\n",
       "      <td>0.411191</td>\n",
       "      <td>521760.0</td>\n",
       "      <td>15543.0</td>\n",
       "      <td>1.810915</td>\n",
       "      <td>14603320.0</td>\n",
       "      <td>99060.0</td>\n",
       "      <td>0.412364</td>\n",
       "    </tr>\n",
       "    <tr>\n",
       "      <th>3</th>\n",
       "      <td>0400000US04</td>\n",
       "      <td>299075.0</td>\n",
       "      <td>10334.0</td>\n",
       "      <td>2.100499</td>\n",
       "      <td>21887.0</td>\n",
       "      <td>3273.0</td>\n",
       "      <td>9.090628</td>\n",
       "      <td>320962.0</td>\n",
       "      <td>10859.0</td>\n",
       "      <td>2.056697</td>\n",
       "    </tr>\n",
       "    <tr>\n",
       "      <th>4</th>\n",
       "      <td>4865000</td>\n",
       "      <td>53386.0</td>\n",
       "      <td>4582.0</td>\n",
       "      <td>5.217492</td>\n",
       "      <td>1039.0</td>\n",
       "      <td>930.0</td>\n",
       "      <td>54.412853</td>\n",
       "      <td>54425.0</td>\n",
       "      <td>4667.0</td>\n",
       "      <td>5.212829</td>\n",
       "    </tr>\n",
       "  </tbody>\n",
       "</table>\n",
       "</div>"
      ],
      "text/plain": [
       "        GEO_ID  B25005_00321E  B25005_00321M  B25005_00321C  B25005_00221E  \\\n",
       "0      0455000        39936.0         3305.0       5.030846         2650.0   \n",
       "1        04013       130713.0         7109.0       3.306160        10356.0   \n",
       "2    0100000US     14081560.0        95249.0       0.411191       521760.0   \n",
       "3  0400000US04       299075.0        10334.0       2.100499        21887.0   \n",
       "4      4865000        53386.0         4582.0       5.217492         1039.0   \n",
       "\n",
       "   B25005_00221M  B25005_00221C  B25005_00121E  B25005_00121M  B25005_00121C  \n",
       "0         1234.0      28.307622        42586.0         3312.0       4.727783  \n",
       "1         2179.0      12.790846       141069.0         7183.0       3.095340  \n",
       "2        15543.0       1.810915     14603320.0        99060.0       0.412364  \n",
       "3         3273.0       9.090628       320962.0        10859.0       2.056697  \n",
       "4          930.0      54.412853        54425.0         4667.0       5.212829  "
      ]
     },
     "execution_count": 36,
     "metadata": {},
     "output_type": "execute_result"
    }
   ],
   "source": [
    "df_y1_1y.head()"
   ]
  },
  {
   "cell_type": "code",
   "execution_count": 37,
   "metadata": {},
   "outputs": [
    {
     "data": {
      "text/html": [
       "<div>\n",
       "<style scoped>\n",
       "    .dataframe tbody tr th:only-of-type {\n",
       "        vertical-align: middle;\n",
       "    }\n",
       "\n",
       "    .dataframe tbody tr th {\n",
       "        vertical-align: top;\n",
       "    }\n",
       "\n",
       "    .dataframe thead th {\n",
       "        text-align: right;\n",
       "    }\n",
       "</style>\n",
       "<table border=\"1\" class=\"dataframe\">\n",
       "  <thead>\n",
       "    <tr style=\"text-align: right;\">\n",
       "      <th></th>\n",
       "      <th>GEO_ID</th>\n",
       "      <th>B25005_00310E</th>\n",
       "      <th>B25005_00310M</th>\n",
       "      <th>B25005_00310C</th>\n",
       "      <th>B25005_00210E</th>\n",
       "      <th>B25005_00210M</th>\n",
       "      <th>B25005_00210C</th>\n",
       "      <th>B25005_00110E</th>\n",
       "      <th>B25005_00110M</th>\n",
       "      <th>B25005_00110C</th>\n",
       "    </tr>\n",
       "  </thead>\n",
       "  <tbody>\n",
       "    <tr>\n",
       "      <th>0</th>\n",
       "      <td>0455000</td>\n",
       "      <td>87048.0</td>\n",
       "      <td>5297.0</td>\n",
       "      <td>3.699178</td>\n",
       "      <td>2890.0</td>\n",
       "      <td>942.0</td>\n",
       "      <td>19.814684</td>\n",
       "      <td>89938.0</td>\n",
       "      <td>5280.0</td>\n",
       "      <td>3.568821</td>\n",
       "    </tr>\n",
       "    <tr>\n",
       "      <th>1</th>\n",
       "      <td>04013</td>\n",
       "      <td>238006.0</td>\n",
       "      <td>9486.0</td>\n",
       "      <td>2.422866</td>\n",
       "      <td>18084.0</td>\n",
       "      <td>2358.0</td>\n",
       "      <td>7.926535</td>\n",
       "      <td>256090.0</td>\n",
       "      <td>9832.0</td>\n",
       "      <td>2.333906</td>\n",
       "    </tr>\n",
       "    <tr>\n",
       "      <th>2</th>\n",
       "      <td>0100000US</td>\n",
       "      <td>16290352.0</td>\n",
       "      <td>166463.0</td>\n",
       "      <td>0.621186</td>\n",
       "      <td>933294.0</td>\n",
       "      <td>16788.0</td>\n",
       "      <td>1.093489</td>\n",
       "      <td>17223646.0</td>\n",
       "      <td>167247.0</td>\n",
       "      <td>0.590293</td>\n",
       "    </tr>\n",
       "    <tr>\n",
       "      <th>3</th>\n",
       "      <td>0400000US04</td>\n",
       "      <td>476093.0</td>\n",
       "      <td>12794.0</td>\n",
       "      <td>1.633611</td>\n",
       "      <td>36595.0</td>\n",
       "      <td>3454.0</td>\n",
       "      <td>5.737658</td>\n",
       "      <td>512688.0</td>\n",
       "      <td>12983.0</td>\n",
       "      <td>1.539416</td>\n",
       "    </tr>\n",
       "    <tr>\n",
       "      <th>4</th>\n",
       "      <td>4865000</td>\n",
       "      <td>53772.0</td>\n",
       "      <td>4456.0</td>\n",
       "      <td>5.037593</td>\n",
       "      <td>1804.0</td>\n",
       "      <td>682.0</td>\n",
       "      <td>22.981689</td>\n",
       "      <td>55576.0</td>\n",
       "      <td>4469.0</td>\n",
       "      <td>4.888292</td>\n",
       "    </tr>\n",
       "  </tbody>\n",
       "</table>\n",
       "</div>"
      ],
      "text/plain": [
       "        GEO_ID  B25005_00310E  B25005_00310M  B25005_00310C  B25005_00210E  \\\n",
       "0      0455000        87048.0         5297.0       3.699178         2890.0   \n",
       "1        04013       238006.0         9486.0       2.422866        18084.0   \n",
       "2    0100000US     16290352.0       166463.0       0.621186       933294.0   \n",
       "3  0400000US04       476093.0        12794.0       1.633611        36595.0   \n",
       "4      4865000        53772.0         4456.0       5.037593         1804.0   \n",
       "\n",
       "   B25005_00210M  B25005_00210C  B25005_00110E  B25005_00110M  B25005_00110C  \n",
       "0          942.0      19.814684        89938.0         5280.0       3.568821  \n",
       "1         2358.0       7.926535       256090.0         9832.0       2.333906  \n",
       "2        16788.0       1.093489     17223646.0       167247.0       0.590293  \n",
       "3         3454.0       5.737658       512688.0        12983.0       1.539416  \n",
       "4          682.0      22.981689        55576.0         4469.0       4.888292  "
      ]
     },
     "execution_count": 37,
     "metadata": {},
     "output_type": "execute_result"
    }
   ],
   "source": [
    "df_y0_1y.head()"
   ]
  },
  {
   "cell_type": "markdown",
   "metadata": {},
   "source": [
    "## Combine 1yr and 5 yr"
   ]
  },
  {
   "cell_type": "code",
   "execution_count": 34,
   "metadata": {},
   "outputs": [],
   "source": [
    "with pd.ExcelWriter(f'output/acs_vacancy_status.xlsx') as writer:\n",
    "    dff.to_excel(writer, sheet_name=\"1yr_big_geos\", index=False)\n",
    "    pl_1.to_excel(writer, sheet_name=\"1yr_places\", index=False)\n",
    "    pl.to_excel(writer, sheet_name=\"5yr_places\", index=False)"
   ]
  }
 ],
 "metadata": {
  "kernelspec": {
   "display_name": "Python 3",
   "language": "python",
   "name": "python3"
  },
  "language_info": {
   "codemirror_mode": {
    "name": "ipython",
    "version": 3
   },
   "file_extension": ".py",
   "mimetype": "text/x-python",
   "name": "python",
   "nbconvert_exporter": "python",
   "pygments_lexer": "ipython3",
   "version": "3.8.5"
  }
 },
 "nbformat": 4,
 "nbformat_minor": 2
}
