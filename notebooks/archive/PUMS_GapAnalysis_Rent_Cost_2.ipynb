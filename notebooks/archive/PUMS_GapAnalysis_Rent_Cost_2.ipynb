{
 "cells": [
  {
   "cell_type": "markdown",
   "metadata": {},
   "source": [
    "# PUMS Household Income vs. AMI (2021) in Phoenix  PUMAS\n",
    "\n",
    "- https://www.census.gov/data/developers/data-sets/\n",
    "\n",
    "For households by income and household size to compare to HUD AMI in same year\n",
    "-  https://api.census.gov/data/2021/acs/acs1/pums/variables.html\n",
    "\n",
    "2021 AMI by HH Size (from City of Phoenix)\n",
    "- https://www.phoenix.gov/humanservicessite/Documents/2021%20AMI%20Limits%204.2.21.pdf"
   ]
  },
  {
   "cell_type": "code",
   "execution_count": 32,
   "metadata": {},
   "outputs": [],
   "source": [
    "import pandas as pd\n",
    "import math\n",
    "import numpy as np\n",
    "import os"
   ]
  },
  {
   "cell_type": "code",
   "execution_count": 33,
   "metadata": {},
   "outputs": [],
   "source": [
    "import get_pums as get\n",
    "import pums as calc"
   ]
  },
  {
   "cell_type": "code",
   "execution_count": 34,
   "metadata": {},
   "outputs": [],
   "source": [
    "#Search parameters\n",
    "y1 = '2021'\n",
    "\n",
    "sample = 'acs1'\n",
    "\n",
    "phx_pumas = ['0400113','0400114','0400115','0400116','0400117',\\\n",
    "             '0400118','0400119','0400120','0400121','0400122','0400123',\\\n",
    "             '0400125','0400128','0400112','0400129']\n",
    "\n",
    "#north_pumas = ['0400112','0400129']\n",
    "\n",
    "data_cols = 'SERIALNO,ST,PUMA,HINCP,NP,WGTP,ADJINC,ADJHSG,GRNTP,GASP,FULP,WATP,ELEP'"
   ]
  },
  {
   "cell_type": "markdown",
   "metadata": {},
   "source": [
    "ADJHSG - adjustment factor for housing dollar amounts (6 decimal places)\n",
    "1000000 = 1.000000\n",
    "\n",
    "FHINCP - income flag - 1: yes | https://api.census.gov/data/2021/acs/acs1/pums/variables/FHINCP.json\n",
    "\n",
    "HINCP - HHI in past 12 months (not -60000:n/a, 0:no income, -59999 loss of 59k+)\n",
    "-1 to -59998 loss, 1+\n",
    "https://api.census.gov/data/2021/acs/acs1/pums/variables/HINCP.json\n",
    "\n",
    "GRNTP - gross rent (monthly) (not 0: n/a,not paying rent, owned)\n",
    "https://api.census.gov/data/2021/acs/acs1/pums/variables/GRNTP.json\n",
    "\n",
    "GASP - gas cost (monthly) (not 3:N/a, included in rent/condo)\n",
    "https://api.census.gov/data/2021/acs/acs1/pums/variables/GASP.json\n",
    "\n",
    "FULP - fuel cost (yearly) (not 2:n/a, included in rent/condo)\n",
    "https://api.census.gov/data/2021/acs/acs1/pums/variables/FULP.json\n",
    "\n",
    "WATP - water cost (yearly) (not 2:n/a,included in rent/condo)\n",
    "https://api.census.gov/data/2021/acs/acs1/pums/variables/WATP.json\n",
    "\n",
    "ELEP - electricity cost (monthly) (2:N/A, included in rent/condo)\n",
    "https://api.census.gov/data/2021/acs/acs1/pums/variables/ELEP.json"
   ]
  },
  {
   "cell_type": "code",
   "execution_count": 35,
   "metadata": {},
   "outputs": [],
   "source": [
    "#AMI bands in 2021 by household size\n",
    "AMI_30pct = {'1':16600,'2':19000,'3':21960,'4':26500,'5':31040,'6':35580,\\\n",
    "            '7':40120,'8':44660}\n",
    "AMI_50pct = {'1':27650,'2':31600,'3':35500,'4':39500,'5':42700,'6':45850,\\\n",
    "            '7':49000,'8':52150}\n",
    "AMI_80pct = {'1':44250,'2':50600,'3':56900,'4':63200,'5':68300,'6':73350,\\\n",
    "            '7':78400,'8':83450}\n",
    "AMI_100pct = {'1':55300,'2':63200,'3':71100,'4':79000,'5':85400,'6':91700,\\\n",
    "            '7':98000,'8':104300}"
   ]
  },
  {
   "cell_type": "code",
   "execution_count": 36,
   "metadata": {},
   "outputs": [],
   "source": [
    "#Housing costs affordable to different AMI bands based on household size\n",
    "aff_1p = {'30pct':461,'50pct':767,'80pct':1217,'100pct':1535}\n",
    "aff_2p = {'30pct':527,'50pct':877,'80pct':1392,'100pct':1754}\n",
    "aff_3p = {'30pct':609,'50pct':985,'80pct':1565,'100pct':1973}\n",
    "aff_4p = {'30pct':735,'50pct':1096,'80pct':1738,'100pct':2192}\n",
    "aff_5p = {'30pct':861,'50pct':1185,'80pct':1878,'100pct':2370}\n",
    "aff_6p = {'30pct':987,'50pct':1272,'80pct':2017,'100pct':2545}\n",
    "aff_7p = {'30pct':1113,'50pct':1360,'80pct':2156,'100pct':2720}\n",
    "aff_8p = {'30pct':1239,'50pct':1447,'80pct':2295,'100pct':2894}\n",
    "\n",
    "unit_afford = {'1':[0,461,767,1217,1535,1000000000],\\\n",
    "              '2':[0,527,877,1392,1535,1000000000],\\\n",
    "              '3':[0,609,985,1565,1973,1000000000],\\\n",
    "              '4':[0,735,1096,1738,2192,1000000000],\\\n",
    "              '5':[0,861,1185,1878,2370,1000000000],\\\n",
    "              '6':[0,987,1272,2017,2545,1000000000],\\\n",
    "              '7':[0,1113,1360,2156,2720,1000000000],\\\n",
    "              '8':[0,1239,1447,2295,2894,1000000000]}\n",
    "\n",
    "inc_lbls = ['u30_ami','30_50_ami','50_80_ami','80_100_ami','o100_ami']"
   ]
  },
  {
   "cell_type": "code",
   "execution_count": 37,
   "metadata": {},
   "outputs": [],
   "source": [
    "# create a list of replicate weights\n",
    "repwt = 'WGTP'\n",
    "repwts = [repwt+str(i) for i in range(1, 81)]"
   ]
  },
  {
   "cell_type": "markdown",
   "metadata": {},
   "source": [
    "## Get PUMA data"
   ]
  },
  {
   "cell_type": "code",
   "execution_count": 38,
   "metadata": {
    "scrolled": true
   },
   "outputs": [],
   "source": [
    "df = get.get_puma(sample,y1,data_cols)"
   ]
  },
  {
   "cell_type": "code",
   "execution_count": 39,
   "metadata": {},
   "outputs": [],
   "source": [
    "df['GEO_ID'] = df['ST']+df['PUMA']\n",
    "df = df[df.GEO_ID.isin(phx_pumas)]\n",
    "df  = df.drop(['SERIALNO','ST','PUMA'],axis=1)\n",
    "df = df[['GEO_ID']+[col for col in df.columns if col != 'GEO_ID']] #move id to first col\n",
    "for col in df.columns[1:]: df[col] = df[col].astype(float)"
   ]
  },
  {
   "cell_type": "code",
   "execution_count": 41,
   "metadata": {},
   "outputs": [
    {
     "data": {
      "text/plain": [
       "array([ 1.,  2.,  3.,  6.,  7.,  4.,  5.,  0.,  9.,  8., 13., 12., 10.,\n",
       "       11.])"
      ]
     },
     "execution_count": 41,
     "metadata": {},
     "output_type": "execute_result"
    }
   ],
   "source": [
    "df.NP.unique()"
   ]
  },
  {
   "cell_type": "code",
   "execution_count": 42,
   "metadata": {},
   "outputs": [],
   "source": [
    "df['HHSz'] = pd.cut(df['NP'],bins=[0,1,2,3,4,5,6,7,14],\\\n",
    "                   labels=['1','2','3','4','5','6','7','8'])\n",
    "df['HHSz'] = df['HHSz'].astype(str)\n",
    "df['HINCP'] = df.ADJINC * df.HINCP"
   ]
  },
  {
   "cell_type": "code",
   "execution_count": 43,
   "metadata": {},
   "outputs": [
    {
     "data": {
      "text/plain": [
       "array(['1', '2', '3', '6', '7', '4', '5', 'nan', '8'], dtype=object)"
      ]
     },
     "execution_count": 43,
     "metadata": {},
     "output_type": "execute_result"
    }
   ],
   "source": [
    "df.HHSz.unique()"
   ]
  },
  {
   "cell_type": "code",
   "execution_count": 10,
   "metadata": {},
   "outputs": [],
   "source": [
    "dff = df[~(df.HHSz.isna()) & (df.HINCP!=-60000)&(df.HINCP!=0)&(df.GRNTP!=0)].copy()"
   ]
  },
  {
   "cell_type": "code",
   "execution_count": 11,
   "metadata": {},
   "outputs": [],
   "source": [
    "dff['gas'] = np.where(dff.GASP==3,0,dff.GASP)\n",
    "dff['fuel'] = np.where(dff.FULP==2,0,(dff.FULP/12))\n",
    "dff['water'] = np.where(dff.WATP==2,0,(dff.WATP/12))\n",
    "dff['elec'] = np.where(dff.ELEP==2,0,dff.ELEP)\n",
    "\n",
    "dff['utilities'] = dff.gas + dff.fuel + dff.water + dff.elec\n",
    "dff['hou_cost'] = dff.GRNTP+dff.utilities\n",
    "dff['aff_cost'] = np.where(dff.HINCP>=1,(dff.HINCP*0.333)/12,0)"
   ]
  },
  {
   "cell_type": "code",
   "execution_count": 12,
   "metadata": {},
   "outputs": [],
   "source": [
    "#assign AMI range based on household size and ami dictionaries\n",
    "dff['AMI_range'] = np.where((dff['HINCP']<=dff['HHSz'].map(AMI_30pct)),'u30_ami',\\\n",
    "                   np.where((dff['HINCP']>dff['HHSz'].map(AMI_30pct))&(dff['HINCP']<=dff['HHSz'].map(AMI_50pct)),'30_50_ami',\\\n",
    "                   np.where((dff['HINCP']>dff['HHSz'].map(AMI_50pct))&(dff['HINCP']<=dff['HHSz'].map(AMI_80pct)),\\\n",
    "                   '50_80_ami',np.where((dff['HINCP']>dff['HHSz'].map(AMI_80pct))&(dff['HINCP']<=dff['HHSz'].map(AMI_100pct)),\\\n",
    "                   '80_100_ami','o100_ami'))))"
   ]
  },
  {
   "cell_type": "code",
   "execution_count": 13,
   "metadata": {},
   "outputs": [],
   "source": [
    "dff['cost_burdened'] = np.where(dff.hou_cost>dff.aff_cost,'burdened','not burdened')"
   ]
  },
  {
   "cell_type": "code",
   "execution_count": 14,
   "metadata": {},
   "outputs": [],
   "source": [
    "#who is the unit affordable to based on the rent\n",
    "dff['unit_aff'] = np.where(dff.HHSz=='1',pd.cut(dff['hou_cost'],bins=unit_afford['1'],labels=inc_lbls),\\\n",
    "                  np.where(dff.HHSz=='2',pd.cut(dff['hou_cost'],bins=unit_afford['2'],labels=inc_lbls),\\\n",
    "                  np.where(dff.HHSz=='3',pd.cut(dff['hou_cost'],bins=unit_afford['3'],labels=inc_lbls),\\\n",
    "                  np.where(dff.HHSz=='4',pd.cut(dff['hou_cost'],bins=unit_afford['4'],labels=inc_lbls),\\\n",
    "                  np.where(dff.HHSz=='5',pd.cut(dff['hou_cost'],bins=unit_afford['5'],labels=inc_lbls),\\\n",
    "                  np.where(dff.HHSz=='6',pd.cut(dff['hou_cost'],bins=unit_afford['6'],labels=inc_lbls),\\\n",
    "                  np.where(dff.HHSz=='7',pd.cut(dff['hou_cost'],bins=unit_afford['7'],labels=inc_lbls),\\\n",
    "                  np.where(dff.HHSz=='8',pd.cut(dff['hou_cost'],bins=unit_afford['8'],labels=inc_lbls),''))))))))"
   ]
  },
  {
   "cell_type": "code",
   "execution_count": 15,
   "metadata": {},
   "outputs": [
    {
     "data": {
      "text/html": [
       "<div>\n",
       "<style scoped>\n",
       "    .dataframe tbody tr th:only-of-type {\n",
       "        vertical-align: middle;\n",
       "    }\n",
       "\n",
       "    .dataframe tbody tr th {\n",
       "        vertical-align: top;\n",
       "    }\n",
       "\n",
       "    .dataframe thead th {\n",
       "        text-align: right;\n",
       "    }\n",
       "</style>\n",
       "<table border=\"1\" class=\"dataframe\">\n",
       "  <thead>\n",
       "    <tr style=\"text-align: right;\">\n",
       "      <th></th>\n",
       "      <th>GEO_ID</th>\n",
       "      <th>HINCP</th>\n",
       "      <th>NP</th>\n",
       "      <th>WGTP</th>\n",
       "      <th>ADJINC</th>\n",
       "      <th>ADJHSG</th>\n",
       "      <th>GRNTP</th>\n",
       "      <th>GASP</th>\n",
       "      <th>FULP</th>\n",
       "      <th>WATP</th>\n",
       "      <th>...</th>\n",
       "      <th>gas</th>\n",
       "      <th>fuel</th>\n",
       "      <th>water</th>\n",
       "      <th>elec</th>\n",
       "      <th>utilities</th>\n",
       "      <th>hou_cost</th>\n",
       "      <th>aff_cost</th>\n",
       "      <th>AMI_range</th>\n",
       "      <th>cost_burdened</th>\n",
       "      <th>unit_aff</th>\n",
       "    </tr>\n",
       "  </thead>\n",
       "  <tbody>\n",
       "    <tr>\n",
       "      <th>3612</th>\n",
       "      <td>0400120</td>\n",
       "      <td>177353.6016</td>\n",
       "      <td>3.0</td>\n",
       "      <td>42.0</td>\n",
       "      <td>1.029928</td>\n",
       "      <td>1000000.0</td>\n",
       "      <td>2460.0</td>\n",
       "      <td>3.0</td>\n",
       "      <td>2.0</td>\n",
       "      <td>1200.0</td>\n",
       "      <td>...</td>\n",
       "      <td>0.0</td>\n",
       "      <td>0.0</td>\n",
       "      <td>100.000000</td>\n",
       "      <td>160.0</td>\n",
       "      <td>260.000000</td>\n",
       "      <td>2720.000000</td>\n",
       "      <td>4921.562444</td>\n",
       "      <td>o100_ami</td>\n",
       "      <td>not burdened</td>\n",
       "      <td>o100_ami</td>\n",
       "    </tr>\n",
       "    <tr>\n",
       "      <th>3637</th>\n",
       "      <td>0400119</td>\n",
       "      <td>55307.1336</td>\n",
       "      <td>7.0</td>\n",
       "      <td>172.0</td>\n",
       "      <td>1.029928</td>\n",
       "      <td>1000000.0</td>\n",
       "      <td>1405.0</td>\n",
       "      <td>3.0</td>\n",
       "      <td>2.0</td>\n",
       "      <td>1500.0</td>\n",
       "      <td>...</td>\n",
       "      <td>0.0</td>\n",
       "      <td>0.0</td>\n",
       "      <td>125.000000</td>\n",
       "      <td>480.0</td>\n",
       "      <td>605.000000</td>\n",
       "      <td>2010.000000</td>\n",
       "      <td>1534.772957</td>\n",
       "      <td>50_80_ami</td>\n",
       "      <td>burdened</td>\n",
       "      <td>50_80_ami</td>\n",
       "    </tr>\n",
       "    <tr>\n",
       "      <th>3639</th>\n",
       "      <td>0400116</td>\n",
       "      <td>70344.0824</td>\n",
       "      <td>2.0</td>\n",
       "      <td>177.0</td>\n",
       "      <td>1.029928</td>\n",
       "      <td>1000000.0</td>\n",
       "      <td>1808.0</td>\n",
       "      <td>3.0</td>\n",
       "      <td>2.0</td>\n",
       "      <td>100.0</td>\n",
       "      <td>...</td>\n",
       "      <td>0.0</td>\n",
       "      <td>0.0</td>\n",
       "      <td>8.333333</td>\n",
       "      <td>300.0</td>\n",
       "      <td>308.333333</td>\n",
       "      <td>2116.333333</td>\n",
       "      <td>1952.048287</td>\n",
       "      <td>o100_ami</td>\n",
       "      <td>burdened</td>\n",
       "      <td>o100_ami</td>\n",
       "    </tr>\n",
       "  </tbody>\n",
       "</table>\n",
       "<p>3 rows × 102 columns</p>\n",
       "</div>"
      ],
      "text/plain": [
       "       GEO_ID        HINCP   NP   WGTP    ADJINC     ADJHSG   GRNTP  GASP  \\\n",
       "3612  0400120  177353.6016  3.0   42.0  1.029928  1000000.0  2460.0   3.0   \n",
       "3637  0400119   55307.1336  7.0  172.0  1.029928  1000000.0  1405.0   3.0   \n",
       "3639  0400116   70344.0824  2.0  177.0  1.029928  1000000.0  1808.0   3.0   \n",
       "\n",
       "      FULP    WATP  ...  gas  fuel       water   elec   utilities  \\\n",
       "3612   2.0  1200.0  ...  0.0   0.0  100.000000  160.0  260.000000   \n",
       "3637   2.0  1500.0  ...  0.0   0.0  125.000000  480.0  605.000000   \n",
       "3639   2.0   100.0  ...  0.0   0.0    8.333333  300.0  308.333333   \n",
       "\n",
       "         hou_cost     aff_cost  AMI_range  cost_burdened   unit_aff  \n",
       "3612  2720.000000  4921.562444   o100_ami   not burdened   o100_ami  \n",
       "3637  2010.000000  1534.772957  50_80_ami       burdened  50_80_ami  \n",
       "3639  2116.333333  1952.048287   o100_ami       burdened   o100_ami  \n",
       "\n",
       "[3 rows x 102 columns]"
      ]
     },
     "execution_count": 15,
     "metadata": {},
     "output_type": "execute_result"
    }
   ],
   "source": [
    "dff.head(3)"
   ]
  },
  {
   "cell_type": "markdown",
   "metadata": {},
   "source": [
    "### table by PUMA for renters by AMI range - cost burdened vs. not cost burdened"
   ]
  },
  {
   "cell_type": "code",
   "execution_count": 16,
   "metadata": {},
   "outputs": [],
   "source": [
    "def make_est(df):\n",
    "    df['hh_SE'] = df.apply(lambda x: (calc.get_se(x['WGTP'],x[repwts])),axis=1)\n",
    "    df['hh_MOE'] = df.apply(lambda x: (calc.get_moe(x['hh_SE'])),axis=1)\n",
    "    df['hh_CV'] = df.apply(lambda x: (calc.get_cv(x['WGTP'],x['hh_SE'])),axis=1)\n",
    "    df.rename(columns={'WGTP':'hh'},inplace=True)\n",
    "    return df"
   ]
  },
  {
   "cell_type": "code",
   "execution_count": 17,
   "metadata": {},
   "outputs": [],
   "source": [
    "drop_cols = ['HINCP','NP','ADJINC','ADJHSG','GRNTP','GASP','FULP','WATP',\\\n",
    "             'ELEP','gas', 'fuel', 'water', 'elec', 'utilities','hou_cost', 'aff_cost','HHSz']"
   ]
  },
  {
   "cell_type": "code",
   "execution_count": 18,
   "metadata": {},
   "outputs": [],
   "source": [
    "table = dff.copy().drop(columns=drop_cols)"
   ]
  },
  {
   "cell_type": "code",
   "execution_count": 19,
   "metadata": {},
   "outputs": [],
   "source": [
    "table = table.groupby(['GEO_ID','AMI_range','unit_aff','cost_burdened']).sum().reset_index()"
   ]
  },
  {
   "cell_type": "code",
   "execution_count": 20,
   "metadata": {},
   "outputs": [],
   "source": [
    "table_2 = table.copy().groupby(['GEO_ID','AMI_range','unit_aff','cost_burdened']).sum().reset_index()\n",
    "table_2 = make_est(table_2)\n",
    "table_2 = table_2.drop(columns=repwts)"
   ]
  },
  {
   "cell_type": "code",
   "execution_count": 21,
   "metadata": {},
   "outputs": [],
   "source": [
    "rent_ami = table.copy().drop(columns=['unit_aff','cost_burdened']).groupby(['GEO_ID','AMI_range']).sum().reset_index()\n",
    "rent_ami = make_est(rent_ami)\n",
    "rent_ami = rent_ami.drop(columns=repwts)"
   ]
  },
  {
   "cell_type": "code",
   "execution_count": 22,
   "metadata": {},
   "outputs": [],
   "source": [
    "rent_aff = table.copy().drop(columns=['AMI_range','cost_burdened']).groupby(['GEO_ID','unit_aff']).sum().reset_index()\n",
    "rent_aff = make_est(rent_aff)\n",
    "rent_aff = rent_aff.drop(columns=repwts)"
   ]
  },
  {
   "cell_type": "code",
   "execution_count": 23,
   "metadata": {},
   "outputs": [],
   "source": [
    "cost_burd = table.copy().drop(columns=['unit_aff','AMI_range']).groupby(['GEO_ID','cost_burdened']).sum().reset_index()\n",
    "cost_burd = make_est(cost_burd)\n",
    "cost_burd = cost_burd.drop(columns=repwts)"
   ]
  },
  {
   "cell_type": "code",
   "execution_count": 29,
   "metadata": {},
   "outputs": [],
   "source": [
    "table_3 = table.copy().drop(columns='cost_burdened').groupby(['GEO_ID','AMI_range','unit_aff']).sum().reset_index()\n",
    "table_3 = make_est(table_3)\n",
    "table_3 = table_3.drop(columns=repwts)"
   ]
  },
  {
   "cell_type": "code",
   "execution_count": 27,
   "metadata": {},
   "outputs": [],
   "source": [
    "table_2 = pd.pivot_table(table_2,values=['hh','hh_MOE','hh_CV'],index='GEO_ID',\\\n",
    "                          columns=['AMI_range','unit_aff','cost_burdened'],aggfunc=np.sum).reset_index()\n",
    "\n",
    "rent_ami = pd.pivot_table(rent_ami,values=['hh','hh_MOE','hh_CV'],index='GEO_ID',\\\n",
    "                          columns=['AMI_range'],aggfunc=np.sum).reset_index()\n",
    "\n",
    "rent_aff = pd.pivot_table(rent_aff,values=['hh','hh_MOE','hh_CV'],index='GEO_ID',\\\n",
    "                          columns=['unit_aff'],aggfunc=np.sum).reset_index()\n",
    "\n",
    "cost_burd = pd.pivot_table(cost_burd,values=['hh','hh_MOE','hh_CV'],index='GEO_ID',\\\n",
    "                          columns=['cost_burdened'],aggfunc=np.sum).reset_index()"
   ]
  },
  {
   "cell_type": "code",
   "execution_count": 30,
   "metadata": {},
   "outputs": [],
   "source": [
    "table_3 = pd.pivot_table(table_3,values=['hh','hh_MOE','hh_CV'],index='GEO_ID',\\\n",
    "                          columns=['AMI_range','unit_aff'],aggfunc=np.sum).reset_index()"
   ]
  },
  {
   "cell_type": "code",
   "execution_count": 31,
   "metadata": {},
   "outputs": [],
   "source": [
    "with pd.ExcelWriter(f'output/pums_rent_gap.xlsx') as writer:\n",
    "    table_2.to_excel(writer,sheet_name='full_renter')\n",
    "    rent_ami.to_excel(writer,sheet_name='hh_ami_lvl_renter')\n",
    "    rent_aff.to_excel(writer,sheet_name='hh_afford_byAMI_renter')\n",
    "    cost_burd.to_excel(writer,sheet_name='cost_burdened_byAMI_renter')\n",
    "    table_3.to_excel(writer,sheet_name='demand_supply_amilvl')"
   ]
  }
 ],
 "metadata": {
  "kernelspec": {
   "display_name": "Python 3 (ipykernel)",
   "language": "python",
   "name": "python3"
  },
  "language_info": {
   "codemirror_mode": {
    "name": "ipython",
    "version": 3
   },
   "file_extension": ".py",
   "mimetype": "text/x-python",
   "name": "python",
   "nbconvert_exporter": "python",
   "pygments_lexer": "ipython3",
   "version": "3.9.13"
  }
 },
 "nbformat": 4,
 "nbformat_minor": 2
}
