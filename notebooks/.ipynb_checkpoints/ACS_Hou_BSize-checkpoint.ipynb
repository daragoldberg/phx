{
 "cells": [
  {
   "cell_type": "markdown",
   "metadata": {},
   "source": [
    "## ACS Housing Units by Building Size for Urban Villages, City of Phoenix\n",
    "\n",
    "- https://www.census.gov/data/developers/data-sets/acs-5year.html\n",
    "- https://api.census.gov/data/2013/acs/acs5/variables.html\n",
    "- https://api.census.gov/data/2021/acs/acs5/variables.html"
   ]
  },
  {
   "cell_type": "code",
   "execution_count": 1,
   "metadata": {},
   "outputs": [],
   "source": [
    "import pandas as pd\n",
    "import math\n",
    "import numpy as np\n",
    "import os"
   ]
  },
  {
   "cell_type": "code",
   "execution_count": 2,
   "metadata": {},
   "outputs": [],
   "source": [
    "import get_acs as get\n",
    "import utilcalcs as calc\n",
    "import geo_agg\n",
    "from hou_size_vars import *"
   ]
  },
  {
   "cell_type": "code",
   "execution_count": 3,
   "metadata": {},
   "outputs": [],
   "source": [
    "bgp_10 = pd.read_csv('../data/geo/bgp_vil_10.csv')\n",
    "bgp_20 = pd.read_csv('../data/geo/bgp_vil_20.csv')\n",
    "for df in [bgp_10,bgp_20]: df.geoid = df.geoid.apply(lambda x: '{0:0>12}'.format(x))\n",
    "    \n",
    "#get ride of area & geo stuff not being useed\n",
    "bgp_20 = bgp_20.drop(['aland20','awater20','lat20','lon20','land_acre'],axis=1)\n",
    "bgp_10 = bgp_10.drop(['aland10','awater10','lat10','lon10','land_acre'],axis=1)"
   ]
  },
  {
   "cell_type": "code",
   "execution_count": 4,
   "metadata": {},
   "outputs": [],
   "source": [
    "#Search parameters - NOTE DIFFERENT VARIABLE # ASSIGNMENTS IN 2010 VS 2020\n",
    "y1 = '2021'\n",
    "y0 = '2013'\n",
    "\n",
    "cols = 'group(B25024)'\n",
    "\n",
    "source = 'acs/acs5'"
   ]
  },
  {
   "cell_type": "markdown",
   "metadata": {},
   "source": [
    "#### Calculate building size columns function"
   ]
  },
  {
   "cell_type": "code",
   "execution_count": 13,
   "metadata": {},
   "outputs": [],
   "source": [
    "df = get.get_bgp(source,y1,cols)\n",
    "df = df.filter(regex='(?<!A)$',axis=1) #drop non-estimate columns\n",
    "df = df[['GEO_ID']+[col for col in df.columns if col != 'GEO_ID']] #move id to first col\n",
    "df = get.clean_data(df,df.columns)"
   ]
  },
  {
   "cell_type": "code",
   "execution_count": 14,
   "metadata": {},
   "outputs": [
    {
     "data": {
      "text/html": [
       "<div>\n",
       "<style scoped>\n",
       "    .dataframe tbody tr th:only-of-type {\n",
       "        vertical-align: middle;\n",
       "    }\n",
       "\n",
       "    .dataframe tbody tr th {\n",
       "        vertical-align: top;\n",
       "    }\n",
       "\n",
       "    .dataframe thead th {\n",
       "        text-align: right;\n",
       "    }\n",
       "</style>\n",
       "<table border=\"1\" class=\"dataframe\">\n",
       "  <thead>\n",
       "    <tr style=\"text-align: right;\">\n",
       "      <th></th>\n",
       "      <th>GEO_ID</th>\n",
       "      <th>B25024_001E</th>\n",
       "      <th>B25024_001M</th>\n",
       "      <th>B25024_002E</th>\n",
       "      <th>B25024_002M</th>\n",
       "      <th>B25024_003E</th>\n",
       "      <th>B25024_003M</th>\n",
       "      <th>B25024_004E</th>\n",
       "      <th>B25024_004M</th>\n",
       "      <th>B25024_005E</th>\n",
       "      <th>...</th>\n",
       "      <th>B25024_007E</th>\n",
       "      <th>B25024_007M</th>\n",
       "      <th>B25024_008E</th>\n",
       "      <th>B25024_008M</th>\n",
       "      <th>B25024_009E</th>\n",
       "      <th>B25024_009M</th>\n",
       "      <th>B25024_010E</th>\n",
       "      <th>B25024_010M</th>\n",
       "      <th>B25024_011E</th>\n",
       "      <th>B25024_011M</th>\n",
       "    </tr>\n",
       "  </thead>\n",
       "  <tbody>\n",
       "    <tr>\n",
       "      <th>0</th>\n",
       "      <td>040130101021</td>\n",
       "      <td>487.0</td>\n",
       "      <td>166.0</td>\n",
       "      <td>487.0</td>\n",
       "      <td>166.0</td>\n",
       "      <td>0.0</td>\n",
       "      <td>13.0</td>\n",
       "      <td>0.0</td>\n",
       "      <td>13.0</td>\n",
       "      <td>0.0</td>\n",
       "      <td>...</td>\n",
       "      <td>0.0</td>\n",
       "      <td>13.0</td>\n",
       "      <td>0.0</td>\n",
       "      <td>13.0</td>\n",
       "      <td>0.0</td>\n",
       "      <td>13.0</td>\n",
       "      <td>0.0</td>\n",
       "      <td>13.0</td>\n",
       "      <td>0.0</td>\n",
       "      <td>13.0</td>\n",
       "    </tr>\n",
       "    <tr>\n",
       "      <th>1</th>\n",
       "      <td>040130101022</td>\n",
       "      <td>980.0</td>\n",
       "      <td>192.0</td>\n",
       "      <td>980.0</td>\n",
       "      <td>192.0</td>\n",
       "      <td>0.0</td>\n",
       "      <td>13.0</td>\n",
       "      <td>0.0</td>\n",
       "      <td>13.0</td>\n",
       "      <td>0.0</td>\n",
       "      <td>...</td>\n",
       "      <td>0.0</td>\n",
       "      <td>13.0</td>\n",
       "      <td>0.0</td>\n",
       "      <td>13.0</td>\n",
       "      <td>0.0</td>\n",
       "      <td>13.0</td>\n",
       "      <td>0.0</td>\n",
       "      <td>13.0</td>\n",
       "      <td>0.0</td>\n",
       "      <td>13.0</td>\n",
       "    </tr>\n",
       "    <tr>\n",
       "      <th>2</th>\n",
       "      <td>040130101023</td>\n",
       "      <td>2062.0</td>\n",
       "      <td>268.0</td>\n",
       "      <td>1966.0</td>\n",
       "      <td>276.0</td>\n",
       "      <td>96.0</td>\n",
       "      <td>90.0</td>\n",
       "      <td>0.0</td>\n",
       "      <td>13.0</td>\n",
       "      <td>0.0</td>\n",
       "      <td>...</td>\n",
       "      <td>0.0</td>\n",
       "      <td>13.0</td>\n",
       "      <td>0.0</td>\n",
       "      <td>13.0</td>\n",
       "      <td>0.0</td>\n",
       "      <td>13.0</td>\n",
       "      <td>0.0</td>\n",
       "      <td>13.0</td>\n",
       "      <td>0.0</td>\n",
       "      <td>13.0</td>\n",
       "    </tr>\n",
       "    <tr>\n",
       "      <th>3</th>\n",
       "      <td>040130101031</td>\n",
       "      <td>999.0</td>\n",
       "      <td>253.0</td>\n",
       "      <td>957.0</td>\n",
       "      <td>257.0</td>\n",
       "      <td>0.0</td>\n",
       "      <td>13.0</td>\n",
       "      <td>0.0</td>\n",
       "      <td>13.0</td>\n",
       "      <td>0.0</td>\n",
       "      <td>...</td>\n",
       "      <td>0.0</td>\n",
       "      <td>13.0</td>\n",
       "      <td>0.0</td>\n",
       "      <td>13.0</td>\n",
       "      <td>0.0</td>\n",
       "      <td>13.0</td>\n",
       "      <td>42.0</td>\n",
       "      <td>65.0</td>\n",
       "      <td>0.0</td>\n",
       "      <td>13.0</td>\n",
       "    </tr>\n",
       "    <tr>\n",
       "      <th>4</th>\n",
       "      <td>040130101032</td>\n",
       "      <td>794.0</td>\n",
       "      <td>173.0</td>\n",
       "      <td>703.0</td>\n",
       "      <td>158.0</td>\n",
       "      <td>0.0</td>\n",
       "      <td>13.0</td>\n",
       "      <td>0.0</td>\n",
       "      <td>13.0</td>\n",
       "      <td>0.0</td>\n",
       "      <td>...</td>\n",
       "      <td>0.0</td>\n",
       "      <td>13.0</td>\n",
       "      <td>26.0</td>\n",
       "      <td>38.0</td>\n",
       "      <td>0.0</td>\n",
       "      <td>13.0</td>\n",
       "      <td>65.0</td>\n",
       "      <td>98.0</td>\n",
       "      <td>0.0</td>\n",
       "      <td>13.0</td>\n",
       "    </tr>\n",
       "  </tbody>\n",
       "</table>\n",
       "<p>5 rows × 23 columns</p>\n",
       "</div>"
      ],
      "text/plain": [
       "         GEO_ID  B25024_001E  B25024_001M  B25024_002E  B25024_002M  \\\n",
       "0  040130101021        487.0        166.0        487.0        166.0   \n",
       "1  040130101022        980.0        192.0        980.0        192.0   \n",
       "2  040130101023       2062.0        268.0       1966.0        276.0   \n",
       "3  040130101031        999.0        253.0        957.0        257.0   \n",
       "4  040130101032        794.0        173.0        703.0        158.0   \n",
       "\n",
       "   B25024_003E  B25024_003M  B25024_004E  B25024_004M  B25024_005E  ...  \\\n",
       "0          0.0         13.0          0.0         13.0          0.0  ...   \n",
       "1          0.0         13.0          0.0         13.0          0.0  ...   \n",
       "2         96.0         90.0          0.0         13.0          0.0  ...   \n",
       "3          0.0         13.0          0.0         13.0          0.0  ...   \n",
       "4          0.0         13.0          0.0         13.0          0.0  ...   \n",
       "\n",
       "   B25024_007E  B25024_007M  B25024_008E  B25024_008M  B25024_009E  \\\n",
       "0          0.0         13.0          0.0         13.0          0.0   \n",
       "1          0.0         13.0          0.0         13.0          0.0   \n",
       "2          0.0         13.0          0.0         13.0          0.0   \n",
       "3          0.0         13.0          0.0         13.0          0.0   \n",
       "4          0.0         13.0         26.0         38.0          0.0   \n",
       "\n",
       "   B25024_009M  B25024_010E  B25024_010M  B25024_011E  B25024_011M  \n",
       "0         13.0          0.0         13.0          0.0         13.0  \n",
       "1         13.0          0.0         13.0          0.0         13.0  \n",
       "2         13.0          0.0         13.0          0.0         13.0  \n",
       "3         13.0         42.0         65.0          0.0         13.0  \n",
       "4         13.0         65.0         98.0          0.0         13.0  \n",
       "\n",
       "[5 rows x 23 columns]"
      ]
     },
     "execution_count": 14,
     "metadata": {},
     "output_type": "execute_result"
    }
   ],
   "source": [
    "df.head()"
   ]
  },
  {
   "cell_type": "code",
   "execution_count": 15,
   "metadata": {},
   "outputs": [],
   "source": [
    "# function to sum select building columns & recalc MOES\n",
    "def group_bsize(df,year):\n",
    "    df['u_1_E'] = df.loc[:,U1E].sum(axis=1)\n",
    "    df['u_1_M'] = df.apply(lambda x: (calc.get_moe(x[U1M])),axis=1)\n",
    "    df['u_24_E'] = df.loc[:,U24E].sum(axis=1)\n",
    "    df['u_24_M'] = df.apply(lambda x: (calc.get_moe(x[U24M])),axis=1)\n",
    "    df['u_520_E'] = df.loc[:,U520E].sum(axis=1)\n",
    "    df['u_520_M'] = df.apply(lambda x: (calc.get_moe(x[U520M])),axis=1)\n",
    "    df['u_o20_E'] = df.loc[:,Uo20E].sum(axis=1)\n",
    "    df['u_o20_M'] = df.apply(lambda x: (calc.get_moe(x[Uo20M])),axis=1)\n",
    "    df['u_oth_E'] = df.loc[:,UOthE].sum(axis=1)\n",
    "    df['u_oth_M'] = df.apply(lambda x: (calc.get_moe(x[UOthM])),axis=1)\n",
    "    df = df.drop(hou_vars,axis=1).rename(columns=hou_rename,inplace=True)\n",
    "    \n",
    "    #add end-year into column name\n",
    "    for col in df.columns[1:]:\n",
    "        df.rename(columns={col:f'{col[:-1]}{year[-2:]}{col[-1:]}'},inplace=True)\n",
    "    return df"
   ]
  },
  {
   "cell_type": "code",
   "execution_count": 18,
   "metadata": {},
   "outputs": [],
   "source": [
    "def make_uvil(geo_df,year): \n",
    "    df = get.get_bgp(source,year,cols)\n",
    "    df = df.filter(regex='(?<!A)$',axis=1) #drop non-estimate columns\n",
    "    df = df[['GEO_ID']+[col for col in df.columns if col != 'GEO_ID']] #move id to first col\n",
    "    df = get.clean_data(df,df.columns)\n",
    "    df = group_bsize(df,year)\n",
    "    df = pd.merge(geo_df,df,how='left',left_on='geoid',right_on='GEO_ID')\n",
    "    df = df.drop(['geoid','GEO_ID'],axis=1)\n",
    "    df = geo_agg.sumgeo_cv(df,'name')\n",
    "    return df"
   ]
  },
  {
   "cell_type": "code",
   "execution_count": 22,
   "metadata": {},
   "outputs": [],
   "source": [
    "df = get.get_bgp(source,y1,cols)\n",
    "df = df.filter(regex='(?<!A)$',axis=1) #drop non-estimate columns\n",
    "df = df[['GEO_ID']+[col for col in df.columns if col != 'GEO_ID']] #move id to first col\n",
    "df = get.clean_data(df,df.columns)"
   ]
  },
  {
   "cell_type": "code",
   "execution_count": 25,
   "metadata": {},
   "outputs": [],
   "source": [
    "df['u_1_E'] = df.loc[:,U1E].sum(axis=1)\n",
    "df['u_1_M'] = df.apply(lambda x: (calc.get_moe(x[U1M])),axis=1)\n",
    "df['u_24_E'] = df.loc[:,U24E].sum(axis=1)\n",
    "df['u_24_M'] = df.apply(lambda x: (calc.get_moe(x[U24M])),axis=1)\n",
    "df['u_520_E'] = df.loc[:,U520E].sum(axis=1)\n",
    "df['u_520_M'] = df.apply(lambda x: (calc.get_moe(x[U520M])),axis=1)\n",
    "df['u_o20_E'] = df.loc[:,Uo20E].sum(axis=1)\n",
    "df['u_o20_M'] = df.apply(lambda x: (calc.get_moe(x[Uo20M])),axis=1)\n",
    "df['u_oth_E'] = df.loc[:,UOthE].sum(axis=1)\n",
    "df['u_oth_M'] = df.apply(lambda x: (calc.get_moe(x[UOthM])),axis=1)"
   ]
  },
  {
   "cell_type": "code",
   "execution_count": 27,
   "metadata": {
    "scrolled": true
   },
   "outputs": [
    {
     "ename": "AttributeError",
     "evalue": "'NoneType' object has no attribute 'drop'",
     "output_type": "error",
     "traceback": [
      "\u001b[0;31m---------------------------------------------------------------------------\u001b[0m",
      "\u001b[0;31mAttributeError\u001b[0m                            Traceback (most recent call last)",
      "\u001b[0;32m<ipython-input-27-99b6615c596f>\u001b[0m in \u001b[0;36m<module>\u001b[0;34m\u001b[0m\n\u001b[0;32m----> 1\u001b[0;31m \u001b[0mdf\u001b[0m \u001b[0;34m=\u001b[0m \u001b[0mdf\u001b[0m\u001b[0;34m.\u001b[0m\u001b[0mrename\u001b[0m\u001b[0;34m(\u001b[0m\u001b[0mcolumns\u001b[0m\u001b[0;34m=\u001b[0m\u001b[0mhou_rename\u001b[0m\u001b[0;34m,\u001b[0m\u001b[0minplace\u001b[0m\u001b[0;34m=\u001b[0m\u001b[0;32mTrue\u001b[0m\u001b[0;34m)\u001b[0m\u001b[0;34m.\u001b[0m\u001b[0mdrop\u001b[0m\u001b[0;34m(\u001b[0m\u001b[0mhou_vars\u001b[0m\u001b[0;34m,\u001b[0m\u001b[0maxis\u001b[0m\u001b[0;34m=\u001b[0m\u001b[0;36m1\u001b[0m\u001b[0;34m)\u001b[0m\u001b[0;34m\u001b[0m\u001b[0;34m\u001b[0m\u001b[0m\n\u001b[0m",
      "\u001b[0;31mAttributeError\u001b[0m: 'NoneType' object has no attribute 'drop'"
     ]
    }
   ],
   "source": [
    "df = df.rename(columns=hou_rename,inplace=True).drop(hou_vars,axis=1)"
   ]
  },
  {
   "cell_type": "code",
   "execution_count": 29,
   "metadata": {},
   "outputs": [
    {
     "name": "stdout",
     "output_type": "stream",
     "text": [
      "['B25024_002E', 'B25024_003E', 'B25024_002M', 'B25024_003M', 'B25024_004E', 'B25024_005E', 'B25024_004M', 'B25024_005M', 'B25024_006E', 'B25024_007E', 'B25024_006M', 'B25024_007M', 'B25024_008E', 'B25024_009E', 'B25024_008M', 'B25024_009M', 'B25024_010E', 'B25024_011E', 'B25024_010M', 'B25024_011M']\n"
     ]
    }
   ],
   "source": [
    "print(hou_vars)"
   ]
  },
  {
   "cell_type": "code",
   "execution_count": 28,
   "metadata": {},
   "outputs": [
    {
     "data": {
      "text/html": [
       "<div>\n",
       "<style scoped>\n",
       "    .dataframe tbody tr th:only-of-type {\n",
       "        vertical-align: middle;\n",
       "    }\n",
       "\n",
       "    .dataframe tbody tr th {\n",
       "        vertical-align: top;\n",
       "    }\n",
       "\n",
       "    .dataframe thead th {\n",
       "        text-align: right;\n",
       "    }\n",
       "</style>\n",
       "<table border=\"1\" class=\"dataframe\">\n",
       "  <thead>\n",
       "    <tr style=\"text-align: right;\">\n",
       "      <th></th>\n",
       "      <th>GEO_ID</th>\n",
       "      <th>u_tot_E</th>\n",
       "      <th>u_tot_M</th>\n",
       "      <th>B25024_002E</th>\n",
       "      <th>B25024_002M</th>\n",
       "      <th>B25024_003E</th>\n",
       "      <th>B25024_003M</th>\n",
       "      <th>B25024_004E</th>\n",
       "      <th>B25024_004M</th>\n",
       "      <th>B25024_005E</th>\n",
       "      <th>...</th>\n",
       "      <th>u_1_E</th>\n",
       "      <th>u_1_M</th>\n",
       "      <th>u_24_E</th>\n",
       "      <th>u_24_M</th>\n",
       "      <th>u_520_E</th>\n",
       "      <th>u_520_M</th>\n",
       "      <th>u_o20_E</th>\n",
       "      <th>u_o20_M</th>\n",
       "      <th>u_oth_E</th>\n",
       "      <th>u_oth_M</th>\n",
       "    </tr>\n",
       "  </thead>\n",
       "  <tbody>\n",
       "    <tr>\n",
       "      <th>0</th>\n",
       "      <td>040130101021</td>\n",
       "      <td>487.0</td>\n",
       "      <td>166.0</td>\n",
       "      <td>487.0</td>\n",
       "      <td>166.0</td>\n",
       "      <td>0.0</td>\n",
       "      <td>13.0</td>\n",
       "      <td>0.0</td>\n",
       "      <td>13.0</td>\n",
       "      <td>0.0</td>\n",
       "      <td>...</td>\n",
       "      <td>487.0</td>\n",
       "      <td>166.508258</td>\n",
       "      <td>0.0</td>\n",
       "      <td>18.384776</td>\n",
       "      <td>0.0</td>\n",
       "      <td>18.384776</td>\n",
       "      <td>0.0</td>\n",
       "      <td>18.384776</td>\n",
       "      <td>0.0</td>\n",
       "      <td>18.384776</td>\n",
       "    </tr>\n",
       "    <tr>\n",
       "      <th>1</th>\n",
       "      <td>040130101022</td>\n",
       "      <td>980.0</td>\n",
       "      <td>192.0</td>\n",
       "      <td>980.0</td>\n",
       "      <td>192.0</td>\n",
       "      <td>0.0</td>\n",
       "      <td>13.0</td>\n",
       "      <td>0.0</td>\n",
       "      <td>13.0</td>\n",
       "      <td>0.0</td>\n",
       "      <td>...</td>\n",
       "      <td>980.0</td>\n",
       "      <td>192.439601</td>\n",
       "      <td>0.0</td>\n",
       "      <td>18.384776</td>\n",
       "      <td>0.0</td>\n",
       "      <td>18.384776</td>\n",
       "      <td>0.0</td>\n",
       "      <td>18.384776</td>\n",
       "      <td>0.0</td>\n",
       "      <td>18.384776</td>\n",
       "    </tr>\n",
       "    <tr>\n",
       "      <th>2</th>\n",
       "      <td>040130101023</td>\n",
       "      <td>2062.0</td>\n",
       "      <td>268.0</td>\n",
       "      <td>1966.0</td>\n",
       "      <td>276.0</td>\n",
       "      <td>96.0</td>\n",
       "      <td>90.0</td>\n",
       "      <td>0.0</td>\n",
       "      <td>13.0</td>\n",
       "      <td>0.0</td>\n",
       "      <td>...</td>\n",
       "      <td>2062.0</td>\n",
       "      <td>290.303290</td>\n",
       "      <td>0.0</td>\n",
       "      <td>18.384776</td>\n",
       "      <td>0.0</td>\n",
       "      <td>18.384776</td>\n",
       "      <td>0.0</td>\n",
       "      <td>18.384776</td>\n",
       "      <td>0.0</td>\n",
       "      <td>18.384776</td>\n",
       "    </tr>\n",
       "    <tr>\n",
       "      <th>3</th>\n",
       "      <td>040130101031</td>\n",
       "      <td>999.0</td>\n",
       "      <td>253.0</td>\n",
       "      <td>957.0</td>\n",
       "      <td>257.0</td>\n",
       "      <td>0.0</td>\n",
       "      <td>13.0</td>\n",
       "      <td>0.0</td>\n",
       "      <td>13.0</td>\n",
       "      <td>0.0</td>\n",
       "      <td>...</td>\n",
       "      <td>957.0</td>\n",
       "      <td>257.328584</td>\n",
       "      <td>0.0</td>\n",
       "      <td>18.384776</td>\n",
       "      <td>0.0</td>\n",
       "      <td>18.384776</td>\n",
       "      <td>0.0</td>\n",
       "      <td>18.384776</td>\n",
       "      <td>42.0</td>\n",
       "      <td>66.287254</td>\n",
       "    </tr>\n",
       "    <tr>\n",
       "      <th>4</th>\n",
       "      <td>040130101032</td>\n",
       "      <td>794.0</td>\n",
       "      <td>173.0</td>\n",
       "      <td>703.0</td>\n",
       "      <td>158.0</td>\n",
       "      <td>0.0</td>\n",
       "      <td>13.0</td>\n",
       "      <td>0.0</td>\n",
       "      <td>13.0</td>\n",
       "      <td>0.0</td>\n",
       "      <td>...</td>\n",
       "      <td>703.0</td>\n",
       "      <td>158.533908</td>\n",
       "      <td>0.0</td>\n",
       "      <td>18.384776</td>\n",
       "      <td>0.0</td>\n",
       "      <td>18.384776</td>\n",
       "      <td>26.0</td>\n",
       "      <td>40.162171</td>\n",
       "      <td>65.0</td>\n",
       "      <td>98.858485</td>\n",
       "    </tr>\n",
       "  </tbody>\n",
       "</table>\n",
       "<p>5 rows × 33 columns</p>\n",
       "</div>"
      ],
      "text/plain": [
       "         GEO_ID  u_tot_E  u_tot_M  B25024_002E  B25024_002M  B25024_003E  \\\n",
       "0  040130101021    487.0    166.0        487.0        166.0          0.0   \n",
       "1  040130101022    980.0    192.0        980.0        192.0          0.0   \n",
       "2  040130101023   2062.0    268.0       1966.0        276.0         96.0   \n",
       "3  040130101031    999.0    253.0        957.0        257.0          0.0   \n",
       "4  040130101032    794.0    173.0        703.0        158.0          0.0   \n",
       "\n",
       "   B25024_003M  B25024_004E  B25024_004M  B25024_005E  ...   u_1_E  \\\n",
       "0         13.0          0.0         13.0          0.0  ...   487.0   \n",
       "1         13.0          0.0         13.0          0.0  ...   980.0   \n",
       "2         90.0          0.0         13.0          0.0  ...  2062.0   \n",
       "3         13.0          0.0         13.0          0.0  ...   957.0   \n",
       "4         13.0          0.0         13.0          0.0  ...   703.0   \n",
       "\n",
       "        u_1_M  u_24_E     u_24_M  u_520_E    u_520_M  u_o20_E    u_o20_M  \\\n",
       "0  166.508258     0.0  18.384776      0.0  18.384776      0.0  18.384776   \n",
       "1  192.439601     0.0  18.384776      0.0  18.384776      0.0  18.384776   \n",
       "2  290.303290     0.0  18.384776      0.0  18.384776      0.0  18.384776   \n",
       "3  257.328584     0.0  18.384776      0.0  18.384776      0.0  18.384776   \n",
       "4  158.533908     0.0  18.384776      0.0  18.384776     26.0  40.162171   \n",
       "\n",
       "   u_oth_E    u_oth_M  \n",
       "0      0.0  18.384776  \n",
       "1      0.0  18.384776  \n",
       "2      0.0  18.384776  \n",
       "3     42.0  66.287254  \n",
       "4     65.0  98.858485  \n",
       "\n",
       "[5 rows x 33 columns]"
      ]
     },
     "execution_count": 28,
     "metadata": {},
     "output_type": "execute_result"
    }
   ],
   "source": [
    "df.head()"
   ]
  },
  {
   "cell_type": "code",
   "execution_count": 24,
   "metadata": {},
   "outputs": [
    {
     "ename": "AttributeError",
     "evalue": "'NoneType' object has no attribute 'columns'",
     "output_type": "error",
     "traceback": [
      "\u001b[0;31m---------------------------------------------------------------------------\u001b[0m",
      "\u001b[0;31mAttributeError\u001b[0m                            Traceback (most recent call last)",
      "\u001b[0;32m<ipython-input-24-e82b7dd993d3>\u001b[0m in \u001b[0;36m<module>\u001b[0;34m\u001b[0m\n\u001b[0;32m----> 1\u001b[0;31m \u001b[0mdff\u001b[0m \u001b[0;34m=\u001b[0m \u001b[0mgroup_bsize\u001b[0m\u001b[0;34m(\u001b[0m\u001b[0mdf\u001b[0m\u001b[0;34m,\u001b[0m\u001b[0my1\u001b[0m\u001b[0;34m)\u001b[0m\u001b[0;34m\u001b[0m\u001b[0;34m\u001b[0m\u001b[0m\n\u001b[0m",
      "\u001b[0;32m<ipython-input-15-d82df7ce796a>\u001b[0m in \u001b[0;36mgroup_bsize\u001b[0;34m(df, year)\u001b[0m\n\u001b[1;32m     14\u001b[0m \u001b[0;34m\u001b[0m\u001b[0m\n\u001b[1;32m     15\u001b[0m     \u001b[0;31m#add end-year into column name\u001b[0m\u001b[0;34m\u001b[0m\u001b[0;34m\u001b[0m\u001b[0;34m\u001b[0m\u001b[0m\n\u001b[0;32m---> 16\u001b[0;31m     \u001b[0;32mfor\u001b[0m \u001b[0mcol\u001b[0m \u001b[0;32min\u001b[0m \u001b[0mdf\u001b[0m\u001b[0;34m.\u001b[0m\u001b[0mcolumns\u001b[0m\u001b[0;34m[\u001b[0m\u001b[0;36m1\u001b[0m\u001b[0;34m:\u001b[0m\u001b[0;34m]\u001b[0m\u001b[0;34m:\u001b[0m\u001b[0;34m\u001b[0m\u001b[0;34m\u001b[0m\u001b[0m\n\u001b[0m\u001b[1;32m     17\u001b[0m         \u001b[0mdf\u001b[0m\u001b[0;34m.\u001b[0m\u001b[0mrename\u001b[0m\u001b[0;34m(\u001b[0m\u001b[0mcolumns\u001b[0m\u001b[0;34m=\u001b[0m\u001b[0;34m{\u001b[0m\u001b[0mcol\u001b[0m\u001b[0;34m:\u001b[0m\u001b[0;34mf'{col[:-1]}{year[-2:]}{col[-1:]}'\u001b[0m\u001b[0;34m}\u001b[0m\u001b[0;34m,\u001b[0m\u001b[0minplace\u001b[0m\u001b[0;34m=\u001b[0m\u001b[0;32mTrue\u001b[0m\u001b[0;34m)\u001b[0m\u001b[0;34m\u001b[0m\u001b[0;34m\u001b[0m\u001b[0m\n\u001b[1;32m     18\u001b[0m     \u001b[0;32mreturn\u001b[0m \u001b[0mdf\u001b[0m\u001b[0;34m\u001b[0m\u001b[0;34m\u001b[0m\u001b[0m\n",
      "\u001b[0;31mAttributeError\u001b[0m: 'NoneType' object has no attribute 'columns'"
     ]
    }
   ],
   "source": [
    "dff = group_bsize(df,y1)"
   ]
  },
  {
   "cell_type": "code",
   "execution_count": null,
   "metadata": {},
   "outputs": [],
   "source": [
    "dff.head()"
   ]
  },
  {
   "cell_type": "code",
   "execution_count": 23,
   "metadata": {},
   "outputs": [
    {
     "data": {
      "text/html": [
       "<div>\n",
       "<style scoped>\n",
       "    .dataframe tbody tr th:only-of-type {\n",
       "        vertical-align: middle;\n",
       "    }\n",
       "\n",
       "    .dataframe tbody tr th {\n",
       "        vertical-align: top;\n",
       "    }\n",
       "\n",
       "    .dataframe thead th {\n",
       "        text-align: right;\n",
       "    }\n",
       "</style>\n",
       "<table border=\"1\" class=\"dataframe\">\n",
       "  <thead>\n",
       "    <tr style=\"text-align: right;\">\n",
       "      <th></th>\n",
       "      <th>GEO_ID</th>\n",
       "      <th>B25024_001E</th>\n",
       "      <th>B25024_001M</th>\n",
       "      <th>B25024_002E</th>\n",
       "      <th>B25024_002M</th>\n",
       "      <th>B25024_003E</th>\n",
       "      <th>B25024_003M</th>\n",
       "      <th>B25024_004E</th>\n",
       "      <th>B25024_004M</th>\n",
       "      <th>B25024_005E</th>\n",
       "      <th>...</th>\n",
       "      <th>B25024_007E</th>\n",
       "      <th>B25024_007M</th>\n",
       "      <th>B25024_008E</th>\n",
       "      <th>B25024_008M</th>\n",
       "      <th>B25024_009E</th>\n",
       "      <th>B25024_009M</th>\n",
       "      <th>B25024_010E</th>\n",
       "      <th>B25024_010M</th>\n",
       "      <th>B25024_011E</th>\n",
       "      <th>B25024_011M</th>\n",
       "    </tr>\n",
       "  </thead>\n",
       "  <tbody>\n",
       "    <tr>\n",
       "      <th>0</th>\n",
       "      <td>040130101021</td>\n",
       "      <td>487.0</td>\n",
       "      <td>166.0</td>\n",
       "      <td>487.0</td>\n",
       "      <td>166.0</td>\n",
       "      <td>0.0</td>\n",
       "      <td>13.0</td>\n",
       "      <td>0.0</td>\n",
       "      <td>13.0</td>\n",
       "      <td>0.0</td>\n",
       "      <td>...</td>\n",
       "      <td>0.0</td>\n",
       "      <td>13.0</td>\n",
       "      <td>0.0</td>\n",
       "      <td>13.0</td>\n",
       "      <td>0.0</td>\n",
       "      <td>13.0</td>\n",
       "      <td>0.0</td>\n",
       "      <td>13.0</td>\n",
       "      <td>0.0</td>\n",
       "      <td>13.0</td>\n",
       "    </tr>\n",
       "    <tr>\n",
       "      <th>1</th>\n",
       "      <td>040130101022</td>\n",
       "      <td>980.0</td>\n",
       "      <td>192.0</td>\n",
       "      <td>980.0</td>\n",
       "      <td>192.0</td>\n",
       "      <td>0.0</td>\n",
       "      <td>13.0</td>\n",
       "      <td>0.0</td>\n",
       "      <td>13.0</td>\n",
       "      <td>0.0</td>\n",
       "      <td>...</td>\n",
       "      <td>0.0</td>\n",
       "      <td>13.0</td>\n",
       "      <td>0.0</td>\n",
       "      <td>13.0</td>\n",
       "      <td>0.0</td>\n",
       "      <td>13.0</td>\n",
       "      <td>0.0</td>\n",
       "      <td>13.0</td>\n",
       "      <td>0.0</td>\n",
       "      <td>13.0</td>\n",
       "    </tr>\n",
       "    <tr>\n",
       "      <th>2</th>\n",
       "      <td>040130101023</td>\n",
       "      <td>2062.0</td>\n",
       "      <td>268.0</td>\n",
       "      <td>1966.0</td>\n",
       "      <td>276.0</td>\n",
       "      <td>96.0</td>\n",
       "      <td>90.0</td>\n",
       "      <td>0.0</td>\n",
       "      <td>13.0</td>\n",
       "      <td>0.0</td>\n",
       "      <td>...</td>\n",
       "      <td>0.0</td>\n",
       "      <td>13.0</td>\n",
       "      <td>0.0</td>\n",
       "      <td>13.0</td>\n",
       "      <td>0.0</td>\n",
       "      <td>13.0</td>\n",
       "      <td>0.0</td>\n",
       "      <td>13.0</td>\n",
       "      <td>0.0</td>\n",
       "      <td>13.0</td>\n",
       "    </tr>\n",
       "    <tr>\n",
       "      <th>3</th>\n",
       "      <td>040130101031</td>\n",
       "      <td>999.0</td>\n",
       "      <td>253.0</td>\n",
       "      <td>957.0</td>\n",
       "      <td>257.0</td>\n",
       "      <td>0.0</td>\n",
       "      <td>13.0</td>\n",
       "      <td>0.0</td>\n",
       "      <td>13.0</td>\n",
       "      <td>0.0</td>\n",
       "      <td>...</td>\n",
       "      <td>0.0</td>\n",
       "      <td>13.0</td>\n",
       "      <td>0.0</td>\n",
       "      <td>13.0</td>\n",
       "      <td>0.0</td>\n",
       "      <td>13.0</td>\n",
       "      <td>42.0</td>\n",
       "      <td>65.0</td>\n",
       "      <td>0.0</td>\n",
       "      <td>13.0</td>\n",
       "    </tr>\n",
       "    <tr>\n",
       "      <th>4</th>\n",
       "      <td>040130101032</td>\n",
       "      <td>794.0</td>\n",
       "      <td>173.0</td>\n",
       "      <td>703.0</td>\n",
       "      <td>158.0</td>\n",
       "      <td>0.0</td>\n",
       "      <td>13.0</td>\n",
       "      <td>0.0</td>\n",
       "      <td>13.0</td>\n",
       "      <td>0.0</td>\n",
       "      <td>...</td>\n",
       "      <td>0.0</td>\n",
       "      <td>13.0</td>\n",
       "      <td>26.0</td>\n",
       "      <td>38.0</td>\n",
       "      <td>0.0</td>\n",
       "      <td>13.0</td>\n",
       "      <td>65.0</td>\n",
       "      <td>98.0</td>\n",
       "      <td>0.0</td>\n",
       "      <td>13.0</td>\n",
       "    </tr>\n",
       "  </tbody>\n",
       "</table>\n",
       "<p>5 rows × 23 columns</p>\n",
       "</div>"
      ],
      "text/plain": [
       "         GEO_ID  B25024_001E  B25024_001M  B25024_002E  B25024_002M  \\\n",
       "0  040130101021        487.0        166.0        487.0        166.0   \n",
       "1  040130101022        980.0        192.0        980.0        192.0   \n",
       "2  040130101023       2062.0        268.0       1966.0        276.0   \n",
       "3  040130101031        999.0        253.0        957.0        257.0   \n",
       "4  040130101032        794.0        173.0        703.0        158.0   \n",
       "\n",
       "   B25024_003E  B25024_003M  B25024_004E  B25024_004M  B25024_005E  ...  \\\n",
       "0          0.0         13.0          0.0         13.0          0.0  ...   \n",
       "1          0.0         13.0          0.0         13.0          0.0  ...   \n",
       "2         96.0         90.0          0.0         13.0          0.0  ...   \n",
       "3          0.0         13.0          0.0         13.0          0.0  ...   \n",
       "4          0.0         13.0          0.0         13.0          0.0  ...   \n",
       "\n",
       "   B25024_007E  B25024_007M  B25024_008E  B25024_008M  B25024_009E  \\\n",
       "0          0.0         13.0          0.0         13.0          0.0   \n",
       "1          0.0         13.0          0.0         13.0          0.0   \n",
       "2          0.0         13.0          0.0         13.0          0.0   \n",
       "3          0.0         13.0          0.0         13.0          0.0   \n",
       "4          0.0         13.0         26.0         38.0          0.0   \n",
       "\n",
       "   B25024_009M  B25024_010E  B25024_010M  B25024_011E  B25024_011M  \n",
       "0         13.0          0.0         13.0          0.0         13.0  \n",
       "1         13.0          0.0         13.0          0.0         13.0  \n",
       "2         13.0          0.0         13.0          0.0         13.0  \n",
       "3         13.0         42.0         65.0          0.0         13.0  \n",
       "4         13.0         65.0         98.0          0.0         13.0  \n",
       "\n",
       "[5 rows x 23 columns]"
      ]
     },
     "execution_count": 23,
     "metadata": {},
     "output_type": "execute_result"
    }
   ],
   "source": [
    "df.head()"
   ]
  },
  {
   "cell_type": "code",
   "execution_count": 19,
   "metadata": {
    "scrolled": true
   },
   "outputs": [
    {
     "ename": "AttributeError",
     "evalue": "'NoneType' object has no attribute 'columns'",
     "output_type": "error",
     "traceback": [
      "\u001b[0;31m---------------------------------------------------------------------------\u001b[0m",
      "\u001b[0;31mAttributeError\u001b[0m                            Traceback (most recent call last)",
      "\u001b[0;32m<ipython-input-19-7a85680af78a>\u001b[0m in \u001b[0;36m<module>\u001b[0;34m\u001b[0m\n\u001b[0;32m----> 1\u001b[0;31m \u001b[0mdfY1\u001b[0m \u001b[0;34m=\u001b[0m \u001b[0mmake_uvil\u001b[0m\u001b[0;34m(\u001b[0m\u001b[0mbgp_20\u001b[0m\u001b[0;34m,\u001b[0m\u001b[0my1\u001b[0m\u001b[0;34m)\u001b[0m\u001b[0;34m\u001b[0m\u001b[0;34m\u001b[0m\u001b[0m\n\u001b[0m",
      "\u001b[0;32m<ipython-input-18-0b289801ab4b>\u001b[0m in \u001b[0;36mmake_uvil\u001b[0;34m(geo_df, year)\u001b[0m\n\u001b[1;32m      4\u001b[0m     \u001b[0mdf\u001b[0m \u001b[0;34m=\u001b[0m \u001b[0mdf\u001b[0m\u001b[0;34m[\u001b[0m\u001b[0;34m[\u001b[0m\u001b[0;34m'GEO_ID'\u001b[0m\u001b[0;34m]\u001b[0m\u001b[0;34m+\u001b[0m\u001b[0;34m[\u001b[0m\u001b[0mcol\u001b[0m \u001b[0;32mfor\u001b[0m \u001b[0mcol\u001b[0m \u001b[0;32min\u001b[0m \u001b[0mdf\u001b[0m\u001b[0;34m.\u001b[0m\u001b[0mcolumns\u001b[0m \u001b[0;32mif\u001b[0m \u001b[0mcol\u001b[0m \u001b[0;34m!=\u001b[0m \u001b[0;34m'GEO_ID'\u001b[0m\u001b[0;34m]\u001b[0m\u001b[0;34m]\u001b[0m \u001b[0;31m#move id to first col\u001b[0m\u001b[0;34m\u001b[0m\u001b[0;34m\u001b[0m\u001b[0m\n\u001b[1;32m      5\u001b[0m     \u001b[0mdf\u001b[0m \u001b[0;34m=\u001b[0m \u001b[0mget\u001b[0m\u001b[0;34m.\u001b[0m\u001b[0mclean_data\u001b[0m\u001b[0;34m(\u001b[0m\u001b[0mdf\u001b[0m\u001b[0;34m,\u001b[0m\u001b[0mdf\u001b[0m\u001b[0;34m.\u001b[0m\u001b[0mcolumns\u001b[0m\u001b[0;34m)\u001b[0m\u001b[0;34m\u001b[0m\u001b[0;34m\u001b[0m\u001b[0m\n\u001b[0;32m----> 6\u001b[0;31m     \u001b[0mdf\u001b[0m \u001b[0;34m=\u001b[0m \u001b[0mgroup_bsize\u001b[0m\u001b[0;34m(\u001b[0m\u001b[0mdf\u001b[0m\u001b[0;34m,\u001b[0m\u001b[0myear\u001b[0m\u001b[0;34m)\u001b[0m\u001b[0;34m\u001b[0m\u001b[0;34m\u001b[0m\u001b[0m\n\u001b[0m\u001b[1;32m      7\u001b[0m     \u001b[0mdf\u001b[0m \u001b[0;34m=\u001b[0m \u001b[0mpd\u001b[0m\u001b[0;34m.\u001b[0m\u001b[0mmerge\u001b[0m\u001b[0;34m(\u001b[0m\u001b[0mgeo_df\u001b[0m\u001b[0;34m,\u001b[0m\u001b[0mdf\u001b[0m\u001b[0;34m,\u001b[0m\u001b[0mhow\u001b[0m\u001b[0;34m=\u001b[0m\u001b[0;34m'left'\u001b[0m\u001b[0;34m,\u001b[0m\u001b[0mleft_on\u001b[0m\u001b[0;34m=\u001b[0m\u001b[0;34m'geoid'\u001b[0m\u001b[0;34m,\u001b[0m\u001b[0mright_on\u001b[0m\u001b[0;34m=\u001b[0m\u001b[0;34m'GEO_ID'\u001b[0m\u001b[0;34m)\u001b[0m\u001b[0;34m\u001b[0m\u001b[0;34m\u001b[0m\u001b[0m\n\u001b[1;32m      8\u001b[0m     \u001b[0mdf\u001b[0m \u001b[0;34m=\u001b[0m \u001b[0mdf\u001b[0m\u001b[0;34m.\u001b[0m\u001b[0mdrop\u001b[0m\u001b[0;34m(\u001b[0m\u001b[0;34m[\u001b[0m\u001b[0;34m'geoid'\u001b[0m\u001b[0;34m,\u001b[0m\u001b[0;34m'GEO_ID'\u001b[0m\u001b[0;34m]\u001b[0m\u001b[0;34m,\u001b[0m\u001b[0maxis\u001b[0m\u001b[0;34m=\u001b[0m\u001b[0;36m1\u001b[0m\u001b[0;34m)\u001b[0m\u001b[0;34m\u001b[0m\u001b[0;34m\u001b[0m\u001b[0m\n",
      "\u001b[0;32m<ipython-input-15-d82df7ce796a>\u001b[0m in \u001b[0;36mgroup_bsize\u001b[0;34m(df, year)\u001b[0m\n\u001b[1;32m     14\u001b[0m \u001b[0;34m\u001b[0m\u001b[0m\n\u001b[1;32m     15\u001b[0m     \u001b[0;31m#add end-year into column name\u001b[0m\u001b[0;34m\u001b[0m\u001b[0;34m\u001b[0m\u001b[0;34m\u001b[0m\u001b[0m\n\u001b[0;32m---> 16\u001b[0;31m     \u001b[0;32mfor\u001b[0m \u001b[0mcol\u001b[0m \u001b[0;32min\u001b[0m \u001b[0mdf\u001b[0m\u001b[0;34m.\u001b[0m\u001b[0mcolumns\u001b[0m\u001b[0;34m[\u001b[0m\u001b[0;36m1\u001b[0m\u001b[0;34m:\u001b[0m\u001b[0;34m]\u001b[0m\u001b[0;34m:\u001b[0m\u001b[0;34m\u001b[0m\u001b[0;34m\u001b[0m\u001b[0m\n\u001b[0m\u001b[1;32m     17\u001b[0m         \u001b[0mdf\u001b[0m\u001b[0;34m.\u001b[0m\u001b[0mrename\u001b[0m\u001b[0;34m(\u001b[0m\u001b[0mcolumns\u001b[0m\u001b[0;34m=\u001b[0m\u001b[0;34m{\u001b[0m\u001b[0mcol\u001b[0m\u001b[0;34m:\u001b[0m\u001b[0;34mf'{col[:-1]}{year[-2:]}{col[-1:]}'\u001b[0m\u001b[0;34m}\u001b[0m\u001b[0;34m,\u001b[0m\u001b[0minplace\u001b[0m\u001b[0;34m=\u001b[0m\u001b[0;32mTrue\u001b[0m\u001b[0;34m)\u001b[0m\u001b[0;34m\u001b[0m\u001b[0;34m\u001b[0m\u001b[0m\n\u001b[1;32m     18\u001b[0m     \u001b[0;32mreturn\u001b[0m \u001b[0mdf\u001b[0m\u001b[0;34m\u001b[0m\u001b[0;34m\u001b[0m\u001b[0m\n",
      "\u001b[0;31mAttributeError\u001b[0m: 'NoneType' object has no attribute 'columns'"
     ]
    }
   ],
   "source": [
    "dfY1 = make_uvil(bgp_20,y1)"
   ]
  },
  {
   "cell_type": "code",
   "execution_count": 20,
   "metadata": {},
   "outputs": [
    {
     "ename": "NameError",
     "evalue": "name 'dfY1' is not defined",
     "output_type": "error",
     "traceback": [
      "\u001b[0;31m---------------------------------------------------------------------------\u001b[0m",
      "\u001b[0;31mNameError\u001b[0m                                 Traceback (most recent call last)",
      "\u001b[0;32m<ipython-input-20-0178f335e1a7>\u001b[0m in \u001b[0;36m<module>\u001b[0;34m\u001b[0m\n\u001b[0;32m----> 1\u001b[0;31m \u001b[0mdfY1\u001b[0m\u001b[0;34m\u001b[0m\u001b[0;34m\u001b[0m\u001b[0m\n\u001b[0m",
      "\u001b[0;31mNameError\u001b[0m: name 'dfY1' is not defined"
     ]
    }
   ],
   "source": [
    "dfY1"
   ]
  },
  {
   "cell_type": "code",
   "execution_count": null,
   "metadata": {},
   "outputs": [],
   "source": []
  },
  {
   "cell_type": "code",
   "execution_count": null,
   "metadata": {},
   "outputs": [],
   "source": []
  },
  {
   "cell_type": "markdown",
   "metadata": {},
   "source": [
    "### County + Subregion - Year 0 & Year1"
   ]
  },
  {
   "cell_type": "code",
   "execution_count": null,
   "metadata": {
    "scrolled": true
   },
   "outputs": [],
   "source": [
    "c_y0 = get.get_county(p,source,years[0],col)\n",
    "c_y1 = get.get_county(p,source,years[1],col)"
   ]
  },
  {
   "cell_type": "code",
   "execution_count": null,
   "metadata": {},
   "outputs": [],
   "source": [
    "c_y0 = group_bsize(c_y0,years[0])\n",
    "c_y1 = group_bsize(c_y1,years[1])"
   ]
  },
  {
   "cell_type": "code",
   "execution_count": null,
   "metadata": {},
   "outputs": [],
   "source": [
    "cou = pd.merge(c_y0,c_y1,on='GEO_ID')\n",
    "cou.head()"
   ]
  },
  {
   "cell_type": "code",
   "execution_count": null,
   "metadata": {},
   "outputs": [],
   "source": [
    "cou['sub'] = cou['GEO_ID'].map(sub_7)"
   ]
  },
  {
   "cell_type": "code",
   "execution_count": null,
   "metadata": {},
   "outputs": [],
   "source": [
    "subreg = cou.drop('GEO_ID',axis=1).copy()\n",
    "subreg = subreg[['sub']+[col for col in subreg.columns if col !='sub']]\n",
    "subreg = geo_agg.sumgeo_cv(subreg,'sub')\n",
    "subreg = subreg.rename({'sub':'GEO_ID'},axis=1)"
   ]
  },
  {
   "cell_type": "code",
   "execution_count": null,
   "metadata": {},
   "outputs": [],
   "source": [
    "subreg"
   ]
  },
  {
   "cell_type": "code",
   "execution_count": null,
   "metadata": {},
   "outputs": [],
   "source": [
    "subreg.columns"
   ]
  },
  {
   "cell_type": "code",
   "execution_count": null,
   "metadata": {
    "scrolled": true
   },
   "outputs": [],
   "source": [
    "cousubreg = pd.concat([cou,subreg])"
   ]
  },
  {
   "cell_type": "code",
   "execution_count": null,
   "metadata": {},
   "outputs": [],
   "source": [
    "cousubreg.head()"
   ]
  },
  {
   "cell_type": "markdown",
   "metadata": {},
   "source": [
    "### Subplace - Year 0"
   ]
  },
  {
   "cell_type": "code",
   "execution_count": null,
   "metadata": {
    "scrolled": false
   },
   "outputs": [],
   "source": [
    "#all ny places,reduce to just li places\n",
    "pl_y0 = get.get_place(p,source,years[0],col)\n",
    "pl_y0 = pl_y0[pl_y0['GEO_ID'].isin(subpl10)]\n",
    "#all mcds in region\n",
    "mcd_y0 = get.get_mcd(p,source,years[0],col)\n",
    "#combine and clean\n",
    "df_y0 = pd.concat([pl_y0,mcd_y0])\n",
    "df_y0 = group_bsize(df_y0,years[0])"
   ]
  },
  {
   "cell_type": "markdown",
   "metadata": {},
   "source": [
    "### Subplace Year 1"
   ]
  },
  {
   "cell_type": "code",
   "execution_count": null,
   "metadata": {},
   "outputs": [],
   "source": [
    "#all ny places,reduce to just li places\n",
    "pl_y1 = get.get_place(p,source,years[1],col)\n",
    "pl_y1 = pl_y1[pl_y1['GEO_ID'].isin(liplaces19)]\n",
    "#all mcds in region\n",
    "mcd_y1 = get.get_mcd(p,source,years[1],col)\n",
    "#combine and clean\n",
    "df_y1 = pd.concat([pl_y1,mcd_y1])\n",
    "df_y1 = group_bsize(df_y1,years[1])"
   ]
  },
  {
   "cell_type": "markdown",
   "metadata": {},
   "source": [
    "### Census Tract - Year 0"
   ]
  },
  {
   "cell_type": "code",
   "execution_count": null,
   "metadata": {},
   "outputs": [],
   "source": [
    "ct_y0 = get.get_tract(p,source,years[0],col)\n",
    "ct_y0 = group_bsize(ct_y0,years[0])"
   ]
  },
  {
   "cell_type": "markdown",
   "metadata": {},
   "source": [
    "### Census Tract - Year 1"
   ]
  },
  {
   "cell_type": "code",
   "execution_count": null,
   "metadata": {},
   "outputs": [],
   "source": [
    "ct_y1 = get.get_tract(p,source,years[1],col)\n",
    "ct_y1 = group_bsize(ct_y1,years[1])"
   ]
  },
  {
   "cell_type": "code",
   "execution_count": null,
   "metadata": {},
   "outputs": [],
   "source": [
    "ct_y1.head()"
   ]
  },
  {
   "cell_type": "markdown",
   "metadata": {},
   "source": [
    "## Export files to Excel"
   ]
  },
  {
   "cell_type": "code",
   "execution_count": null,
   "metadata": {},
   "outputs": [],
   "source": [
    "cousubreg.to_excel(f'../../output/Housing/BuildSize_ACS_cousubreg_{years[0]}{years[1]}.xlsx',index=False)"
   ]
  },
  {
   "cell_type": "code",
   "execution_count": null,
   "metadata": {},
   "outputs": [],
   "source": [
    "ct_y1.to_excel(f'../output/Housing/BuildSize_ACS_tract_{years[1]}.xlsx',index=False)"
   ]
  }
 ],
 "metadata": {
  "kernelspec": {
   "display_name": "Python 3",
   "language": "python",
   "name": "python3"
  },
  "language_info": {
   "codemirror_mode": {
    "name": "ipython",
    "version": 3
   },
   "file_extension": ".py",
   "mimetype": "text/x-python",
   "name": "python",
   "nbconvert_exporter": "python",
   "pygments_lexer": "ipython3",
   "version": "3.8.5"
  }
 },
 "nbformat": 4,
 "nbformat_minor": 2
}
