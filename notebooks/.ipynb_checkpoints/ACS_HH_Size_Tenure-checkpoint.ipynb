{
 "cells": [
  {
   "cell_type": "markdown",
   "metadata": {},
   "source": [
    "# ACS Average Household Size & Distribution by Tenure in Phoenix Urban Villages, and City of Phoenix\n",
    "\n",
    "- https://www.census.gov/data/developers/data-sets/acs-5year.html\n",
    "\n",
    "For population by tenure and households by size and tenure\n",
    "- https://api.census.gov/data/2013/acs/acs5/variables.html\n",
    "- https://api.census.gov/data/2021/acs/acs5/variables.html\n",
    "\n",
    "** Note: Census Block Groups (which are aggregated to Phoenix Urban Village areas) are not available until 2013. "
   ]
  },
  {
   "cell_type": "code",
   "execution_count": null,
   "metadata": {},
   "outputs": [],
   "source": [
    "import pandas as pd\n",
    "import math\n",
    "import numpy as np\n",
    "import os"
   ]
  },
  {
   "cell_type": "code",
   "execution_count": null,
   "metadata": {},
   "outputs": [],
   "source": [
    "import get_acs as get\n",
    "import utilcalcs as calc\n",
    "import geo_agg\n",
    "from acs_hhsize_vars import *"
   ]
  },
  {
   "cell_type": "code",
   "execution_count": null,
   "metadata": {},
   "outputs": [],
   "source": [
    "bgp_10 = pd.read_csv('../data/geo/bgp_vil_10.csv')\n",
    "bgp_20 = pd.read_csv('../data/geo/bgp_vil_20.csv')\n",
    "for df in [bgp_10,bgp_20]: df.geoid = df.geoid.apply(lambda x: '{0:0>12}'.format(x))\n",
    "    \n",
    "#get ride of area & geo stuff not being useed\n",
    "bgp_20 = bgp_20.drop(['aland20','awater20','lat20','lon20','land_acre'],axis=1)\n",
    "bgp_10 = bgp_10.drop(['aland10','awater10','lat10','lon10','land_acre'],axis=1)"
   ]
  },
  {
   "cell_type": "code",
   "execution_count": null,
   "metadata": {},
   "outputs": [],
   "source": [
    "#Search parameters - NOTE DIFFERENT VARIABLE # ASSIGNMENTS IN 2010 VS 2020\n",
    "y1 = '2021'\n",
    "y0 = '2013'\n",
    "\n",
    "cols_pop = 'GEO_ID,group(B25008)'\n",
    "cols_hou = 'GEO_ID,group(B25009)'\n",
    "\n",
    "source = 'acs/acs5'"
   ]
  },
  {
   "cell_type": "markdown",
   "metadata": {},
   "source": [
    "#### Population by tenure"
   ]
  },
  {
   "cell_type": "code",
   "execution_count": null,
   "metadata": {
    "scrolled": true
   },
   "outputs": [],
   "source": [
    "def make_pop_ten(geo_df,year):\n",
    "    df = get.get_bgp(source,year,cols_pop)\n",
    "    df.rename(columns=ten_rename,inplace=True)\n",
    "    df = df.filter(regex='(?<!A)$',axis=1) #drop non-estimate columns\n",
    "    df = get.clean_data(df,['GEO_ID']+list(ten_rename.values()))\n",
    "    df = pd.merge(geo_df,df,how='left',left_on='geoid',right_on='GEO_ID')\n",
    "    df = df.drop(['geoid','GEO_ID'],axis=1)\n",
    "    df = geo_agg.sumgeo_cv(df,'name')\n",
    "    for col in df.columns[1:]:\n",
    "        df.rename(columns={col:f'{col[:-1]}{year[-2:]}{col[-1:]}'},inplace=True)\n",
    "    return df"
   ]
  },
  {
   "cell_type": "code",
   "execution_count": null,
   "metadata": {},
   "outputs": [],
   "source": [
    "py1 = make_pop_ten(bgp_20,y1)\n",
    "py0 = make_pop_ten(bgp_10,y0)"
   ]
  },
  {
   "cell_type": "markdown",
   "metadata": {},
   "source": [
    "#### Households by tenure"
   ]
  },
  {
   "cell_type": "code",
   "execution_count": null,
   "metadata": {},
   "outputs": [],
   "source": [
    "def make_hh_ten(geo_df,year):\n",
    "    df = get.get_bgp(source,year,cols_hou)\n",
    "    df.rename(columns=hh_rename,inplace=True)\n",
    "    df = df[['GEO_ID','h_tot_E','h_tot_M','h_otot_E',\\\n",
    "           'h_otot_M','h_rtot_E','h_rtot_M']] #take only total households\n",
    "    df = get.clean_data(df,df.columns)\n",
    "    df = pd.merge(geo_df,df,how='left',left_on='geoid',right_on='GEO_ID')\n",
    "    df = df.drop(['geoid','GEO_ID'],axis=1)\n",
    "    df = geo_agg.sumgeo_cv(df,'name')\n",
    "    for col in df.columns[1:]:\n",
    "        df.rename(columns={col:f'{col[:-1]}{year[-2:]}{col[-1:]}'},inplace=True)\n",
    "    return df"
   ]
  },
  {
   "cell_type": "code",
   "execution_count": null,
   "metadata": {},
   "outputs": [],
   "source": [
    "hy1 = make_hh_ten(bgp_20,y1)\n",
    "hy0 = make_hh_ten(bgp_10,y0)"
   ]
  },
  {
   "cell_type": "markdown",
   "metadata": {},
   "source": [
    "### Average Household size in y1 and  y0"
   ]
  },
  {
   "cell_type": "code",
   "execution_count": null,
   "metadata": {},
   "outputs": [],
   "source": [
    "def make_avg(df1,df2,year,merge_id):\n",
    "    df = pd.merge(df1,df2,how='left',on=merge_id)\n",
    "    df[f'a_tot_{year[-2:]}E'] = df[f'p_tot_{year[-2:]}E'] / df[f'h_tot_{year[-2:]}E'] \n",
    "    df[f'a_otot_{year[-2:]}E'] = df[f'p_o_{year[-2:]}E'] / df[f'h_otot_{year[-2:]}E']\n",
    "    df[f'a_rtot_{year[-2:]}E'] = df[f'p_r_{year[-2:]}E'] / df[f'h_rtot_{year[-2:]}E']\n",
    "    return df"
   ]
  },
  {
   "cell_type": "code",
   "execution_count": null,
   "metadata": {},
   "outputs": [],
   "source": [
    "avgy1 = make_avg(py1,hy1,y1,'name')\n",
    "avgy0 = make_avg(py0,hy0,y0,'name')"
   ]
  },
  {
   "cell_type": "code",
   "execution_count": null,
   "metadata": {},
   "outputs": [],
   "source": [
    "avg_vil = pd.merge(avgy1,avgy0,how='left',on='name')"
   ]
  },
  {
   "cell_type": "code",
   "execution_count": null,
   "metadata": {
    "scrolled": true
   },
   "outputs": [],
   "source": [
    "avg_vil.head(3)"
   ]
  },
  {
   "cell_type": "markdown",
   "metadata": {},
   "source": [
    "### Make Phoenix & U.S. function"
   ]
  },
  {
   "cell_type": "code",
   "execution_count": null,
   "metadata": {
    "scrolled": true
   },
   "outputs": [],
   "source": [
    "def make_table(year,geo):\n",
    "    if geo == 'phoenix':\n",
    "        df = get.get_phx(source,year,cols_pop)\n",
    "        dff = get.get_phx(source,year,cols_hou)\n",
    "    elif geo == 'us':\n",
    "        df = get.get_us(source,year,cols_pop)\n",
    "        dff = get.get_us(source,year,cols_hou)\n",
    "    else:\n",
    "        pass\n",
    "    \n",
    "    df.rename(columns=ten_rename,inplace=True)\n",
    "    df = df.filter(regex='(?<!A)$',axis=1) #drop non-estimate columns\n",
    "    df = get.clean_data(df,['GEO_ID']+list(ten_rename.values()))\n",
    "    \n",
    "    dff.rename(columns=hh_rename,inplace=True)\n",
    "    dff = dff[['GEO_ID','h_tot_E','h_tot_M','h_otot_E',\\\n",
    "           'h_otot_M','h_rtot_E','h_rtot_M']] #take only total households\n",
    "    dff = get.clean_data(dff,dff.columns)\n",
    "    \n",
    "    for frame in [df,dff]:\n",
    "        for col in frame.columns[1:]:\n",
    "            frame.rename(columns={col:f'{col[:-1]}{year[-2:]}{col[-1:]}'},inplace=True)\n",
    "            \n",
    "    avg = make_avg(df,dff,year,'GEO_ID')\n",
    "    return avg"
   ]
  },
  {
   "cell_type": "markdown",
   "metadata": {},
   "source": [
    "## City of Phoenix"
   ]
  },
  {
   "cell_type": "code",
   "execution_count": null,
   "metadata": {},
   "outputs": [],
   "source": [
    "phx1 = make_table(y1,'phoenix')\n",
    "phx0 = make_table(y0,'phoenix')"
   ]
  },
  {
   "cell_type": "code",
   "execution_count": null,
   "metadata": {},
   "outputs": [],
   "source": [
    "avg_phx = pd.merge(phx1,phx0,how='left',on='GEO_ID')\n",
    "avg_phx"
   ]
  },
  {
   "cell_type": "markdown",
   "metadata": {},
   "source": [
    "## U.S."
   ]
  },
  {
   "cell_type": "code",
   "execution_count": null,
   "metadata": {},
   "outputs": [],
   "source": [
    "us1 = make_table(y1,'us')\n",
    "us0 = make_table(y0,'us')"
   ]
  },
  {
   "cell_type": "code",
   "execution_count": null,
   "metadata": {},
   "outputs": [],
   "source": [
    "avg_us = pd.merge(us1,us0,how='left',on='GEO_ID')\n",
    "avg_us"
   ]
  },
  {
   "cell_type": "code",
   "execution_count": null,
   "metadata": {},
   "outputs": [],
   "source": [
    "with pd.ExcelWriter(f'output/HH_size_ten.xlsx') as writer:\n",
    "    avg_vil.to_excel(writer, sheet_name=\"urban_village\", index=False)\n",
    "    avg_phx.to_excel(writer, sheet_name=\"phoenix\", index=False)\n",
    "    avg_us.to_excel(writer, sheet_name=\"us\", index=False)"
   ]
  }
 ],
 "metadata": {
  "kernelspec": {
   "display_name": "Python 3",
   "language": "python",
   "name": "python3"
  },
  "language_info": {
   "codemirror_mode": {
    "name": "ipython",
    "version": 3
   },
   "file_extension": ".py",
   "mimetype": "text/x-python",
   "name": "python",
   "nbconvert_exporter": "python",
   "pygments_lexer": "ipython3",
   "version": "3.8.5"
  }
 },
 "nbformat": 4,
 "nbformat_minor": 2
}
