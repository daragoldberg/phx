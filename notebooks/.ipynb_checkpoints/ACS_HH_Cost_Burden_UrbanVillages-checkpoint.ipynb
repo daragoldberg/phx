{
 "cells": [
  {
   "cell_type": "markdown",
   "metadata": {},
   "source": [
    "# ACS Cost Burden for Renters and Homeowners in Phoenix Urban Villages\n",
    "\n",
    "- https://www.census.gov/data/developers/data-sets/acs-5year.html\n",
    "\n",
    "For income as a percentage of rent, or owner costs for with and without a mortgage\n",
    "- https://api.census.gov/data/2010/acs/acs5/variables.html\n",
    "- https://api.census.gov/data/2021/acs/acs5/variables.html"
   ]
  },
  {
   "cell_type": "code",
   "execution_count": 1,
   "metadata": {},
   "outputs": [],
   "source": [
    "import pandas as pd\n",
    "import math\n",
    "import numpy as np\n",
    "import os"
   ]
  },
  {
   "cell_type": "code",
   "execution_count": 2,
   "metadata": {},
   "outputs": [],
   "source": [
    "import get_acs as get\n",
    "import utilcalcs as calc\n",
    "import geo_agg\n",
    "from acs_cost_vars import *"
   ]
  },
  {
   "cell_type": "code",
   "execution_count": 3,
   "metadata": {},
   "outputs": [],
   "source": [
    "bgp_10 = pd.read_csv('../data/geo/bgp_vil_10.csv')\n",
    "bgp_20 = pd.read_csv('../data/geo/bgp_vil_20.csv')\n",
    "for df in [bgp_10,bgp_20]: df.geoid = df.geoid.apply(lambda x: '{0:0>12}'.format(x))"
   ]
  },
  {
   "cell_type": "code",
   "execution_count": 4,
   "metadata": {},
   "outputs": [],
   "source": [
    "#Search parameters - NOTE DIFFERENT VARIABLE # ASSIGNMENTS IN 2010 VS 2020\n",
    "y1 = '2021'\n",
    "y0 = '2010'\n",
    "\n",
    "cols_rent = 'group(B25070)'\n",
    "cols_own = 'group(B25091)'\n",
    "\n",
    "source = 'acs/acs5'\n",
    "\n",
    "rent_vars = ['GEO_ID']+rent_vars  #imported from acs vars\n",
    "own_vars = ['GEO_ID']+own_vars    #\""
   ]
  },
  {
   "cell_type": "code",
   "execution_count": 5,
   "metadata": {},
   "outputs": [],
   "source": [
    "def group_rent(df,year):\n",
    "    df['r_u30_E'] = df.loc[:,r_u30_e].sum(axis=1)\n",
    "    df['r_u30_M'] = df.apply(lambda x: (calc.get_moe(x[r_u30_m])),axis=1)\n",
    "    df['r_3050_E'] = df.loc[:,r_3050_e].sum(axis=1)\n",
    "    df['r_3050_M'] = df.apply(lambda x: (calc.get_moe(x[r_3050_m])),axis=1)\n",
    "    df = df.drop(r_u30_e+r_u30_m+r_3050_e+r_3050_m,axis=1).rename(\\\n",
    "                    {'B25070_001E':'r_tot_E','B25070_001M':'r_tot_M',\n",
    "                    'B25070_010E':'r_o50_E','B25070_010M':'r_o50_M',\n",
    "                    'B25070_011E':'r_na_E', 'B25070_011M':'r_na_M'},axis=1)\n",
    "    \n",
    "    for col in df.columns[1:]:\n",
    "        df.rename(columns={col:f'{col[:-1]}{year[-2:]}{col[-1:]}'},inplace=True)\n",
    "    return df\n",
    "    "
   ]
  },
  {
   "cell_type": "markdown",
   "metadata": {},
   "source": [
    "###  RENT BURDEN"
   ]
  },
  {
   "cell_type": "code",
   "execution_count": 6,
   "metadata": {
    "scrolled": true
   },
   "outputs": [],
   "source": [
    "dfY1 = get.get_bgp(source,y1,cols_rent)\n",
    "dfY1 = get.clean_data(dfY1,rent_vars)"
   ]
  },
  {
   "cell_type": "code",
   "execution_count": 7,
   "metadata": {},
   "outputs": [],
   "source": [
    "dfY1 = group_rent(dfY1,y1)"
   ]
  },
  {
   "cell_type": "code",
   "execution_count": 8,
   "metadata": {
    "scrolled": false
   },
   "outputs": [
    {
     "data": {
      "text/html": [
       "<div>\n",
       "<style scoped>\n",
       "    .dataframe tbody tr th:only-of-type {\n",
       "        vertical-align: middle;\n",
       "    }\n",
       "\n",
       "    .dataframe tbody tr th {\n",
       "        vertical-align: top;\n",
       "    }\n",
       "\n",
       "    .dataframe thead th {\n",
       "        text-align: right;\n",
       "    }\n",
       "</style>\n",
       "<table border=\"1\" class=\"dataframe\">\n",
       "  <thead>\n",
       "    <tr style=\"text-align: right;\">\n",
       "      <th></th>\n",
       "      <th>GEO_ID</th>\n",
       "      <th>r_tot_21E</th>\n",
       "      <th>r_tot_21M</th>\n",
       "      <th>r_o50_21E</th>\n",
       "      <th>r_o50_21M</th>\n",
       "      <th>r_na_21M</th>\n",
       "      <th>B25070_01121M</th>\n",
       "      <th>r_u30_21E</th>\n",
       "      <th>r_u30_21M</th>\n",
       "      <th>r_3050_21E</th>\n",
       "      <th>r_3050_21M</th>\n",
       "    </tr>\n",
       "  </thead>\n",
       "  <tbody>\n",
       "    <tr>\n",
       "      <th>0</th>\n",
       "      <td>040130101021</td>\n",
       "      <td>55.0</td>\n",
       "      <td>87.0</td>\n",
       "      <td>0.0</td>\n",
       "      <td>13.0</td>\n",
       "      <td>55.0</td>\n",
       "      <td>87.0</td>\n",
       "      <td>0.0</td>\n",
       "      <td>29.068884</td>\n",
       "      <td>0.0</td>\n",
       "      <td>22.51666</td>\n",
       "    </tr>\n",
       "    <tr>\n",
       "      <th>1</th>\n",
       "      <td>040130101022</td>\n",
       "      <td>17.0</td>\n",
       "      <td>36.0</td>\n",
       "      <td>0.0</td>\n",
       "      <td>13.0</td>\n",
       "      <td>17.0</td>\n",
       "      <td>36.0</td>\n",
       "      <td>0.0</td>\n",
       "      <td>29.068884</td>\n",
       "      <td>0.0</td>\n",
       "      <td>22.51666</td>\n",
       "    </tr>\n",
       "    <tr>\n",
       "      <th>2</th>\n",
       "      <td>040130101023</td>\n",
       "      <td>0.0</td>\n",
       "      <td>13.0</td>\n",
       "      <td>0.0</td>\n",
       "      <td>13.0</td>\n",
       "      <td>0.0</td>\n",
       "      <td>13.0</td>\n",
       "      <td>0.0</td>\n",
       "      <td>29.068884</td>\n",
       "      <td>0.0</td>\n",
       "      <td>22.51666</td>\n",
       "    </tr>\n",
       "    <tr>\n",
       "      <th>3</th>\n",
       "      <td>040130101031</td>\n",
       "      <td>125.0</td>\n",
       "      <td>95.0</td>\n",
       "      <td>66.0</td>\n",
       "      <td>68.0</td>\n",
       "      <td>0.0</td>\n",
       "      <td>13.0</td>\n",
       "      <td>59.0</td>\n",
       "      <td>73.898579</td>\n",
       "      <td>0.0</td>\n",
       "      <td>22.51666</td>\n",
       "    </tr>\n",
       "    <tr>\n",
       "      <th>4</th>\n",
       "      <td>040130101032</td>\n",
       "      <td>37.0</td>\n",
       "      <td>44.0</td>\n",
       "      <td>0.0</td>\n",
       "      <td>13.0</td>\n",
       "      <td>0.0</td>\n",
       "      <td>13.0</td>\n",
       "      <td>37.0</td>\n",
       "      <td>51.107729</td>\n",
       "      <td>0.0</td>\n",
       "      <td>22.51666</td>\n",
       "    </tr>\n",
       "  </tbody>\n",
       "</table>\n",
       "</div>"
      ],
      "text/plain": [
       "         GEO_ID  r_tot_21E  r_tot_21M  r_o50_21E  r_o50_21M  r_na_21M  \\\n",
       "0  040130101021       55.0       87.0        0.0       13.0      55.0   \n",
       "1  040130101022       17.0       36.0        0.0       13.0      17.0   \n",
       "2  040130101023        0.0       13.0        0.0       13.0       0.0   \n",
       "3  040130101031      125.0       95.0       66.0       68.0       0.0   \n",
       "4  040130101032       37.0       44.0        0.0       13.0       0.0   \n",
       "\n",
       "   B25070_01121M  r_u30_21E  r_u30_21M  r_3050_21E  r_3050_21M  \n",
       "0           87.0        0.0  29.068884         0.0    22.51666  \n",
       "1           36.0        0.0  29.068884         0.0    22.51666  \n",
       "2           13.0        0.0  29.068884         0.0    22.51666  \n",
       "3           13.0       59.0  73.898579         0.0    22.51666  \n",
       "4           13.0       37.0  51.107729         0.0    22.51666  "
      ]
     },
     "execution_count": 8,
     "metadata": {},
     "output_type": "execute_result"
    }
   ],
   "source": [
    "dfY1.head()"
   ]
  },
  {
   "cell_type": "code",
   "execution_count": null,
   "metadata": {},
   "outputs": [],
   "source": []
  },
  {
   "cell_type": "code",
   "execution_count": null,
   "metadata": {},
   "outputs": [],
   "source": []
  },
  {
   "cell_type": "code",
   "execution_count": null,
   "metadata": {},
   "outputs": [],
   "source": [
    "#run for owner coumns"
   ]
  },
  {
   "cell_type": "code",
   "execution_count": null,
   "metadata": {},
   "outputs": [],
   "source": [
    "#join with geo crosswalk file for 2020"
   ]
  },
  {
   "cell_type": "code",
   "execution_count": null,
   "metadata": {},
   "outputs": [],
   "source": [
    "#drop everything but name"
   ]
  },
  {
   "cell_type": "code",
   "execution_count": null,
   "metadata": {},
   "outputs": [],
   "source": [
    "#use geo agg function"
   ]
  },
  {
   "cell_type": "code",
   "execution_count": null,
   "metadata": {},
   "outputs": [],
   "source": [
    "\n",
    "\n",
    "rb_y1_E = ['DP04_0141E','DP04_0142E'] #gross rent over 30% of hh income\n",
    "rb_y1_M = ['DP04_0141M','DP04_0142M']\n",
    "ob_y1_E = ['DP04_0114E','DP04_0115E'] #mortgage payment over 30% of hh income\n",
    "ob_y1_M = ['DP04_0114M','DP04_0115M']\n",
    "\n",
    "\n",
    "var_data_y0 = ['GEO_ID','DP04_0134E','DP04_0134M','DP04_0139E','DP04_0139M','DP04_0140E','DP04_0140M',\\\n",
    "               'DP04_0108E','DP04_0108M','DP04_0112E','DP04_0112M','DP04_0113E','DP04_0113M']\n",
    "\n",
    "rb_y0_E = ['DP04_0139E','DP04_0140E'] #gross rent over 30% of hh income\n",
    "rb_y0_M = ['DP04_0139M','DP04_0140M']\n",
    "ob_y0_E = ['DP04_0112E','DP04_0113E'] #mortgage payment over 30% of hh income\n",
    "ob_y0_M = ['DP04_0112M','DP04_0113M']"
   ]
  },
  {
   "cell_type": "markdown",
   "metadata": {},
   "source": [
    "## AZ geographies in Y1 and Y0, with change"
   ]
  },
  {
   "cell_type": "code",
   "execution_count": null,
   "metadata": {},
   "outputs": [],
   "source": [
    "dfY1.head()"
   ]
  },
  {
   "cell_type": "code",
   "execution_count": null,
   "metadata": {},
   "outputs": [],
   "source": [
    "dfY1['Rent_Burd_Y1'] = dfY1.loc[:,rb_y1_E].sum(axis=1)\n",
    "dfY1['Rent_Tot_Y1'] = dfY1['DP04_0136E']\n",
    "dfY1['Own_Burd_Y1'] = dfY1.loc[:,ob_y1_E].sum(axis=1)\n",
    "dfY1['Own_Tot_Y1'] = dfY1['DP04_0110E']\n",
    "dfY1 = dfY1.drop(var_data_y1[1:],axis=1)"
   ]
  },
  {
   "cell_type": "code",
   "execution_count": null,
   "metadata": {},
   "outputs": [],
   "source": [
    "dfY1.head()"
   ]
  },
  {
   "cell_type": "code",
   "execution_count": null,
   "metadata": {},
   "outputs": [],
   "source": [
    "dfY0 = get.get_county(p,source,y0,cols_y0)\n",
    "dfY0 = get.clean_data(dfY0,var_data_y0)"
   ]
  },
  {
   "cell_type": "code",
   "execution_count": null,
   "metadata": {},
   "outputs": [],
   "source": [
    "dfY0['Rent_Burd_Y0'] = dfY0.loc[:,rb_y0_E].sum(axis=1)\n",
    "dfY0['Rent_Tot_Y0'] = dfY0['DP04_0134E']\n",
    "dfY0['Own_Burd_Y0'] = dfY0.loc[:,ob_y0_E].sum(axis=1)\n",
    "dfY0['Own_Tot_Y0'] = dfY0['DP04_0108E']\n",
    "dfY0 = dfY0.drop(var_data_y0[1:],axis=1)"
   ]
  },
  {
   "cell_type": "code",
   "execution_count": null,
   "metadata": {},
   "outputs": [],
   "source": [
    "dfY0.head()"
   ]
  },
  {
   "cell_type": "code",
   "execution_count": null,
   "metadata": {},
   "outputs": [],
   "source": [
    "#Merge the two dataframes using the stco identifier\n",
    "dfY0Y1 = pd.merge(dfY0,dfY1,how='left',on='GEO_ID')"
   ]
  },
  {
   "cell_type": "code",
   "execution_count": null,
   "metadata": {},
   "outputs": [],
   "source": [
    "dfY0Y1.head()"
   ]
  },
  {
   "cell_type": "code",
   "execution_count": null,
   "metadata": {},
   "outputs": [],
   "source": [
    "reg = dfY0Y1.copy()\n",
    "reg['reg'] = 'Metro'\n",
    "reg = reg.groupby('reg').sum().reset_index()\n",
    "reg"
   ]
  },
  {
   "cell_type": "code",
   "execution_count": null,
   "metadata": {},
   "outputs": [],
   "source": [
    "reg.to_excel('../../output/Housing/CostBurden_region_20102020.xlsx',index=False)"
   ]
  },
  {
   "cell_type": "code",
   "execution_count": null,
   "metadata": {},
   "outputs": [],
   "source": [
    "dfY0Y1.to_excel('../../output/Housing/CostBurden_counties_20102020.xlsx',index=False)"
   ]
  }
 ],
 "metadata": {
  "kernelspec": {
   "display_name": "Python 3",
   "language": "python",
   "name": "python3"
  },
  "language_info": {
   "codemirror_mode": {
    "name": "ipython",
    "version": 3
   },
   "file_extension": ".py",
   "mimetype": "text/x-python",
   "name": "python",
   "nbconvert_exporter": "python",
   "pygments_lexer": "ipython3",
   "version": "3.8.5"
  }
 },
 "nbformat": 4,
 "nbformat_minor": 2
}
