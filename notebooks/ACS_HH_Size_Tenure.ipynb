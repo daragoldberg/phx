{
 "cells": [
  {
   "cell_type": "markdown",
   "metadata": {},
   "source": [
    "# ACS Average Household Size & Distribution by Tenure in Phoenix Urban Villages, and City of Phoenix\n",
    "\n",
    "- https://www.census.gov/data/developers/data-sets/acs-5year.html\n",
    "\n",
    "For population by tenure and households by size and tenure\n",
    "- https://api.census.gov/data/2013/acs/acs5/variables.html\n",
    "- https://api.census.gov/data/2021/acs/acs5/variables.html\n",
    "\n",
    "** Note: Census Block Groups (which are aggregated to Phoenix Urban Village areas) are not available until 2013. "
   ]
  },
  {
   "cell_type": "code",
   "execution_count": 1,
   "metadata": {},
   "outputs": [],
   "source": [
    "import pandas as pd\n",
    "import math\n",
    "import numpy as np\n",
    "import os"
   ]
  },
  {
   "cell_type": "code",
   "execution_count": 2,
   "metadata": {},
   "outputs": [],
   "source": [
    "import requests\n",
    "import json"
   ]
  },
  {
   "cell_type": "code",
   "execution_count": 3,
   "metadata": {},
   "outputs": [],
   "source": [
    "import get_acs as get\n",
    "import utilcalcs as calc\n",
    "import geo_agg\n",
    "from acs_hhsize_vars import *"
   ]
  },
  {
   "cell_type": "code",
   "execution_count": 4,
   "metadata": {},
   "outputs": [],
   "source": [
    "bgp_10 = pd.read_csv('../data/geo/bgp_vil_10.csv')\n",
    "bgp_20 = pd.read_csv('../data/geo/bgp_vil_20.csv')\n",
    "for df in [bgp_10,bgp_20]: df.geoid = df.geoid.apply(lambda x: '{0:0>12}'.format(x))\n",
    "    \n",
    "#get ride of area & geo stuff not being useed\n",
    "bgp_20 = bgp_20.drop(['aland20','awater20','lat20','lon20','land_acre'],axis=1)\n",
    "bgp_10 = bgp_10.drop(['aland10','awater10','lat10','lon10','land_acre'],axis=1)"
   ]
  },
  {
   "cell_type": "code",
   "execution_count": 5,
   "metadata": {},
   "outputs": [],
   "source": [
    "#Search parameters - NOTE DIFFERENT VARIABLE # ASSIGNMENTS IN 2010 VS 2020\n",
    "y1 = '2021'\n",
    "y0 = '2013'\n",
    "\n",
    "cols_pop = 'group(B25008)'\n",
    "cols_hou = 'group(B25009)'\n",
    "\n",
    "source = 'acs/acs5'"
   ]
  },
  {
   "cell_type": "markdown",
   "metadata": {},
   "source": [
    "#### Population by tenure"
   ]
  },
  {
   "cell_type": "code",
   "execution_count": 6,
   "metadata": {
    "scrolled": true
   },
   "outputs": [],
   "source": [
    "def make_pop_ten(geo_df,year):\n",
    "    df = get.get_bgp(source,year,cols_pop)\n",
    "    df.rename(columns=ten_rename,inplace=True)\n",
    "    df = df.filter(regex='(?<!A)$',axis=1) #drop non-estimate columns\n",
    "    df = get.clean_data(df,['GEO_ID']+list(ten_rename.values()))\n",
    "    df = pd.merge(geo_df,df,how='left',left_on='geoid',right_on='GEO_ID')\n",
    "    df = df.drop(['geoid','GEO_ID'],axis=1)\n",
    "    df = geo_agg.sumgeo_cv(df,'name')\n",
    "    for col in df.columns[1:]:\n",
    "        df.rename(columns={col:f'{col[:-1]}{year[-2:]}{col[-1:]}'},inplace=True)\n",
    "    return df"
   ]
  },
  {
   "cell_type": "code",
   "execution_count": 7,
   "metadata": {},
   "outputs": [],
   "source": [
    "py1 = make_pop_ten(bgp_20,y1)\n",
    "py0 = make_pop_ten(bgp_10,y0)"
   ]
  },
  {
   "cell_type": "markdown",
   "metadata": {},
   "source": [
    "#### Households by tenure"
   ]
  },
  {
   "cell_type": "code",
   "execution_count": 8,
   "metadata": {},
   "outputs": [],
   "source": [
    "def make_hh_ten(geo_df,year):\n",
    "    df = get.get_bgp(source,year,cols_hou)\n",
    "    df.rename(columns=hh_rename,inplace=True)\n",
    "    df = df[['GEO_ID','h_tot_E','h_tot_M','h_otot_E',\\\n",
    "           'h_otot_M','h_rtot_E','h_rtot_M']] #take only total households\n",
    "    df = get.clean_data(df,df.columns)\n",
    "    df = pd.merge(geo_df,df,how='left',left_on='geoid',right_on='GEO_ID')\n",
    "    df = df.drop(['geoid','GEO_ID'],axis=1)\n",
    "    df = geo_agg.sumgeo_cv(df,'name')\n",
    "    for col in df.columns[1:]:\n",
    "        df.rename(columns={col:f'{col[:-1]}{year[-2:]}{col[-1:]}'},inplace=True)\n",
    "    return df"
   ]
  },
  {
   "cell_type": "code",
   "execution_count": 9,
   "metadata": {},
   "outputs": [],
   "source": [
    "hy1 = make_hh_ten(bgp_20,y1)\n",
    "hy0 = make_hh_ten(bgp_10,y0)"
   ]
  },
  {
   "cell_type": "markdown",
   "metadata": {},
   "source": [
    "### Average Household size in y1 and  y0"
   ]
  },
  {
   "cell_type": "code",
   "execution_count": 10,
   "metadata": {},
   "outputs": [],
   "source": [
    "def make_avg(df1,df2,year,merge_id):\n",
    "    df = pd.merge(df1,df2,how='left',on=merge_id)\n",
    "    df[f'a_tot_{year[-2:]}E'] = df[f'p_tot_{year[-2:]}E'] / df[f'h_tot_{year[-2:]}E'] \n",
    "    df[f'a_otot_{year[-2:]}E'] = df[f'p_o_{year[-2:]}E'] / df[f'h_otot_{year[-2:]}E']\n",
    "    df[f'a_rtot_{year[-2:]}E'] = df[f'p_r_{year[-2:]}E'] / df[f'h_rtot_{year[-2:]}E']\n",
    "    return df"
   ]
  },
  {
   "cell_type": "code",
   "execution_count": 11,
   "metadata": {},
   "outputs": [],
   "source": [
    "avgy1 = make_avg(py1,hy1,y1,'name')\n",
    "avgy0 = make_avg(py0,hy0,y0,'name')"
   ]
  },
  {
   "cell_type": "code",
   "execution_count": 12,
   "metadata": {},
   "outputs": [],
   "source": [
    "avg_vil = pd.merge(avgy1,avgy0,how='left',on='name')"
   ]
  },
  {
   "cell_type": "code",
   "execution_count": 13,
   "metadata": {
    "scrolled": true
   },
   "outputs": [
    {
     "data": {
      "text/html": [
       "<div>\n",
       "<style scoped>\n",
       "    .dataframe tbody tr th:only-of-type {\n",
       "        vertical-align: middle;\n",
       "    }\n",
       "\n",
       "    .dataframe tbody tr th {\n",
       "        vertical-align: top;\n",
       "    }\n",
       "\n",
       "    .dataframe thead th {\n",
       "        text-align: right;\n",
       "    }\n",
       "</style>\n",
       "<table border=\"1\" class=\"dataframe\">\n",
       "  <thead>\n",
       "    <tr style=\"text-align: right;\">\n",
       "      <th></th>\n",
       "      <th>name</th>\n",
       "      <th>p_tot_21E</th>\n",
       "      <th>p_tot_21M</th>\n",
       "      <th>p_tot_21C</th>\n",
       "      <th>p_r_21E</th>\n",
       "      <th>p_r_21M</th>\n",
       "      <th>p_r_21C</th>\n",
       "      <th>p_o_21E</th>\n",
       "      <th>p_o_21M</th>\n",
       "      <th>p_o_21C</th>\n",
       "      <th>...</th>\n",
       "      <th>h_otot_13C</th>\n",
       "      <th>h_tot_13E</th>\n",
       "      <th>h_tot_13M</th>\n",
       "      <th>h_tot_13C</th>\n",
       "      <th>h_rtot_13E</th>\n",
       "      <th>h_rtot_13M</th>\n",
       "      <th>h_rtot_13C</th>\n",
       "      <th>a_tot_13E</th>\n",
       "      <th>a_otot_13E</th>\n",
       "      <th>a_rtot_13E</th>\n",
       "    </tr>\n",
       "  </thead>\n",
       "  <tbody>\n",
       "    <tr>\n",
       "      <th>0</th>\n",
       "      <td>Alhambra</td>\n",
       "      <td>135881.0</td>\n",
       "      <td>5273.218372</td>\n",
       "      <td>2.359126</td>\n",
       "      <td>69590.0</td>\n",
       "      <td>4438.001915</td>\n",
       "      <td>3.876812</td>\n",
       "      <td>66291.0</td>\n",
       "      <td>3520.798205</td>\n",
       "      <td>3.228648</td>\n",
       "      <td>...</td>\n",
       "      <td>2.277293</td>\n",
       "      <td>44410.0</td>\n",
       "      <td>1119.382419</td>\n",
       "      <td>1.532258</td>\n",
       "      <td>23584.0</td>\n",
       "      <td>991.434315</td>\n",
       "      <td>2.555528</td>\n",
       "      <td>2.939315</td>\n",
       "      <td>2.928647</td>\n",
       "      <td>2.948736</td>\n",
       "    </tr>\n",
       "    <tr>\n",
       "      <th>1</th>\n",
       "      <td>North Mountain</td>\n",
       "      <td>165668.0</td>\n",
       "      <td>5920.925857</td>\n",
       "      <td>2.172627</td>\n",
       "      <td>74541.0</td>\n",
       "      <td>4096.308094</td>\n",
       "      <td>3.340654</td>\n",
       "      <td>91127.0</td>\n",
       "      <td>4690.628636</td>\n",
       "      <td>3.129090</td>\n",
       "      <td>...</td>\n",
       "      <td>1.694056</td>\n",
       "      <td>61245.0</td>\n",
       "      <td>1280.656472</td>\n",
       "      <td>1.271148</td>\n",
       "      <td>28423.0</td>\n",
       "      <td>1098.145710</td>\n",
       "      <td>2.348682</td>\n",
       "      <td>2.590922</td>\n",
       "      <td>2.592621</td>\n",
       "      <td>2.588960</td>\n",
       "    </tr>\n",
       "    <tr>\n",
       "      <th>2</th>\n",
       "      <td>Maryvale</td>\n",
       "      <td>241055.0</td>\n",
       "      <td>8101.846271</td>\n",
       "      <td>2.043158</td>\n",
       "      <td>106692.0</td>\n",
       "      <td>5785.361873</td>\n",
       "      <td>3.296346</td>\n",
       "      <td>134363.0</td>\n",
       "      <td>6484.600373</td>\n",
       "      <td>2.933848</td>\n",
       "      <td>...</td>\n",
       "      <td>1.919751</td>\n",
       "      <td>59203.0</td>\n",
       "      <td>1231.623319</td>\n",
       "      <td>1.264644</td>\n",
       "      <td>30255.0</td>\n",
       "      <td>1109.630119</td>\n",
       "      <td>2.229540</td>\n",
       "      <td>3.714829</td>\n",
       "      <td>3.734006</td>\n",
       "      <td>3.696480</td>\n",
       "    </tr>\n",
       "  </tbody>\n",
       "</table>\n",
       "<p>3 rows × 43 columns</p>\n",
       "</div>"
      ],
      "text/plain": [
       "             name  p_tot_21E    p_tot_21M  p_tot_21C   p_r_21E      p_r_21M  \\\n",
       "0        Alhambra   135881.0  5273.218372   2.359126   69590.0  4438.001915   \n",
       "1  North Mountain   165668.0  5920.925857   2.172627   74541.0  4096.308094   \n",
       "2        Maryvale   241055.0  8101.846271   2.043158  106692.0  5785.361873   \n",
       "\n",
       "    p_r_21C   p_o_21E      p_o_21M   p_o_21C  ...  h_otot_13C  h_tot_13E  \\\n",
       "0  3.876812   66291.0  3520.798205  3.228648  ...    2.277293    44410.0   \n",
       "1  3.340654   91127.0  4690.628636  3.129090  ...    1.694056    61245.0   \n",
       "2  3.296346  134363.0  6484.600373  2.933848  ...    1.919751    59203.0   \n",
       "\n",
       "     h_tot_13M  h_tot_13C  h_rtot_13E   h_rtot_13M  h_rtot_13C  a_tot_13E  \\\n",
       "0  1119.382419   1.532258     23584.0   991.434315    2.555528   2.939315   \n",
       "1  1280.656472   1.271148     28423.0  1098.145710    2.348682   2.590922   \n",
       "2  1231.623319   1.264644     30255.0  1109.630119    2.229540   3.714829   \n",
       "\n",
       "   a_otot_13E  a_rtot_13E  \n",
       "0    2.928647    2.948736  \n",
       "1    2.592621    2.588960  \n",
       "2    3.734006    3.696480  \n",
       "\n",
       "[3 rows x 43 columns]"
      ]
     },
     "execution_count": 13,
     "metadata": {},
     "output_type": "execute_result"
    }
   ],
   "source": [
    "avg_vil.head(3)"
   ]
  },
  {
   "cell_type": "markdown",
   "metadata": {},
   "source": [
    "### Make Phoenix & U.S. function"
   ]
  },
  {
   "cell_type": "code",
   "execution_count": 14,
   "metadata": {
    "scrolled": true
   },
   "outputs": [],
   "source": [
    "def make_table(year,geo):\n",
    "    if geo == 'phoenix':\n",
    "        df = get.get_phx(source,year,cols_pop)\n",
    "        dff = get.get_phx(source,year,cols_hou)\n",
    "    elif geo == 'us':\n",
    "        df = get.get_us(source,year,cols_pop)\n",
    "        dff = get.get_us(source,year,cols_hou)\n",
    "    else:\n",
    "        pass\n",
    "    \n",
    "    df.rename(columns=ten_rename,inplace=True)\n",
    "    df = df.filter(regex='(?<!A)$',axis=1) #drop non-estimate columns\n",
    "    df = get.clean_data(df,['GEO_ID']+list(ten_rename.values()))\n",
    "    \n",
    "    dff.rename(columns=hh_rename,inplace=True)\n",
    "    dff = dff[['GEO_ID','h_tot_E','h_tot_M','h_otot_E',\\\n",
    "           'h_otot_M','h_rtot_E','h_rtot_M']] #take only total households\n",
    "    dff = get.clean_data(dff,dff.columns)\n",
    "    \n",
    "    for frame in [df,dff]:\n",
    "        for col in frame.columns[1:]:\n",
    "            frame.rename(columns={col:f'{col[:-1]}{year[-2:]}{col[-1:]}'},inplace=True)\n",
    "            \n",
    "    avg = make_avg(df,dff,year,'GEO_ID')\n",
    "    return avg"
   ]
  },
  {
   "cell_type": "markdown",
   "metadata": {},
   "source": [
    "## City of Phoenix"
   ]
  },
  {
   "cell_type": "code",
   "execution_count": 15,
   "metadata": {},
   "outputs": [],
   "source": [
    "phx1 = make_table(y1,'phoenix')\n",
    "phx0 = make_table(y0,'phoenix')"
   ]
  },
  {
   "cell_type": "code",
   "execution_count": 16,
   "metadata": {},
   "outputs": [
    {
     "data": {
      "text/html": [
       "<div>\n",
       "<style scoped>\n",
       "    .dataframe tbody tr th:only-of-type {\n",
       "        vertical-align: middle;\n",
       "    }\n",
       "\n",
       "    .dataframe tbody tr th {\n",
       "        vertical-align: top;\n",
       "    }\n",
       "\n",
       "    .dataframe thead th {\n",
       "        text-align: right;\n",
       "    }\n",
       "</style>\n",
       "<table border=\"1\" class=\"dataframe\">\n",
       "  <thead>\n",
       "    <tr style=\"text-align: right;\">\n",
       "      <th></th>\n",
       "      <th>GEO_ID</th>\n",
       "      <th>p_tot_21E</th>\n",
       "      <th>p_tot_21M</th>\n",
       "      <th>p_o_21E</th>\n",
       "      <th>p_o_21M</th>\n",
       "      <th>p_r_21E</th>\n",
       "      <th>p_r_21M</th>\n",
       "      <th>h_tot_21E</th>\n",
       "      <th>h_tot_21M</th>\n",
       "      <th>h_otot_21E</th>\n",
       "      <th>...</th>\n",
       "      <th>p_r_13M</th>\n",
       "      <th>h_tot_13E</th>\n",
       "      <th>h_tot_13M</th>\n",
       "      <th>h_otot_13E</th>\n",
       "      <th>h_otot_13M</th>\n",
       "      <th>h_rtot_13E</th>\n",
       "      <th>h_rtot_13M</th>\n",
       "      <th>a_tot_13E</th>\n",
       "      <th>a_otot_13E</th>\n",
       "      <th>a_rtot_13E</th>\n",
       "    </tr>\n",
       "  </thead>\n",
       "  <tbody>\n",
       "    <tr>\n",
       "      <th>0</th>\n",
       "      <td>0455000</td>\n",
       "      <td>1572068.0</td>\n",
       "      <td>2123.0</td>\n",
       "      <td>922220.0</td>\n",
       "      <td>10456.0</td>\n",
       "      <td>649848.0</td>\n",
       "      <td>10223.0</td>\n",
       "      <td>579876.0</td>\n",
       "      <td>2997.0</td>\n",
       "      <td>325058.0</td>\n",
       "      <td>...</td>\n",
       "      <td>8788.0</td>\n",
       "      <td>517348.0</td>\n",
       "      <td>3128.0</td>\n",
       "      <td>287078.0</td>\n",
       "      <td>3082.0</td>\n",
       "      <td>230270.0</td>\n",
       "      <td>2661.0</td>\n",
       "      <td>2.81403</td>\n",
       "      <td>2.844262</td>\n",
       "      <td>2.776341</td>\n",
       "    </tr>\n",
       "  </tbody>\n",
       "</table>\n",
       "<p>1 rows × 31 columns</p>\n",
       "</div>"
      ],
      "text/plain": [
       "    GEO_ID  p_tot_21E  p_tot_21M   p_o_21E  p_o_21M   p_r_21E  p_r_21M  \\\n",
       "0  0455000  1572068.0     2123.0  922220.0  10456.0  649848.0  10223.0   \n",
       "\n",
       "   h_tot_21E  h_tot_21M  h_otot_21E  ...  p_r_13M  h_tot_13E  h_tot_13M  \\\n",
       "0   579876.0     2997.0    325058.0  ...   8788.0   517348.0     3128.0   \n",
       "\n",
       "   h_otot_13E  h_otot_13M  h_rtot_13E  h_rtot_13M  a_tot_13E  a_otot_13E  \\\n",
       "0    287078.0      3082.0    230270.0      2661.0    2.81403    2.844262   \n",
       "\n",
       "   a_rtot_13E  \n",
       "0    2.776341  \n",
       "\n",
       "[1 rows x 31 columns]"
      ]
     },
     "execution_count": 16,
     "metadata": {},
     "output_type": "execute_result"
    }
   ],
   "source": [
    "avg_phx = pd.merge(phx1,phx0,how='left',on='GEO_ID')\n",
    "avg_phx"
   ]
  },
  {
   "cell_type": "markdown",
   "metadata": {},
   "source": [
    "## U.S."
   ]
  },
  {
   "cell_type": "code",
   "execution_count": 17,
   "metadata": {},
   "outputs": [],
   "source": [
    "us1 = make_table(y1,'us')\n",
    "us0 = make_table(y0,'us')"
   ]
  },
  {
   "cell_type": "code",
   "execution_count": 18,
   "metadata": {},
   "outputs": [
    {
     "data": {
      "text/html": [
       "<div>\n",
       "<style scoped>\n",
       "    .dataframe tbody tr th:only-of-type {\n",
       "        vertical-align: middle;\n",
       "    }\n",
       "\n",
       "    .dataframe tbody tr th {\n",
       "        vertical-align: top;\n",
       "    }\n",
       "\n",
       "    .dataframe thead th {\n",
       "        text-align: right;\n",
       "    }\n",
       "</style>\n",
       "<table border=\"1\" class=\"dataframe\">\n",
       "  <thead>\n",
       "    <tr style=\"text-align: right;\">\n",
       "      <th></th>\n",
       "      <th>GEO_ID</th>\n",
       "      <th>p_tot_21E</th>\n",
       "      <th>p_tot_21M</th>\n",
       "      <th>p_o_21E</th>\n",
       "      <th>p_o_21M</th>\n",
       "      <th>p_r_21E</th>\n",
       "      <th>p_r_21M</th>\n",
       "      <th>h_tot_21E</th>\n",
       "      <th>h_tot_21M</th>\n",
       "      <th>h_otot_21E</th>\n",
       "      <th>...</th>\n",
       "      <th>p_r_13M</th>\n",
       "      <th>h_tot_13E</th>\n",
       "      <th>h_tot_13M</th>\n",
       "      <th>h_otot_13E</th>\n",
       "      <th>h_otot_13M</th>\n",
       "      <th>h_rtot_13E</th>\n",
       "      <th>h_rtot_13M</th>\n",
       "      <th>a_tot_13E</th>\n",
       "      <th>a_otot_13E</th>\n",
       "      <th>a_rtot_13E</th>\n",
       "    </tr>\n",
       "  </thead>\n",
       "  <tbody>\n",
       "    <tr>\n",
       "      <th>0</th>\n",
       "      <td>0100000US</td>\n",
       "      <td>321899278.0</td>\n",
       "      <td>0.0</td>\n",
       "      <td>215577207.0</td>\n",
       "      <td>690800.0</td>\n",
       "      <td>106322071.0</td>\n",
       "      <td>691099.0</td>\n",
       "      <td>124010992.0</td>\n",
       "      <td>196755.0</td>\n",
       "      <td>80152161.0</td>\n",
       "      <td>...</td>\n",
       "      <td>704274.0</td>\n",
       "      <td>115610216.0</td>\n",
       "      <td>238223.0</td>\n",
       "      <td>75075700.0</td>\n",
       "      <td>345645.0</td>\n",
       "      <td>40534516.0</td>\n",
       "      <td>114260.0</td>\n",
       "      <td>2.625283</td>\n",
       "      <td>2.691335</td>\n",
       "      <td>2.502947</td>\n",
       "    </tr>\n",
       "  </tbody>\n",
       "</table>\n",
       "<p>1 rows × 31 columns</p>\n",
       "</div>"
      ],
      "text/plain": [
       "      GEO_ID    p_tot_21E  p_tot_21M      p_o_21E   p_o_21M      p_r_21E  \\\n",
       "0  0100000US  321899278.0        0.0  215577207.0  690800.0  106322071.0   \n",
       "\n",
       "    p_r_21M    h_tot_21E  h_tot_21M  h_otot_21E  ...   p_r_13M    h_tot_13E  \\\n",
       "0  691099.0  124010992.0   196755.0  80152161.0  ...  704274.0  115610216.0   \n",
       "\n",
       "   h_tot_13M  h_otot_13E  h_otot_13M  h_rtot_13E  h_rtot_13M  a_tot_13E  \\\n",
       "0   238223.0  75075700.0    345645.0  40534516.0    114260.0   2.625283   \n",
       "\n",
       "   a_otot_13E  a_rtot_13E  \n",
       "0    2.691335    2.502947  \n",
       "\n",
       "[1 rows x 31 columns]"
      ]
     },
     "execution_count": 18,
     "metadata": {},
     "output_type": "execute_result"
    }
   ],
   "source": [
    "avg_us = pd.merge(us1,us0,how='left',on='GEO_ID')\n",
    "avg_us"
   ]
  },
  {
   "cell_type": "code",
   "execution_count": 19,
   "metadata": {},
   "outputs": [],
   "source": [
    "with pd.ExcelWriter(f'output/HH_size_ten.xlsx') as writer:\n",
    "    avg_vil.to_excel(writer, sheet_name=\"urban_village\", index=False)\n",
    "    avg_phx.to_excel(writer, sheet_name=\"phoenix\", index=False)\n",
    "    avg_us.to_excel(writer, sheet_name=\"us\", index=False)"
   ]
  }
 ],
 "metadata": {
  "kernelspec": {
   "display_name": "Python 3",
   "language": "python",
   "name": "python3"
  },
  "language_info": {
   "codemirror_mode": {
    "name": "ipython",
    "version": 3
   },
   "file_extension": ".py",
   "mimetype": "text/x-python",
   "name": "python",
   "nbconvert_exporter": "python",
   "pygments_lexer": "ipython3",
   "version": "3.8.5"
  }
 },
 "nbformat": 4,
 "nbformat_minor": 2
}
