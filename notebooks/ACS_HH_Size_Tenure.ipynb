{
 "cells": [
  {
   "cell_type": "code",
   "execution_count": 1,
   "metadata": {},
   "outputs": [],
   "source": [
    "import pandas as pd\n",
    "import math\n",
    "import numpy as np\n",
    "import os"
   ]
  },
  {
   "cell_type": "code",
   "execution_count": 3,
   "metadata": {},
   "outputs": [],
   "source": [
    "import get_acs as get\n",
    "import utilcalcs as calc\n",
    "import geo_agg\n",
    "from acs_hhsize_vars import *"
   ]
  },
  {
   "cell_type": "code",
   "execution_count": 4,
   "metadata": {},
   "outputs": [],
   "source": [
    "bgp_10 = pd.read_csv('../data/geo/bgp_vil_10.csv')\n",
    "bgp_20 = pd.read_csv('../data/geo/bgp_vil_20.csv')\n",
    "for df in [bgp_10,bgp_20]: df.geoid = df.geoid.apply(lambda x: '{0:0>12}'.format(x))\n",
    "    \n",
    "#get ride of area & geo stuff not being useed\n",
    "bgp_20 = bgp_20.drop(['aland20','awater20','lat20','lon20','land_acre'],axis=1)\n",
    "bgp_10 = bgp_10.drop(['aland10','awater10','lat10','lon10','land_acre'],axis=1)"
   ]
  },
  {
   "cell_type": "code",
   "execution_count": 5,
   "metadata": {},
   "outputs": [],
   "source": [
    "#Search parameters - NOTE DIFFERENT VARIABLE # ASSIGNMENTS IN 2010 VS 2020\n",
    "y1 = '2021'\n",
    "y0 = '2013'\n",
    "\n",
    "cols_pop = 'group(B25008)'\n",
    "cols_hou = 'group(B25009)'\n",
    "\n",
    "source = 'acs/acs5'"
   ]
  },
  {
   "cell_type": "markdown",
   "metadata": {},
   "source": [
    "#### Population by tenure"
   ]
  },
  {
   "cell_type": "code",
   "execution_count": 6,
   "metadata": {
    "scrolled": true
   },
   "outputs": [],
   "source": [
    "def make_pop_ten(geo_df,year):\n",
    "    df = get.get_bgp(source,year,cols_pop)\n",
    "    df.rename(columns=ten_rename,inplace=True)\n",
    "    df = df.filter(regex='(?<!A)$',axis=1) #drop non-estimate columns\n",
    "    df = get.clean_data(df,['GEO_ID']+list(ten_rename.values()))\n",
    "    df = pd.merge(geo_df,df,how='left',left_on='geoid',right_on='GEO_ID')\n",
    "    df = df.drop(['geoid','GEO_ID'],axis=1)\n",
    "    df = geo_agg.sumgeo_cv(df,'name')\n",
    "    for col in df.columns[1:]:\n",
    "        df.rename(columns={col:f'{col[:-1]}{year[-2:]}{col[-1:]}'},inplace=True)\n",
    "    return df"
   ]
  },
  {
   "cell_type": "code",
   "execution_count": 7,
   "metadata": {},
   "outputs": [],
   "source": [
    "py1 = make_pop_ten(bgp_20,y1)\n",
    "py0 = make_pop_ten(bgp_10,y0)"
   ]
  },
  {
   "cell_type": "markdown",
   "metadata": {},
   "source": [
    "#### Households by tenure"
   ]
  },
  {
   "cell_type": "code",
   "execution_count": 8,
   "metadata": {},
   "outputs": [],
   "source": [
    "def make_hh_ten(geo_df,year):\n",
    "    df = get.get_bgp(source,year,cols_hou)\n",
    "    df.rename(columns=hh_rename,inplace=True)\n",
    "    df = df[['GEO_ID','h_tot_E','h_tot_M','h_otot_E',\\\n",
    "           'h_otot_M','h_rtot_E','h_rtot_M']] #take only total households\n",
    "    df = get.clean_data(df,df.columns)\n",
    "    df = pd.merge(geo_df,df,how='left',left_on='geoid',right_on='GEO_ID')\n",
    "    df = df.drop(['geoid','GEO_ID'],axis=1)\n",
    "    df = geo_agg.sumgeo_cv(df,'name')\n",
    "    for col in df.columns[1:]:\n",
    "        df.rename(columns={col:f'{col[:-1]}{year[-2:]}{col[-1:]}'},inplace=True)\n",
    "    return df"
   ]
  },
  {
   "cell_type": "code",
   "execution_count": 9,
   "metadata": {},
   "outputs": [],
   "source": [
    "hy1 = make_hh_ten(bgp_20,y1)\n",
    "hy0 = make_hh_ten(bgp_10,y0)"
   ]
  },
  {
   "cell_type": "markdown",
   "metadata": {},
   "source": [
    "### Average Household size in y1 and  y0"
   ]
  },
  {
   "cell_type": "code",
   "execution_count": 10,
   "metadata": {},
   "outputs": [],
   "source": [
    "def make_avg(df1,df2,year,merge_id):\n",
    "    df = pd.merge(df1,df2,how='left',on=merge_id)\n",
    "    df[f'a_tot_{year[-2:]}E'] = df[f'p_tot_{year[-2:]}E'] / df[f'h_tot_{year[-2:]}E'] \n",
    "    df[f'a_otot_{year[-2:]}E'] = df[f'p_o_{year[-2:]}E'] / df[f'h_otot_{year[-2:]}E']\n",
    "    df[f'a_rtot_{year[-2:]}E'] = df[f'p_r_{year[-2:]}E'] / df[f'h_rtot_{year[-2:]}E']\n",
    "    return df"
   ]
  },
  {
   "cell_type": "code",
   "execution_count": 11,
   "metadata": {},
   "outputs": [],
   "source": [
    "avgy1 = make_avg(py1,hy1,y1,'name')\n",
    "avgy0 = make_avg(py0,hy0,y0,'name')"
   ]
  },
  {
   "cell_type": "code",
   "execution_count": 12,
   "metadata": {},
   "outputs": [],
   "source": [
    "avg_vil = pd.merge(avgy1,avgy0,how='left',on='name')"
   ]
  },
  {
   "cell_type": "code",
   "execution_count": 13,
   "metadata": {
    "scrolled": true
   },
   "outputs": [
    {
     "data": {
      "text/html": [
       "<div>\n",
       "<style scoped>\n",
       "    .dataframe tbody tr th:only-of-type {\n",
       "        vertical-align: middle;\n",
       "    }\n",
       "\n",
       "    .dataframe tbody tr th {\n",
       "        vertical-align: top;\n",
       "    }\n",
       "\n",
       "    .dataframe thead th {\n",
       "        text-align: right;\n",
       "    }\n",
       "</style>\n",
       "<table border=\"1\" class=\"dataframe\">\n",
       "  <thead>\n",
       "    <tr style=\"text-align: right;\">\n",
       "      <th></th>\n",
       "      <th>name</th>\n",
       "      <th>p_r_21E</th>\n",
       "      <th>p_r_21M</th>\n",
       "      <th>p_r_21C</th>\n",
       "      <th>p_tot_21E</th>\n",
       "      <th>p_tot_21M</th>\n",
       "      <th>p_tot_21C</th>\n",
       "      <th>p_o_21E</th>\n",
       "      <th>p_o_21M</th>\n",
       "      <th>p_o_21C</th>\n",
       "      <th>...</th>\n",
       "      <th>h_otot_13C</th>\n",
       "      <th>h_rtot_13E</th>\n",
       "      <th>h_rtot_13M</th>\n",
       "      <th>h_rtot_13C</th>\n",
       "      <th>h_tot_13E</th>\n",
       "      <th>h_tot_13M</th>\n",
       "      <th>h_tot_13C</th>\n",
       "      <th>a_tot_13E</th>\n",
       "      <th>a_otot_13E</th>\n",
       "      <th>a_rtot_13E</th>\n",
       "    </tr>\n",
       "  </thead>\n",
       "  <tbody>\n",
       "    <tr>\n",
       "      <th>0</th>\n",
       "      <td>Alhambra</td>\n",
       "      <td>69590.0</td>\n",
       "      <td>4438.001915</td>\n",
       "      <td>3.876812</td>\n",
       "      <td>135881.0</td>\n",
       "      <td>5273.218372</td>\n",
       "      <td>2.359126</td>\n",
       "      <td>66291.0</td>\n",
       "      <td>3520.798205</td>\n",
       "      <td>3.228648</td>\n",
       "      <td>...</td>\n",
       "      <td>2.277293</td>\n",
       "      <td>23584.0</td>\n",
       "      <td>991.434315</td>\n",
       "      <td>2.555528</td>\n",
       "      <td>44410.0</td>\n",
       "      <td>1119.382419</td>\n",
       "      <td>1.532258</td>\n",
       "      <td>2.939315</td>\n",
       "      <td>2.928647</td>\n",
       "      <td>2.948736</td>\n",
       "    </tr>\n",
       "    <tr>\n",
       "      <th>1</th>\n",
       "      <td>North Mountain</td>\n",
       "      <td>74541.0</td>\n",
       "      <td>4096.308094</td>\n",
       "      <td>3.340654</td>\n",
       "      <td>165668.0</td>\n",
       "      <td>5920.925857</td>\n",
       "      <td>2.172627</td>\n",
       "      <td>91127.0</td>\n",
       "      <td>4690.628636</td>\n",
       "      <td>3.129090</td>\n",
       "      <td>...</td>\n",
       "      <td>1.694056</td>\n",
       "      <td>28423.0</td>\n",
       "      <td>1098.145710</td>\n",
       "      <td>2.348682</td>\n",
       "      <td>61245.0</td>\n",
       "      <td>1280.656472</td>\n",
       "      <td>1.271148</td>\n",
       "      <td>2.590922</td>\n",
       "      <td>2.592621</td>\n",
       "      <td>2.588960</td>\n",
       "    </tr>\n",
       "    <tr>\n",
       "      <th>2</th>\n",
       "      <td>Maryvale</td>\n",
       "      <td>106692.0</td>\n",
       "      <td>5785.361873</td>\n",
       "      <td>3.296346</td>\n",
       "      <td>241055.0</td>\n",
       "      <td>8101.846271</td>\n",
       "      <td>2.043158</td>\n",
       "      <td>134363.0</td>\n",
       "      <td>6484.600373</td>\n",
       "      <td>2.933848</td>\n",
       "      <td>...</td>\n",
       "      <td>1.919751</td>\n",
       "      <td>30255.0</td>\n",
       "      <td>1109.630119</td>\n",
       "      <td>2.229540</td>\n",
       "      <td>59203.0</td>\n",
       "      <td>1231.623319</td>\n",
       "      <td>1.264644</td>\n",
       "      <td>3.714829</td>\n",
       "      <td>3.734006</td>\n",
       "      <td>3.696480</td>\n",
       "    </tr>\n",
       "  </tbody>\n",
       "</table>\n",
       "<p>3 rows × 43 columns</p>\n",
       "</div>"
      ],
      "text/plain": [
       "             name   p_r_21E      p_r_21M   p_r_21C  p_tot_21E    p_tot_21M  \\\n",
       "0        Alhambra   69590.0  4438.001915  3.876812   135881.0  5273.218372   \n",
       "1  North Mountain   74541.0  4096.308094  3.340654   165668.0  5920.925857   \n",
       "2        Maryvale  106692.0  5785.361873  3.296346   241055.0  8101.846271   \n",
       "\n",
       "   p_tot_21C   p_o_21E      p_o_21M   p_o_21C  ...  h_otot_13C  h_rtot_13E  \\\n",
       "0   2.359126   66291.0  3520.798205  3.228648  ...    2.277293     23584.0   \n",
       "1   2.172627   91127.0  4690.628636  3.129090  ...    1.694056     28423.0   \n",
       "2   2.043158  134363.0  6484.600373  2.933848  ...    1.919751     30255.0   \n",
       "\n",
       "    h_rtot_13M  h_rtot_13C  h_tot_13E    h_tot_13M  h_tot_13C  a_tot_13E  \\\n",
       "0   991.434315    2.555528    44410.0  1119.382419   1.532258   2.939315   \n",
       "1  1098.145710    2.348682    61245.0  1280.656472   1.271148   2.590922   \n",
       "2  1109.630119    2.229540    59203.0  1231.623319   1.264644   3.714829   \n",
       "\n",
       "   a_otot_13E  a_rtot_13E  \n",
       "0    2.928647    2.948736  \n",
       "1    2.592621    2.588960  \n",
       "2    3.734006    3.696480  \n",
       "\n",
       "[3 rows x 43 columns]"
      ]
     },
     "execution_count": 13,
     "metadata": {},
     "output_type": "execute_result"
    }
   ],
   "source": [
    "avg_vil.head(3)"
   ]
  },
  {
   "cell_type": "markdown",
   "metadata": {},
   "source": [
    "### Make Phoenix & U.S. function"
   ]
  },
  {
   "cell_type": "code",
   "execution_count": 14,
   "metadata": {
    "scrolled": true
   },
   "outputs": [],
   "source": [
    "def make_table(year,geo):\n",
    "    if geo == 'phoenix':\n",
    "        df = get.get_phx(source,year,cols_pop)\n",
    "        dff = get.get_phx(source,year,cols_hou)\n",
    "    elif geo == 'us':\n",
    "        df = get.get_us(source,year,cols_pop)\n",
    "        dff = get.get_us(source,year,cols_hou)\n",
    "    else:\n",
    "        pass\n",
    "    \n",
    "    df.rename(columns=ten_rename,inplace=True)\n",
    "    df = df.filter(regex='(?<!A)$',axis=1) #drop non-estimate columns\n",
    "    df = get.clean_data(df,['GEO_ID']+list(ten_rename.values()))\n",
    "    \n",
    "    dff.rename(columns=hh_rename,inplace=True)\n",
    "    dff = dff[['GEO_ID','h_tot_E','h_tot_M','h_otot_E',\\\n",
    "           'h_otot_M','h_rtot_E','h_rtot_M']] #take only total households\n",
    "    dff = get.clean_data(dff,dff.columns)\n",
    "    \n",
    "    for frame in [df,dff]:\n",
    "        for col in frame.columns[1:]:\n",
    "            frame.rename(columns={col:f'{col[:-1]}{year[-2:]}{col[-1:]}'},inplace=True)\n",
    "            \n",
    "    avg = make_avg(df,dff,year,'GEO_ID')\n",
    "    return avg"
   ]
  },
  {
   "cell_type": "markdown",
   "metadata": {},
   "source": [
    "## City of Phoenix"
   ]
  },
  {
   "cell_type": "code",
   "execution_count": 15,
   "metadata": {},
   "outputs": [],
   "source": [
    "phx1 = make_table(y1,'phoenix')\n",
    "phx0 = make_table(y0,'phoenix')"
   ]
  },
  {
   "cell_type": "code",
   "execution_count": 16,
   "metadata": {},
   "outputs": [
    {
     "data": {
      "text/html": [
       "<div>\n",
       "<style scoped>\n",
       "    .dataframe tbody tr th:only-of-type {\n",
       "        vertical-align: middle;\n",
       "    }\n",
       "\n",
       "    .dataframe tbody tr th {\n",
       "        vertical-align: top;\n",
       "    }\n",
       "\n",
       "    .dataframe thead th {\n",
       "        text-align: right;\n",
       "    }\n",
       "</style>\n",
       "<table border=\"1\" class=\"dataframe\">\n",
       "  <thead>\n",
       "    <tr style=\"text-align: right;\">\n",
       "      <th></th>\n",
       "      <th>GEO_ID</th>\n",
       "      <th>a_tot_13E</th>\n",
       "      <th>a_tot_13M</th>\n",
       "      <th>a_tot_13C</th>\n",
       "      <th>h_tot_21E</th>\n",
       "      <th>h_tot_21M</th>\n",
       "      <th>h_tot_21C</th>\n",
       "      <th>a_otot_13E</th>\n",
       "      <th>a_otot_13M</th>\n",
       "      <th>a_otot_13C</th>\n",
       "      <th>...</th>\n",
       "      <th>a_rtot_21C</th>\n",
       "      <th>p_o_13E</th>\n",
       "      <th>p_o_13M</th>\n",
       "      <th>p_o_13C</th>\n",
       "      <th>h_otot_21E</th>\n",
       "      <th>h_otot_21M</th>\n",
       "      <th>h_otot_21C</th>\n",
       "      <th>p_o_21E</th>\n",
       "      <th>p_o_21M</th>\n",
       "      <th>p_o_21C</th>\n",
       "    </tr>\n",
       "  </thead>\n",
       "  <tbody>\n",
       "    <tr>\n",
       "      <th>0</th>\n",
       "      <td>0455000</td>\n",
       "      <td>2.81403</td>\n",
       "      <td>NaN</td>\n",
       "      <td>NaN</td>\n",
       "      <td>579876.0</td>\n",
       "      <td>2997.0</td>\n",
       "      <td>0.314185</td>\n",
       "      <td>2.844262</td>\n",
       "      <td>NaN</td>\n",
       "      <td>NaN</td>\n",
       "      <td>...</td>\n",
       "      <td>NaN</td>\n",
       "      <td>816525.0</td>\n",
       "      <td>8870.0</td>\n",
       "      <td>0.660371</td>\n",
       "      <td>325058.0</td>\n",
       "      <td>3574.0</td>\n",
       "      <td>0.668387</td>\n",
       "      <td>922220.0</td>\n",
       "      <td>10456.0</td>\n",
       "      <td>0.689232</td>\n",
       "    </tr>\n",
       "  </tbody>\n",
       "</table>\n",
       "<p>1 rows × 55 columns</p>\n",
       "</div>"
      ],
      "text/plain": [
       "    GEO_ID  a_tot_13E  a_tot_13M  a_tot_13C  h_tot_21E  h_tot_21M  h_tot_21C  \\\n",
       "0  0455000    2.81403        NaN        NaN   579876.0     2997.0   0.314185   \n",
       "\n",
       "   a_otot_13E  a_otot_13M  a_otot_13C  ...  a_rtot_21C   p_o_13E  p_o_13M  \\\n",
       "0    2.844262         NaN         NaN  ...         NaN  816525.0   8870.0   \n",
       "\n",
       "    p_o_13C  h_otot_21E  h_otot_21M  h_otot_21C   p_o_21E  p_o_21M   p_o_21C  \n",
       "0  0.660371    325058.0      3574.0    0.668387  922220.0  10456.0  0.689232  \n",
       "\n",
       "[1 rows x 55 columns]"
      ]
     },
     "execution_count": 16,
     "metadata": {},
     "output_type": "execute_result"
    }
   ],
   "source": [
    "avg_phx = pd.merge(phx1,phx0,how='left',on='GEO_ID')\n",
    "avg_phx = geo_agg.sumgeo_cv(avg_phx,'GEO_ID')\n",
    "avg_phx"
   ]
  },
  {
   "cell_type": "markdown",
   "metadata": {},
   "source": [
    "## U.S."
   ]
  },
  {
   "cell_type": "code",
   "execution_count": 17,
   "metadata": {},
   "outputs": [],
   "source": [
    "us1 = make_table(y1,'us')\n",
    "us0 = make_table(y0,'us')"
   ]
  },
  {
   "cell_type": "code",
   "execution_count": 18,
   "metadata": {},
   "outputs": [
    {
     "data": {
      "text/html": [
       "<div>\n",
       "<style scoped>\n",
       "    .dataframe tbody tr th:only-of-type {\n",
       "        vertical-align: middle;\n",
       "    }\n",
       "\n",
       "    .dataframe tbody tr th {\n",
       "        vertical-align: top;\n",
       "    }\n",
       "\n",
       "    .dataframe thead th {\n",
       "        text-align: right;\n",
       "    }\n",
       "</style>\n",
       "<table border=\"1\" class=\"dataframe\">\n",
       "  <thead>\n",
       "    <tr style=\"text-align: right;\">\n",
       "      <th></th>\n",
       "      <th>GEO_ID</th>\n",
       "      <th>a_tot_13E</th>\n",
       "      <th>a_tot_13M</th>\n",
       "      <th>a_tot_13C</th>\n",
       "      <th>h_tot_21E</th>\n",
       "      <th>h_tot_21M</th>\n",
       "      <th>h_tot_21C</th>\n",
       "      <th>a_otot_13E</th>\n",
       "      <th>a_otot_13M</th>\n",
       "      <th>a_otot_13C</th>\n",
       "      <th>...</th>\n",
       "      <th>a_rtot_21C</th>\n",
       "      <th>p_o_13E</th>\n",
       "      <th>p_o_13M</th>\n",
       "      <th>p_o_13C</th>\n",
       "      <th>h_otot_21E</th>\n",
       "      <th>h_otot_21M</th>\n",
       "      <th>h_otot_21C</th>\n",
       "      <th>p_o_21E</th>\n",
       "      <th>p_o_21M</th>\n",
       "      <th>p_o_21C</th>\n",
       "    </tr>\n",
       "  </thead>\n",
       "  <tbody>\n",
       "    <tr>\n",
       "      <th>0</th>\n",
       "      <td>0100000US</td>\n",
       "      <td>2.625283</td>\n",
       "      <td>NaN</td>\n",
       "      <td>NaN</td>\n",
       "      <td>124010992.0</td>\n",
       "      <td>196755.0</td>\n",
       "      <td>0.096449</td>\n",
       "      <td>2.691335</td>\n",
       "      <td>NaN</td>\n",
       "      <td>NaN</td>\n",
       "      <td>...</td>\n",
       "      <td>NaN</td>\n",
       "      <td>202053822.0</td>\n",
       "      <td>704205.0</td>\n",
       "      <td>0.211868</td>\n",
       "      <td>80152161.0</td>\n",
       "      <td>337611.0</td>\n",
       "      <td>0.256056</td>\n",
       "      <td>215577207.0</td>\n",
       "      <td>690800.0</td>\n",
       "      <td>0.194798</td>\n",
       "    </tr>\n",
       "  </tbody>\n",
       "</table>\n",
       "<p>1 rows × 55 columns</p>\n",
       "</div>"
      ],
      "text/plain": [
       "      GEO_ID  a_tot_13E  a_tot_13M  a_tot_13C    h_tot_21E  h_tot_21M  \\\n",
       "0  0100000US   2.625283        NaN        NaN  124010992.0   196755.0   \n",
       "\n",
       "   h_tot_21C  a_otot_13E  a_otot_13M  a_otot_13C  ...  a_rtot_21C  \\\n",
       "0   0.096449    2.691335         NaN         NaN  ...         NaN   \n",
       "\n",
       "       p_o_13E   p_o_13M   p_o_13C  h_otot_21E  h_otot_21M  h_otot_21C  \\\n",
       "0  202053822.0  704205.0  0.211868  80152161.0    337611.0    0.256056   \n",
       "\n",
       "       p_o_21E   p_o_21M   p_o_21C  \n",
       "0  215577207.0  690800.0  0.194798  \n",
       "\n",
       "[1 rows x 55 columns]"
      ]
     },
     "execution_count": 18,
     "metadata": {},
     "output_type": "execute_result"
    }
   ],
   "source": [
    "avg_us = pd.merge(us1,us0,how='left',on='GEO_ID')\n",
    "avg_us = geo_agg.sumgeo_cv(avg_us,'GEO_ID')\n",
    "avg_us"
   ]
  },
  {
   "cell_type": "code",
   "execution_count": 19,
   "metadata": {},
   "outputs": [],
   "source": [
    "with pd.ExcelWriter(f'output/HH_size_ten.xlsx') as writer:\n",
    "    avg_vil.to_excel(writer, sheet_name=\"urban_village\", index=False)\n",
    "    avg_phx.to_excel(writer, sheet_name=\"phoenix\", index=False)\n",
    "    avg_us.to_excel(writer, sheet_name=\"us\", index=False)"
   ]
  }
 ],
 "metadata": {
  "kernelspec": {
   "display_name": "Python 3 (ipykernel)",
   "language": "python",
   "name": "python3"
  },
  "language_info": {
   "codemirror_mode": {
    "name": "ipython",
    "version": 3
   },
   "file_extension": ".py",
   "mimetype": "text/x-python",
   "name": "python",
   "nbconvert_exporter": "python",
   "pygments_lexer": "ipython3",
   "version": "3.9.13"
  }
 },
 "nbformat": 4,
 "nbformat_minor": 2
}
