{
 "cells": [
  {
   "cell_type": "markdown",
   "metadata": {},
   "source": [
    "# PUMS Household Income vs. AMI (2021) in Phoenix  PUMAS\n",
    "\n",
    "- https://www.census.gov/data/developers/data-sets/\n",
    "\n",
    "For households by income and household size to compare to HUD AMI in same year\n",
    "-  https://api.census.gov/data/2021/acs/acs1/pums/variables.html\n",
    "\n",
    "2021 AMI by HH Size (from City of Phoenix)\n",
    "- https://www.phoenix.gov/humanservicessite/Documents/2021%20AMI%20Limits%204.2.21.pdf\n",
    "\n",
    "Variables of note:\n",
    "\n",
    "ADJHSG - adjustment factor for housing dollar amounts (6 decimal places)\n",
    "'1000000' = 1.000000\n",
    "\n",
    "FHINCP - income flag - 1: yes https://api.census.gov/data/2021/acs/acs1/pums/variables/FHINCP.json\n",
    "\n",
    "HINCP - HHI in past 12 months (not -60000:n/a, 0:no income, -59999 loss of 59k+)\n",
    "-1 to -59998 loss, 1+\n",
    "https://api.census.gov/data/2021/acs/acs1/pums/variables/HINCP.json\n",
    "\n",
    "GRNTP - gross rent (monthly) (not 0: n/a,not paying rent, owned)\n",
    "https://api.census.gov/data/2021/acs/acs1/pums/variables/GRNTP.json"
   ]
  },
  {
   "cell_type": "code",
   "execution_count": 1,
   "metadata": {},
   "outputs": [],
   "source": [
    "import pandas as pd\n",
    "import math\n",
    "import numpy as np\n",
    "import os"
   ]
  },
  {
   "cell_type": "code",
   "execution_count": 2,
   "metadata": {},
   "outputs": [],
   "source": [
    "import get_pums as get\n",
    "import pums as calc"
   ]
  },
  {
   "cell_type": "code",
   "execution_count": 3,
   "metadata": {},
   "outputs": [],
   "source": [
    "#Search parameters\n",
    "y1 = '2021'\n",
    "\n",
    "sample = 'acs1'\n",
    "\n",
    "phx_pumas = ['0400113','0400114','0400115','0400116','0400117',\\\n",
    "             '0400118','0400119','0400120','0400121','0400122','0400123',\\\n",
    "             '0400125','0400128','0400112','0400129']\n",
    "\n",
    "#pumas that extend outside of the city '0400112','0400129'\n",
    "\n",
    "data_cols = 'SERIALNO,ST,PUMA,HINCP,NP,WGTP,ADJINC,ADJHSG,GRNTP'"
   ]
  },
  {
   "cell_type": "code",
   "execution_count": 4,
   "metadata": {},
   "outputs": [],
   "source": [
    "#AMI bands in 2021 by household size\n",
    "#represents household income limit by household size\n",
    "AMI_30pct = {'1':16600,'2':19000,'3':21960,'4':26500,'5':31040,'6':35580,\\\n",
    "            '7':40120,'8':44660}\n",
    "AMI_50pct = {'1':27650,'2':31600,'3':35500,'4':39500,'5':42700,'6':45850,\\\n",
    "            '7':49000,'8':52150}\n",
    "AMI_80pct = {'1':44250,'2':50600,'3':56900,'4':63200,'5':68300,'6':73350,\\\n",
    "            '7':78400,'8':83450}\n",
    "AMI_100pct = {'1':55300,'2':63200,'3':71000,'4':79000,'5':85400,'6':91700,\\\n",
    "            '7':98000,'8':104300}"
   ]
  },
  {
   "cell_type": "code",
   "execution_count": 5,
   "metadata": {},
   "outputs": [],
   "source": [
    "#Housing costs affordable to different AMI bands based on household size\n",
    "#assumes maxium of 30% of annual household income, translated to monthly rent\n",
    "unit_afford = {'1':[0,415,691,1106,1383,1000000000],\\\n",
    "              '2':[0,475,790,1265,1580,1000000000],\\\n",
    "              '3':[0,549,888,1423,1775,1000000000],\\\n",
    "              '4':[0,663,988,1580,1975,1000000000],\\\n",
    "              '5':[0,776,1068,1708,2135,1000000000],\\\n",
    "              '6':[0,890,1146,1834,2293,1000000000],\\\n",
    "              '7':[0,1003,1225,1960,2450,1000000000],\\\n",
    "              '8':[0,1117,1304,2450,2608,1000000000]}\n",
    "\n",
    "inc_lbls = ['u30_ami','30_50_ami','50_80_ami','80_100_ami','o100_ami']"
   ]
  },
  {
   "cell_type": "code",
   "execution_count": 6,
   "metadata": {},
   "outputs": [],
   "source": [
    "# create a list of replicate weights\n",
    "repwt = 'WGTP'\n",
    "repwts = [repwt+str(i) for i in range(1, 81)]"
   ]
  },
  {
   "cell_type": "markdown",
   "metadata": {},
   "source": [
    "## Get PUMA data"
   ]
  },
  {
   "cell_type": "code",
   "execution_count": 7,
   "metadata": {
    "scrolled": true
   },
   "outputs": [],
   "source": [
    "df = get.get_puma(sample,y1,data_cols)"
   ]
  },
  {
   "cell_type": "code",
   "execution_count": 8,
   "metadata": {},
   "outputs": [],
   "source": [
    "df['GEO_ID'] = df['ST']+df['PUMA']\n",
    "df = df[df.GEO_ID.isin(phx_pumas)]\n",
    "df  = df.drop(['SERIALNO','ST','PUMA'],axis=1)\n",
    "df = df[['GEO_ID']+[col for col in df.columns if col != 'GEO_ID']] #move id to first col\n",
    "for col in df.columns[1:]: df[col] = df[col].astype(float)"
   ]
  },
  {
   "cell_type": "code",
   "execution_count": 9,
   "metadata": {
    "scrolled": true
   },
   "outputs": [
    {
     "data": {
      "text/html": [
       "<div>\n",
       "<style scoped>\n",
       "    .dataframe tbody tr th:only-of-type {\n",
       "        vertical-align: middle;\n",
       "    }\n",
       "\n",
       "    .dataframe tbody tr th {\n",
       "        vertical-align: top;\n",
       "    }\n",
       "\n",
       "    .dataframe thead th {\n",
       "        text-align: right;\n",
       "    }\n",
       "</style>\n",
       "<table border=\"1\" class=\"dataframe\">\n",
       "  <thead>\n",
       "    <tr style=\"text-align: right;\">\n",
       "      <th></th>\n",
       "      <th>GEO_ID</th>\n",
       "      <th>HINCP</th>\n",
       "      <th>NP</th>\n",
       "      <th>WGTP</th>\n",
       "      <th>ADJINC</th>\n",
       "      <th>ADJHSG</th>\n",
       "      <th>GRNTP</th>\n",
       "      <th>WGTP1</th>\n",
       "      <th>WGTP2</th>\n",
       "      <th>WGTP3</th>\n",
       "      <th>...</th>\n",
       "      <th>WGTP71</th>\n",
       "      <th>WGTP72</th>\n",
       "      <th>WGTP73</th>\n",
       "      <th>WGTP74</th>\n",
       "      <th>WGTP75</th>\n",
       "      <th>WGTP76</th>\n",
       "      <th>WGTP77</th>\n",
       "      <th>WGTP78</th>\n",
       "      <th>WGTP79</th>\n",
       "      <th>WGTP80</th>\n",
       "    </tr>\n",
       "  </thead>\n",
       "  <tbody>\n",
       "    <tr>\n",
       "      <th>4</th>\n",
       "      <td>0400119</td>\n",
       "      <td>-60000.0</td>\n",
       "      <td>1.0</td>\n",
       "      <td>0.0</td>\n",
       "      <td>1.029928</td>\n",
       "      <td>1000000.0</td>\n",
       "      <td>0.0</td>\n",
       "      <td>0.0</td>\n",
       "      <td>0.0</td>\n",
       "      <td>0.0</td>\n",
       "      <td>...</td>\n",
       "      <td>0.0</td>\n",
       "      <td>0.0</td>\n",
       "      <td>0.0</td>\n",
       "      <td>0.0</td>\n",
       "      <td>0.0</td>\n",
       "      <td>0.0</td>\n",
       "      <td>0.0</td>\n",
       "      <td>0.0</td>\n",
       "      <td>0.0</td>\n",
       "      <td>0.0</td>\n",
       "    </tr>\n",
       "    <tr>\n",
       "      <th>33</th>\n",
       "      <td>0400129</td>\n",
       "      <td>-60000.0</td>\n",
       "      <td>1.0</td>\n",
       "      <td>0.0</td>\n",
       "      <td>1.029928</td>\n",
       "      <td>1000000.0</td>\n",
       "      <td>0.0</td>\n",
       "      <td>0.0</td>\n",
       "      <td>0.0</td>\n",
       "      <td>0.0</td>\n",
       "      <td>...</td>\n",
       "      <td>0.0</td>\n",
       "      <td>0.0</td>\n",
       "      <td>0.0</td>\n",
       "      <td>0.0</td>\n",
       "      <td>0.0</td>\n",
       "      <td>0.0</td>\n",
       "      <td>0.0</td>\n",
       "      <td>0.0</td>\n",
       "      <td>0.0</td>\n",
       "      <td>0.0</td>\n",
       "    </tr>\n",
       "    <tr>\n",
       "      <th>38</th>\n",
       "      <td>0400120</td>\n",
       "      <td>-60000.0</td>\n",
       "      <td>1.0</td>\n",
       "      <td>0.0</td>\n",
       "      <td>1.029928</td>\n",
       "      <td>1000000.0</td>\n",
       "      <td>0.0</td>\n",
       "      <td>0.0</td>\n",
       "      <td>0.0</td>\n",
       "      <td>0.0</td>\n",
       "      <td>...</td>\n",
       "      <td>0.0</td>\n",
       "      <td>0.0</td>\n",
       "      <td>0.0</td>\n",
       "      <td>0.0</td>\n",
       "      <td>0.0</td>\n",
       "      <td>0.0</td>\n",
       "      <td>0.0</td>\n",
       "      <td>0.0</td>\n",
       "      <td>0.0</td>\n",
       "      <td>0.0</td>\n",
       "    </tr>\n",
       "    <tr>\n",
       "      <th>40</th>\n",
       "      <td>0400116</td>\n",
       "      <td>-60000.0</td>\n",
       "      <td>1.0</td>\n",
       "      <td>0.0</td>\n",
       "      <td>1.029928</td>\n",
       "      <td>1000000.0</td>\n",
       "      <td>0.0</td>\n",
       "      <td>0.0</td>\n",
       "      <td>0.0</td>\n",
       "      <td>0.0</td>\n",
       "      <td>...</td>\n",
       "      <td>0.0</td>\n",
       "      <td>0.0</td>\n",
       "      <td>0.0</td>\n",
       "      <td>0.0</td>\n",
       "      <td>0.0</td>\n",
       "      <td>0.0</td>\n",
       "      <td>0.0</td>\n",
       "      <td>0.0</td>\n",
       "      <td>0.0</td>\n",
       "      <td>0.0</td>\n",
       "    </tr>\n",
       "    <tr>\n",
       "      <th>46</th>\n",
       "      <td>0400129</td>\n",
       "      <td>-60000.0</td>\n",
       "      <td>1.0</td>\n",
       "      <td>0.0</td>\n",
       "      <td>1.029928</td>\n",
       "      <td>1000000.0</td>\n",
       "      <td>0.0</td>\n",
       "      <td>0.0</td>\n",
       "      <td>0.0</td>\n",
       "      <td>0.0</td>\n",
       "      <td>...</td>\n",
       "      <td>0.0</td>\n",
       "      <td>0.0</td>\n",
       "      <td>0.0</td>\n",
       "      <td>0.0</td>\n",
       "      <td>0.0</td>\n",
       "      <td>0.0</td>\n",
       "      <td>0.0</td>\n",
       "      <td>0.0</td>\n",
       "      <td>0.0</td>\n",
       "      <td>0.0</td>\n",
       "    </tr>\n",
       "  </tbody>\n",
       "</table>\n",
       "<p>5 rows × 87 columns</p>\n",
       "</div>"
      ],
      "text/plain": [
       "     GEO_ID    HINCP   NP  WGTP    ADJINC     ADJHSG  GRNTP  WGTP1  WGTP2  \\\n",
       "4   0400119 -60000.0  1.0   0.0  1.029928  1000000.0    0.0    0.0    0.0   \n",
       "33  0400129 -60000.0  1.0   0.0  1.029928  1000000.0    0.0    0.0    0.0   \n",
       "38  0400120 -60000.0  1.0   0.0  1.029928  1000000.0    0.0    0.0    0.0   \n",
       "40  0400116 -60000.0  1.0   0.0  1.029928  1000000.0    0.0    0.0    0.0   \n",
       "46  0400129 -60000.0  1.0   0.0  1.029928  1000000.0    0.0    0.0    0.0   \n",
       "\n",
       "    WGTP3  ...  WGTP71  WGTP72  WGTP73  WGTP74  WGTP75  WGTP76  WGTP77  \\\n",
       "4     0.0  ...     0.0     0.0     0.0     0.0     0.0     0.0     0.0   \n",
       "33    0.0  ...     0.0     0.0     0.0     0.0     0.0     0.0     0.0   \n",
       "38    0.0  ...     0.0     0.0     0.0     0.0     0.0     0.0     0.0   \n",
       "40    0.0  ...     0.0     0.0     0.0     0.0     0.0     0.0     0.0   \n",
       "46    0.0  ...     0.0     0.0     0.0     0.0     0.0     0.0     0.0   \n",
       "\n",
       "    WGTP78  WGTP79  WGTP80  \n",
       "4      0.0     0.0     0.0  \n",
       "33     0.0     0.0     0.0  \n",
       "38     0.0     0.0     0.0  \n",
       "40     0.0     0.0     0.0  \n",
       "46     0.0     0.0     0.0  \n",
       "\n",
       "[5 rows x 87 columns]"
      ]
     },
     "execution_count": 9,
     "metadata": {},
     "output_type": "execute_result"
    }
   ],
   "source": [
    "df.head()"
   ]
  },
  {
   "cell_type": "code",
   "execution_count": 10,
   "metadata": {},
   "outputs": [
    {
     "data": {
      "text/plain": [
       "(7489, 87)"
      ]
     },
     "execution_count": 10,
     "metadata": {},
     "output_type": "execute_result"
    }
   ],
   "source": [
    "df.shape"
   ]
  },
  {
   "cell_type": "code",
   "execution_count": 11,
   "metadata": {},
   "outputs": [],
   "source": [
    "df.to_excel('output/raw_Census_rent.xlsx',index=False)"
   ]
  },
  {
   "cell_type": "code",
   "execution_count": 12,
   "metadata": {},
   "outputs": [],
   "source": [
    "df['HHSz'] = pd.cut(df['NP'],bins=[0,1,2,3,4,5,6,7,14],\\\n",
    "                   labels=['1','2','3','4','5','6','7','8'])\n",
    "df['HHSz'] = df['HHSz'].astype(str)\n",
    "df['HINCP'] = df.ADJINC * df.HINCP"
   ]
  },
  {
   "cell_type": "code",
   "execution_count": 13,
   "metadata": {},
   "outputs": [],
   "source": [
    "dfff = df[(df.HHSz.isna())&(df.HINCP==-60000)|(df.HINCP==0)&(df.GRNTP==0)].copy()"
   ]
  },
  {
   "cell_type": "code",
   "execution_count": 14,
   "metadata": {},
   "outputs": [
    {
     "data": {
      "text/plain": [
       "4045.0"
      ]
     },
     "execution_count": 14,
     "metadata": {},
     "output_type": "execute_result"
    }
   ],
   "source": [
    "dfff.WGTP.sum()"
   ]
  },
  {
   "cell_type": "code",
   "execution_count": 15,
   "metadata": {},
   "outputs": [
    {
     "data": {
      "text/html": [
       "<div>\n",
       "<style scoped>\n",
       "    .dataframe tbody tr th:only-of-type {\n",
       "        vertical-align: middle;\n",
       "    }\n",
       "\n",
       "    .dataframe tbody tr th {\n",
       "        vertical-align: top;\n",
       "    }\n",
       "\n",
       "    .dataframe thead th {\n",
       "        text-align: right;\n",
       "    }\n",
       "</style>\n",
       "<table border=\"1\" class=\"dataframe\">\n",
       "  <thead>\n",
       "    <tr style=\"text-align: right;\">\n",
       "      <th></th>\n",
       "      <th>GEO_ID</th>\n",
       "      <th>HINCP</th>\n",
       "      <th>NP</th>\n",
       "      <th>WGTP</th>\n",
       "      <th>ADJINC</th>\n",
       "      <th>ADJHSG</th>\n",
       "      <th>GRNTP</th>\n",
       "      <th>WGTP1</th>\n",
       "      <th>WGTP2</th>\n",
       "      <th>WGTP3</th>\n",
       "      <th>...</th>\n",
       "      <th>WGTP72</th>\n",
       "      <th>WGTP73</th>\n",
       "      <th>WGTP74</th>\n",
       "      <th>WGTP75</th>\n",
       "      <th>WGTP76</th>\n",
       "      <th>WGTP77</th>\n",
       "      <th>WGTP78</th>\n",
       "      <th>WGTP79</th>\n",
       "      <th>WGTP80</th>\n",
       "      <th>HHSz</th>\n",
       "    </tr>\n",
       "  </thead>\n",
       "  <tbody>\n",
       "    <tr>\n",
       "      <th>3897</th>\n",
       "      <td>0400129</td>\n",
       "      <td>0.0</td>\n",
       "      <td>2.0</td>\n",
       "      <td>73.0</td>\n",
       "      <td>1.029928</td>\n",
       "      <td>1000000.0</td>\n",
       "      <td>0.0</td>\n",
       "      <td>71.0</td>\n",
       "      <td>126.0</td>\n",
       "      <td>117.0</td>\n",
       "      <td>...</td>\n",
       "      <td>21.0</td>\n",
       "      <td>76.0</td>\n",
       "      <td>20.0</td>\n",
       "      <td>78.0</td>\n",
       "      <td>22.0</td>\n",
       "      <td>60.0</td>\n",
       "      <td>70.0</td>\n",
       "      <td>71.0</td>\n",
       "      <td>115.0</td>\n",
       "      <td>2</td>\n",
       "    </tr>\n",
       "    <tr>\n",
       "      <th>5017</th>\n",
       "      <td>0400123</td>\n",
       "      <td>0.0</td>\n",
       "      <td>1.0</td>\n",
       "      <td>43.0</td>\n",
       "      <td>1.029928</td>\n",
       "      <td>1000000.0</td>\n",
       "      <td>0.0</td>\n",
       "      <td>11.0</td>\n",
       "      <td>11.0</td>\n",
       "      <td>76.0</td>\n",
       "      <td>...</td>\n",
       "      <td>16.0</td>\n",
       "      <td>43.0</td>\n",
       "      <td>13.0</td>\n",
       "      <td>84.0</td>\n",
       "      <td>44.0</td>\n",
       "      <td>12.0</td>\n",
       "      <td>11.0</td>\n",
       "      <td>40.0</td>\n",
       "      <td>40.0</td>\n",
       "      <td>1</td>\n",
       "    </tr>\n",
       "    <tr>\n",
       "      <th>5641</th>\n",
       "      <td>0400121</td>\n",
       "      <td>0.0</td>\n",
       "      <td>5.0</td>\n",
       "      <td>110.0</td>\n",
       "      <td>1.029928</td>\n",
       "      <td>1000000.0</td>\n",
       "      <td>0.0</td>\n",
       "      <td>35.0</td>\n",
       "      <td>102.0</td>\n",
       "      <td>111.0</td>\n",
       "      <td>...</td>\n",
       "      <td>106.0</td>\n",
       "      <td>177.0</td>\n",
       "      <td>113.0</td>\n",
       "      <td>104.0</td>\n",
       "      <td>206.0</td>\n",
       "      <td>106.0</td>\n",
       "      <td>29.0</td>\n",
       "      <td>35.0</td>\n",
       "      <td>30.0</td>\n",
       "      <td>5</td>\n",
       "    </tr>\n",
       "    <tr>\n",
       "      <th>7277</th>\n",
       "      <td>0400112</td>\n",
       "      <td>0.0</td>\n",
       "      <td>2.0</td>\n",
       "      <td>48.0</td>\n",
       "      <td>1.029928</td>\n",
       "      <td>1000000.0</td>\n",
       "      <td>0.0</td>\n",
       "      <td>83.0</td>\n",
       "      <td>83.0</td>\n",
       "      <td>50.0</td>\n",
       "      <td>...</td>\n",
       "      <td>49.0</td>\n",
       "      <td>15.0</td>\n",
       "      <td>15.0</td>\n",
       "      <td>83.0</td>\n",
       "      <td>82.0</td>\n",
       "      <td>14.0</td>\n",
       "      <td>47.0</td>\n",
       "      <td>80.0</td>\n",
       "      <td>49.0</td>\n",
       "      <td>2</td>\n",
       "    </tr>\n",
       "    <tr>\n",
       "      <th>8202</th>\n",
       "      <td>0400121</td>\n",
       "      <td>0.0</td>\n",
       "      <td>1.0</td>\n",
       "      <td>117.0</td>\n",
       "      <td>1.029928</td>\n",
       "      <td>1000000.0</td>\n",
       "      <td>0.0</td>\n",
       "      <td>116.0</td>\n",
       "      <td>213.0</td>\n",
       "      <td>124.0</td>\n",
       "      <td>...</td>\n",
       "      <td>131.0</td>\n",
       "      <td>114.0</td>\n",
       "      <td>131.0</td>\n",
       "      <td>121.0</td>\n",
       "      <td>113.0</td>\n",
       "      <td>208.0</td>\n",
       "      <td>175.0</td>\n",
       "      <td>198.0</td>\n",
       "      <td>209.0</td>\n",
       "      <td>1</td>\n",
       "    </tr>\n",
       "  </tbody>\n",
       "</table>\n",
       "<p>5 rows × 88 columns</p>\n",
       "</div>"
      ],
      "text/plain": [
       "       GEO_ID  HINCP   NP   WGTP    ADJINC     ADJHSG  GRNTP  WGTP1  WGTP2  \\\n",
       "3897  0400129    0.0  2.0   73.0  1.029928  1000000.0    0.0   71.0  126.0   \n",
       "5017  0400123    0.0  1.0   43.0  1.029928  1000000.0    0.0   11.0   11.0   \n",
       "5641  0400121    0.0  5.0  110.0  1.029928  1000000.0    0.0   35.0  102.0   \n",
       "7277  0400112    0.0  2.0   48.0  1.029928  1000000.0    0.0   83.0   83.0   \n",
       "8202  0400121    0.0  1.0  117.0  1.029928  1000000.0    0.0  116.0  213.0   \n",
       "\n",
       "      WGTP3  ...  WGTP72  WGTP73  WGTP74  WGTP75  WGTP76  WGTP77  WGTP78  \\\n",
       "3897  117.0  ...    21.0    76.0    20.0    78.0    22.0    60.0    70.0   \n",
       "5017   76.0  ...    16.0    43.0    13.0    84.0    44.0    12.0    11.0   \n",
       "5641  111.0  ...   106.0   177.0   113.0   104.0   206.0   106.0    29.0   \n",
       "7277   50.0  ...    49.0    15.0    15.0    83.0    82.0    14.0    47.0   \n",
       "8202  124.0  ...   131.0   114.0   131.0   121.0   113.0   208.0   175.0   \n",
       "\n",
       "      WGTP79  WGTP80  HHSz  \n",
       "3897    71.0   115.0     2  \n",
       "5017    40.0    40.0     1  \n",
       "5641    35.0    30.0     5  \n",
       "7277    80.0    49.0     2  \n",
       "8202   198.0   209.0     1  \n",
       "\n",
       "[5 rows x 88 columns]"
      ]
     },
     "execution_count": 15,
     "metadata": {},
     "output_type": "execute_result"
    }
   ],
   "source": [
    "dfff.head()"
   ]
  },
  {
   "cell_type": "code",
   "execution_count": 16,
   "metadata": {},
   "outputs": [],
   "source": [
    "dff = df[~(df.HHSz.isna()) & (df.HINCP!=-60000)&(df.HINCP!=0)&(df.GRNTP!=0)].copy()"
   ]
  },
  {
   "cell_type": "code",
   "execution_count": 17,
   "metadata": {},
   "outputs": [],
   "source": [
    "dff['hou_cost'] = dff.GRNTP\n",
    "dff['aff_cost'] = np.where(dff.HINCP>=1,(dff.HINCP*0.333)/12,0)"
   ]
  },
  {
   "cell_type": "code",
   "execution_count": 18,
   "metadata": {},
   "outputs": [],
   "source": [
    "#assign AMI range based on household size and ami dictionaries\n",
    "dff['AMI_range'] = np.where((dff['HINCP']<=dff['HHSz'].map(AMI_30pct)),'u30_ami',\\\n",
    "                   np.where((dff['HINCP']>dff['HHSz'].map(AMI_30pct))&(dff['HINCP']<=dff['HHSz'].map(AMI_50pct)),'30_50_ami',\\\n",
    "                   np.where((dff['HINCP']>dff['HHSz'].map(AMI_50pct))&(dff['HINCP']<=dff['HHSz'].map(AMI_80pct)),\\\n",
    "                   '50_80_ami',np.where((dff['HINCP']>dff['HHSz'].map(AMI_80pct))&(dff['HINCP']<=dff['HHSz'].map(AMI_100pct)),\\\n",
    "                   '80_100_ami','o100_ami'))))"
   ]
  },
  {
   "cell_type": "code",
   "execution_count": 19,
   "metadata": {},
   "outputs": [],
   "source": [
    "dff['cost_burdened'] = np.where(dff.hou_cost>dff.aff_cost,'burdened','not burdened')"
   ]
  },
  {
   "cell_type": "code",
   "execution_count": 20,
   "metadata": {},
   "outputs": [],
   "source": [
    "#who is the unit affordable to based on the rent\n",
    "dff['unit_aff'] = np.where(dff.HHSz=='1',pd.cut(dff['hou_cost'],bins=unit_afford['1'],labels=inc_lbls),\\\n",
    "                  np.where(dff.HHSz=='2',pd.cut(dff['hou_cost'],bins=unit_afford['2'],labels=inc_lbls),\\\n",
    "                  np.where(dff.HHSz=='3',pd.cut(dff['hou_cost'],bins=unit_afford['3'],labels=inc_lbls),\\\n",
    "                  np.where(dff.HHSz=='4',pd.cut(dff['hou_cost'],bins=unit_afford['4'],labels=inc_lbls),\\\n",
    "                  np.where(dff.HHSz=='5',pd.cut(dff['hou_cost'],bins=unit_afford['5'],labels=inc_lbls),\\\n",
    "                  np.where(dff.HHSz=='6',pd.cut(dff['hou_cost'],bins=unit_afford['6'],labels=inc_lbls),\\\n",
    "                  np.where(dff.HHSz=='7',pd.cut(dff['hou_cost'],bins=unit_afford['7'],labels=inc_lbls),\\\n",
    "                  np.where(dff.HHSz=='8',pd.cut(dff['hou_cost'],bins=unit_afford['8'],labels=inc_lbls),''))))))))"
   ]
  },
  {
   "cell_type": "code",
   "execution_count": 21,
   "metadata": {},
   "outputs": [
    {
     "data": {
      "text/html": [
       "<div>\n",
       "<style scoped>\n",
       "    .dataframe tbody tr th:only-of-type {\n",
       "        vertical-align: middle;\n",
       "    }\n",
       "\n",
       "    .dataframe tbody tr th {\n",
       "        vertical-align: top;\n",
       "    }\n",
       "\n",
       "    .dataframe thead th {\n",
       "        text-align: right;\n",
       "    }\n",
       "</style>\n",
       "<table border=\"1\" class=\"dataframe\">\n",
       "  <thead>\n",
       "    <tr style=\"text-align: right;\">\n",
       "      <th></th>\n",
       "      <th>GEO_ID</th>\n",
       "      <th>HINCP</th>\n",
       "      <th>NP</th>\n",
       "      <th>WGTP</th>\n",
       "      <th>ADJINC</th>\n",
       "      <th>ADJHSG</th>\n",
       "      <th>GRNTP</th>\n",
       "      <th>WGTP1</th>\n",
       "      <th>WGTP2</th>\n",
       "      <th>WGTP3</th>\n",
       "      <th>...</th>\n",
       "      <th>WGTP77</th>\n",
       "      <th>WGTP78</th>\n",
       "      <th>WGTP79</th>\n",
       "      <th>WGTP80</th>\n",
       "      <th>HHSz</th>\n",
       "      <th>hou_cost</th>\n",
       "      <th>aff_cost</th>\n",
       "      <th>AMI_range</th>\n",
       "      <th>cost_burdened</th>\n",
       "      <th>unit_aff</th>\n",
       "    </tr>\n",
       "  </thead>\n",
       "  <tbody>\n",
       "    <tr>\n",
       "      <th>3612</th>\n",
       "      <td>0400120</td>\n",
       "      <td>177353.6016</td>\n",
       "      <td>3.0</td>\n",
       "      <td>42.0</td>\n",
       "      <td>1.029928</td>\n",
       "      <td>1000000.0</td>\n",
       "      <td>2460.0</td>\n",
       "      <td>74.0</td>\n",
       "      <td>13.0</td>\n",
       "      <td>71.0</td>\n",
       "      <td>...</td>\n",
       "      <td>42.0</td>\n",
       "      <td>44.0</td>\n",
       "      <td>43.0</td>\n",
       "      <td>42.0</td>\n",
       "      <td>3</td>\n",
       "      <td>2460.0</td>\n",
       "      <td>4921.562444</td>\n",
       "      <td>o100_ami</td>\n",
       "      <td>not burdened</td>\n",
       "      <td>o100_ami</td>\n",
       "    </tr>\n",
       "    <tr>\n",
       "      <th>3637</th>\n",
       "      <td>0400119</td>\n",
       "      <td>55307.1336</td>\n",
       "      <td>7.0</td>\n",
       "      <td>172.0</td>\n",
       "      <td>1.029928</td>\n",
       "      <td>1000000.0</td>\n",
       "      <td>1405.0</td>\n",
       "      <td>70.0</td>\n",
       "      <td>81.0</td>\n",
       "      <td>157.0</td>\n",
       "      <td>...</td>\n",
       "      <td>152.0</td>\n",
       "      <td>164.0</td>\n",
       "      <td>282.0</td>\n",
       "      <td>65.0</td>\n",
       "      <td>7</td>\n",
       "      <td>1405.0</td>\n",
       "      <td>1534.772957</td>\n",
       "      <td>50_80_ami</td>\n",
       "      <td>not burdened</td>\n",
       "      <td>50_80_ami</td>\n",
       "    </tr>\n",
       "    <tr>\n",
       "      <th>3639</th>\n",
       "      <td>0400116</td>\n",
       "      <td>70344.0824</td>\n",
       "      <td>2.0</td>\n",
       "      <td>177.0</td>\n",
       "      <td>1.029928</td>\n",
       "      <td>1000000.0</td>\n",
       "      <td>1808.0</td>\n",
       "      <td>244.0</td>\n",
       "      <td>245.0</td>\n",
       "      <td>293.0</td>\n",
       "      <td>...</td>\n",
       "      <td>173.0</td>\n",
       "      <td>299.0</td>\n",
       "      <td>161.0</td>\n",
       "      <td>194.0</td>\n",
       "      <td>2</td>\n",
       "      <td>1808.0</td>\n",
       "      <td>1952.048287</td>\n",
       "      <td>o100_ami</td>\n",
       "      <td>not burdened</td>\n",
       "      <td>o100_ami</td>\n",
       "    </tr>\n",
       "  </tbody>\n",
       "</table>\n",
       "<p>3 rows × 93 columns</p>\n",
       "</div>"
      ],
      "text/plain": [
       "       GEO_ID        HINCP   NP   WGTP    ADJINC     ADJHSG   GRNTP  WGTP1  \\\n",
       "3612  0400120  177353.6016  3.0   42.0  1.029928  1000000.0  2460.0   74.0   \n",
       "3637  0400119   55307.1336  7.0  172.0  1.029928  1000000.0  1405.0   70.0   \n",
       "3639  0400116   70344.0824  2.0  177.0  1.029928  1000000.0  1808.0  244.0   \n",
       "\n",
       "      WGTP2  WGTP3  ...  WGTP77  WGTP78  WGTP79  WGTP80  HHSz  hou_cost  \\\n",
       "3612   13.0   71.0  ...    42.0    44.0    43.0    42.0     3    2460.0   \n",
       "3637   81.0  157.0  ...   152.0   164.0   282.0    65.0     7    1405.0   \n",
       "3639  245.0  293.0  ...   173.0   299.0   161.0   194.0     2    1808.0   \n",
       "\n",
       "         aff_cost  AMI_range  cost_burdened   unit_aff  \n",
       "3612  4921.562444   o100_ami   not burdened   o100_ami  \n",
       "3637  1534.772957  50_80_ami   not burdened  50_80_ami  \n",
       "3639  1952.048287   o100_ami   not burdened   o100_ami  \n",
       "\n",
       "[3 rows x 93 columns]"
      ]
     },
     "execution_count": 21,
     "metadata": {},
     "output_type": "execute_result"
    }
   ],
   "source": [
    "dff.head(3)"
   ]
  },
  {
   "cell_type": "markdown",
   "metadata": {},
   "source": [
    "### table by PUMA for renters by AMI range - cost burdened vs. not cost burdened"
   ]
  },
  {
   "cell_type": "code",
   "execution_count": 22,
   "metadata": {},
   "outputs": [],
   "source": [
    "def make_est(df):\n",
    "    df['hh_SE'] = df.apply(lambda x: (calc.get_se(x['WGTP'],x[repwts])),axis=1)\n",
    "    df['hh_MOE'] = df.apply(lambda x: (calc.get_moe(x['hh_SE'])),axis=1)\n",
    "    df['hh_CV'] = df.apply(lambda x: (calc.get_cv(x['WGTP'],x['hh_SE'])),axis=1)\n",
    "    df.rename(columns={'WGTP':'hh'},inplace=True)\n",
    "    return df"
   ]
  },
  {
   "cell_type": "code",
   "execution_count": 23,
   "metadata": {},
   "outputs": [],
   "source": [
    "drop_cols = ['HINCP','NP','ADJINC','ADJHSG','GRNTP','hou_cost', 'aff_cost','HHSz']"
   ]
  },
  {
   "cell_type": "code",
   "execution_count": 24,
   "metadata": {},
   "outputs": [],
   "source": [
    "table = dff.copy().drop(columns=drop_cols)"
   ]
  },
  {
   "cell_type": "code",
   "execution_count": 25,
   "metadata": {},
   "outputs": [],
   "source": [
    "table = table.groupby(['GEO_ID','AMI_range','unit_aff','cost_burdened']).sum().reset_index()"
   ]
  },
  {
   "cell_type": "code",
   "execution_count": 26,
   "metadata": {},
   "outputs": [],
   "source": [
    "table_2 = table.copy().groupby(['GEO_ID','AMI_range','unit_aff','cost_burdened']).sum().reset_index()\n",
    "table_2 = make_est(table_2)\n",
    "table_2 = table_2.drop(columns=repwts)"
   ]
  },
  {
   "cell_type": "code",
   "execution_count": 27,
   "metadata": {},
   "outputs": [],
   "source": [
    "rent_ami = table.copy().drop(columns=['unit_aff','cost_burdened']).groupby(['GEO_ID','AMI_range']).sum().reset_index()\n",
    "rent_ami = make_est(rent_ami)\n",
    "rent_ami = rent_ami.drop(columns=repwts)"
   ]
  },
  {
   "cell_type": "code",
   "execution_count": 28,
   "metadata": {},
   "outputs": [],
   "source": [
    "rent_aff = table.copy().drop(columns=['AMI_range','cost_burdened']).groupby(['GEO_ID','unit_aff']).sum().reset_index()\n",
    "rent_aff = make_est(rent_aff)\n",
    "rent_aff = rent_aff.drop(columns=repwts)"
   ]
  },
  {
   "cell_type": "code",
   "execution_count": 29,
   "metadata": {},
   "outputs": [],
   "source": [
    "cost_burd = table.copy().drop(columns=['unit_aff','AMI_range']).groupby(['GEO_ID','cost_burdened']).sum().reset_index()\n",
    "cost_burd = make_est(cost_burd)\n",
    "cost_burd = cost_burd.drop(columns=repwts)"
   ]
  },
  {
   "cell_type": "code",
   "execution_count": 30,
   "metadata": {},
   "outputs": [],
   "source": [
    "cost_burd_ami = table.copy().drop(columns=['unit_aff']).groupby(['GEO_ID','cost_burdened','AMI_range']).sum().reset_index()\n",
    "cost_burd_ami = make_est(cost_burd_ami)\n",
    "cost_burd_ami = cost_burd_ami.drop(columns=repwts)"
   ]
  },
  {
   "cell_type": "code",
   "execution_count": 31,
   "metadata": {},
   "outputs": [],
   "source": [
    "table_3 = table.copy().drop(columns='cost_burdened').groupby(['GEO_ID','AMI_range','unit_aff']).sum().reset_index()\n",
    "table_3 = make_est(table_3)\n",
    "table_3 = table_3.drop(columns=repwts)"
   ]
  },
  {
   "cell_type": "code",
   "execution_count": 32,
   "metadata": {},
   "outputs": [],
   "source": [
    "table_2 = pd.pivot_table(table_2,values=['hh','hh_MOE','hh_CV'],index='GEO_ID',\\\n",
    "                          columns=['AMI_range','unit_aff','cost_burdened'],aggfunc=np.sum).reset_index()\n",
    "\n",
    "rent_ami = pd.pivot_table(rent_ami,values=['hh','hh_MOE','hh_CV'],index='GEO_ID',\\\n",
    "                          columns=['AMI_range'],aggfunc=np.sum).reset_index()\n",
    "\n",
    "rent_aff = pd.pivot_table(rent_aff,values=['hh','hh_MOE','hh_CV'],index='GEO_ID',\\\n",
    "                          columns=['unit_aff'],aggfunc=np.sum).reset_index()\n",
    "\n",
    "cost_burd = pd.pivot_table(cost_burd,values=['hh','hh_MOE','hh_CV'],index='GEO_ID',\\\n",
    "                          columns=['cost_burdened'],aggfunc=np.sum).reset_index()\n",
    "\n",
    "cost_burd_ami = pd.pivot_table(cost_burd_ami,values=['hh','hh_MOE','hh_CV'],index='GEO_ID',\\\n",
    "                          columns=['cost_burdened','AMI_range'],aggfunc=np.sum).reset_index()"
   ]
  },
  {
   "cell_type": "code",
   "execution_count": 33,
   "metadata": {},
   "outputs": [],
   "source": [
    "table_3 = pd.pivot_table(table_3,values=['hh','hh_MOE','hh_CV'],index='GEO_ID',\\\n",
    "                          columns=['AMI_range','unit_aff'],aggfunc=np.sum).reset_index()"
   ]
  },
  {
   "cell_type": "code",
   "execution_count": 34,
   "metadata": {},
   "outputs": [],
   "source": [
    "with pd.ExcelWriter(f'output/pums_grossrent_gap_june.xlsx') as writer:\n",
    "    table_2.to_excel(writer,sheet_name='full_renter')\n",
    "    rent_ami.to_excel(writer,sheet_name='hh_ami_lvl_renter')\n",
    "    rent_aff.to_excel(writer,sheet_name='hh_afford_byAMI_renter')\n",
    "    cost_burd.to_excel(writer,sheet_name='cost_burdened_renter')\n",
    "    cost_burd_ami.to_excel(writer,sheet_name='cost_burdened_byAMI_renter')\n",
    "    table_3.to_excel(writer,sheet_name='demand_supply_amilvl')"
   ]
  }
 ],
 "metadata": {
  "kernelspec": {
   "display_name": "Python 3 (ipykernel)",
   "language": "python",
   "name": "python3"
  },
  "language_info": {
   "codemirror_mode": {
    "name": "ipython",
    "version": 3
   },
   "file_extension": ".py",
   "mimetype": "text/x-python",
   "name": "python",
   "nbconvert_exporter": "python",
   "pygments_lexer": "ipython3",
   "version": "3.9.13"
  }
 },
 "nbformat": 4,
 "nbformat_minor": 2
}
