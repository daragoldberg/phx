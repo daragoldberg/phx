{
 "cells": [
  {
   "cell_type": "markdown",
   "id": "ad5ecb1a",
   "metadata": {},
   "source": [
    "### get geography information (area and land area) from Census Tigerweb, pull in population and housing Decennial Census counts and calculate population and housing density in 2010 and 2020"
   ]
  },
  {
   "cell_type": "code",
   "execution_count": 1,
   "id": "e02664e0",
   "metadata": {},
   "outputs": [],
   "source": [
    "import sys\n",
    "import pandas as pd\n",
    "import numpy as np"
   ]
  },
  {
   "cell_type": "code",
   "execution_count": 8,
   "id": "cfac506e",
   "metadata": {},
   "outputs": [],
   "source": [
    "sys.path.append('..')\n",
    "import geo_getter as get"
   ]
  },
  {
   "cell_type": "markdown",
   "id": "1b9d5e50",
   "metadata": {},
   "source": [
    "## urban villages - blocks"
   ]
  },
  {
   "cell_type": "markdown",
   "id": "e72d93b8",
   "metadata": {},
   "source": [
    "## maricopa places"
   ]
  },
  {
   "cell_type": "code",
   "execution_count": 11,
   "id": "c97abea5",
   "metadata": {},
   "outputs": [],
   "source": [
    "plc10 = get.make_maricopa_pl('2010')\n",
    "plc20 = get.make_maricopa_pl('2020')\n",
    "plcs = pd.merge(plc10,plc20,how='left',on='GEOID')\n",
    "plcs.rename(columns={'BASENAME10':'name'},inplace=True)\n",
    "plcs = plcs.drop(['GEOID','AREAWATER10','BASENAME20','AREAWATER20'],axis=1)"
   ]
  },
  {
   "cell_type": "markdown",
   "id": "db079441",
   "metadata": {},
   "source": [
    "## maricopa"
   ]
  },
  {
   "cell_type": "code",
   "execution_count": 12,
   "id": "ee9962ad",
   "metadata": {},
   "outputs": [],
   "source": [
    "mar10 = get.make_maricopa('2010')\n",
    "mar20 = get.make_maricopa('2020')"
   ]
  },
  {
   "cell_type": "code",
   "execution_count": 13,
   "id": "76e7eb67",
   "metadata": {},
   "outputs": [],
   "source": [
    "mar = pd.merge(mar10,mar20,how='left',on='GEOID')"
   ]
  },
  {
   "cell_type": "code",
   "execution_count": 14,
   "id": "dc180f14",
   "metadata": {},
   "outputs": [],
   "source": [
    "mar.rename(columns={'BASENAME10':'name'},inplace=True)\n",
    "mar = mar.drop(['GEOID','AREAWATER10','BASENAME20','AREAWATER20'],axis=1)"
   ]
  },
  {
   "cell_type": "markdown",
   "id": "219d85b2",
   "metadata": {},
   "source": [
    "## arizona"
   ]
  },
  {
   "cell_type": "code",
   "execution_count": 15,
   "id": "d34ab714",
   "metadata": {},
   "outputs": [],
   "source": [
    "az10 = get.make_az('2010')\n",
    "az20 = get.make_az('2020')\n",
    "az = pd.merge(az10,az20,how='left',on='GEOID')\n",
    "az['name'] = 'AZ'"
   ]
  },
  {
   "cell_type": "code",
   "execution_count": 16,
   "id": "260516b2",
   "metadata": {},
   "outputs": [],
   "source": [
    "az = az.drop(['GEOID','AREAWATER10','BASENAME10','BASENAME20','AREAWATER20'],axis=1)"
   ]
  },
  {
   "cell_type": "markdown",
   "id": "a98deaeb",
   "metadata": {},
   "source": [
    "## us"
   ]
  },
  {
   "cell_type": "code",
   "execution_count": 17,
   "id": "a84b0307",
   "metadata": {},
   "outputs": [],
   "source": [
    "us10 = get.make_us('2010')\n",
    "us20 = get.make_us('2020')\n",
    "us = pd.merge(us10,us20,how='left',on='FUNCSTAT')"
   ]
  },
  {
   "cell_type": "code",
   "execution_count": 18,
   "id": "b6d422e6",
   "metadata": {},
   "outputs": [],
   "source": [
    "us['name'] = 'US'\n",
    "us = us.drop(['FUNCSTAT','AREAWATER10','AREAWATER20'],axis=1)"
   ]
  },
  {
   "cell_type": "markdown",
   "id": "211c5d84",
   "metadata": {},
   "source": [
    "## make big geography table - no urban vil"
   ]
  },
  {
   "cell_type": "code",
   "execution_count": 19,
   "id": "4d14c1f8",
   "metadata": {},
   "outputs": [],
   "source": [
    "geos = pd.concat([blk,mar,az,us,plcs,comps,uv])"
   ]
  },
  {
   "cell_type": "markdown",
   "id": "b454a5f2",
   "metadata": {},
   "source": [
    "## read in pop and housing from output folder"
   ]
  },
  {
   "cell_type": "code",
   "execution_count": 20,
   "id": "873364cf",
   "metadata": {},
   "outputs": [],
   "source": [
    "data = pd.read_csv('output/dec_pop_hou_race.csv')"
   ]
  },
  {
   "cell_type": "code",
   "execution_count": 21,
   "id": "534abb6a",
   "metadata": {},
   "outputs": [],
   "source": [
    "data = data[['name','Hou_10E','Hou_20E','Pop_10E','Pop_20E']]"
   ]
  },
  {
   "cell_type": "markdown",
   "id": "6eac2aaa",
   "metadata": {},
   "source": [
    "## calc housing and pop density in 2010 and 2020"
   ]
  },
  {
   "cell_type": "code",
   "execution_count": 22,
   "id": "6d4268ef",
   "metadata": {},
   "outputs": [],
   "source": [
    "geos = pd.merge(data,geos,how='left',on='name')"
   ]
  },
  {
   "cell_type": "code",
   "execution_count": 23,
   "id": "b3e7f050",
   "metadata": {},
   "outputs": [],
   "source": [
    "geos['HouDen_10'] = geos.Hou_10E / geos.AREALAND_ACRE10\n",
    "geos['PopDen_10'] = geos.Pop_10E / geos.AREALAND_ACRE10\n",
    "geos['HouDen_20'] = geos.Hou_20E / geos.AREALAND_ACRE20\n",
    "geos['PopDen_20'] = geos.Pop_20E / geos.AREALAND_ACRE20"
   ]
  },
  {
   "cell_type": "code",
   "execution_count": 24,
   "id": "d428c7ea",
   "metadata": {},
   "outputs": [],
   "source": [
    "geos.to_csv('output/dec_pop_hou_den.csv',index=False)"
   ]
  }
 ],
 "metadata": {
  "kernelspec": {
   "display_name": "Python 3 (ipykernel)",
   "language": "python",
   "name": "python3"
  },
  "language_info": {
   "codemirror_mode": {
    "name": "ipython",
    "version": 3
   },
   "file_extension": ".py",
   "mimetype": "text/x-python",
   "name": "python",
   "nbconvert_exporter": "python",
   "pygments_lexer": "ipython3",
   "version": "3.9.13"
  }
 },
 "nbformat": 4,
 "nbformat_minor": 5
}
