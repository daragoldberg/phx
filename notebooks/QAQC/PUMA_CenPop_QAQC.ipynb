{
 "cells": [
  {
   "cell_type": "markdown",
   "metadata": {},
   "source": [
    "## Pop & Housing variables pulled from 2010, and 2020 Censuses (using Cen API) for urban villages,  City of Phoenix and U.S.\n",
    "### added Maricopa County, State of Arizona, and comparable cities\n",
    "\n",
    "Total Housing Units, Population, Population by Ethncity, Total Occupied Housing Units,  \n",
    "\n",
    "Note: to update list of comp cities, adjust dictionary in getters script. also note Indianapolis is a consolidated city."
   ]
  },
  {
   "cell_type": "code",
   "execution_count": 1,
   "metadata": {},
   "outputs": [],
   "source": [
    "import sys\n",
    "import pandas as pd\n",
    "import numpy as np"
   ]
  },
  {
   "cell_type": "code",
   "execution_count": 2,
   "metadata": {},
   "outputs": [],
   "source": [
    "sys.path.append('..')\n",
    "import getters as get"
   ]
  },
  {
   "cell_type": "code",
   "execution_count": 5,
   "metadata": {},
   "outputs": [],
   "source": [
    "#import block group data\n",
    "bg20 = pd.read_csv('../../data/geo/qaqc/bgp-puma-outside-20.csv')\n",
    "bg20.geoid = bg20.geoid.apply(lambda x: '{0:0>12}'.format(x))\n",
    "bg20 = bg20[['geoid','puma']].copy() "
   ]
  },
  {
   "cell_type": "code",
   "execution_count": 7,
   "metadata": {},
   "outputs": [],
   "source": [
    "phx_pumas = ['0400113','0400114','0400115','0400116','0400117',\\\n",
    "             '0400118','0400119','0400120','0400121','0400122','0400123',\\\n",
    "             '0400125','0400128','0400112','0400129']\n",
    "\n",
    "#north_pumas = ['0400112','0400129']"
   ]
  },
  {
   "cell_type": "code",
   "execution_count": 9,
   "metadata": {},
   "outputs": [],
   "source": [
    "## set sources, define variable lists by Decennial Census year\n",
    "#SF1 Dec in 2010, Redistricting file in 2020 (until 2020 tables are released)\n",
    "\n",
    "source_dec = 'dec/sf1'\n",
    "source_red = 'dec/pl'\n",
    "\n",
    "#variables for each Census\n",
    "years = {'2010':'P001001,P005003,P005004,P005005,P005006,P005007,P005008,P005009,P005010,H003001,H003002,H003003',\\\n",
    "        '2020':'P1_001N,P2_002N,P2_005N,P2_006N,P2_007N,P2_008N,P2_009N,P2_010N,P2_011N,H1_001N,H1_002N,H1_003N'}\n",
    "\n",
    "#rename 2010 columns to group\n",
    "col_10_rename={'P001001':'Pop_10E','P005003':'P_Wh_10E','P005004':'P_Bl_10E','P005006':'P_As_10E','P005010':'P_Hi_10E',\\\n",
    "               'P005005':'P_Ot_10E','P005007':'P_Ot_10E','P005008':'P_Ot_10E','P005009':'P_Ot_10E',\\\n",
    "              'H003001':'Hou_10E','H003002':'Hou_O_10E','H003003':'Hou_V_10E'}\n",
    "\n",
    "#rename 2020 columns to group\n",
    "col_20_rename = {'P1_001N':'Pop_20E','P2_002N':'P_Hi_20E',\\\n",
    "              'P2_005N':'P_Wh_20E','P2_006N':'P_Bl_20E',\\\n",
    "              'P2_007N':'P_Ot_20E','P2_008N':'P_As_20E','P2_009N':'P_Ot_20E',\\\n",
    "              'P2_010N':'P_Ot_20E','P2_011N':'P_Ot_20E','H1_001N':'Hou_20E',\\\n",
    "              'H1_002N':'Hou_O_20E','H1_003N':'Hou_V_20E'}"
   ]
  },
  {
   "cell_type": "markdown",
   "metadata": {},
   "source": [
    "### Get block group data for bgs outside of PHX border included in PUMAs"
   ]
  },
  {
   "cell_type": "code",
   "execution_count": 10,
   "metadata": {
    "scrolled": false
   },
   "outputs": [],
   "source": [
    "df20 = get.get_bgp(source_red,list(years.keys())[1],years.get(list(years.keys())[1]))"
   ]
  },
  {
   "cell_type": "code",
   "execution_count": 13,
   "metadata": {},
   "outputs": [],
   "source": [
    "df20 = pd.merge(bg20,df20,how='left',left_on='geoid',right_on='GEO_ID')"
   ]
  },
  {
   "cell_type": "code",
   "execution_count": 16,
   "metadata": {},
   "outputs": [],
   "source": [
    "df20.drop(columns=['geoid','GEO_ID'],inplace=True)"
   ]
  },
  {
   "cell_type": "code",
   "execution_count": 19,
   "metadata": {},
   "outputs": [],
   "source": [
    "for col in df20.columns[1:]:\n",
    "    df20[col] = df20[col].astype(int)"
   ]
  },
  {
   "cell_type": "code",
   "execution_count": 22,
   "metadata": {},
   "outputs": [],
   "source": [
    "df20.rename(columns=col_20_rename,inplace=True)\n",
    "df20 = df20.groupby(df20.columns,axis=1).sum().groupby(['puma']).sum().reset_index()"
   ]
  },
  {
   "cell_type": "code",
   "execution_count": 23,
   "metadata": {
    "scrolled": true
   },
   "outputs": [
    {
     "data": {
      "text/html": [
       "<div>\n",
       "<style scoped>\n",
       "    .dataframe tbody tr th:only-of-type {\n",
       "        vertical-align: middle;\n",
       "    }\n",
       "\n",
       "    .dataframe tbody tr th {\n",
       "        vertical-align: top;\n",
       "    }\n",
       "\n",
       "    .dataframe thead th {\n",
       "        text-align: right;\n",
       "    }\n",
       "</style>\n",
       "<table border=\"1\" class=\"dataframe\">\n",
       "  <thead>\n",
       "    <tr style=\"text-align: right;\">\n",
       "      <th></th>\n",
       "      <th>puma</th>\n",
       "      <th>Hou_20E</th>\n",
       "      <th>Hou_O_20E</th>\n",
       "      <th>Hou_V_20E</th>\n",
       "      <th>P_As_20E</th>\n",
       "      <th>P_Bl_20E</th>\n",
       "      <th>P_Hi_20E</th>\n",
       "      <th>P_Ot_20E</th>\n",
       "      <th>P_Wh_20E</th>\n",
       "      <th>Pop_20E</th>\n",
       "    </tr>\n",
       "  </thead>\n",
       "  <tbody>\n",
       "    <tr>\n",
       "      <th>0</th>\n",
       "      <td>400112</td>\n",
       "      <td>38642</td>\n",
       "      <td>31315</td>\n",
       "      <td>7327</td>\n",
       "      <td>2535</td>\n",
       "      <td>815</td>\n",
       "      <td>4057</td>\n",
       "      <td>2736</td>\n",
       "      <td>61268</td>\n",
       "      <td>71411</td>\n",
       "    </tr>\n",
       "    <tr>\n",
       "      <th>1</th>\n",
       "      <td>400118</td>\n",
       "      <td>1218</td>\n",
       "      <td>1092</td>\n",
       "      <td>126</td>\n",
       "      <td>203</td>\n",
       "      <td>209</td>\n",
       "      <td>645</td>\n",
       "      <td>246</td>\n",
       "      <td>1367</td>\n",
       "      <td>2670</td>\n",
       "    </tr>\n",
       "    <tr>\n",
       "      <th>2</th>\n",
       "      <td>400119</td>\n",
       "      <td>1222</td>\n",
       "      <td>1185</td>\n",
       "      <td>37</td>\n",
       "      <td>165</td>\n",
       "      <td>801</td>\n",
       "      <td>2203</td>\n",
       "      <td>228</td>\n",
       "      <td>936</td>\n",
       "      <td>4333</td>\n",
       "    </tr>\n",
       "    <tr>\n",
       "      <th>3</th>\n",
       "      <td>400121</td>\n",
       "      <td>7002</td>\n",
       "      <td>6681</td>\n",
       "      <td>321</td>\n",
       "      <td>626</td>\n",
       "      <td>2519</td>\n",
       "      <td>15439</td>\n",
       "      <td>964</td>\n",
       "      <td>4139</td>\n",
       "      <td>23687</td>\n",
       "    </tr>\n",
       "    <tr>\n",
       "      <th>4</th>\n",
       "      <td>400129</td>\n",
       "      <td>38714</td>\n",
       "      <td>35759</td>\n",
       "      <td>2955</td>\n",
       "      <td>5138</td>\n",
       "      <td>2032</td>\n",
       "      <td>11589</td>\n",
       "      <td>5604</td>\n",
       "      <td>79210</td>\n",
       "      <td>103573</td>\n",
       "    </tr>\n",
       "  </tbody>\n",
       "</table>\n",
       "</div>"
      ],
      "text/plain": [
       "     puma  Hou_20E  Hou_O_20E  Hou_V_20E  P_As_20E  P_Bl_20E  P_Hi_20E  \\\n",
       "0  400112    38642      31315       7327      2535       815      4057   \n",
       "1  400118     1218       1092        126       203       209       645   \n",
       "2  400119     1222       1185         37       165       801      2203   \n",
       "3  400121     7002       6681        321       626      2519     15439   \n",
       "4  400129    38714      35759       2955      5138      2032     11589   \n",
       "\n",
       "   P_Ot_20E  P_Wh_20E  Pop_20E  \n",
       "0      2736     61268    71411  \n",
       "1       246      1367     2670  \n",
       "2       228       936     4333  \n",
       "3       964      4139    23687  \n",
       "4      5604     79210   103573  "
      ]
     },
     "execution_count": 23,
     "metadata": {},
     "output_type": "execute_result"
    }
   ],
   "source": [
    "df20.head()"
   ]
  },
  {
   "cell_type": "markdown",
   "metadata": {},
   "source": [
    "### Get PUMA data - build from tracts"
   ]
  },
  {
   "cell_type": "code",
   "execution_count": 27,
   "metadata": {},
   "outputs": [],
   "source": [
    "#read in 2020 tract to PUMA equivalency from Census website\n",
    "tract_puma = pd.read_table('https://www2.census.gov/geo/docs/maps-data/data/rel2020/2020_Census_Tract_to_2020_PUMA.txt',sep=',')\n",
    "tract_puma['puma'] = '0'+tract_puma['STATEFP'].astype(str)\\\n",
    "                      +tract_puma.PUMA5CE.astype(str).str.zfill(5)\n",
    "tract_puma['tract'] = '0'+tract_puma['STATEFP'].astype(str)+'0'+tract_puma['COUNTYFP'].astype(str)\\\n",
    "                      +tract_puma.TRACTCE.astype(str).str.zfill(6)\n",
    "tract_puma = tract_puma[(tract_puma.STATEFP==4)&(tract_puma.COUNTYFP==13)]"
   ]
  },
  {
   "cell_type": "code",
   "execution_count": 35,
   "metadata": {},
   "outputs": [],
   "source": [
    "p20 = get.get_tract(source_red,list(years.keys())[1],years.get(list(years.keys())[1]))"
   ]
  },
  {
   "cell_type": "code",
   "execution_count": 39,
   "metadata": {},
   "outputs": [],
   "source": [
    "p20['geoid'] = p20.state+p20.county+p20.tract\n",
    "p20.drop(columns=['state','county','tract'],inplace=True)"
   ]
  },
  {
   "cell_type": "code",
   "execution_count": 41,
   "metadata": {},
   "outputs": [],
   "source": [
    "p20 = pd.merge(p20,tract_puma,how='left',left_on='geoid',right_on='tract')\n",
    "p20.drop(columns=['geoid','STATEFP','COUNTYFP','TRACTCE','PUMA5CE','tract'],inplace=True)"
   ]
  },
  {
   "cell_type": "code",
   "execution_count": 46,
   "metadata": {},
   "outputs": [],
   "source": [
    "p20 = p20[['puma']+[col for col in p20.columns if col != 'puma']]"
   ]
  },
  {
   "cell_type": "code",
   "execution_count": 50,
   "metadata": {},
   "outputs": [],
   "source": [
    "for col in p20.columns[1:]:\n",
    "    p20[col] = p20[col].astype(int)"
   ]
  },
  {
   "cell_type": "code",
   "execution_count": 52,
   "metadata": {},
   "outputs": [],
   "source": [
    "p20.rename(columns=col_20_rename,inplace=True)\n",
    "p20 = p20.groupby(p20.columns,axis=1).sum().groupby(['puma']).sum().reset_index()"
   ]
  },
  {
   "cell_type": "code",
   "execution_count": 54,
   "metadata": {},
   "outputs": [],
   "source": [
    "p20 = p20[p20.puma.isin(phx_pumas)].copy()"
   ]
  },
  {
   "cell_type": "code",
   "execution_count": 55,
   "metadata": {},
   "outputs": [
    {
     "data": {
      "text/html": [
       "<div>\n",
       "<style scoped>\n",
       "    .dataframe tbody tr th:only-of-type {\n",
       "        vertical-align: middle;\n",
       "    }\n",
       "\n",
       "    .dataframe tbody tr th {\n",
       "        vertical-align: top;\n",
       "    }\n",
       "\n",
       "    .dataframe thead th {\n",
       "        text-align: right;\n",
       "    }\n",
       "</style>\n",
       "<table border=\"1\" class=\"dataframe\">\n",
       "  <thead>\n",
       "    <tr style=\"text-align: right;\">\n",
       "      <th></th>\n",
       "      <th>puma</th>\n",
       "      <th>Hou_20E</th>\n",
       "      <th>Hou_O_20E</th>\n",
       "      <th>Hou_V_20E</th>\n",
       "      <th>P_As_20E</th>\n",
       "      <th>P_Bl_20E</th>\n",
       "      <th>P_Hi_20E</th>\n",
       "      <th>P_Ot_20E</th>\n",
       "      <th>P_Wh_20E</th>\n",
       "      <th>Pop_20E</th>\n",
       "    </tr>\n",
       "  </thead>\n",
       "  <tbody>\n",
       "    <tr>\n",
       "      <th>11</th>\n",
       "      <td>0400112</td>\n",
       "      <td>65624</td>\n",
       "      <td>55306</td>\n",
       "      <td>10318</td>\n",
       "      <td>6935</td>\n",
       "      <td>1806</td>\n",
       "      <td>8754</td>\n",
       "      <td>5717</td>\n",
       "      <td>107515</td>\n",
       "      <td>130727</td>\n",
       "    </tr>\n",
       "    <tr>\n",
       "      <th>12</th>\n",
       "      <td>0400113</td>\n",
       "      <td>48722</td>\n",
       "      <td>44205</td>\n",
       "      <td>4517</td>\n",
       "      <td>7302</td>\n",
       "      <td>1770</td>\n",
       "      <td>12662</td>\n",
       "      <td>5716</td>\n",
       "      <td>77243</td>\n",
       "      <td>104693</td>\n",
       "    </tr>\n",
       "    <tr>\n",
       "      <th>13</th>\n",
       "      <td>0400114</td>\n",
       "      <td>50696</td>\n",
       "      <td>47306</td>\n",
       "      <td>3390</td>\n",
       "      <td>4097</td>\n",
       "      <td>4625</td>\n",
       "      <td>30096</td>\n",
       "      <td>6461</td>\n",
       "      <td>66076</td>\n",
       "      <td>111355</td>\n",
       "    </tr>\n",
       "    <tr>\n",
       "      <th>14</th>\n",
       "      <td>0400115</td>\n",
       "      <td>47277</td>\n",
       "      <td>43966</td>\n",
       "      <td>3311</td>\n",
       "      <td>4167</td>\n",
       "      <td>6966</td>\n",
       "      <td>32622</td>\n",
       "      <td>7237</td>\n",
       "      <td>58663</td>\n",
       "      <td>109655</td>\n",
       "    </tr>\n",
       "    <tr>\n",
       "      <th>15</th>\n",
       "      <td>0400116</td>\n",
       "      <td>53568</td>\n",
       "      <td>48378</td>\n",
       "      <td>5190</td>\n",
       "      <td>3782</td>\n",
       "      <td>10300</td>\n",
       "      <td>35482</td>\n",
       "      <td>8804</td>\n",
       "      <td>52280</td>\n",
       "      <td>110648</td>\n",
       "    </tr>\n",
       "  </tbody>\n",
       "</table>\n",
       "</div>"
      ],
      "text/plain": [
       "       puma  Hou_20E  Hou_O_20E  Hou_V_20E  P_As_20E  P_Bl_20E  P_Hi_20E  \\\n",
       "11  0400112    65624      55306      10318      6935      1806      8754   \n",
       "12  0400113    48722      44205       4517      7302      1770     12662   \n",
       "13  0400114    50696      47306       3390      4097      4625     30096   \n",
       "14  0400115    47277      43966       3311      4167      6966     32622   \n",
       "15  0400116    53568      48378       5190      3782     10300     35482   \n",
       "\n",
       "    P_Ot_20E  P_Wh_20E  Pop_20E  \n",
       "11      5717    107515   130727  \n",
       "12      5716     77243   104693  \n",
       "13      6461     66076   111355  \n",
       "14      7237     58663   109655  \n",
       "15      8804     52280   110648  "
      ]
     },
     "execution_count": 55,
     "metadata": {},
     "output_type": "execute_result"
    }
   ],
   "source": [
    "p20.head()"
   ]
  },
  {
   "cell_type": "code",
   "execution_count": 56,
   "metadata": {},
   "outputs": [],
   "source": [
    "with pd.ExcelWriter(f'PUMA_pop.xlsx') as writer:\n",
    "    p20.to_excel(writer, sheet_name=\"puma_total\")\n",
    "    df20.to_excel(writer, sheet_name=\"outside_phx\")"
   ]
  },
  {
   "cell_type": "code",
   "execution_count": null,
   "metadata": {},
   "outputs": [],
   "source": []
  }
 ],
 "metadata": {
  "kernelspec": {
   "display_name": "Python 3 (ipykernel)",
   "language": "python",
   "name": "python3"
  },
  "language_info": {
   "codemirror_mode": {
    "name": "ipython",
    "version": 3
   },
   "file_extension": ".py",
   "mimetype": "text/x-python",
   "name": "python",
   "nbconvert_exporter": "python",
   "pygments_lexer": "ipython3",
   "version": "3.9.13"
  }
 },
 "nbformat": 4,
 "nbformat_minor": 2
}
