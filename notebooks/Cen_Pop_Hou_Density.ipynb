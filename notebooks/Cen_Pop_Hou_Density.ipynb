{
 "cells": [
  {
   "cell_type": "markdown",
   "id": "ad5ecb1a",
   "metadata": {},
   "source": [
    "### get geography information (area and land area) from Census Tigerweb, pull in population and housing Decennial Census counts and calculate population and housing density in 2010 and 2020"
   ]
  },
  {
   "cell_type": "code",
   "execution_count": 24,
   "id": "e02664e0",
   "metadata": {},
   "outputs": [],
   "source": [
    "import pandas as pd\n",
    "import numpy as np"
   ]
  },
  {
   "cell_type": "code",
   "execution_count": 25,
   "id": "c95a218e",
   "metadata": {},
   "outputs": [],
   "source": [
    "import geo_getter as get"
   ]
  },
  {
   "cell_type": "markdown",
   "id": "1b9d5e50",
   "metadata": {},
   "source": [
    "## urban villages - blocks"
   ]
  },
  {
   "cell_type": "code",
   "execution_count": 26,
   "id": "79dce5d6",
   "metadata": {},
   "outputs": [],
   "source": [
    "blk_10 = pd.read_csv('../data/geo/blk_vil_10_reduced.csv')\n",
    "blk_20 = pd.read_csv('../data/geo/blk_vil_20_reduced.csv')\n",
    "\n",
    "blk_10 = blk_10[['name','land_acre','aland']].copy()\n",
    "blk_10 = blk_10.groupby(['name']).sum().reset_index()\n",
    "blk_10.rename(columns={'land_acre':'AREALAND_ACRE10','aland':'AREALAND10'},\\\n",
    "                        inplace=True)\n",
    "\n",
    "blk_20 = blk_20[['name','land_acre','aland']].copy()\n",
    "blk_20 = blk_20.groupby(['name']).sum().reset_index()\n",
    "blk_20.rename(columns={'land_acre':'AREALAND_ACRE20','aland':'AREALAND20'},\\\n",
    "                        inplace=True)"
   ]
  },
  {
   "cell_type": "code",
   "execution_count": 27,
   "id": "1f3864da",
   "metadata": {},
   "outputs": [],
   "source": [
    "blk = pd.merge(blk_10,blk_20,how='left',on='name')"
   ]
  },
  {
   "cell_type": "code",
   "execution_count": 28,
   "id": "31348e9a",
   "metadata": {},
   "outputs": [],
   "source": [
    "bg_10 = pd.read_csv('../data/geo/bgp_vil_10.csv')\n",
    "bg_20 = pd.read_csv('../data/geo/bgp_vil_20.csv')"
   ]
  },
  {
   "cell_type": "code",
   "execution_count": 29,
   "id": "6f5c47d9",
   "metadata": {},
   "outputs": [],
   "source": [
    "uv10 = bg_10[['name','land_acre','aland']].copy()\n",
    "uv10 = uv10.groupby(['name']).sum().reset_index()\n",
    "uv10.rename(columns={'land_acre':'AREALAND_ACRE10','aland':'AREALAND10'},\\\n",
    "                        inplace=True)"
   ]
  },
  {
   "cell_type": "code",
   "execution_count": 30,
   "id": "92927629",
   "metadata": {},
   "outputs": [],
   "source": [
    "uv20 = bg_20[['name','land_acre','aland']].copy()\n",
    "uv20 = uv20.groupby(['name']).sum().reset_index()\n",
    "uv20.rename(columns={'land_acre':'AREALAND_ACRE20','aland':'AREALAND20'},\\\n",
    "                        inplace=True)"
   ]
  },
  {
   "cell_type": "code",
   "execution_count": 31,
   "id": "372cc35b",
   "metadata": {},
   "outputs": [],
   "source": [
    "uv = pd.merge(uv10,uv20,how='left',on='name')\n",
    "uv['name'] = uv['name']+'_bg'"
   ]
  },
  {
   "cell_type": "markdown",
   "id": "fc43dfad",
   "metadata": {},
   "source": [
    "## cities"
   ]
  },
  {
   "cell_type": "code",
   "execution_count": 32,
   "id": "71a04c27",
   "metadata": {},
   "outputs": [],
   "source": [
    "cities = {455000:'Phoenix',473000:'Tempe',465000:'Scottsdale',427820:'Glendale',\\\n",
    "          4865000:'San Antonio', 4819000:'Dallas',1235000:'Jacksonville',\\\n",
    "          1836000:'Indianapolis'}\n",
    "\n",
    "geoids = list(cities.keys())"
   ]
  },
  {
   "cell_type": "code",
   "execution_count": 33,
   "id": "7f245c93",
   "metadata": {},
   "outputs": [],
   "source": [
    "pl10 = get.make_city('2010')\n",
    "pl20 = get.make_city('2020')"
   ]
  },
  {
   "cell_type": "code",
   "execution_count": 34,
   "id": "428831df",
   "metadata": {},
   "outputs": [],
   "source": [
    "places = pd.merge(pl10,pl20,how='left',on='GEOID')"
   ]
  },
  {
   "cell_type": "code",
   "execution_count": 35,
   "id": "8c8e8534",
   "metadata": {},
   "outputs": [],
   "source": [
    "places = places[places.GEOID.isin(list(cities.keys()))].copy()"
   ]
  },
  {
   "cell_type": "code",
   "execution_count": 36,
   "id": "c97abea5",
   "metadata": {},
   "outputs": [],
   "source": [
    "places.rename(columns={'BASENAME10':'name'},inplace=True)\n",
    "places = places.drop(['GEOID','AREAWATER10','BASENAME20','AREAWATER20'],axis=1)"
   ]
  },
  {
   "cell_type": "markdown",
   "id": "db079441",
   "metadata": {},
   "source": [
    "## maricopa"
   ]
  },
  {
   "cell_type": "code",
   "execution_count": 37,
   "id": "ee9962ad",
   "metadata": {},
   "outputs": [],
   "source": [
    "mar10 = get.make_maricopa('2010')\n",
    "mar20 = get.make_maricopa('2020')"
   ]
  },
  {
   "cell_type": "code",
   "execution_count": 38,
   "id": "76e7eb67",
   "metadata": {},
   "outputs": [],
   "source": [
    "mar = pd.merge(mar10,mar20,how='left',on='GEOID')"
   ]
  },
  {
   "cell_type": "code",
   "execution_count": 39,
   "id": "dc180f14",
   "metadata": {},
   "outputs": [],
   "source": [
    "mar.rename(columns={'BASENAME10':'name'},inplace=True)\n",
    "mar = mar.drop(['GEOID','AREAWATER10','BASENAME20','AREAWATER20'],axis=1)"
   ]
  },
  {
   "cell_type": "markdown",
   "id": "219d85b2",
   "metadata": {},
   "source": [
    "## arizona"
   ]
  },
  {
   "cell_type": "code",
   "execution_count": 40,
   "id": "d34ab714",
   "metadata": {},
   "outputs": [],
   "source": [
    "az10 = get.make_az('2010')\n",
    "az20 = get.make_az('2020')\n",
    "az = pd.merge(az10,az20,how='left',on='GEOID')\n",
    "az['name'] = 'AZ'"
   ]
  },
  {
   "cell_type": "code",
   "execution_count": 41,
   "id": "260516b2",
   "metadata": {},
   "outputs": [],
   "source": [
    "az = az.drop(['GEOID','AREAWATER10','BASENAME10','BASENAME20','AREAWATER20'],axis=1)"
   ]
  },
  {
   "cell_type": "markdown",
   "id": "a98deaeb",
   "metadata": {},
   "source": [
    "## us"
   ]
  },
  {
   "cell_type": "code",
   "execution_count": 42,
   "id": "a84b0307",
   "metadata": {},
   "outputs": [],
   "source": [
    "us10 = get.make_us('2010')\n",
    "us20 = get.make_us('2020')\n",
    "us = pd.merge(us10,us20,how='left',on='FUNCSTAT')"
   ]
  },
  {
   "cell_type": "code",
   "execution_count": 43,
   "id": "b6d422e6",
   "metadata": {},
   "outputs": [],
   "source": [
    "us['name'] = 'US'\n",
    "us = us.drop(['FUNCSTAT','AREAWATER10','AREAWATER20'],axis=1)"
   ]
  },
  {
   "cell_type": "markdown",
   "id": "211c5d84",
   "metadata": {},
   "source": [
    "## make big geography table - no urban vil"
   ]
  },
  {
   "cell_type": "code",
   "execution_count": 44,
   "id": "4d14c1f8",
   "metadata": {},
   "outputs": [],
   "source": [
    "geos = pd.concat([blk,places,mar,az,us,uv])"
   ]
  },
  {
   "cell_type": "markdown",
   "id": "b454a5f2",
   "metadata": {},
   "source": [
    "## read in pop and housing from output folder"
   ]
  },
  {
   "cell_type": "code",
   "execution_count": 45,
   "id": "873364cf",
   "metadata": {},
   "outputs": [],
   "source": [
    "data = pd.read_csv('output/dec_pop_hou_race.csv')"
   ]
  },
  {
   "cell_type": "code",
   "execution_count": 46,
   "id": "534abb6a",
   "metadata": {},
   "outputs": [],
   "source": [
    "data = data[['name','Hou_10E','Hou_20E','Pop_10E','Pop_20E']]"
   ]
  },
  {
   "cell_type": "markdown",
   "id": "6eac2aaa",
   "metadata": {},
   "source": [
    "## calc housing and pop density in 2010 and 2020"
   ]
  },
  {
   "cell_type": "code",
   "execution_count": 47,
   "id": "6d4268ef",
   "metadata": {},
   "outputs": [],
   "source": [
    "geos = pd.merge(data,geos,how='left',on='name')"
   ]
  },
  {
   "cell_type": "code",
   "execution_count": 48,
   "id": "b3e7f050",
   "metadata": {},
   "outputs": [],
   "source": [
    "geos['HouDen_10'] = geos.Hou_10E / geos.AREALAND_ACRE10\n",
    "geos['PopDen_10'] = geos.Pop_10E / geos.AREALAND_ACRE10\n",
    "geos['HouDen_20'] = geos.Hou_20E / geos.AREALAND_ACRE20\n",
    "geos['PopDen_20'] = geos.Pop_20E / geos.AREALAND_ACRE20"
   ]
  },
  {
   "cell_type": "code",
   "execution_count": 49,
   "id": "d428c7ea",
   "metadata": {},
   "outputs": [],
   "source": [
    "geos.to_csv('output/dec_pop_hou_den.csv',index=False)"
   ]
  }
 ],
 "metadata": {
  "kernelspec": {
   "display_name": "Python 3 (ipykernel)",
   "language": "python",
   "name": "python3"
  },
  "language_info": {
   "codemirror_mode": {
    "name": "ipython",
    "version": 3
   },
   "file_extension": ".py",
   "mimetype": "text/x-python",
   "name": "python",
   "nbconvert_exporter": "python",
   "pygments_lexer": "ipython3",
   "version": "3.9.13"
  }
 },
 "nbformat": 4,
 "nbformat_minor": 5
}
