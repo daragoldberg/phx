{
 "cells": [
  {
   "cell_type": "markdown",
   "id": "ad5ecb1a",
   "metadata": {},
   "source": [
    "### get geography information (area and land area) from Census Tigerweb, pull in population and housing Decennial Census counts and calculate population and housing density in 2010 and 2020"
   ]
  },
  {
   "cell_type": "code",
   "execution_count": 1,
   "id": "e02664e0",
   "metadata": {},
   "outputs": [],
   "source": [
    "import pandas as pd\n",
    "import numpy as np"
   ]
  },
  {
   "cell_type": "code",
   "execution_count": 2,
   "id": "c95a218e",
   "metadata": {},
   "outputs": [],
   "source": [
    "import geo_getter as get"
   ]
  },
  {
   "cell_type": "markdown",
   "id": "1b9d5e50",
   "metadata": {},
   "source": [
    "## urban villages"
   ]
  },
  {
   "cell_type": "code",
   "execution_count": 3,
   "id": "d81132e3",
   "metadata": {},
   "outputs": [],
   "source": [
    "bg_10 = pd.read_csv('../data/geo/bgp_vil_10.csv')\n",
    "bg_20 = pd.read_csv('../data/geo/bgp_vil_20.csv')"
   ]
  },
  {
   "cell_type": "code",
   "execution_count": 4,
   "id": "5d5bf974",
   "metadata": {},
   "outputs": [],
   "source": [
    "uv10 = bg_10[['name','land_acre','aland']].copy()\n",
    "uv10 = uv10.groupby(['name']).sum().reset_index()\n",
    "uv10.rename(columns={'land_acre':'AREALAND_ACRE10','aland':'AREALAND10'},\\\n",
    "                        inplace=True)"
   ]
  },
  {
   "cell_type": "code",
   "execution_count": 5,
   "id": "4aa0588b",
   "metadata": {},
   "outputs": [],
   "source": [
    "uv20 = bg_20[['name','land_acre','aland']].copy()\n",
    "uv20 = uv20.groupby(['name']).sum().reset_index()\n",
    "uv20.rename(columns={'land_acre':'AREALAND_ACRE20','aland':'AREALAND20'},\\\n",
    "                        inplace=True)"
   ]
  },
  {
   "cell_type": "code",
   "execution_count": 6,
   "id": "b7b563c1",
   "metadata": {},
   "outputs": [],
   "source": [
    "uv = pd.merge(uv10,uv20,how='left',on='name')"
   ]
  },
  {
   "cell_type": "markdown",
   "id": "fc43dfad",
   "metadata": {},
   "source": [
    "## cities"
   ]
  },
  {
   "cell_type": "code",
   "execution_count": 7,
   "id": "71a04c27",
   "metadata": {},
   "outputs": [],
   "source": [
    "cities = {455000:'Phoenix',473000:'Tempe',465000:'Scottsdale',427820:'Glendale',\\\n",
    "          4865000:'San Antonio', 4819000:'Dallas',1235000:'Jacksonville',\\\n",
    "          1836000:'Indianapolis'}\n",
    "\n",
    "geoids = list(cities.keys())"
   ]
  },
  {
   "cell_type": "code",
   "execution_count": 8,
   "id": "7f245c93",
   "metadata": {},
   "outputs": [],
   "source": [
    "pl10 = get.make_city('2010')\n",
    "pl20 = get.make_city('2020')"
   ]
  },
  {
   "cell_type": "code",
   "execution_count": 9,
   "id": "428831df",
   "metadata": {},
   "outputs": [],
   "source": [
    "places = pd.merge(pl10,pl20,how='left',on='GEOID')"
   ]
  },
  {
   "cell_type": "code",
   "execution_count": 10,
   "id": "8c8e8534",
   "metadata": {},
   "outputs": [],
   "source": [
    "places = places[places.GEOID.isin(list(cities.keys()))].copy()"
   ]
  },
  {
   "cell_type": "code",
   "execution_count": 11,
   "id": "c97abea5",
   "metadata": {},
   "outputs": [],
   "source": [
    "places.rename(columns={'BASENAME10':'name'},inplace=True)\n",
    "places = places.drop(['GEOID','AREAWATER10','BASENAME20','AREAWATER20'],axis=1)"
   ]
  },
  {
   "cell_type": "markdown",
   "id": "db079441",
   "metadata": {},
   "source": [
    "## maricopa"
   ]
  },
  {
   "cell_type": "code",
   "execution_count": 13,
   "id": "ee9962ad",
   "metadata": {},
   "outputs": [],
   "source": [
    "mar10 = get.make_maricopa('2010')\n",
    "mar20 = get.make_maricopa('2020')"
   ]
  },
  {
   "cell_type": "code",
   "execution_count": 14,
   "id": "76e7eb67",
   "metadata": {},
   "outputs": [],
   "source": [
    "mar = pd.merge(mar10,mar20,how='left',on='GEOID')"
   ]
  },
  {
   "cell_type": "code",
   "execution_count": 15,
   "id": "dc180f14",
   "metadata": {},
   "outputs": [],
   "source": [
    "mar.rename(columns={'BASENAME10':'name'},inplace=True)\n",
    "mar = mar.drop(['GEOID','AREAWATER10','BASENAME20','AREAWATER20'],axis=1)"
   ]
  },
  {
   "cell_type": "markdown",
   "id": "219d85b2",
   "metadata": {},
   "source": [
    "## arizona"
   ]
  },
  {
   "cell_type": "code",
   "execution_count": 17,
   "id": "d34ab714",
   "metadata": {},
   "outputs": [],
   "source": [
    "az10 = get.make_az('2010')\n",
    "az20 = get.make_az('2020')\n",
    "az = pd.merge(az10,az20,how='left',on='GEOID')\n",
    "az['name'] = 'AZ'"
   ]
  },
  {
   "cell_type": "code",
   "execution_count": 18,
   "id": "260516b2",
   "metadata": {},
   "outputs": [],
   "source": [
    "az = az.drop(['GEOID','AREAWATER10','BASENAME10','BASENAME20','AREAWATER20'],axis=1)"
   ]
  },
  {
   "cell_type": "markdown",
   "id": "a98deaeb",
   "metadata": {},
   "source": [
    "## us"
   ]
  },
  {
   "cell_type": "code",
   "execution_count": 20,
   "id": "a84b0307",
   "metadata": {},
   "outputs": [],
   "source": [
    "us10 = get.make_us('2010')\n",
    "us20 = get.make_us('2020')\n",
    "us = pd.merge(us10,us20,how='left',on='FUNCSTAT')"
   ]
  },
  {
   "cell_type": "code",
   "execution_count": 21,
   "id": "b6d422e6",
   "metadata": {},
   "outputs": [],
   "source": [
    "us['name'] = 'US'\n",
    "us = us.drop(['FUNCSTAT','AREAWATER10','AREAWATER20'],axis=1)"
   ]
  },
  {
   "cell_type": "markdown",
   "id": "211c5d84",
   "metadata": {},
   "source": [
    "## make big geography table - no urban vil"
   ]
  },
  {
   "cell_type": "code",
   "execution_count": 23,
   "id": "4d14c1f8",
   "metadata": {},
   "outputs": [],
   "source": [
    "geos = pd.concat([uv,places,mar,az,us])"
   ]
  },
  {
   "cell_type": "markdown",
   "id": "b454a5f2",
   "metadata": {},
   "source": [
    "## read in pop and housing from output folder"
   ]
  },
  {
   "cell_type": "code",
   "execution_count": 24,
   "id": "873364cf",
   "metadata": {},
   "outputs": [],
   "source": [
    "data = pd.read_csv('output/dec_pop_hou_race.csv')"
   ]
  },
  {
   "cell_type": "code",
   "execution_count": 26,
   "id": "534abb6a",
   "metadata": {},
   "outputs": [],
   "source": [
    "data = data[['name','Hou_10E','Hou_20E','Pop_10E','Pop_20E']]"
   ]
  },
  {
   "cell_type": "markdown",
   "id": "6eac2aaa",
   "metadata": {},
   "source": [
    "## calc housing and pop density in 2010 and 2020"
   ]
  },
  {
   "cell_type": "code",
   "execution_count": 27,
   "id": "6d4268ef",
   "metadata": {},
   "outputs": [],
   "source": [
    "geos = pd.merge(geos,data,how='left',on='name')"
   ]
  },
  {
   "cell_type": "code",
   "execution_count": 29,
   "id": "b3e7f050",
   "metadata": {},
   "outputs": [],
   "source": [
    "geos['HouDen_10'] = geos.Hou_10E / geos.AREALAND_ACRE10\n",
    "geos['PopDen_10'] = geos.Pop_10E / geos.AREALAND_ACRE10\n",
    "geos['HouDen_20'] = geos.Hou_20E / geos.AREALAND_ACRE20\n",
    "geos['PopDen_20'] = geos.Pop_20E / geos.AREALAND_ACRE20"
   ]
  },
  {
   "cell_type": "code",
   "execution_count": 32,
   "id": "5d6a1d6d",
   "metadata": {},
   "outputs": [
    {
     "data": {
      "text/html": [
       "<div>\n",
       "<style scoped>\n",
       "    .dataframe tbody tr th:only-of-type {\n",
       "        vertical-align: middle;\n",
       "    }\n",
       "\n",
       "    .dataframe tbody tr th {\n",
       "        vertical-align: top;\n",
       "    }\n",
       "\n",
       "    .dataframe thead th {\n",
       "        text-align: right;\n",
       "    }\n",
       "</style>\n",
       "<table border=\"1\" class=\"dataframe\">\n",
       "  <thead>\n",
       "    <tr style=\"text-align: right;\">\n",
       "      <th></th>\n",
       "      <th>name</th>\n",
       "      <th>AREALAND_ACRE10</th>\n",
       "      <th>AREALAND10</th>\n",
       "      <th>AREALAND_ACRE20</th>\n",
       "      <th>AREALAND20</th>\n",
       "      <th>Hou_10E</th>\n",
       "      <th>Hou_20E</th>\n",
       "      <th>Pop_10E</th>\n",
       "      <th>Pop_20E</th>\n",
       "      <th>HouDen_10</th>\n",
       "      <th>PopDen_10</th>\n",
       "      <th>HouDen_20</th>\n",
       "      <th>PopDen_20</th>\n",
       "    </tr>\n",
       "  </thead>\n",
       "  <tbody>\n",
       "    <tr>\n",
       "      <th>0</th>\n",
       "      <td>Ahwatukee Foothills</td>\n",
       "      <td>29912.927340</td>\n",
       "      <td>121053509</td>\n",
       "      <td>29844.149614</td>\n",
       "      <td>120775175.0</td>\n",
       "      <td>33528</td>\n",
       "      <td>34527</td>\n",
       "      <td>77344</td>\n",
       "      <td>80604</td>\n",
       "      <td>1.120853</td>\n",
       "      <td>2.585638</td>\n",
       "      <td>1.156910</td>\n",
       "      <td>2.700831</td>\n",
       "    </tr>\n",
       "    <tr>\n",
       "      <th>1</th>\n",
       "      <td>Alhambra</td>\n",
       "      <td>12416.119128</td>\n",
       "      <td>50246329</td>\n",
       "      <td>12498.698407</td>\n",
       "      <td>50580516.0</td>\n",
       "      <td>52066</td>\n",
       "      <td>52997</td>\n",
       "      <td>126444</td>\n",
       "      <td>144882</td>\n",
       "      <td>4.193420</td>\n",
       "      <td>10.183858</td>\n",
       "      <td>4.240202</td>\n",
       "      <td>11.591767</td>\n",
       "    </tr>\n",
       "    <tr>\n",
       "      <th>2</th>\n",
       "      <td>Camelback East</td>\n",
       "      <td>23347.765346</td>\n",
       "      <td>94485200</td>\n",
       "      <td>24110.846591</td>\n",
       "      <td>97573285.0</td>\n",
       "      <td>69263</td>\n",
       "      <td>75182</td>\n",
       "      <td>132153</td>\n",
       "      <td>144949</td>\n",
       "      <td>2.966579</td>\n",
       "      <td>5.660199</td>\n",
       "      <td>3.118182</td>\n",
       "      <td>6.011776</td>\n",
       "    </tr>\n",
       "  </tbody>\n",
       "</table>\n",
       "</div>"
      ],
      "text/plain": [
       "                  name  AREALAND_ACRE10  AREALAND10  AREALAND_ACRE20  \\\n",
       "0  Ahwatukee Foothills     29912.927340   121053509     29844.149614   \n",
       "1             Alhambra     12416.119128    50246329     12498.698407   \n",
       "2       Camelback East     23347.765346    94485200     24110.846591   \n",
       "\n",
       "    AREALAND20  Hou_10E  Hou_20E  Pop_10E  Pop_20E  HouDen_10  PopDen_10  \\\n",
       "0  120775175.0    33528    34527    77344    80604   1.120853   2.585638   \n",
       "1   50580516.0    52066    52997   126444   144882   4.193420  10.183858   \n",
       "2   97573285.0    69263    75182   132153   144949   2.966579   5.660199   \n",
       "\n",
       "   HouDen_20  PopDen_20  \n",
       "0   1.156910   2.700831  \n",
       "1   4.240202  11.591767  \n",
       "2   3.118182   6.011776  "
      ]
     },
     "execution_count": 32,
     "metadata": {},
     "output_type": "execute_result"
    }
   ],
   "source": [
    "geos.head(3)"
   ]
  },
  {
   "cell_type": "code",
   "execution_count": 33,
   "id": "d428c7ea",
   "metadata": {},
   "outputs": [],
   "source": [
    "geos.to_csv('output/dec_pop_hou_den.csv',index=False)"
   ]
  }
 ],
 "metadata": {
  "kernelspec": {
   "display_name": "Python 3 (ipykernel)",
   "language": "python",
   "name": "python3"
  },
  "language_info": {
   "codemirror_mode": {
    "name": "ipython",
    "version": 3
   },
   "file_extension": ".py",
   "mimetype": "text/x-python",
   "name": "python",
   "nbconvert_exporter": "python",
   "pygments_lexer": "ipython3",
   "version": "3.9.13"
  }
 },
 "nbformat": 4,
 "nbformat_minor": 5
}
