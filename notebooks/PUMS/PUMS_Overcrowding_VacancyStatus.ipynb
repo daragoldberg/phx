{
 "cells": [
  {
   "cell_type": "markdown",
   "metadata": {},
   "source": [
    "# PUMS Overcrowding, Vacancy Status in Phoenix  PUMAS\n",
    "\n",
    "- https://www.census.gov/data/developers/data-sets/"
   ]
  },
  {
   "cell_type": "code",
   "execution_count": 29,
   "metadata": {},
   "outputs": [],
   "source": [
    "import pandas as pd\n",
    "import math\n",
    "import numpy as np\n",
    "import os"
   ]
  },
  {
   "cell_type": "code",
   "execution_count": 30,
   "metadata": {},
   "outputs": [],
   "source": [
    "import getters\n",
    "import get_pums as get\n",
    "import pums as calc"
   ]
  },
  {
   "cell_type": "code",
   "execution_count": 31,
   "metadata": {},
   "outputs": [],
   "source": [
    "#Search parameters\n",
    "y1 = '2021'\n",
    "#y0 = '2013'\n",
    "\n",
    "sample = 'acs1'\n",
    "\n",
    "phx_pumas = ['0400113','0400114','0400115','0400116','0400117',\\\n",
    "             '0400118','0400119','0400120','0400121','0400122','0400123',\\\n",
    "             '0400125','0400128']\n",
    "\n",
    "north_pumas = ['0400112','0400129']\n",
    "\n",
    "data_cols = 'SERIALNO,ST,PUMA,HINCP,NP,VACS,BDSP,TEN,WGTP'"
   ]
  },
  {
   "cell_type": "code",
   "execution_count": 32,
   "metadata": {},
   "outputs": [],
   "source": [
    "# create a list of replicate weights\n",
    "repwt = 'WGTP'\n",
    "repwts = [repwt+str(i) for i in range(1, 81)]"
   ]
  },
  {
   "cell_type": "markdown",
   "metadata": {},
   "source": [
    "## Get PUMA data"
   ]
  },
  {
   "cell_type": "code",
   "execution_count": 33,
   "metadata": {
    "scrolled": true
   },
   "outputs": [],
   "source": [
    "raw = get.get_puma(sample,y1,data_cols)"
   ]
  },
  {
   "cell_type": "code",
   "execution_count": 34,
   "metadata": {},
   "outputs": [],
   "source": [
    "df = raw.copy()"
   ]
  },
  {
   "cell_type": "code",
   "execution_count": 35,
   "metadata": {},
   "outputs": [],
   "source": [
    "df['GEO_ID'] = df['ST']+df['PUMA']\n",
    "df = df[df.GEO_ID.isin(north_pumas)]\n",
    "df  = df.drop(['SERIALNO','ST','PUMA'],axis=1)\n",
    "df = df[['GEO_ID']+[col for col in df.columns if col != 'GEO_ID']] #move id to first col\n",
    "for col in df.columns[1:]: df[col] = df[col].astype(int)"
   ]
  },
  {
   "cell_type": "markdown",
   "metadata": {},
   "source": [
    "## Overcrowding"
   ]
  },
  {
   "cell_type": "code",
   "execution_count": 36,
   "metadata": {},
   "outputs": [],
   "source": [
    "oc = df[(df.BDSP!=-1)&(df.NP>0)].copy()\n",
    "\n",
    "#treat studios as 1-bedrooms (i.e., cannot div by 0), group 5+ bedrooms\n",
    "oc['beds'] = np.where(oc.BDSP>=5,'5+',np.where(oc.BDSP==0,'1',oc.BDSP))\n",
    "\n",
    "#group households with 5+ people\n",
    "oc['pp'] = np.where(oc.NP>=5,'5+',oc.NP)\n",
    "\n",
    "own = oc[(oc.TEN==1) | (oc.TEN==2)] #owner occupied\n",
    "rent = oc[oc.TEN==3]"
   ]
  },
  {
   "cell_type": "markdown",
   "metadata": {},
   "source": [
    "#### phoenix PUMA total"
   ]
  },
  {
   "cell_type": "code",
   "execution_count": 37,
   "metadata": {},
   "outputs": [],
   "source": [
    "px_o = own.copy().drop(['GEO_ID','HINCP','VACS',\\\n",
    "                     'BDSP','NP','TEN'],axis=1).groupby(['pp','beds']).sum().reset_index()\n",
    "\n",
    "px_o['hh_SE'] = px_o.apply(lambda x: (calc.get_se(x['WGTP'],x[repwts])),axis=1)\n",
    "px_o['hh_MOE'] = px_o.apply(lambda x: (calc.get_moe(x['hh_SE'])),axis=1)\n",
    "px_o['hh_CV'] = px_o.apply(lambda x: (calc.get_cv(x['WGTP'],x['hh_SE'])),axis=1)\n",
    "\n",
    "px_o = px_o.drop(columns=repwts)\n",
    "\n",
    "px_o_piv = pd.pivot_table(px_o,values=['WGTP','hh_MOE','hh_CV'],index='beds',\\\n",
    "                      columns=['pp'],aggfunc=np.sum).reset_index()"
   ]
  },
  {
   "cell_type": "code",
   "execution_count": 38,
   "metadata": {},
   "outputs": [
    {
     "data": {
      "text/html": [
       "<div>\n",
       "<style scoped>\n",
       "    .dataframe tbody tr th:only-of-type {\n",
       "        vertical-align: middle;\n",
       "    }\n",
       "\n",
       "    .dataframe tbody tr th {\n",
       "        vertical-align: top;\n",
       "    }\n",
       "\n",
       "    .dataframe thead tr th {\n",
       "        text-align: left;\n",
       "    }\n",
       "</style>\n",
       "<table border=\"1\" class=\"dataframe\">\n",
       "  <thead>\n",
       "    <tr>\n",
       "      <th></th>\n",
       "      <th>beds</th>\n",
       "      <th colspan=\"5\" halign=\"left\">WGTP</th>\n",
       "      <th colspan=\"5\" halign=\"left\">hh_CV</th>\n",
       "      <th colspan=\"5\" halign=\"left\">hh_MOE</th>\n",
       "    </tr>\n",
       "    <tr>\n",
       "      <th>pp</th>\n",
       "      <th></th>\n",
       "      <th>1</th>\n",
       "      <th>2</th>\n",
       "      <th>3</th>\n",
       "      <th>4</th>\n",
       "      <th>5+</th>\n",
       "      <th>1</th>\n",
       "      <th>2</th>\n",
       "      <th>3</th>\n",
       "      <th>4</th>\n",
       "      <th>5+</th>\n",
       "      <th>1</th>\n",
       "      <th>2</th>\n",
       "      <th>3</th>\n",
       "      <th>4</th>\n",
       "      <th>5+</th>\n",
       "    </tr>\n",
       "  </thead>\n",
       "  <tbody>\n",
       "    <tr>\n",
       "      <th>0</th>\n",
       "      <td>1</td>\n",
       "      <td>811.0</td>\n",
       "      <td>539.0</td>\n",
       "      <td>NaN</td>\n",
       "      <td>113.0</td>\n",
       "      <td>245.0</td>\n",
       "      <td>19.783364</td>\n",
       "      <td>12.962726</td>\n",
       "      <td>NaN</td>\n",
       "      <td>43.110346</td>\n",
       "      <td>42.699373</td>\n",
       "      <td>434.162996</td>\n",
       "      <td>189.067508</td>\n",
       "      <td>NaN</td>\n",
       "      <td>131.823171</td>\n",
       "      <td>283.086649</td>\n",
       "    </tr>\n",
       "    <tr>\n",
       "      <th>1</th>\n",
       "      <td>2</td>\n",
       "      <td>2535.0</td>\n",
       "      <td>5228.0</td>\n",
       "      <td>794.0</td>\n",
       "      <td>133.0</td>\n",
       "      <td>NaN</td>\n",
       "      <td>8.936799</td>\n",
       "      <td>5.271502</td>\n",
       "      <td>15.630679</td>\n",
       "      <td>38.165185</td>\n",
       "      <td>NaN</td>\n",
       "      <td>613.044128</td>\n",
       "      <td>745.764564</td>\n",
       "      <td>335.838242</td>\n",
       "      <td>137.357007</td>\n",
       "      <td>NaN</td>\n",
       "    </tr>\n",
       "    <tr>\n",
       "      <th>2</th>\n",
       "      <td>3</td>\n",
       "      <td>7230.0</td>\n",
       "      <td>17121.0</td>\n",
       "      <td>4247.0</td>\n",
       "      <td>2921.0</td>\n",
       "      <td>1196.0</td>\n",
       "      <td>5.485147</td>\n",
       "      <td>3.453207</td>\n",
       "      <td>7.587137</td>\n",
       "      <td>8.723779</td>\n",
       "      <td>17.328636</td>\n",
       "      <td>1073.144909</td>\n",
       "      <td>1599.865637</td>\n",
       "      <td>871.950867</td>\n",
       "      <td>689.553558</td>\n",
       "      <td>560.824989</td>\n",
       "    </tr>\n",
       "    <tr>\n",
       "      <th>3</th>\n",
       "      <td>4</td>\n",
       "      <td>2936.0</td>\n",
       "      <td>15206.0</td>\n",
       "      <td>6600.0</td>\n",
       "      <td>5944.0</td>\n",
       "      <td>4169.0</td>\n",
       "      <td>8.551761</td>\n",
       "      <td>4.048419</td>\n",
       "      <td>5.786767</td>\n",
       "      <td>6.053491</td>\n",
       "      <td>8.300088</td>\n",
       "      <td>679.427916</td>\n",
       "      <td>1665.836096</td>\n",
       "      <td>1033.502981</td>\n",
       "      <td>973.680523</td>\n",
       "      <td>936.367683</td>\n",
       "    </tr>\n",
       "    <tr>\n",
       "      <th>4</th>\n",
       "      <td>5+</td>\n",
       "      <td>709.0</td>\n",
       "      <td>2929.0</td>\n",
       "      <td>1517.0</td>\n",
       "      <td>4225.0</td>\n",
       "      <td>2484.0</td>\n",
       "      <td>21.191658</td>\n",
       "      <td>9.222205</td>\n",
       "      <td>13.655617</td>\n",
       "      <td>7.865601</td>\n",
       "      <td>9.346546</td>\n",
       "      <td>406.577150</td>\n",
       "      <td>730.947101</td>\n",
       "      <td>560.568538</td>\n",
       "      <td>899.270625</td>\n",
       "      <td>628.252991</td>\n",
       "    </tr>\n",
       "  </tbody>\n",
       "</table>\n",
       "</div>"
      ],
      "text/plain": [
       "   beds    WGTP                                       hh_CV             \\\n",
       "pp            1        2       3       4      5+          1          2   \n",
       "0     1   811.0    539.0     NaN   113.0   245.0  19.783364  12.962726   \n",
       "1     2  2535.0   5228.0   794.0   133.0     NaN   8.936799   5.271502   \n",
       "2     3  7230.0  17121.0  4247.0  2921.0  1196.0   5.485147   3.453207   \n",
       "3     4  2936.0  15206.0  6600.0  5944.0  4169.0   8.551761   4.048419   \n",
       "4    5+   709.0   2929.0  1517.0  4225.0  2484.0  21.191658   9.222205   \n",
       "\n",
       "                                          hh_MOE                            \\\n",
       "pp          3          4         5+            1            2            3   \n",
       "0         NaN  43.110346  42.699373   434.162996   189.067508          NaN   \n",
       "1   15.630679  38.165185        NaN   613.044128   745.764564   335.838242   \n",
       "2    7.587137   8.723779  17.328636  1073.144909  1599.865637   871.950867   \n",
       "3    5.786767   6.053491   8.300088   679.427916  1665.836096  1033.502981   \n",
       "4   13.655617   7.865601   9.346546   406.577150   730.947101   560.568538   \n",
       "\n",
       "                            \n",
       "pp           4          5+  \n",
       "0   131.823171  283.086649  \n",
       "1   137.357007         NaN  \n",
       "2   689.553558  560.824989  \n",
       "3   973.680523  936.367683  \n",
       "4   899.270625  628.252991  "
      ]
     },
     "execution_count": 38,
     "metadata": {},
     "output_type": "execute_result"
    }
   ],
   "source": [
    "px_o_piv"
   ]
  },
  {
   "cell_type": "code",
   "execution_count": 39,
   "metadata": {},
   "outputs": [],
   "source": [
    "px_r = rent.copy().drop(['GEO_ID','HINCP','VACS',\\\n",
    "                     'BDSP','NP','TEN'],axis=1).groupby(['pp','beds']).sum().reset_index()\n",
    "\n",
    "px_r['hh_SE'] = px_r.apply(lambda x: (calc.get_se(x['WGTP'],x[repwts])),axis=1)\n",
    "px_r['hh_MOE'] = px_r.apply(lambda x: (calc.get_moe(x['hh_SE'])),axis=1)\n",
    "px_r['hh_CV'] = px_r.apply(lambda x: (calc.get_cv(x['WGTP'],x['hh_SE'])),axis=1)\n",
    "\n",
    "px_r = px_r.drop(columns=repwts)\n",
    "\n",
    "px_r_piv = pd.pivot_table(px_r,values=['WGTP','hh_MOE','hh_CV'],index='beds',\\\n",
    "                      columns=['pp'],aggfunc=np.sum).reset_index()"
   ]
  },
  {
   "cell_type": "code",
   "execution_count": 40,
   "metadata": {},
   "outputs": [
    {
     "data": {
      "text/html": [
       "<div>\n",
       "<style scoped>\n",
       "    .dataframe tbody tr th:only-of-type {\n",
       "        vertical-align: middle;\n",
       "    }\n",
       "\n",
       "    .dataframe tbody tr th {\n",
       "        vertical-align: top;\n",
       "    }\n",
       "\n",
       "    .dataframe thead tr th {\n",
       "        text-align: left;\n",
       "    }\n",
       "</style>\n",
       "<table border=\"1\" class=\"dataframe\">\n",
       "  <thead>\n",
       "    <tr>\n",
       "      <th></th>\n",
       "      <th>beds</th>\n",
       "      <th colspan=\"5\" halign=\"left\">WGTP</th>\n",
       "      <th colspan=\"5\" halign=\"left\">hh_CV</th>\n",
       "      <th colspan=\"5\" halign=\"left\">hh_MOE</th>\n",
       "    </tr>\n",
       "    <tr>\n",
       "      <th>pp</th>\n",
       "      <th></th>\n",
       "      <th>1</th>\n",
       "      <th>2</th>\n",
       "      <th>3</th>\n",
       "      <th>4</th>\n",
       "      <th>5+</th>\n",
       "      <th>1</th>\n",
       "      <th>2</th>\n",
       "      <th>3</th>\n",
       "      <th>4</th>\n",
       "      <th>5+</th>\n",
       "      <th>1</th>\n",
       "      <th>2</th>\n",
       "      <th>3</th>\n",
       "      <th>4</th>\n",
       "      <th>5+</th>\n",
       "    </tr>\n",
       "  </thead>\n",
       "  <tbody>\n",
       "    <tr>\n",
       "      <th>0</th>\n",
       "      <td>1</td>\n",
       "      <td>4001.0</td>\n",
       "      <td>938.0</td>\n",
       "      <td>125.0</td>\n",
       "      <td>NaN</td>\n",
       "      <td>NaN</td>\n",
       "      <td>9.304987</td>\n",
       "      <td>19.947517</td>\n",
       "      <td>44.758289</td>\n",
       "      <td>NaN</td>\n",
       "      <td>NaN</td>\n",
       "      <td>1007.432940</td>\n",
       "      <td>506.318133</td>\n",
       "      <td>151.396313</td>\n",
       "      <td>NaN</td>\n",
       "      <td>NaN</td>\n",
       "    </tr>\n",
       "    <tr>\n",
       "      <th>1</th>\n",
       "      <td>2</td>\n",
       "      <td>1586.0</td>\n",
       "      <td>4060.0</td>\n",
       "      <td>1154.0</td>\n",
       "      <td>440.0</td>\n",
       "      <td>368.0</td>\n",
       "      <td>12.210662</td>\n",
       "      <td>8.672850</td>\n",
       "      <td>18.289846</td>\n",
       "      <td>28.190744</td>\n",
       "      <td>40.489523</td>\n",
       "      <td>524.051794</td>\n",
       "      <td>952.839324</td>\n",
       "      <td>571.146689</td>\n",
       "      <td>335.653372</td>\n",
       "      <td>403.201631</td>\n",
       "    </tr>\n",
       "    <tr>\n",
       "      <th>2</th>\n",
       "      <td>3</td>\n",
       "      <td>1244.0</td>\n",
       "      <td>472.0</td>\n",
       "      <td>2115.0</td>\n",
       "      <td>549.0</td>\n",
       "      <td>322.0</td>\n",
       "      <td>13.831269</td>\n",
       "      <td>18.834599</td>\n",
       "      <td>15.661189</td>\n",
       "      <td>26.371454</td>\n",
       "      <td>25.951542</td>\n",
       "      <td>465.601333</td>\n",
       "      <td>240.563745</td>\n",
       "      <td>896.327880</td>\n",
       "      <td>391.776358</td>\n",
       "      <td>226.126178</td>\n",
       "    </tr>\n",
       "    <tr>\n",
       "      <th>3</th>\n",
       "      <td>4</td>\n",
       "      <td>99.0</td>\n",
       "      <td>375.0</td>\n",
       "      <td>1070.0</td>\n",
       "      <td>233.0</td>\n",
       "      <td>680.0</td>\n",
       "      <td>43.743627</td>\n",
       "      <td>20.387704</td>\n",
       "      <td>18.379230</td>\n",
       "      <td>25.869699</td>\n",
       "      <td>18.041351</td>\n",
       "      <td>117.187634</td>\n",
       "      <td>206.886138</td>\n",
       "      <td>532.160805</td>\n",
       "      <td>163.109444</td>\n",
       "      <td>331.978363</td>\n",
       "    </tr>\n",
       "    <tr>\n",
       "      <th>4</th>\n",
       "      <td>5+</td>\n",
       "      <td>NaN</td>\n",
       "      <td>274.0</td>\n",
       "      <td>122.0</td>\n",
       "      <td>NaN</td>\n",
       "      <td>233.0</td>\n",
       "      <td>NaN</td>\n",
       "      <td>30.237542</td>\n",
       "      <td>42.951339</td>\n",
       "      <td>NaN</td>\n",
       "      <td>35.721873</td>\n",
       "      <td>NaN</td>\n",
       "      <td>224.196512</td>\n",
       "      <td>141.797426</td>\n",
       "      <td>NaN</td>\n",
       "      <td>225.227775</td>\n",
       "    </tr>\n",
       "  </tbody>\n",
       "</table>\n",
       "</div>"
      ],
      "text/plain": [
       "   beds    WGTP                                    hh_CV             \\\n",
       "pp            1       2       3      4     5+          1          2   \n",
       "0     1  4001.0   938.0   125.0    NaN    NaN   9.304987  19.947517   \n",
       "1     2  1586.0  4060.0  1154.0  440.0  368.0  12.210662   8.672850   \n",
       "2     3  1244.0   472.0  2115.0  549.0  322.0  13.831269  18.834599   \n",
       "3     4    99.0   375.0  1070.0  233.0  680.0  43.743627  20.387704   \n",
       "4    5+     NaN   274.0   122.0    NaN  233.0        NaN  30.237542   \n",
       "\n",
       "                                          hh_MOE                          \\\n",
       "pp          3          4         5+            1           2           3   \n",
       "0   44.758289        NaN        NaN  1007.432940  506.318133  151.396313   \n",
       "1   18.289846  28.190744  40.489523   524.051794  952.839324  571.146689   \n",
       "2   15.661189  26.371454  25.951542   465.601333  240.563745  896.327880   \n",
       "3   18.379230  25.869699  18.041351   117.187634  206.886138  532.160805   \n",
       "4   42.951339        NaN  35.721873          NaN  224.196512  141.797426   \n",
       "\n",
       "                            \n",
       "pp           4          5+  \n",
       "0          NaN         NaN  \n",
       "1   335.653372  403.201631  \n",
       "2   391.776358  226.126178  \n",
       "3   163.109444  331.978363  \n",
       "4          NaN  225.227775  "
      ]
     },
     "execution_count": 40,
     "metadata": {},
     "output_type": "execute_result"
    }
   ],
   "source": [
    "px_r_piv"
   ]
  },
  {
   "cell_type": "markdown",
   "metadata": {},
   "source": [
    "##### check against acs"
   ]
  },
  {
   "cell_type": "code",
   "execution_count": 41,
   "metadata": {},
   "outputs": [],
   "source": [
    "cols = 'group(B25042)'\n",
    "source = 'acs/acs1'\n",
    "year = '2021'"
   ]
  },
  {
   "cell_type": "code",
   "execution_count": 48,
   "metadata": {},
   "outputs": [],
   "source": [
    "pum = getters.get_puma(source,year,cols)\n",
    "pum = pum[pum.GEO_ID.isin(north_pumas+phx_pumas)]\n",
    "phx = getters.get_phx(source,year,cols)\n",
    "dff = pd.concat([pum,phx])\n",
    "dff = getters.clean_table(dff)"
   ]
  },
  {
   "cell_type": "code",
   "execution_count": 51,
   "metadata": {},
   "outputs": [],
   "source": [
    "with pd.ExcelWriter(f'output/pums_northpx_crowd.xlsx') as writer:\n",
    "    px_o_piv.to_excel(writer, sheet_name=\"px_own\")\n",
    "    px_r_piv.to_excel(writer, sheet_name=\"px_rent\")\n",
    "    dff.to_excel(writer, sheet_name=\"acs_qaqc\",index=False)"
   ]
  },
  {
   "cell_type": "markdown",
   "metadata": {},
   "source": [
    "## Vacancy"
   ]
  },
  {
   "cell_type": "code",
   "execution_count": null,
   "metadata": {},
   "outputs": [],
   "source": []
  },
  {
   "cell_type": "markdown",
   "metadata": {},
   "source": [
    "# future analysis - though likely not statistically significant\n",
    "## Urban Villages, average # of people per bedroom"
   ]
  },
  {
   "cell_type": "code",
   "execution_count": null,
   "metadata": {},
   "outputs": [],
   "source": [
    "uv = oc.copy().drop(['HINCP','VACS','BDSP','NP'],axis=1).groupby(['GEO_ID','pp','beds']).sum().reset_index()"
   ]
  },
  {
   "cell_type": "code",
   "execution_count": null,
   "metadata": {},
   "outputs": [],
   "source": []
  },
  {
   "cell_type": "code",
   "execution_count": null,
   "metadata": {},
   "outputs": [],
   "source": []
  }
 ],
 "metadata": {
  "kernelspec": {
   "display_name": "Python 3",
   "language": "python",
   "name": "python3"
  },
  "language_info": {
   "codemirror_mode": {
    "name": "ipython",
    "version": 3
   },
   "file_extension": ".py",
   "mimetype": "text/x-python",
   "name": "python",
   "nbconvert_exporter": "python",
   "pygments_lexer": "ipython3",
   "version": "3.8.5"
  }
 },
 "nbformat": 4,
 "nbformat_minor": 2
}
