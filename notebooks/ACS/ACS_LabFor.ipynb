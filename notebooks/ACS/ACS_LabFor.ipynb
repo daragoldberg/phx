{
 "cells": [
  {
   "cell_type": "markdown",
   "metadata": {},
   "source": [
    "# ACS Labor Force Change 2006-2010 to 2016-2020\n",
    "\n",
    "#### This notebook analyzes changes to the NYC Metro labor force by age cohort, relative to the base population trend\n",
    "\n",
    "- https://www.census.gov/data/developers/data-sets/acs-5year.html\n",
    "\n",
    "For total labor force & population\n",
    "- https://api.census.gov/data/2010/acs/acs5/profile/variables.html\n",
    "- https://api.census.gov/data/2020/acs/acs5/profile/variables.html\n",
    "\n",
    "For labor force by cohort\n",
    "- https://api.census.gov/data/2010/acs/acs5/variables.html\n",
    "- https://api.census.gov/data/2020/acs/acs5/variables.html"
   ]
  },
  {
   "cell_type": "markdown",
   "metadata": {},
   "source": [
    "### Set proxy prior to running"
   ]
  },
  {
   "cell_type": "code",
   "execution_count": 1,
   "metadata": {},
   "outputs": [],
   "source": [
    "# SET TO TRUE/FALSE\n",
    "onDCPServer = True\n",
    "#\n",
    "#"
   ]
  },
  {
   "cell_type": "code",
   "execution_count": 2,
   "metadata": {},
   "outputs": [],
   "source": [
    "import pandas as pd\n",
    "import math\n",
    "import numpy as np\n",
    "import os"
   ]
  },
  {
   "cell_type": "code",
   "execution_count": 3,
   "metadata": {},
   "outputs": [],
   "source": [
    "from geo import *\n",
    "from make_labfor import *\n",
    "import make_labfor as lf\n",
    "import get_acs as get\n",
    "import geo_agg"
   ]
  },
  {
   "cell_type": "markdown",
   "metadata": {},
   "source": [
    "import utilcalcs as calc\n",
    "import geo_agg as geo\n",
    "from censusAPI import myAPI\n",
    "from county_codes import stco"
   ]
  },
  {
   "cell_type": "code",
   "execution_count": 4,
   "metadata": {},
   "outputs": [],
   "source": [
    "## proxy assignment, None if working off-network\n",
    "if onDCPServer == False:\n",
    "    p = None\n",
    "else:\n",
    "    from proxy import p"
   ]
  },
  {
   "cell_type": "code",
   "execution_count": 5,
   "metadata": {},
   "outputs": [],
   "source": [
    "date = '220425'"
   ]
  },
  {
   "cell_type": "code",
   "execution_count": 6,
   "metadata": {},
   "outputs": [],
   "source": [
    "#My search parameters\n",
    "y1 = '2020'\n",
    "y0 = '2010'\n",
    "\n",
    "cols_s = f'group(B23001)'\n",
    "cols_p = f'GEO_ID,DP03_0002E,DP03_0002M'\n",
    "\n",
    "source_s = 'acs/acs5'\n",
    "source_p = 'acs/acs5/profile'"
   ]
  },
  {
   "cell_type": "markdown",
   "metadata": {},
   "source": [
    "## NYC Metro counties, subregion, region labor force in Y1 and Y0, with change"
   ]
  },
  {
   "cell_type": "code",
   "execution_count": 7,
   "metadata": {},
   "outputs": [],
   "source": [
    "dfY1_p = get.get_county(p,source_p,y1,cols_p)\n",
    "dfY1_s = get.get_county(p,source_s,y1,cols_s)\n",
    "dfY1 = pd.merge(dfY1_p,dfY1_s,how='left',on='GEO_ID')\n",
    "dfY1 = get.clean_data(dfY1,var_data)"
   ]
  },
  {
   "cell_type": "code",
   "execution_count": 8,
   "metadata": {},
   "outputs": [],
   "source": [
    "dfY1 = lf.make_lf_vars(dfY1,y1)\n",
    "dfY1 = dfY1.drop(var_data[1:],axis=1)"
   ]
  },
  {
   "cell_type": "code",
   "execution_count": 9,
   "metadata": {},
   "outputs": [],
   "source": [
    "#dfY1.head()"
   ]
  },
  {
   "cell_type": "code",
   "execution_count": 10,
   "metadata": {},
   "outputs": [],
   "source": [
    "dfY0_p = get.get_county(p,source_p,y0,cols_p)\n",
    "dfY0_s = get.get_county(p,source_s,y0,cols_s)\n",
    "dfY0 = pd.merge(dfY0_p,dfY0_s,how='left',on='GEO_ID')\n",
    "dfY0 = get.clean_data(dfY0,var_data)\n",
    "#dfY1.head()"
   ]
  },
  {
   "cell_type": "code",
   "execution_count": 11,
   "metadata": {},
   "outputs": [],
   "source": [
    "dfY0 = lf.make_lf_vars(dfY0,y0)\n",
    "dfY0 = dfY0.drop(var_data[1:],axis=1)"
   ]
  },
  {
   "cell_type": "code",
   "execution_count": 12,
   "metadata": {},
   "outputs": [],
   "source": [
    "#dfY0.head()"
   ]
  },
  {
   "cell_type": "code",
   "execution_count": 13,
   "metadata": {},
   "outputs": [],
   "source": [
    "#Merge the two dataframes using the stco identifier\n",
    "dfY0Y1 = pd.merge(dfY0,dfY1,how='left',on='GEO_ID')\n",
    "dfY0Y1 = lf.make_lf_change(dfY0Y1,y0,y1)"
   ]
  },
  {
   "cell_type": "code",
   "execution_count": 14,
   "metadata": {},
   "outputs": [
    {
     "data": {
      "text/html": [
       "<div>\n",
       "<style scoped>\n",
       "    .dataframe tbody tr th:only-of-type {\n",
       "        vertical-align: middle;\n",
       "    }\n",
       "\n",
       "    .dataframe tbody tr th {\n",
       "        vertical-align: top;\n",
       "    }\n",
       "\n",
       "    .dataframe thead th {\n",
       "        text-align: right;\n",
       "    }\n",
       "</style>\n",
       "<table border=\"1\" class=\"dataframe\">\n",
       "  <thead>\n",
       "    <tr style=\"text-align: right;\">\n",
       "      <th></th>\n",
       "      <th>GEO_ID</th>\n",
       "      <th>Pop_10E</th>\n",
       "      <th>Pop_10M</th>\n",
       "      <th>Pop_10C</th>\n",
       "      <th>LF_10E</th>\n",
       "      <th>LF_10M</th>\n",
       "      <th>LF_10C</th>\n",
       "      <th>Pop1624_10E</th>\n",
       "      <th>Pop1624_10M</th>\n",
       "      <th>Pop1624_10C</th>\n",
       "      <th>...</th>\n",
       "      <th>Pop4554_1020C</th>\n",
       "      <th>LF4554_1020E</th>\n",
       "      <th>LF4554_1020M</th>\n",
       "      <th>LF4554_1020C</th>\n",
       "      <th>PopO55_1020E</th>\n",
       "      <th>PopO55_1020M</th>\n",
       "      <th>PopO55_1020C</th>\n",
       "      <th>LFO55_1020E</th>\n",
       "      <th>LFO55_1020M</th>\n",
       "      <th>LFO55_1020C</th>\n",
       "    </tr>\n",
       "  </thead>\n",
       "  <tbody>\n",
       "    <tr>\n",
       "      <th>0</th>\n",
       "      <td>09001</td>\n",
       "      <td>703812.0</td>\n",
       "      <td>616.0</td>\n",
       "      <td>0.053206</td>\n",
       "      <td>475682.0</td>\n",
       "      <td>2304.0</td>\n",
       "      <td>0.294442</td>\n",
       "      <td>96465.0</td>\n",
       "      <td>1372.730126</td>\n",
       "      <td>0.865066</td>\n",
       "      <td>...</td>\n",
       "      <td>1.239047</td>\n",
       "      <td>-5519.0</td>\n",
       "      <td>1315.389676</td>\n",
       "      <td>14.488657</td>\n",
       "      <td>59992.0</td>\n",
       "      <td>3411.628350</td>\n",
       "      <td>3.457025</td>\n",
       "      <td>39041.0</td>\n",
       "      <td>2903.404725</td>\n",
       "      <td>4.520857</td>\n",
       "    </tr>\n",
       "    <tr>\n",
       "      <th>1</th>\n",
       "      <td>09005</td>\n",
       "      <td>153468.0</td>\n",
       "      <td>245.0</td>\n",
       "      <td>0.097047</td>\n",
       "      <td>107531.0</td>\n",
       "      <td>846.0</td>\n",
       "      <td>0.478267</td>\n",
       "      <td>18671.0</td>\n",
       "      <td>550.672316</td>\n",
       "      <td>1.792915</td>\n",
       "      <td>...</td>\n",
       "      <td>1.494813</td>\n",
       "      <td>-6729.0</td>\n",
       "      <td>638.235850</td>\n",
       "      <td>5.765869</td>\n",
       "      <td>14407.0</td>\n",
       "      <td>1616.306283</td>\n",
       "      <td>6.819997</td>\n",
       "      <td>7247.0</td>\n",
       "      <td>1474.843721</td>\n",
       "      <td>12.371485</td>\n",
       "    </tr>\n",
       "    <tr>\n",
       "      <th>2</th>\n",
       "      <td>09009</td>\n",
       "      <td>686161.0</td>\n",
       "      <td>694.0</td>\n",
       "      <td>0.061485</td>\n",
       "      <td>465571.0</td>\n",
       "      <td>2465.0</td>\n",
       "      <td>0.321859</td>\n",
       "      <td>108450.0</td>\n",
       "      <td>1740.966111</td>\n",
       "      <td>0.975876</td>\n",
       "      <td>...</td>\n",
       "      <td>0.605910</td>\n",
       "      <td>-13963.0</td>\n",
       "      <td>1427.312510</td>\n",
       "      <td>6.214046</td>\n",
       "      <td>47365.0</td>\n",
       "      <td>3323.605271</td>\n",
       "      <td>4.265658</td>\n",
       "      <td>23387.0</td>\n",
       "      <td>2812.692305</td>\n",
       "      <td>7.311085</td>\n",
       "    </tr>\n",
       "    <tr>\n",
       "      <th>3</th>\n",
       "      <td>34003</td>\n",
       "      <td>717394.0</td>\n",
       "      <td>589.0</td>\n",
       "      <td>0.049910</td>\n",
       "      <td>475551.0</td>\n",
       "      <td>2700.0</td>\n",
       "      <td>0.345144</td>\n",
       "      <td>91762.0</td>\n",
       "      <td>1312.998096</td>\n",
       "      <td>0.869832</td>\n",
       "      <td>...</td>\n",
       "      <td>0.718833</td>\n",
       "      <td>-6659.0</td>\n",
       "      <td>1323.466660</td>\n",
       "      <td>12.081979</td>\n",
       "      <td>49448.0</td>\n",
       "      <td>3602.535774</td>\n",
       "      <td>4.428878</td>\n",
       "      <td>34408.0</td>\n",
       "      <td>3253.459236</td>\n",
       "      <td>5.748043</td>\n",
       "    </tr>\n",
       "    <tr>\n",
       "      <th>4</th>\n",
       "      <td>34013</td>\n",
       "      <td>607411.0</td>\n",
       "      <td>556.0</td>\n",
       "      <td>0.055645</td>\n",
       "      <td>399973.0</td>\n",
       "      <td>2710.0</td>\n",
       "      <td>0.411882</td>\n",
       "      <td>96204.0</td>\n",
       "      <td>1417.450528</td>\n",
       "      <td>0.895672</td>\n",
       "      <td>...</td>\n",
       "      <td>8.805109</td>\n",
       "      <td>-303.0</td>\n",
       "      <td>1406.037339</td>\n",
       "      <td>282.090411</td>\n",
       "      <td>35644.0</td>\n",
       "      <td>3035.259462</td>\n",
       "      <td>5.176587</td>\n",
       "      <td>21637.0</td>\n",
       "      <td>2671.004493</td>\n",
       "      <td>7.504326</td>\n",
       "    </tr>\n",
       "  </tbody>\n",
       "</table>\n",
       "<p>5 rows × 163 columns</p>\n",
       "</div>"
      ],
      "text/plain": [
       "  GEO_ID   Pop_10E  Pop_10M   Pop_10C    LF_10E  LF_10M    LF_10C  \\\n",
       "0  09001  703812.0    616.0  0.053206  475682.0  2304.0  0.294442   \n",
       "1  09005  153468.0    245.0  0.097047  107531.0   846.0  0.478267   \n",
       "2  09009  686161.0    694.0  0.061485  465571.0  2465.0  0.321859   \n",
       "3  34003  717394.0    589.0  0.049910  475551.0  2700.0  0.345144   \n",
       "4  34013  607411.0    556.0  0.055645  399973.0  2710.0  0.411882   \n",
       "\n",
       "   Pop1624_10E  Pop1624_10M  Pop1624_10C  ...  Pop4554_1020C  LF4554_1020E  \\\n",
       "0      96465.0  1372.730126     0.865066  ...       1.239047       -5519.0   \n",
       "1      18671.0   550.672316     1.792915  ...       1.494813       -6729.0   \n",
       "2     108450.0  1740.966111     0.975876  ...       0.605910      -13963.0   \n",
       "3      91762.0  1312.998096     0.869832  ...       0.718833       -6659.0   \n",
       "4      96204.0  1417.450528     0.895672  ...       8.805109        -303.0   \n",
       "\n",
       "   LF4554_1020M  LF4554_1020C  PopO55_1020E  PopO55_1020M  PopO55_1020C  \\\n",
       "0   1315.389676     14.488657       59992.0   3411.628350      3.457025   \n",
       "1    638.235850      5.765869       14407.0   1616.306283      6.819997   \n",
       "2   1427.312510      6.214046       47365.0   3323.605271      4.265658   \n",
       "3   1323.466660     12.081979       49448.0   3602.535774      4.428878   \n",
       "4   1406.037339    282.090411       35644.0   3035.259462      5.176587   \n",
       "\n",
       "   LFO55_1020E  LFO55_1020M  LFO55_1020C  \n",
       "0      39041.0  2903.404725     4.520857  \n",
       "1       7247.0  1474.843721    12.371485  \n",
       "2      23387.0  2812.692305     7.311085  \n",
       "3      34408.0  3253.459236     5.748043  \n",
       "4      21637.0  2671.004493     7.504326  \n",
       "\n",
       "[5 rows x 163 columns]"
      ]
     },
     "execution_count": 14,
     "metadata": {},
     "output_type": "execute_result"
    }
   ],
   "source": [
    "dfY0Y1.head()"
   ]
  },
  {
   "cell_type": "code",
   "execution_count": 15,
   "metadata": {},
   "outputs": [],
   "source": [
    "#Make subregion and region tables\n",
    "subreg,reg = dfY0Y1.copy(),dfY0Y1.copy()\n",
    "\n",
    "subreg['sub'],reg['reg']=subreg.GEO_ID.map(sub_5),'METRO'\n",
    "\n",
    "subreg,reg = subreg.drop(columns='GEO_ID'),reg.drop(columns='GEO_ID')\n",
    "\n",
    "subreg = subreg[['sub']+[col for col in subreg.columns if col != 'sub']]\n",
    "reg = reg[['reg']+[col for col in reg.columns if col != 'reg']]\n",
    "\n",
    "subreg,reg = geo_agg.sumgeo_cv(subreg,'sub'),geo_agg.sumgeo_cv(reg,'reg')"
   ]
  },
  {
   "cell_type": "code",
   "execution_count": 18,
   "metadata": {},
   "outputs": [],
   "source": [
    "subreg = subreg.rename(columns={'sub':'GEO_ID'})\n",
    "reg = reg.rename(columns={'reg':'GEO_ID'})"
   ]
  },
  {
   "cell_type": "code",
   "execution_count": 19,
   "metadata": {},
   "outputs": [],
   "source": [
    "cosubreg = pd.concat([dfY0Y1,subreg,reg])"
   ]
  },
  {
   "cell_type": "code",
   "execution_count": 21,
   "metadata": {},
   "outputs": [],
   "source": [
    "cosubreg.to_excel('../../output/Economy/ACS/ACS_LF_20102020.xlsx',index=False)"
   ]
  }
 ],
 "metadata": {
  "kernelspec": {
   "display_name": "Python 3 (ipykernel)",
   "language": "python",
   "name": "python3"
  },
  "language_info": {
   "codemirror_mode": {
    "name": "ipython",
    "version": 3
   },
   "file_extension": ".py",
   "mimetype": "text/x-python",
   "name": "python",
   "nbconvert_exporter": "python",
   "pygments_lexer": "ipython3",
   "version": "3.9.13"
  }
 },
 "nbformat": 4,
 "nbformat_minor": 2
}
