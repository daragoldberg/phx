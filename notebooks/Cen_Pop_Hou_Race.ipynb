{
 "cells": [
  {
   "cell_type": "markdown",
   "metadata": {},
   "source": [
    "# 01. Decennial Census 2010 - 2020\n",
    "### Pop & Housing variables pulled from 2010, and 2020 Censuses (using Cen API) for urban villages,  City of Phoenix and U.S.\n",
    "\n",
    "Total Housing Units, Population, Population by Ethncity, Total Occupied Housing Units,  \n"
   ]
  },
  {
   "cell_type": "code",
   "execution_count": 1,
   "metadata": {},
   "outputs": [],
   "source": [
    "import pandas as pd\n",
    "import numpy as np"
   ]
  },
  {
   "cell_type": "code",
   "execution_count": 2,
   "metadata": {},
   "outputs": [],
   "source": [
    "from geo import *\n",
    "import get_census as get"
   ]
  },
  {
   "cell_type": "code",
   "execution_count": 3,
   "metadata": {},
   "outputs": [],
   "source": [
    "source_dec = 'dec/sf1'\n",
    "source_red = 'dec/pl'\n",
    "years = {'2010':'P001001,P005003,P005004,P005005,P005006,P005007,P005008,P005009,P005010',\\\n",
    "        '2020':'P1_001N,P2_002N,P2_005N,P2_006N,P2_007N,P2_008N,P2_009N,P2_010N,P2_011N,H1_001N'}\n",
    "\n",
    "col_10_rename={'P001001':'Pop_10E','P005003':'P_Wh_10E','P005004':'P_Bl_10E','P005006':'P_As_10E','P005010':'P_Hi_10E',\\\n",
    "               'P005005':'P_Ot_10E','P005007':'P_Ot_10E','P005008':'P_Ot_10E','P005009':'P_Ot_10E'}\n",
    "col_20_rename = {'P1_001N':'Pop_20E','P2_002N':'P_Hi_20E',\\\n",
    "              'P2_005N':'P_Wh_20E','P2_006N':'P_Bl_20E',\\\n",
    "              'P2_007N':'P_Ot_20E','P2_008N':'P_As_20E','P2_009N':'P_Ot_20E',\\\n",
    "              'P2_010N':'P_Ot_20E','P2_011N':'P_Ot_20E','H1_001N':'Hou_20E'}"
   ]
  },
  {
   "cell_type": "markdown",
   "metadata": {},
   "source": [
    "### build county, subregion, region table for 2000, 2010 and 2020"
   ]
  },
  {
   "cell_type": "code",
   "execution_count": 4,
   "metadata": {},
   "outputs": [],
   "source": [
    "co00 = get.get_co_dec(source_dec,list(years.keys())[0],years.get(list(years.keys())[0]),col_00_rename)\n",
    "co10 = get.get_co_dec(source_dec,list(years.keys())[1],years.get(list(years.keys())[1]),col_10_rename)\n",
    "co20 = get.get_co_dec(source_red,list(years.keys())[2],years.get(list(years.keys())[2]),col_20_rename)\n",
    "labels = ['id','sub']\n",
    "co = pd.merge(pd.merge(co00,co10,on=labels,how='left'),co20,on=labels,how='left')\n",
    "\n",
    "#make sub & region\n",
    "sub = pd.pivot_table(co,values=co.columns[len(labels):],index=['sub'],\\\n",
    "                            aggfunc=np.sum,fill_value=0,margins=True).reset_index()\n",
    "sub.loc[sub['sub']=='All',['sub']] = 'METRO'\n",
    "sub = sub.rename(columns={'sub':'id'})\n",
    "co = co.drop(columns='sub')\n",
    "cosubreg = pd.concat([co,sub])"
   ]
  },
  {
   "cell_type": "code",
   "execution_count": 6,
   "metadata": {},
   "outputs": [],
   "source": [
    "cosubreg.to_csv('../output/intermediate/dec_csr.csv',index=False)"
   ]
  },
  {
   "cell_type": "markdown",
   "metadata": {},
   "source": [
    "### build municipality table 2010 & 2020 only"
   ]
  },
  {
   "cell_type": "code",
   "execution_count": 7,
   "metadata": {},
   "outputs": [],
   "source": [
    "nyc_10 = get.get_nycsub_dec(source_dec,list(years.keys())[1],years.get(list(years.keys())[1]),col_10_rename)\n",
    "nyc_20 = get.get_nycsub_dec(source_red,list(years.keys())[2],years.get(list(years.keys())[2]),col_20_rename)\n",
    "nyc = pd.merge(nyc_10,nyc_20,on='id',how='left')\n",
    "\n",
    "subpl_10 = get.get_subpl_dec(source_dec,list(years.keys())[1],years.get(list(years.keys())[1]),col_10_rename)\n",
    "subpl_20 = get.get_subpl_dec(source_red,list(years.keys())[2],years.get(list(years.keys())[2]),col_20_rename)\n",
    "subpl = pd.merge(subpl_10,subpl_20,on='id',how='left')"
   ]
  },
  {
   "cell_type": "code",
   "execution_count": 10,
   "metadata": {},
   "outputs": [],
   "source": [
    "muni = pd.concat([nyc,subpl])\n",
    "muni['id'] = muni['id'].astype(str)\n",
    "muni = muni[~muni['id'].isin(li_nyc_sub)]"
   ]
  },
  {
   "cell_type": "code",
   "execution_count": 12,
   "metadata": {},
   "outputs": [],
   "source": [
    "muni.to_csv('../output/intermediate/dec_m.csv',index=False)"
   ]
  },
  {
   "cell_type": "markdown",
   "metadata": {},
   "source": [
    "### build tract table for 2010 and 2020 - race/hispanic origin (for mapping)"
   ]
  },
  {
   "cell_type": "code",
   "execution_count": 13,
   "metadata": {},
   "outputs": [],
   "source": [
    "tract_10 = get.get_tract_dec(source_dec,list(years.keys())[1],years.get(list(years.keys())[1]),col_10_rename)\n",
    "tract_20 = get.get_tract_dec(source_red,list(years.keys())[2],years.get(list(years.keys())[2]),col_20_rename)"
   ]
  },
  {
   "cell_type": "code",
   "execution_count": 14,
   "metadata": {},
   "outputs": [],
   "source": [
    "tract_10.to_csv('../output/intermediate/race10_t.csv',index=False)\n",
    "tract_20.to_csv('../output/intermediate/race20_t.csv',index=False)"
   ]
  }
 ],
 "metadata": {
  "kernelspec": {
   "display_name": "Python 3",
   "language": "python",
   "name": "python3"
  },
  "language_info": {
   "codemirror_mode": {
    "name": "ipython",
    "version": 3
   },
   "file_extension": ".py",
   "mimetype": "text/x-python",
   "name": "python",
   "nbconvert_exporter": "python",
   "pygments_lexer": "ipython3",
   "version": "3.8.5"
  }
 },
 "nbformat": 4,
 "nbformat_minor": 2
}
