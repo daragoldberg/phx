{
 "cells": [
  {
   "cell_type": "markdown",
   "metadata": {},
   "source": [
    "## Pop & Housing variables pulled from 2010, and 2020 Censuses (using Cen API) for urban villages,  City of Phoenix and U.S.\n",
    "### added Maricopa County, State of Arizona, and comparable cities\n",
    "\n",
    "Total Housing Units, Population, Population by Ethncity, Total Occupied Housing Units,  \n",
    "\n",
    "Note: to update list of comp cities, adjust dictionary in getters script. also note Indianapolis is a consolidated city."
   ]
  },
  {
   "cell_type": "code",
   "execution_count": 1,
   "metadata": {},
   "outputs": [],
   "source": [
    "import pandas as pd\n",
    "import numpy as np"
   ]
  },
  {
   "cell_type": "code",
   "execution_count": 2,
   "metadata": {},
   "outputs": [],
   "source": [
    "import getters as get"
   ]
  },
  {
   "cell_type": "code",
   "execution_count": 3,
   "metadata": {},
   "outputs": [],
   "source": [
    "bgp_10 = pd.read_csv('../data/geo/bgp_vil_10.csv')\n",
    "bgp_20 = pd.read_csv('../data/geo/bgp_vil_20.csv')\n",
    "for df in [bgp_10,bgp_20]: df.geoid = df.geoid.apply(lambda x: '{0:0>12}'.format(x))\n",
    "    \n",
    "#get ride of area & geo stuff not being useed\n",
    "bgp_20 = bgp_20.drop(['aland20','awater20','lat20','lon20','land_acre'],axis=1)\n",
    "bgp_10 = bgp_10.drop(['aland10','awater10','lat10','lon10','land_acre'],axis=1)"
   ]
  },
  {
   "cell_type": "code",
   "execution_count": 4,
   "metadata": {},
   "outputs": [],
   "source": [
    "## set sources, define variable lists by Decennial Census year\n",
    "#SF1 Dec in 2010, Redistricting file in 2020 (until 2020 tables are released)\n",
    "\n",
    "source_dec = 'dec/sf1'\n",
    "source_red = 'dec/pl'\n",
    "\n",
    "#variables for each Census\n",
    "years = {'2010':'P001001,P005003,P005004,P005005,P005006,P005007,P005008,P005009,P005010,H003001,H003002,H003003',\\\n",
    "        '2020':'P1_001N,P2_002N,P2_005N,P2_006N,P2_007N,P2_008N,P2_009N,P2_010N,P2_011N,H1_001N,H1_002N,H1_003N'}\n",
    "\n",
    "#rename 2010 columns to group\n",
    "col_10_rename={'P001001':'Pop_10E','P005003':'P_Wh_10E','P005004':'P_Bl_10E','P005006':'P_As_10E','P005010':'P_Hi_10E',\\\n",
    "               'P005005':'P_Ot_10E','P005007':'P_Ot_10E','P005008':'P_Ot_10E','P005009':'P_Ot_10E',\\\n",
    "              'H003001':'Hou_10E','H003002':'Hou_O_10E','H003003':'Hou_V_10E'}\n",
    "\n",
    "#rename 2020 columns to group\n",
    "col_20_rename = {'P1_001N':'Pop_20E','P2_002N':'P_Hi_20E',\\\n",
    "              'P2_005N':'P_Wh_20E','P2_006N':'P_Bl_20E',\\\n",
    "              'P2_007N':'P_Ot_20E','P2_008N':'P_As_20E','P2_009N':'P_Ot_20E',\\\n",
    "              'P2_010N':'P_Ot_20E','P2_011N':'P_Ot_20E','H1_001N':'Hou_20E',\\\n",
    "              'H1_002N':'Hou_O_20E','H1_003N':'Hou_V_20E'}"
   ]
  },
  {
   "cell_type": "markdown",
   "metadata": {},
   "source": [
    "### Urban Village for 2010 and 2020"
   ]
  },
  {
   "cell_type": "code",
   "execution_count": 5,
   "metadata": {
    "scrolled": false
   },
   "outputs": [],
   "source": [
    "df10 = get.get_bgp(source_dec,list(years.keys())[0],years.get(list(years.keys())[0]))\n",
    "df20 = get.get_bgp(source_red,list(years.keys())[1],years.get(list(years.keys())[1]))"
   ]
  },
  {
   "cell_type": "code",
   "execution_count": 6,
   "metadata": {},
   "outputs": [],
   "source": [
    "def make_uvil(geodf,df,rename_col):\n",
    "    df.rename(columns=rename_col,inplace=True)\n",
    "    for col in df.columns[:-1]: df[col] = df[col].astype(int)\n",
    "    df = pd.merge(geodf,df,how='left',left_on='geoid',right_on='GEO_ID')\n",
    "    df = df.drop(['GEO_ID','geoid'],axis=1)\n",
    "    df = df.groupby(df.columns,axis=1).sum().groupby('name').sum().reset_index()\n",
    "    return df"
   ]
  },
  {
   "cell_type": "code",
   "execution_count": 7,
   "metadata": {},
   "outputs": [],
   "source": [
    "u10 = make_uvil(bgp_10,df10,col_10_rename)\n",
    "u20 = make_uvil(bgp_20,df20,col_20_rename)\n",
    "uvil = pd.merge(u10,u20,how='left',on='name')"
   ]
  },
  {
   "cell_type": "markdown",
   "metadata": {},
   "source": [
    "### Make Table function for all other geos"
   ]
  },
  {
   "cell_type": "code",
   "execution_count": 8,
   "metadata": {},
   "outputs": [],
   "source": [
    "def make_table(df,rename):\n",
    "    df.rename(columns=rename,inplace=True)\n",
    "    for col in df.columns[:-1]: df[col] = df[col].astype(int)\n",
    "    df = df.groupby(df.columns,axis=1).sum()\n",
    "    return df"
   ]
  },
  {
   "cell_type": "markdown",
   "metadata": {},
   "source": [
    "### Phoenix for 2010 and 2020"
   ]
  },
  {
   "cell_type": "code",
   "execution_count": 9,
   "metadata": {},
   "outputs": [],
   "source": [
    "p10 = get.get_phx(source_dec,list(years.keys())[0],years.get(list(years.keys())[0]))\n",
    "p20 = get.get_phx(source_red,list(years.keys())[1],years.get(list(years.keys())[1]))\n",
    "p10 = make_table(p10,col_10_rename)\n",
    "p20 = make_table(p20,col_20_rename)\n",
    "phx = pd.merge(p10,p20,how='left',on='GEO_ID')\n",
    "phx.rename(columns={'GEO_ID':'name'},inplace=True) #for concat"
   ]
  },
  {
   "cell_type": "markdown",
   "metadata": {},
   "source": [
    "### U.S. for 2010 and 2020"
   ]
  },
  {
   "cell_type": "code",
   "execution_count": 10,
   "metadata": {},
   "outputs": [],
   "source": [
    "us10 = get.get_us(source_dec,list(years.keys())[0],years.get(list(years.keys())[0]))\n",
    "us20 = get.get_us(source_red,list(years.keys())[1],years.get(list(years.keys())[1]))\n",
    "us10 = make_table(us10,col_10_rename)\n",
    "us20 = make_table(us20,col_20_rename)\n",
    "us = pd.merge(us10,us20,how='left',on='us')"
   ]
  },
  {
   "cell_type": "code",
   "execution_count": 11,
   "metadata": {},
   "outputs": [],
   "source": [
    "us.rename(columns={'us':'name'},inplace=True)\n",
    "us = us[['name']+[col for col in us.columns if col !='name']]"
   ]
  },
  {
   "cell_type": "markdown",
   "metadata": {},
   "source": [
    "## Maricopa County for 2010 and 2020"
   ]
  },
  {
   "cell_type": "code",
   "execution_count": 12,
   "metadata": {},
   "outputs": [],
   "source": [
    "mar10 = get.get_maricopa(source_dec,list(years.keys())[0],years.get(list(years.keys())[0]))\n",
    "mar20 = get.get_maricopa(source_red,list(years.keys())[1],years.get(list(years.keys())[1]))\n",
    "mar10 = make_table(mar10,col_10_rename)\n",
    "mar20 = make_table(mar20,col_20_rename)\n",
    "mar = pd.merge(mar10,mar20,how='left',on='GEO_ID')\n",
    "mar.rename(columns={'GEO_ID':'name'},inplace=True)"
   ]
  },
  {
   "cell_type": "markdown",
   "metadata": {},
   "source": [
    "## Arizona for 2010 and 2020"
   ]
  },
  {
   "cell_type": "code",
   "execution_count": 13,
   "metadata": {},
   "outputs": [],
   "source": [
    "az10 = get.get_az(source_dec,list(years.keys())[0],years.get(list(years.keys())[0]))\n",
    "az20 = get.get_az(source_red,list(years.keys())[1],years.get(list(years.keys())[1]))\n",
    "az10 = make_table(az10,col_10_rename)\n",
    "az20 = make_table(az20,col_20_rename)\n",
    "az = pd.merge(az10,az20,how='left',on='state')"
   ]
  },
  {
   "cell_type": "code",
   "execution_count": 14,
   "metadata": {},
   "outputs": [],
   "source": [
    "az.rename(columns={'state':'name'},inplace=True)\n",
    "az = az[['name']+[col for col in az.columns if col !='name']]"
   ]
  },
  {
   "cell_type": "markdown",
   "metadata": {},
   "source": [
    "## Comp cities for 2010 and 2020"
   ]
  },
  {
   "cell_type": "code",
   "execution_count": 15,
   "metadata": {},
   "outputs": [],
   "source": [
    "comps10 = get.get_comp_cities(source_dec,list(years.keys())[0],years.get(list(years.keys())[0]))\n",
    "comps20 = get.get_comp_cities(source_red,list(years.keys())[1],years.get(list(years.keys())[1]))\n",
    "comps10 = make_table(comps10,col_10_rename)\n",
    "comps20 = make_table(comps20,col_20_rename)\n",
    "comps = pd.merge(comps10,comps20,how='left',on='GEO_ID')"
   ]
  },
  {
   "cell_type": "code",
   "execution_count": 16,
   "metadata": {},
   "outputs": [],
   "source": [
    "comps.rename(columns={'GEO_ID':'name'},inplace=True)"
   ]
  },
  {
   "cell_type": "markdown",
   "metadata": {},
   "source": [
    "## Concat all geos together & export to excel"
   ]
  },
  {
   "cell_type": "code",
   "execution_count": 17,
   "metadata": {},
   "outputs": [],
   "source": [
    "rename = {'1':'US','04':'AZ','04013':'Maricopa','0455000':'Phoenix',\\\n",
    "         '0473000':'Tempe','0465000':'Scottsdale','0427820':'Glendale',\\\n",
    "         '4865000':'San Antonio','4819000':'Dallas','1235000':'Jacksonville',\\\n",
    "         '1836000':'Indianapolis'}"
   ]
  },
  {
   "cell_type": "code",
   "execution_count": 18,
   "metadata": {},
   "outputs": [],
   "source": [
    "final = pd.concat([phx,us,mar,az,comps])\n",
    "final['name'] = final['name'].map(rename)\n",
    "final = pd.concat([uvil,final])"
   ]
  },
  {
   "cell_type": "code",
   "execution_count": 34,
   "metadata": {},
   "outputs": [],
   "source": [
    "final.to_csv('output/dec_pop_hou_race.csv',index=False)"
   ]
  },
  {
   "cell_type": "code",
   "execution_count": null,
   "metadata": {},
   "outputs": [],
   "source": []
  },
  {
   "cell_type": "code",
   "execution_count": null,
   "metadata": {},
   "outputs": [],
   "source": []
  },
  {
   "cell_type": "code",
   "execution_count": null,
   "metadata": {},
   "outputs": [],
   "source": []
  },
  {
   "cell_type": "code",
   "execution_count": 23,
   "metadata": {},
   "outputs": [],
   "source": [
    "test = pd.read_html('https://tigerweb.geo.census.gov/tigerwebmain/Files/tab20/tigerweb_tab20_tabblock_2010_az_013.html')"
   ]
  },
  {
   "cell_type": "code",
   "execution_count": 27,
   "metadata": {},
   "outputs": [],
   "source": [
    "test2= pd.read_html('https://tigerweb.geo.census.gov/tigerwebmain/Files/bas23/tigerweb_bas23_concity_2020_tab20_in.html')"
   ]
  },
  {
   "cell_type": "code",
   "execution_count": 30,
   "metadata": {},
   "outputs": [
    {
     "data": {
      "text/html": [
       "<div>\n",
       "<style scoped>\n",
       "    .dataframe tbody tr th:only-of-type {\n",
       "        vertical-align: middle;\n",
       "    }\n",
       "\n",
       "    .dataframe tbody tr th {\n",
       "        vertical-align: top;\n",
       "    }\n",
       "\n",
       "    .dataframe thead th {\n",
       "        text-align: right;\n",
       "    }\n",
       "</style>\n",
       "<table border=\"1\" class=\"dataframe\">\n",
       "  <thead>\n",
       "    <tr style=\"text-align: right;\">\n",
       "      <th></th>\n",
       "      <th>MTFCC</th>\n",
       "      <th>OID</th>\n",
       "      <th>GEOID</th>\n",
       "      <th>STATE</th>\n",
       "      <th>CONCITY</th>\n",
       "      <th>CONCITNS</th>\n",
       "      <th>BASENAME</th>\n",
       "      <th>NAME</th>\n",
       "      <th>LSADC</th>\n",
       "      <th>FUNCSTAT</th>\n",
       "      <th>CONCITCC</th>\n",
       "      <th>POP100</th>\n",
       "      <th>HU100</th>\n",
       "      <th>AREALAND</th>\n",
       "      <th>AREAWATER</th>\n",
       "      <th>UR</th>\n",
       "      <th>CENTLAT</th>\n",
       "      <th>CENTLON</th>\n",
       "      <th>INTPTLAT</th>\n",
       "      <th>INTPTLON</th>\n",
       "    </tr>\n",
       "  </thead>\n",
       "  <tbody>\n",
       "    <tr>\n",
       "      <th>0</th>\n",
       "      <td>G4120</td>\n",
       "      <td>2797066961775</td>\n",
       "      <td>1836000</td>\n",
       "      <td>18</td>\n",
       "      <td>36000</td>\n",
       "      <td>2395423</td>\n",
       "      <td>Indianapolis</td>\n",
       "      <td>Indianapolis city</td>\n",
       "      <td>25</td>\n",
       "      <td>A</td>\n",
       "      <td>C3</td>\n",
       "      <td>897041</td>\n",
       "      <td>402518</td>\n",
       "      <td>947830910</td>\n",
       "      <td>17916811</td>\n",
       "      <td>M</td>\n",
       "      <td>39.77784</td>\n",
       "      <td>-86.145753</td>\n",
       "      <td>39.777995</td>\n",
       "      <td>-86.145838</td>\n",
       "    </tr>\n",
       "  </tbody>\n",
       "</table>\n",
       "</div>"
      ],
      "text/plain": [
       "   MTFCC            OID    GEOID  STATE  CONCITY  CONCITNS      BASENAME  \\\n",
       "0  G4120  2797066961775  1836000     18    36000   2395423  Indianapolis   \n",
       "\n",
       "                NAME  LSADC FUNCSTAT CONCITCC  POP100   HU100   AREALAND  \\\n",
       "0  Indianapolis city     25        A       C3  897041  402518  947830910   \n",
       "\n",
       "   AREAWATER UR   CENTLAT    CENTLON   INTPTLAT   INTPTLON  \n",
       "0   17916811  M  39.77784 -86.145753  39.777995 -86.145838  "
      ]
     },
     "execution_count": 30,
     "metadata": {},
     "output_type": "execute_result"
    }
   ],
   "source": [
    "test2[0]"
   ]
  },
  {
   "cell_type": "code",
   "execution_count": 25,
   "metadata": {},
   "outputs": [
    {
     "name": "stdout",
     "output_type": "stream",
     "text": [
      "[       MTFCC              OID           GEOID  STATE  COUNTY   TRACT  BLKGRP  \\\n",
      "0      G5040  210404017740783  40130101011000      4      13   10101       1   \n",
      "1      G5040  210404017794458  40130101011001      4      13   10101       1   \n",
      "2      G5040  210404017774165  40130101011002      4      13   10101       1   \n",
      "3      G5040  210404017753472  40130101011003      4      13   10101       1   \n",
      "4      G5040  210404017794846  40130101011004      4      13   10101       1   \n",
      "...      ...              ...             ...    ...     ...     ...     ...   \n",
      "72724  G5040  210404017794441  40139807001032      4      13  980700       1   \n",
      "72725  G5040  210404017753330  40139807001033      4      13  980700       1   \n",
      "72726  G5040  210404017748535  40139807001034      4      13  980700       1   \n",
      "72727  G5040  210404017781228  40139807001035      4      13  980700       1   \n",
      "72728  G5040  210404017775092  40139807001036      4      13  980700       1   \n",
      "\n",
      "       BLOCK  BASENAME        NAME  ... FUNCSTAT POP100  HU100   AREALAND  \\\n",
      "0       1000      1000  Block 1000  ...        S   46.0   23.0  1480495.0   \n",
      "1       1001      1001  Block 1001  ...        S   12.0    5.0   134007.0   \n",
      "2       1002      1002  Block 1002  ...        S    8.0    3.0   110395.0   \n",
      "3       1003      1003  Block 1003  ...        S   12.0    6.0   330264.0   \n",
      "4       1004      1004  Block 1004  ...        S    6.0    3.0    38789.0   \n",
      "...      ...       ...         ...  ...      ...    ...    ...        ...   \n",
      "72724   1032      1032  Block 1032  ...        S    NaN    NaN    28346.0   \n",
      "72725   1033      1033  Block 1033  ...        S    NaN    NaN  3261510.0   \n",
      "72726   1034      1034  Block 1034  ...        S    NaN    NaN    11471.0   \n",
      "72727   1035      1035  Block 1035  ...        S    NaN    NaN    15541.0   \n",
      "72728   1036      1036  Block 1036  ...        S    NaN    NaN    41807.0   \n",
      "\n",
      "       AREAWATER  UR    CENTLAT     CENTLON   INTPTLAT    INTPTLON  \n",
      "0            NaN   R  33.806798 -111.775722  33.806798 -111.775722  \n",
      "1            NaN   R  33.800652 -111.775914  33.800652 -111.775914  \n",
      "2            NaN   R  33.813044 -111.781538  33.813044 -111.781538  \n",
      "3            NaN   R  33.810316 -111.782614  33.810316 -111.782614  \n",
      "4            NaN   R  33.813062 -111.785769  33.813062 -111.785769  \n",
      "...          ...  ..        ...         ...        ...         ...  \n",
      "72724        NaN   R  33.648184 -111.748372  33.648184 -111.748372  \n",
      "72725     1891.0   R  33.645063 -111.773059  33.645558 -111.771349  \n",
      "72726        NaN   R  33.651052 -111.697150  33.651052 -111.697150  \n",
      "72727        NaN   R  33.643636 -111.698204  33.643636 -111.698204  \n",
      "72728        NaN   R  33.691065 -111.787335  33.691065 -111.787335  \n",
      "\n",
      "[72729 rows x 21 columns]]\n"
     ]
    }
   ],
   "source": [
    "print(test)"
   ]
  },
  {
   "cell_type": "code",
   "execution_count": null,
   "metadata": {},
   "outputs": [],
   "source": []
  }
 ],
 "metadata": {
  "kernelspec": {
   "display_name": "Python 3 (ipykernel)",
   "language": "python",
   "name": "python3"
  },
  "language_info": {
   "codemirror_mode": {
    "name": "ipython",
    "version": 3
   },
   "file_extension": ".py",
   "mimetype": "text/x-python",
   "name": "python",
   "nbconvert_exporter": "python",
   "pygments_lexer": "ipython3",
   "version": "3.9.13"
  }
 },
 "nbformat": 4,
 "nbformat_minor": 2
}
