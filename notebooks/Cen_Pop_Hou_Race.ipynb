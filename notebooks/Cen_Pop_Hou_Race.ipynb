{
 "cells": [
  {
   "cell_type": "markdown",
   "metadata": {},
   "source": [
    "## Pop & Housing variables pulled from 2010, and 2020 Censuses (using Cen API) for urban villages,  City of Phoenix and U.S.\n",
    "\n",
    "Total Housing Units, Population, Population by Ethncity, Total Occupied Housing Units,  \n"
   ]
  },
  {
   "cell_type": "code",
   "execution_count": 1,
   "metadata": {},
   "outputs": [],
   "source": [
    "import pandas as pd\n",
    "import numpy as np"
   ]
  },
  {
   "cell_type": "code",
   "execution_count": 2,
   "metadata": {},
   "outputs": [],
   "source": [
    "from geo import *\n",
    "import get_dec as get"
   ]
  },
  {
   "cell_type": "code",
   "execution_count": 3,
   "metadata": {},
   "outputs": [],
   "source": [
    "bgp_10 = pd.read_csv('../data/geo/bgp_vil_10.csv')\n",
    "bgp_20 = pd.read_csv('../data/geo/bgp_vil_20.csv')\n",
    "for df in [bgp_10,bgp_20]: df.geoid = df.geoid.apply(lambda x: '{0:0>12}'.format(x))\n",
    "    \n",
    "#get ride of area & geo stuff not being useed\n",
    "bgp_20 = bgp_20.drop(['aland20','awater20','lat20','lon20','land_acre'],axis=1)\n",
    "bgp_10 = bgp_10.drop(['aland10','awater10','lat10','lon10','land_acre'],axis=1)"
   ]
  },
  {
   "cell_type": "code",
   "execution_count": 4,
   "metadata": {},
   "outputs": [],
   "source": [
    "source_dec = 'dec/sf1'\n",
    "source_red = 'dec/pl'\n",
    "years = {'2010':'P001001,P005003,P005004,P005005,P005006,P005007,P005008,P005009,P005010,H003001,H003002,H003003',\\\n",
    "        '2020':'P1_001N,P2_002N,P2_005N,P2_006N,P2_007N,P2_008N,P2_009N,P2_010N,P2_011N,H1_001N,H1_002N,H1_003N'}\n",
    "\n",
    "col_10_rename={'P001001':'Pop_10E','P005003':'P_Wh_10E','P005004':'P_Bl_10E','P005006':'P_As_10E','P005010':'P_Hi_10E',\\\n",
    "               'P005005':'P_Ot_10E','P005007':'P_Ot_10E','P005008':'P_Ot_10E','P005009':'P_Ot_10E',\\\n",
    "              'H003001':'Hou_10E','H003002':'Hou_O_10E','H003003':'Hou_V_10E'}\n",
    "\n",
    "col_20_rename = {'P1_001N':'Pop_20E','P2_002N':'P_Hi_20E',\\\n",
    "              'P2_005N':'P_Wh_20E','P2_006N':'P_Bl_20E',\\\n",
    "              'P2_007N':'P_Ot_20E','P2_008N':'P_As_20E','P2_009N':'P_Ot_20E',\\\n",
    "              'P2_010N':'P_Ot_20E','P2_011N':'P_Ot_20E','H1_001N':'Hou_20E',\\\n",
    "              'H1_002N':'Hou_O_20E','H1_003N':'Hou_V_20E'}"
   ]
  },
  {
   "cell_type": "markdown",
   "metadata": {},
   "source": [
    "### Urban Village for 2010 and 2020"
   ]
  },
  {
   "cell_type": "code",
   "execution_count": 5,
   "metadata": {
    "scrolled": false
   },
   "outputs": [],
   "source": [
    "df10 = get.get_bgp(source_dec,list(years.keys())[0],years.get(list(years.keys())[0]))\n",
    "df20 = get.get_bgp(source_red,list(years.keys())[1],years.get(list(years.keys())[1]))"
   ]
  },
  {
   "cell_type": "code",
   "execution_count": 6,
   "metadata": {},
   "outputs": [],
   "source": [
    "def make_uvil(geodf,df,rename_col):\n",
    "    df.rename(columns=rename_col,inplace=True)\n",
    "    for col in df.columns[:-1]: df[col] = df[col].astype(int)\n",
    "    df = df[['GEO_ID']+[col for col in df.columns if col != 'GEO_ID']]\n",
    "    df = pd.merge(geodf,df,how='left',left_on='geoid',right_on='GEO_ID')\n",
    "    df = df.drop(['GEO_ID','geoid'],axis=1)\n",
    "    df = df.groupby(df.columns,axis=1).sum().groupby('name').sum().reset_index()\n",
    "    return df"
   ]
  },
  {
   "cell_type": "code",
   "execution_count": 7,
   "metadata": {
    "scrolled": true
   },
   "outputs": [
    {
     "data": {
      "text/html": [
       "<div>\n",
       "<style scoped>\n",
       "    .dataframe tbody tr th:only-of-type {\n",
       "        vertical-align: middle;\n",
       "    }\n",
       "\n",
       "    .dataframe tbody tr th {\n",
       "        vertical-align: top;\n",
       "    }\n",
       "\n",
       "    .dataframe thead th {\n",
       "        text-align: right;\n",
       "    }\n",
       "</style>\n",
       "<table border=\"1\" class=\"dataframe\">\n",
       "  <thead>\n",
       "    <tr style=\"text-align: right;\">\n",
       "      <th></th>\n",
       "      <th>P001001</th>\n",
       "      <th>P005003</th>\n",
       "      <th>P005004</th>\n",
       "      <th>P005005</th>\n",
       "      <th>P005006</th>\n",
       "      <th>P005007</th>\n",
       "      <th>P005008</th>\n",
       "      <th>P005009</th>\n",
       "      <th>P005010</th>\n",
       "      <th>H003001</th>\n",
       "      <th>H003002</th>\n",
       "      <th>H003003</th>\n",
       "      <th>GEO_ID</th>\n",
       "    </tr>\n",
       "  </thead>\n",
       "  <tbody>\n",
       "    <tr>\n",
       "      <th>0</th>\n",
       "      <td>2157</td>\n",
       "      <td>1967</td>\n",
       "      <td>17</td>\n",
       "      <td>4</td>\n",
       "      <td>40</td>\n",
       "      <td>2</td>\n",
       "      <td>5</td>\n",
       "      <td>23</td>\n",
       "      <td>99</td>\n",
       "      <td>946</td>\n",
       "      <td>809</td>\n",
       "      <td>137</td>\n",
       "      <td>040130101011</td>\n",
       "    </tr>\n",
       "    <tr>\n",
       "      <th>1</th>\n",
       "      <td>1716</td>\n",
       "      <td>1587</td>\n",
       "      <td>25</td>\n",
       "      <td>5</td>\n",
       "      <td>15</td>\n",
       "      <td>5</td>\n",
       "      <td>3</td>\n",
       "      <td>18</td>\n",
       "      <td>58</td>\n",
       "      <td>1071</td>\n",
       "      <td>757</td>\n",
       "      <td>314</td>\n",
       "      <td>040130101012</td>\n",
       "    </tr>\n",
       "    <tr>\n",
       "      <th>2</th>\n",
       "      <td>1200</td>\n",
       "      <td>1187</td>\n",
       "      <td>2</td>\n",
       "      <td>1</td>\n",
       "      <td>6</td>\n",
       "      <td>0</td>\n",
       "      <td>0</td>\n",
       "      <td>0</td>\n",
       "      <td>4</td>\n",
       "      <td>1120</td>\n",
       "      <td>680</td>\n",
       "      <td>440</td>\n",
       "      <td>040130101013</td>\n",
       "    </tr>\n",
       "    <tr>\n",
       "      <th>3</th>\n",
       "      <td>859</td>\n",
       "      <td>780</td>\n",
       "      <td>1</td>\n",
       "      <td>0</td>\n",
       "      <td>2</td>\n",
       "      <td>5</td>\n",
       "      <td>0</td>\n",
       "      <td>7</td>\n",
       "      <td>64</td>\n",
       "      <td>423</td>\n",
       "      <td>341</td>\n",
       "      <td>82</td>\n",
       "      <td>040130101021</td>\n",
       "    </tr>\n",
       "    <tr>\n",
       "      <th>4</th>\n",
       "      <td>1728</td>\n",
       "      <td>1549</td>\n",
       "      <td>10</td>\n",
       "      <td>2</td>\n",
       "      <td>68</td>\n",
       "      <td>0</td>\n",
       "      <td>0</td>\n",
       "      <td>33</td>\n",
       "      <td>66</td>\n",
       "      <td>929</td>\n",
       "      <td>715</td>\n",
       "      <td>214</td>\n",
       "      <td>040130101022</td>\n",
       "    </tr>\n",
       "  </tbody>\n",
       "</table>\n",
       "</div>"
      ],
      "text/plain": [
       "  P001001 P005003 P005004 P005005 P005006 P005007 P005008 P005009 P005010  \\\n",
       "0    2157    1967      17       4      40       2       5      23      99   \n",
       "1    1716    1587      25       5      15       5       3      18      58   \n",
       "2    1200    1187       2       1       6       0       0       0       4   \n",
       "3     859     780       1       0       2       5       0       7      64   \n",
       "4    1728    1549      10       2      68       0       0      33      66   \n",
       "\n",
       "  H003001 H003002 H003003        GEO_ID  \n",
       "0     946     809     137  040130101011  \n",
       "1    1071     757     314  040130101012  \n",
       "2    1120     680     440  040130101013  \n",
       "3     423     341      82  040130101021  \n",
       "4     929     715     214  040130101022  "
      ]
     },
     "execution_count": 7,
     "metadata": {},
     "output_type": "execute_result"
    }
   ],
   "source": [
    "df10.head()"
   ]
  },
  {
   "cell_type": "code",
   "execution_count": 8,
   "metadata": {},
   "outputs": [],
   "source": [
    "df10.rename(columns=col_10_rename,inplace=True)"
   ]
  },
  {
   "cell_type": "code",
   "execution_count": 9,
   "metadata": {},
   "outputs": [
    {
     "data": {
      "text/plain": [
       "Index(['Pop_10E', 'P_Wh_10E', 'P_Bl_10E', 'P_Ot_10E', 'P_As_10E', 'P_Ot_10E',\n",
       "       'P_Ot_10E', 'P_Ot_10E', 'P_Hi_10E', 'Hou_10E', 'Hou_O_10E', 'Hou_V_10E',\n",
       "       'GEO_ID'],\n",
       "      dtype='object')"
      ]
     },
     "execution_count": 9,
     "metadata": {},
     "output_type": "execute_result"
    }
   ],
   "source": [
    "df10.columns"
   ]
  },
  {
   "cell_type": "code",
   "execution_count": 10,
   "metadata": {},
   "outputs": [],
   "source": [
    "u10 = make_uvil(bgp_10,df10,col_10_rename)"
   ]
  },
  {
   "cell_type": "code",
   "execution_count": 11,
   "metadata": {},
   "outputs": [
    {
     "data": {
      "text/html": [
       "<div>\n",
       "<style scoped>\n",
       "    .dataframe tbody tr th:only-of-type {\n",
       "        vertical-align: middle;\n",
       "    }\n",
       "\n",
       "    .dataframe tbody tr th {\n",
       "        vertical-align: top;\n",
       "    }\n",
       "\n",
       "    .dataframe thead th {\n",
       "        text-align: right;\n",
       "    }\n",
       "</style>\n",
       "<table border=\"1\" class=\"dataframe\">\n",
       "  <thead>\n",
       "    <tr style=\"text-align: right;\">\n",
       "      <th></th>\n",
       "      <th>name</th>\n",
       "      <th>Hou_10E</th>\n",
       "      <th>Hou_O_10E</th>\n",
       "      <th>Hou_V_10E</th>\n",
       "      <th>P_As_10E</th>\n",
       "      <th>P_Bl_10E</th>\n",
       "      <th>P_Hi_10E</th>\n",
       "      <th>P_Ot_10E</th>\n",
       "      <th>P_Wh_10E</th>\n",
       "      <th>Pop_10E</th>\n",
       "    </tr>\n",
       "  </thead>\n",
       "  <tbody>\n",
       "    <tr>\n",
       "      <th>0</th>\n",
       "      <td>Ahwatukee Foothills</td>\n",
       "      <td>33528</td>\n",
       "      <td>31300</td>\n",
       "      <td>2228</td>\n",
       "      <td>4693</td>\n",
       "      <td>3969</td>\n",
       "      <td>9554</td>\n",
       "      <td>12676</td>\n",
       "      <td>55959</td>\n",
       "      <td>77344</td>\n",
       "    </tr>\n",
       "    <tr>\n",
       "      <th>1</th>\n",
       "      <td>Alhambra</td>\n",
       "      <td>52066</td>\n",
       "      <td>43584</td>\n",
       "      <td>8482</td>\n",
       "      <td>4774</td>\n",
       "      <td>7687</td>\n",
       "      <td>61060</td>\n",
       "      <td>23020</td>\n",
       "      <td>47168</td>\n",
       "      <td>126444</td>\n",
       "    </tr>\n",
       "    <tr>\n",
       "      <th>2</th>\n",
       "      <td>Camelback East</td>\n",
       "      <td>69263</td>\n",
       "      <td>58921</td>\n",
       "      <td>10342</td>\n",
       "      <td>2858</td>\n",
       "      <td>7452</td>\n",
       "      <td>42558</td>\n",
       "      <td>26436</td>\n",
       "      <td>72676</td>\n",
       "      <td>132153</td>\n",
       "    </tr>\n",
       "  </tbody>\n",
       "</table>\n",
       "</div>"
      ],
      "text/plain": [
       "                  name  Hou_10E  Hou_O_10E  Hou_V_10E  P_As_10E  P_Bl_10E  \\\n",
       "0  Ahwatukee Foothills    33528      31300       2228      4693      3969   \n",
       "1             Alhambra    52066      43584       8482      4774      7687   \n",
       "2       Camelback East    69263      58921      10342      2858      7452   \n",
       "\n",
       "   P_Hi_10E  P_Ot_10E  P_Wh_10E  Pop_10E  \n",
       "0      9554     12676     55959    77344  \n",
       "1     61060     23020     47168   126444  \n",
       "2     42558     26436     72676   132153  "
      ]
     },
     "execution_count": 11,
     "metadata": {},
     "output_type": "execute_result"
    }
   ],
   "source": [
    "u10.head(3)"
   ]
  },
  {
   "cell_type": "code",
   "execution_count": 12,
   "metadata": {},
   "outputs": [],
   "source": [
    "u20 = make_uvil(bgp_20,df20,col_20_rename)"
   ]
  },
  {
   "cell_type": "code",
   "execution_count": 13,
   "metadata": {},
   "outputs": [
    {
     "data": {
      "text/html": [
       "<div>\n",
       "<style scoped>\n",
       "    .dataframe tbody tr th:only-of-type {\n",
       "        vertical-align: middle;\n",
       "    }\n",
       "\n",
       "    .dataframe tbody tr th {\n",
       "        vertical-align: top;\n",
       "    }\n",
       "\n",
       "    .dataframe thead th {\n",
       "        text-align: right;\n",
       "    }\n",
       "</style>\n",
       "<table border=\"1\" class=\"dataframe\">\n",
       "  <thead>\n",
       "    <tr style=\"text-align: right;\">\n",
       "      <th></th>\n",
       "      <th>name</th>\n",
       "      <th>Hou_20E</th>\n",
       "      <th>Hou_O_20E</th>\n",
       "      <th>Hou_V_20E</th>\n",
       "      <th>P_As_20E</th>\n",
       "      <th>P_Bl_20E</th>\n",
       "      <th>P_Hi_20E</th>\n",
       "      <th>P_Ot_20E</th>\n",
       "      <th>P_Wh_20E</th>\n",
       "      <th>Pop_20E</th>\n",
       "    </tr>\n",
       "  </thead>\n",
       "  <tbody>\n",
       "    <tr>\n",
       "      <th>0</th>\n",
       "      <td>Ahwatukee Foothills</td>\n",
       "      <td>34527</td>\n",
       "      <td>32555</td>\n",
       "      <td>1972</td>\n",
       "      <td>5389</td>\n",
       "      <td>4876</td>\n",
       "      <td>12864</td>\n",
       "      <td>25080</td>\n",
       "      <td>51205</td>\n",
       "      <td>80604</td>\n",
       "    </tr>\n",
       "    <tr>\n",
       "      <th>1</th>\n",
       "      <td>Alhambra</td>\n",
       "      <td>52997</td>\n",
       "      <td>48670</td>\n",
       "      <td>4327</td>\n",
       "      <td>7068</td>\n",
       "      <td>13457</td>\n",
       "      <td>68897</td>\n",
       "      <td>37160</td>\n",
       "      <td>46170</td>\n",
       "      <td>144882</td>\n",
       "    </tr>\n",
       "    <tr>\n",
       "      <th>2</th>\n",
       "      <td>Camelback East</td>\n",
       "      <td>75182</td>\n",
       "      <td>67196</td>\n",
       "      <td>7986</td>\n",
       "      <td>4242</td>\n",
       "      <td>9134</td>\n",
       "      <td>42702</td>\n",
       "      <td>40820</td>\n",
       "      <td>78666</td>\n",
       "      <td>144949</td>\n",
       "    </tr>\n",
       "  </tbody>\n",
       "</table>\n",
       "</div>"
      ],
      "text/plain": [
       "                  name  Hou_20E  Hou_O_20E  Hou_V_20E  P_As_20E  P_Bl_20E  \\\n",
       "0  Ahwatukee Foothills    34527      32555       1972      5389      4876   \n",
       "1             Alhambra    52997      48670       4327      7068     13457   \n",
       "2       Camelback East    75182      67196       7986      4242      9134   \n",
       "\n",
       "   P_Hi_20E  P_Ot_20E  P_Wh_20E  Pop_20E  \n",
       "0     12864     25080     51205    80604  \n",
       "1     68897     37160     46170   144882  \n",
       "2     42702     40820     78666   144949  "
      ]
     },
     "execution_count": 13,
     "metadata": {},
     "output_type": "execute_result"
    }
   ],
   "source": [
    "u20.head(3)"
   ]
  },
  {
   "cell_type": "code",
   "execution_count": 14,
   "metadata": {},
   "outputs": [],
   "source": [
    "uvil = pd.merge(u10,u20,how='left',on='name')"
   ]
  },
  {
   "cell_type": "markdown",
   "metadata": {},
   "source": [
    "### Phoenix for 2010 and 2020"
   ]
  },
  {
   "cell_type": "code",
   "execution_count": 15,
   "metadata": {},
   "outputs": [],
   "source": [
    "def make_table(df,rename):\n",
    "    df.rename(columns=rename,inplace=True)\n",
    "    for col in df.columns[:-1]: df[col] = df[col].astype(int)\n",
    "    df = df.groupby(df.columns,axis=1).sum()\n",
    "    return df"
   ]
  },
  {
   "cell_type": "code",
   "execution_count": 16,
   "metadata": {},
   "outputs": [],
   "source": [
    "p10 = get.get_phx(source_dec,list(years.keys())[0],years.get(list(years.keys())[0]))\n",
    "p20 = get.get_phx(source_red,list(years.keys())[1],years.get(list(years.keys())[1]))"
   ]
  },
  {
   "cell_type": "code",
   "execution_count": 17,
   "metadata": {},
   "outputs": [],
   "source": [
    "p10 = make_table(p10,col_10_rename)\n",
    "p20 = make_table(p20,col_20_rename)"
   ]
  },
  {
   "cell_type": "code",
   "execution_count": 18,
   "metadata": {},
   "outputs": [],
   "source": [
    "phx = pd.merge(p10,p20,how='left',on='GEO_ID')\n",
    "phx.rename(columns={'GEO_ID':'name'},inplace=True)"
   ]
  },
  {
   "cell_type": "markdown",
   "metadata": {},
   "source": [
    "## U.S. for 2010 and 2020"
   ]
  },
  {
   "cell_type": "code",
   "execution_count": 19,
   "metadata": {},
   "outputs": [],
   "source": [
    "us10 = get.get_us(source_dec,list(years.keys())[0],years.get(list(years.keys())[0]))\n",
    "us20 = get.get_us(source_red,list(years.keys())[1],years.get(list(years.keys())[1]))"
   ]
  },
  {
   "cell_type": "code",
   "execution_count": 20,
   "metadata": {},
   "outputs": [],
   "source": [
    "us10 = make_table(us10,col_10_rename)\n",
    "us20 = make_table(us20,col_20_rename)"
   ]
  },
  {
   "cell_type": "code",
   "execution_count": 21,
   "metadata": {},
   "outputs": [],
   "source": [
    "us = pd.merge(us10,us20,how='left',on='us')"
   ]
  },
  {
   "cell_type": "code",
   "execution_count": 22,
   "metadata": {},
   "outputs": [],
   "source": [
    "us.rename(columns={'us':'name'},inplace=True)\n",
    "us = us[['name']+[col for col in us.columns if col !='GEO_ID']]"
   ]
  },
  {
   "cell_type": "markdown",
   "metadata": {},
   "source": [
    "## Concat all geos together & export to excel"
   ]
  },
  {
   "cell_type": "code",
   "execution_count": 23,
   "metadata": {},
   "outputs": [
    {
     "ename": "ValueError",
     "evalue": "Plan shapes are not aligned",
     "output_type": "error",
     "traceback": [
      "\u001b[0;31m---------------------------------------------------------------------------\u001b[0m",
      "\u001b[0;31mValueError\u001b[0m                                Traceback (most recent call last)",
      "\u001b[0;32m<ipython-input-23-65aa9d1b6900>\u001b[0m in \u001b[0;36m<module>\u001b[0;34m\u001b[0m\n\u001b[0;32m----> 1\u001b[0;31m \u001b[0mfinal\u001b[0m \u001b[0;34m=\u001b[0m \u001b[0mpd\u001b[0m\u001b[0;34m.\u001b[0m\u001b[0mconcat\u001b[0m\u001b[0;34m(\u001b[0m\u001b[0;34m[\u001b[0m\u001b[0muvil\u001b[0m\u001b[0;34m,\u001b[0m\u001b[0mphx\u001b[0m\u001b[0;34m,\u001b[0m\u001b[0mus\u001b[0m\u001b[0;34m]\u001b[0m\u001b[0;34m)\u001b[0m\u001b[0;34m\u001b[0m\u001b[0;34m\u001b[0m\u001b[0m\n\u001b[0m",
      "\u001b[0;32m/opt/anaconda3/lib/python3.8/site-packages/pandas/core/reshape/concat.py\u001b[0m in \u001b[0;36mconcat\u001b[0;34m(objs, axis, join, ignore_index, keys, levels, names, verify_integrity, sort, copy)\u001b[0m\n\u001b[1;32m    285\u001b[0m     )\n\u001b[1;32m    286\u001b[0m \u001b[0;34m\u001b[0m\u001b[0m\n\u001b[0;32m--> 287\u001b[0;31m     \u001b[0;32mreturn\u001b[0m \u001b[0mop\u001b[0m\u001b[0;34m.\u001b[0m\u001b[0mget_result\u001b[0m\u001b[0;34m(\u001b[0m\u001b[0;34m)\u001b[0m\u001b[0;34m\u001b[0m\u001b[0;34m\u001b[0m\u001b[0m\n\u001b[0m\u001b[1;32m    288\u001b[0m \u001b[0;34m\u001b[0m\u001b[0m\n\u001b[1;32m    289\u001b[0m \u001b[0;34m\u001b[0m\u001b[0m\n",
      "\u001b[0;32m/opt/anaconda3/lib/python3.8/site-packages/pandas/core/reshape/concat.py\u001b[0m in \u001b[0;36mget_result\u001b[0;34m(self)\u001b[0m\n\u001b[1;32m    500\u001b[0m                 \u001b[0mmgrs_indexers\u001b[0m\u001b[0;34m.\u001b[0m\u001b[0mappend\u001b[0m\u001b[0;34m(\u001b[0m\u001b[0;34m(\u001b[0m\u001b[0mobj\u001b[0m\u001b[0;34m.\u001b[0m\u001b[0m_mgr\u001b[0m\u001b[0;34m,\u001b[0m \u001b[0mindexers\u001b[0m\u001b[0;34m)\u001b[0m\u001b[0;34m)\u001b[0m\u001b[0;34m\u001b[0m\u001b[0;34m\u001b[0m\u001b[0m\n\u001b[1;32m    501\u001b[0m \u001b[0;34m\u001b[0m\u001b[0m\n\u001b[0;32m--> 502\u001b[0;31m             new_data = concatenate_block_managers(\n\u001b[0m\u001b[1;32m    503\u001b[0m                 \u001b[0mmgrs_indexers\u001b[0m\u001b[0;34m,\u001b[0m \u001b[0mself\u001b[0m\u001b[0;34m.\u001b[0m\u001b[0mnew_axes\u001b[0m\u001b[0;34m,\u001b[0m \u001b[0mconcat_axis\u001b[0m\u001b[0;34m=\u001b[0m\u001b[0mself\u001b[0m\u001b[0;34m.\u001b[0m\u001b[0mbm_axis\u001b[0m\u001b[0;34m,\u001b[0m \u001b[0mcopy\u001b[0m\u001b[0;34m=\u001b[0m\u001b[0mself\u001b[0m\u001b[0;34m.\u001b[0m\u001b[0mcopy\u001b[0m\u001b[0;34m,\u001b[0m\u001b[0;34m\u001b[0m\u001b[0;34m\u001b[0m\u001b[0m\n\u001b[1;32m    504\u001b[0m             )\n",
      "\u001b[0;32m/opt/anaconda3/lib/python3.8/site-packages/pandas/core/internals/concat.py\u001b[0m in \u001b[0;36mconcatenate_block_managers\u001b[0;34m(mgrs_indexers, axes, concat_axis, copy)\u001b[0m\n\u001b[1;32m     52\u001b[0m     \u001b[0mblocks\u001b[0m \u001b[0;34m=\u001b[0m \u001b[0;34m[\u001b[0m\u001b[0;34m]\u001b[0m\u001b[0;34m\u001b[0m\u001b[0;34m\u001b[0m\u001b[0m\n\u001b[1;32m     53\u001b[0m \u001b[0;34m\u001b[0m\u001b[0m\n\u001b[0;32m---> 54\u001b[0;31m     \u001b[0;32mfor\u001b[0m \u001b[0mplacement\u001b[0m\u001b[0;34m,\u001b[0m \u001b[0mjoin_units\u001b[0m \u001b[0;32min\u001b[0m \u001b[0mconcat_plan\u001b[0m\u001b[0;34m:\u001b[0m\u001b[0;34m\u001b[0m\u001b[0;34m\u001b[0m\u001b[0m\n\u001b[0m\u001b[1;32m     55\u001b[0m \u001b[0;34m\u001b[0m\u001b[0m\n\u001b[1;32m     56\u001b[0m         \u001b[0;32mif\u001b[0m \u001b[0mlen\u001b[0m\u001b[0;34m(\u001b[0m\u001b[0mjoin_units\u001b[0m\u001b[0;34m)\u001b[0m \u001b[0;34m==\u001b[0m \u001b[0;36m1\u001b[0m \u001b[0;32mand\u001b[0m \u001b[0;32mnot\u001b[0m \u001b[0mjoin_units\u001b[0m\u001b[0;34m[\u001b[0m\u001b[0;36m0\u001b[0m\u001b[0;34m]\u001b[0m\u001b[0;34m.\u001b[0m\u001b[0mindexers\u001b[0m\u001b[0;34m:\u001b[0m\u001b[0;34m\u001b[0m\u001b[0;34m\u001b[0m\u001b[0m\n",
      "\u001b[0;32m/opt/anaconda3/lib/python3.8/site-packages/pandas/core/internals/concat.py\u001b[0m in \u001b[0;36m_combine_concat_plans\u001b[0;34m(plans, concat_axis)\u001b[0m\n\u001b[1;32m    559\u001b[0m         \u001b[0;32mwhile\u001b[0m \u001b[0mnum_ended\u001b[0m\u001b[0;34m[\u001b[0m\u001b[0;36m0\u001b[0m\u001b[0;34m]\u001b[0m \u001b[0;34m!=\u001b[0m \u001b[0mlen\u001b[0m\u001b[0;34m(\u001b[0m\u001b[0mnext_items\u001b[0m\u001b[0;34m)\u001b[0m\u001b[0;34m:\u001b[0m\u001b[0;34m\u001b[0m\u001b[0;34m\u001b[0m\u001b[0m\n\u001b[1;32m    560\u001b[0m             \u001b[0;32mif\u001b[0m \u001b[0mnum_ended\u001b[0m\u001b[0;34m[\u001b[0m\u001b[0;36m0\u001b[0m\u001b[0;34m]\u001b[0m \u001b[0;34m>\u001b[0m \u001b[0;36m0\u001b[0m\u001b[0;34m:\u001b[0m\u001b[0;34m\u001b[0m\u001b[0;34m\u001b[0m\u001b[0m\n\u001b[0;32m--> 561\u001b[0;31m                 \u001b[0;32mraise\u001b[0m \u001b[0mValueError\u001b[0m\u001b[0;34m(\u001b[0m\u001b[0;34m\"Plan shapes are not aligned\"\u001b[0m\u001b[0;34m)\u001b[0m\u001b[0;34m\u001b[0m\u001b[0;34m\u001b[0m\u001b[0m\n\u001b[0m\u001b[1;32m    562\u001b[0m \u001b[0;34m\u001b[0m\u001b[0m\n\u001b[1;32m    563\u001b[0m             \u001b[0mplacements\u001b[0m\u001b[0;34m,\u001b[0m \u001b[0munits\u001b[0m \u001b[0;34m=\u001b[0m \u001b[0mzip\u001b[0m\u001b[0;34m(\u001b[0m\u001b[0;34m*\u001b[0m\u001b[0mnext_items\u001b[0m\u001b[0;34m)\u001b[0m\u001b[0;34m\u001b[0m\u001b[0;34m\u001b[0m\u001b[0m\n",
      "\u001b[0;31mValueError\u001b[0m: Plan shapes are not aligned"
     ]
    }
   ],
   "source": [
    "final = pd.concat([uvil,phx,us])"
   ]
  },
  {
   "cell_type": "code",
   "execution_count": null,
   "metadata": {},
   "outputs": [],
   "source": [
    "final.to_excel('output/Dec_pop_hou_race.xlsx',index=False)"
   ]
  }
 ],
 "metadata": {
  "kernelspec": {
   "display_name": "Python 3",
   "language": "python",
   "name": "python3"
  },
  "language_info": {
   "codemirror_mode": {
    "name": "ipython",
    "version": 3
   },
   "file_extension": ".py",
   "mimetype": "text/x-python",
   "name": "python",
   "nbconvert_exporter": "python",
   "pygments_lexer": "ipython3",
   "version": "3.8.5"
  }
 },
 "nbformat": 4,
 "nbformat_minor": 2
}
