{
 "cells": [
  {
   "cell_type": "markdown",
   "metadata": {},
   "source": [
    "# PUMS Household Income vs. AMI (2021) in Phoenix  PUMAS\n",
    "\n",
    "- https://www.census.gov/data/developers/data-sets/\n",
    "\n",
    "For households by income and household size to compare to HUD AMI in same year\n",
    "-  https://api.census.gov/data/2021/acs/acs1/pums/variables.html\n",
    "\n",
    "2021 AMI by HH Size (from City of Phoenix)\n",
    "- https://www.phoenix.gov/humanservicessite/Documents/2021%20AMI%20Limits%204.2.21.pdf"
   ]
  },
  {
   "cell_type": "code",
   "execution_count": 1,
   "metadata": {},
   "outputs": [],
   "source": [
    "import pandas as pd\n",
    "import math\n",
    "import numpy as np\n",
    "import os"
   ]
  },
  {
   "cell_type": "code",
   "execution_count": 2,
   "metadata": {},
   "outputs": [],
   "source": [
    "import get_pums as get\n",
    "import pums as calc"
   ]
  },
  {
   "cell_type": "code",
   "execution_count": 3,
   "metadata": {},
   "outputs": [],
   "source": [
    "from AMI_BANDS_2021 import *"
   ]
  },
  {
   "cell_type": "code",
   "execution_count": 4,
   "metadata": {},
   "outputs": [],
   "source": [
    "#Search parameters\n",
    "y1 = '2021'\n",
    "\n",
    "sample = 'acs1'\n",
    "\n",
    "phx_pumas = ['0400113','0400114','0400115','0400116','0400117',\n",
    "             '0400118','0400119','0400120','0400121','0400122','0400123',\n",
    "             '0400125','0400128','0400112','0400129']\n",
    "\n",
    "data_cols = 'SERIALNO,ST,PUMA,HINCP,NP,WGTP,ADJINC,ADJHSG,SMOCP'"
   ]
  },
  {
   "cell_type": "markdown",
   "metadata": {},
   "source": [
    "ADJHSG - adjustment factor for housing dollar amounts (6 decimal places)\n",
    "1000000 = 1.000000\n",
    "\n",
    "FHINCP - income flag - 1: yes | https://api.census.gov/data/2021/acs/acs1/pums/variables/FHINCP.json\n",
    "\n",
    "HINCP - HHI in past 12 months (not -60000:n/a, 0:no income, -59999 loss of 59k+)\n",
    "-1 to -59998 loss, 1+\n",
    "https://api.census.gov/data/2021/acs/acs1/pums/variables/HINCP.json\n",
    "\n",
    "SMOCP - selected owner costs (monthly) (not '00000': none / '-1')\n",
    "https://api.census.gov/data/2021/acs/acs1/pums/variables/SMOCP.json"
   ]
  },
  {
   "cell_type": "code",
   "execution_count": 5,
   "metadata": {},
   "outputs": [],
   "source": [
    "# create a list of replicate weights\n",
    "repwt = 'WGTP'\n",
    "repwts = [repwt+str(i) for i in range(1, 81)]"
   ]
  },
  {
   "cell_type": "markdown",
   "metadata": {},
   "source": [
    "## Get PUMA data"
   ]
  },
  {
   "cell_type": "code",
   "execution_count": 6,
   "metadata": {
    "scrolled": true
   },
   "outputs": [],
   "source": [
    "df = get.get_puma(sample,y1,data_cols)"
   ]
  },
  {
   "cell_type": "code",
   "execution_count": 7,
   "metadata": {},
   "outputs": [],
   "source": [
    "df['GEO_ID'] = df['ST']+df['PUMA']\n",
    "df = df[df.GEO_ID.isin(phx_pumas)]\n",
    "df  = df.drop(['SERIALNO','ST','PUMA'],axis=1)\n",
    "df = df[['GEO_ID']+[col for col in df.columns if col != 'GEO_ID']] #move id to first col\n",
    "for col in df.columns[1:]: df[col] = df[col].astype(float)"
   ]
  },
  {
   "cell_type": "code",
   "execution_count": 8,
   "metadata": {},
   "outputs": [],
   "source": [
    "df['HHSz'] = pd.cut(df['NP'],bins=[0,1,2,3,4,5,6,7,14],\n",
    "                   labels=['1','2','3','4','5','6','7','8'])\n",
    "df['HHSz'] = df['HHSz'].astype(str)\n",
    "df['HINCP'] = df.ADJINC * df.HINCP"
   ]
  },
  {
   "cell_type": "code",
   "execution_count": 9,
   "metadata": {},
   "outputs": [
    {
     "name": "stdout",
     "output_type": "stream",
     "text": [
      "there are 5165.0 households with no size,income, or housing cost information\n"
     ]
    }
   ],
   "source": [
    "#identify the records that are renter households, but with no other info\n",
    "#will be included in supply but not demand\n",
    "bad_records = df[(df.HHSz.isna())&(df.HINCP==-60000)|(df.HINCP==0)&(df.SMOCP==0)|(df.HINCP==0)&(df.SMOCP==-1)].copy()\n",
    "print(f'there are {bad_records.WGTP.sum()} households with no size,income, or housing cost information') "
   ]
  },
  {
   "cell_type": "code",
   "execution_count": 10,
   "metadata": {},
   "outputs": [],
   "source": [
    "df_supply = df[(df.SMOCP!=0)|(df.SMOCP!=-1)].copy()"
   ]
  },
  {
   "cell_type": "code",
   "execution_count": 11,
   "metadata": {},
   "outputs": [],
   "source": [
    "df_demand = df[~(df.HHSz.isna())&(df.HINCP!=-60000)&(df.HINCP!=0)&(df.SMOCP!=0)&(df.SMOCP!=-1)].copy()"
   ]
  },
  {
   "cell_type": "code",
   "execution_count": 12,
   "metadata": {},
   "outputs": [],
   "source": [
    "dfs = [df_supply,df_demand]"
   ]
  },
  {
   "cell_type": "code",
   "execution_count": 13,
   "metadata": {},
   "outputs": [],
   "source": [
    "for frame in dfs:\n",
    "    frame['hou_cost'] = frame.SMOCP\n",
    "    frame['aff_cost'] = np.where(frame.HINCP>=1,(frame.HINCP*0.333)/12,0)\n",
    "    \n",
    "    #who is the unit affordable to based on the rent\n",
    "    frame['unit_aff'] = np.where(frame.HHSz=='1',pd.cut(frame['hou_cost'],bins=affordable_rent['1'],labels=inc_lbl),\n",
    "                  np.where(frame.HHSz=='2',pd.cut(frame['hou_cost'],bins=affordable_rent['2'],labels=inc_lbl),\n",
    "                  np.where(frame.HHSz=='3',pd.cut(frame['hou_cost'],bins=affordable_rent['3'],labels=inc_lbl),\n",
    "                  np.where(frame.HHSz=='4',pd.cut(frame['hou_cost'],bins=affordable_rent['4'],labels=inc_lbl),\n",
    "                  np.where(frame.HHSz=='5',pd.cut(frame['hou_cost'],bins=affordable_rent['5'],labels=inc_lbl),\n",
    "                  np.where(frame.HHSz=='6',pd.cut(frame['hou_cost'],bins=affordable_rent['6'],labels=inc_lbl),\n",
    "                  np.where(frame.HHSz=='7',pd.cut(frame['hou_cost'],bins=affordable_rent['7'],labels=inc_lbl),\n",
    "                  np.where(frame.HHSz=='8',pd.cut(frame['hou_cost'],bins=affordable_rent['8'],labels=inc_lbl),''))))))))"
   ]
  },
  {
   "cell_type": "code",
   "execution_count": 14,
   "metadata": {},
   "outputs": [],
   "source": [
    "#assign AMI range based on household size and ami dictionaries\n",
    "df_demand['AMI_range'] = np.where((df_demand['HINCP']<=df_demand['HHSz'].map(AMI_30pct)),inc_lbl[0],\n",
    "                   np.where((df_demand['HINCP']>df_demand['HHSz'].map(AMI_30pct))&(df_demand['HINCP']<=df_demand['HHSz'].map(AMI_50pct)),inc_lbl[1],\n",
    "                   np.where((df_demand['HINCP']>df_demand['HHSz'].map(AMI_50pct))&(df_demand['HINCP']<=df_demand['HHSz'].map(AMI_80pct)),\n",
    "                   inc_lbl[2],np.where((df_demand['HINCP']>df_demand['HHSz'].map(AMI_80pct))&(df_demand['HINCP']<=df_demand['HHSz'].map(AMI_100pct)),\n",
    "                   inc_lbl[3],np.where((df_demand['HINCP']>df_demand['HHSz'].map(AMI_100pct))&(df_demand['HINCP']<=df_demand['HHSz'].map(AMI_120pct)),\n",
    "                                       inc_lbl[4],inc_lbl[5])))))\n",
    "\n",
    "#assign cost burden\n",
    "df_demand['cost_burdened'] = np.where(df_demand.hou_cost>df_demand.aff_cost,'burdened','not burdened')"
   ]
  },
  {
   "cell_type": "markdown",
   "metadata": {},
   "source": [
    "### table by PUMA for renters by AMI range - cost burdened vs. not cost burdened"
   ]
  },
  {
   "cell_type": "code",
   "execution_count": 15,
   "metadata": {},
   "outputs": [],
   "source": [
    "def make_est(df):\n",
    "    df['hh_SE'] = df.apply(lambda x: (calc.get_se(x['WGTP'],x[repwts])),axis=1)\n",
    "    df['hh_MOE'] = df.apply(lambda x: (calc.get_moe(x['hh_SE'])),axis=1)\n",
    "    df['hh_CV'] = df.apply(lambda x: (calc.get_cv(x['WGTP'],x['hh_SE'])),axis=1)\n",
    "    df.rename(columns={'WGTP':'hh'},inplace=True)\n",
    "    return df"
   ]
  },
  {
   "cell_type": "code",
   "execution_count": 16,
   "metadata": {},
   "outputs": [],
   "source": [
    "drop_cols_supply = ['HINCP','NP','ADJINC','ADJHSG','SMOCP','hou_cost','HHSz']\n",
    "drop_cols_demand = drop_cols_supply + ['aff_cost']"
   ]
  },
  {
   "cell_type": "code",
   "execution_count": 17,
   "metadata": {},
   "outputs": [],
   "source": [
    "df_d = df_demand.copy().drop(columns=drop_cols_demand)\n",
    "df_d = df_d.groupby(['GEO_ID','AMI_range','unit_aff','cost_burdened']).sum().reset_index()"
   ]
  },
  {
   "cell_type": "code",
   "execution_count": 18,
   "metadata": {},
   "outputs": [],
   "source": [
    "own = df_d.copy().groupby(['GEO_ID','AMI_range','unit_aff','cost_burdened']).sum().reset_index()\n",
    "own = make_est(own)\n",
    "own = own.drop(columns=repwts)"
   ]
  },
  {
   "cell_type": "code",
   "execution_count": 19,
   "metadata": {},
   "outputs": [],
   "source": [
    "own_ami = df_d.copy().drop(columns=['unit_aff','cost_burdened']).groupby(['GEO_ID','AMI_range']).sum().reset_index()\n",
    "own_ami = make_est(own_ami)\n",
    "own_ami = own_ami.drop(columns=repwts)"
   ]
  },
  {
   "cell_type": "code",
   "execution_count": 20,
   "metadata": {},
   "outputs": [],
   "source": [
    "own_aff = df_d.copy().drop(columns=['AMI_range','cost_burdened']).groupby(['GEO_ID','unit_aff']).sum().reset_index()\n",
    "own_aff = make_est(own_aff)\n",
    "own_aff = own_aff.drop(columns=repwts)"
   ]
  },
  {
   "cell_type": "code",
   "execution_count": 21,
   "metadata": {},
   "outputs": [],
   "source": [
    "cost_burd = df_d.copy().drop(columns=['unit_aff','AMI_range']).groupby(['GEO_ID','cost_burdened']).sum().reset_index()\n",
    "cost_burd = make_est(cost_burd)\n",
    "cost_burd = cost_burd.drop(columns=repwts)"
   ]
  },
  {
   "cell_type": "code",
   "execution_count": 22,
   "metadata": {},
   "outputs": [],
   "source": [
    "cost_burd_ami = df_d.copy().drop(columns=['unit_aff']).groupby(['GEO_ID','cost_burdened','AMI_range']).sum().reset_index()\n",
    "cost_burd_ami = make_est(cost_burd_ami)\n",
    "cost_burd_ami = cost_burd_ami.drop(columns=repwts)"
   ]
  },
  {
   "cell_type": "code",
   "execution_count": 23,
   "metadata": {},
   "outputs": [],
   "source": [
    "ami_aff = df_d.copy().drop(columns='cost_burdened').groupby(['GEO_ID','AMI_range','unit_aff']).sum().reset_index()\n",
    "ami_aff = make_est(ami_aff)\n",
    "ami_aff = ami_aff.drop(columns=repwts)"
   ]
  },
  {
   "cell_type": "code",
   "execution_count": 24,
   "metadata": {},
   "outputs": [
    {
     "data": {
      "text/html": [
       "<div>\n",
       "<style scoped>\n",
       "    .dataframe tbody tr th:only-of-type {\n",
       "        vertical-align: middle;\n",
       "    }\n",
       "\n",
       "    .dataframe tbody tr th {\n",
       "        vertical-align: top;\n",
       "    }\n",
       "\n",
       "    .dataframe thead th {\n",
       "        text-align: right;\n",
       "    }\n",
       "</style>\n",
       "<table border=\"1\" class=\"dataframe\">\n",
       "  <thead>\n",
       "    <tr style=\"text-align: right;\">\n",
       "      <th></th>\n",
       "      <th>GEO_ID</th>\n",
       "      <th>AMI_range</th>\n",
       "      <th>hh</th>\n",
       "      <th>hh_SE</th>\n",
       "      <th>hh_MOE</th>\n",
       "      <th>hh_CV</th>\n",
       "    </tr>\n",
       "  </thead>\n",
       "  <tbody>\n",
       "    <tr>\n",
       "      <th>0</th>\n",
       "      <td>0400112</td>\n",
       "      <td>100_120_ami</td>\n",
       "      <td>2069.0</td>\n",
       "      <td>323.716852</td>\n",
       "      <td>532.514221</td>\n",
       "      <td>9.511279</td>\n",
       "    </tr>\n",
       "    <tr>\n",
       "      <th>1</th>\n",
       "      <td>0400112</td>\n",
       "      <td>30_50_ami</td>\n",
       "      <td>1059.0</td>\n",
       "      <td>207.413596</td>\n",
       "      <td>341.195366</td>\n",
       "      <td>11.906260</td>\n",
       "    </tr>\n",
       "    <tr>\n",
       "      <th>2</th>\n",
       "      <td>0400112</td>\n",
       "      <td>50_80_ami</td>\n",
       "      <td>3454.0</td>\n",
       "      <td>446.631588</td>\n",
       "      <td>734.708962</td>\n",
       "      <td>7.860700</td>\n",
       "    </tr>\n",
       "    <tr>\n",
       "      <th>3</th>\n",
       "      <td>0400112</td>\n",
       "      <td>80_100_ami</td>\n",
       "      <td>3092.0</td>\n",
       "      <td>375.533054</td>\n",
       "      <td>617.751875</td>\n",
       "      <td>7.383169</td>\n",
       "    </tr>\n",
       "    <tr>\n",
       "      <th>4</th>\n",
       "      <td>0400112</td>\n",
       "      <td>o120_ami</td>\n",
       "      <td>33779.0</td>\n",
       "      <td>1059.365234</td>\n",
       "      <td>1742.655811</td>\n",
       "      <td>1.906483</td>\n",
       "    </tr>\n",
       "  </tbody>\n",
       "</table>\n",
       "</div>"
      ],
      "text/plain": [
       "    GEO_ID    AMI_range       hh        hh_SE       hh_MOE      hh_CV\n",
       "0  0400112  100_120_ami   2069.0   323.716852   532.514221   9.511279\n",
       "1  0400112    30_50_ami   1059.0   207.413596   341.195366  11.906260\n",
       "2  0400112    50_80_ami   3454.0   446.631588   734.708962   7.860700\n",
       "3  0400112   80_100_ami   3092.0   375.533054   617.751875   7.383169\n",
       "4  0400112     o120_ami  33779.0  1059.365234  1742.655811   1.906483"
      ]
     },
     "execution_count": 24,
     "metadata": {},
     "output_type": "execute_result"
    }
   ],
   "source": [
    "own_ami.head()"
   ]
  },
  {
   "cell_type": "code",
   "execution_count": 25,
   "metadata": {},
   "outputs": [],
   "source": [
    "own = pd.pivot_table(own,values=['hh','hh_MOE','hh_CV'],index='GEO_ID',\n",
    "                          columns=['AMI_range','unit_aff','cost_burdened'],aggfunc=np.sum).reset_index()\n",
    "\n",
    "own_ami = pd.pivot_table(own_ami,values=['hh','hh_MOE','hh_CV'],index='GEO_ID',\n",
    "                          columns=['AMI_range'],aggfunc=np.sum).reset_index()\n",
    "\n",
    "own_aff = pd.pivot_table(own_aff,values=['hh','hh_MOE','hh_CV'],index='GEO_ID',\n",
    "                          columns=['unit_aff'],aggfunc=np.sum).reset_index()\n",
    "\n",
    "cost_burd = pd.pivot_table(cost_burd,values=['hh','hh_MOE','hh_CV'],index='GEO_ID',\n",
    "                          columns=['cost_burdened'],aggfunc=np.sum).reset_index()\n",
    "\n",
    "cost_burd_ami = pd.pivot_table(cost_burd_ami,values=['hh','hh_MOE','hh_CV'],index='GEO_ID',\n",
    "                          columns=['AMI_range','cost_burdened'],aggfunc=np.sum).reset_index()\n",
    "\n",
    "ami_aff = pd.pivot_table(ami_aff,values=['hh','hh_MOE','hh_CV'],index='GEO_ID',\n",
    "                          columns=['AMI_range','unit_aff'],aggfunc=np.sum).reset_index()"
   ]
  },
  {
   "cell_type": "markdown",
   "metadata": {},
   "source": [
    "##### supply table"
   ]
  },
  {
   "cell_type": "code",
   "execution_count": 26,
   "metadata": {},
   "outputs": [],
   "source": [
    "df_s = df_supply.copy().drop(columns=drop_cols_supply)\n",
    "df_s = df_s.groupby(['GEO_ID','unit_aff']).sum().reset_index()"
   ]
  },
  {
   "cell_type": "code",
   "execution_count": 27,
   "metadata": {},
   "outputs": [],
   "source": [
    "supply_aff = df_s.copy().groupby(['GEO_ID','unit_aff']).sum().reset_index()\n",
    "supply_aff = make_est(supply_aff)\n",
    "supply_aff = supply_aff.drop(columns=repwts)\n",
    "\n",
    "supply_aff = pd.pivot_table(supply_aff,values=['hh','hh_MOE','hh_CV'],index='GEO_ID',\\\n",
    "                          columns=['unit_aff'],aggfunc=np.sum).reset_index()"
   ]
  },
  {
   "cell_type": "code",
   "execution_count": 30,
   "metadata": {},
   "outputs": [],
   "source": [
    "with pd.ExcelWriter(f'../../output/pums_gap_own/pums_own_gap_111423.xlsx') as writer:\n",
    "    own.to_excel(writer,sheet_name='full_owner')\n",
    "    own_ami.to_excel(writer,sheet_name='hh_ami_lvl_owner')\n",
    "    own_aff.to_excel(writer,sheet_name='hh_afford_byAMI_owner')\n",
    "    cost_burd.to_excel(writer,sheet_name='cost_burdened_owner')\n",
    "    cost_burd_ami.to_excel(writer,sheet_name='cost_burdened_byAMI_owner')\n",
    "    ami_aff.to_excel(writer,sheet_name='demand_supply_amilvl')\n",
    "    supply_aff.to_excel(writer,sheet_name='supply_amilvl')  "
   ]
  }
 ],
 "metadata": {
  "kernelspec": {
   "display_name": "Python 3 (ipykernel)",
   "language": "python",
   "name": "python3"
  },
  "language_info": {
   "codemirror_mode": {
    "name": "ipython",
    "version": 3
   },
   "file_extension": ".py",
   "mimetype": "text/x-python",
   "name": "python",
   "nbconvert_exporter": "python",
   "pygments_lexer": "ipython3",
   "version": "3.9.13"
  }
 },
 "nbformat": 4,
 "nbformat_minor": 2
}
