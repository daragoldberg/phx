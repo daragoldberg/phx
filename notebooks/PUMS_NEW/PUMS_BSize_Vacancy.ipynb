{
 "cells": [
  {
   "cell_type": "markdown",
   "metadata": {},
   "source": [
    "# Phoenix Households by Building Size and Tenure (i.e., vacant or occupied) - Multifamily vs. Single Family - PUMS data\n",
    "\n",
    "To determine occupancy/vacancy rate for single-family and multifamily units by PUMA [IF POSSIBLE!]\n",
    "\n",
    "- https://www.census.gov/data/developers/data-sets/\n",
    "\n",
    "-  https://api.census.gov/data/2021/acs/acs1/pums/variables.html"
   ]
  },
  {
   "cell_type": "code",
   "execution_count": 1,
   "metadata": {},
   "outputs": [],
   "source": [
    "import pandas as pd\n",
    "import math\n",
    "import numpy as np\n",
    "import os"
   ]
  },
  {
   "cell_type": "code",
   "execution_count": 2,
   "metadata": {},
   "outputs": [],
   "source": [
    "import get_pums as get\n",
    "import pums as calc"
   ]
  },
  {
   "cell_type": "code",
   "execution_count": 3,
   "metadata": {},
   "outputs": [],
   "source": [
    "from AMI_BANDS_2021 import *\n",
    "#from AMI_BANDS_2012 import *\n",
    "\n",
    "year = '2021'"
   ]
  },
  {
   "cell_type": "code",
   "execution_count": 4,
   "metadata": {},
   "outputs": [],
   "source": [
    "#parameters\n",
    "sample = 'acs1'\n",
    "\n",
    "phx_pumas = ['0400112','0400113','0400114','0400115','0400116','0400117',\n",
    "             '0400118','0400119','0400120','0400121','0400122','0400123',\n",
    "             '0400125','0400128','0400129']\n",
    "\n",
    "data_cols = 'SERIALNO,ST,PUMA,WGTP,BLD,VACS'"
   ]
  },
  {
   "cell_type": "code",
   "execution_count": 5,
   "metadata": {},
   "outputs": [],
   "source": [
    "bld_recode = {1.0:'sf',2.0:'sf',3.0:'sf',4.0:'mf',5.0:'mf',\n",
    "             6.0:'mf',7.0:'mf',8.0:'mf',9.0:'mf',10.0:'oth',0.0:'na'}"
   ]
  },
  {
   "cell_type": "markdown",
   "metadata": {},
   "source": [
    "Vacancy variables from Census API\n",
    "https://api.census.gov/data/2021/acs/acs1/pums/variables/VACS.json\n",
    "\n",
    "\"3\": \"For sale only\",\n",
    "      \"0\": \"N/A (GQ/occupied)\",\n",
    "      \"2\": \"Rented, not occupied\",\n",
    "      \"6\": \"For migrant workers\",\n",
    "      \"4\": \"Sold, not occupied\",\n",
    "      \"7\": \"Other vacant\",\n",
    "      \"5\": \"For seasonal/recreational/occasional use\",\n",
    "      \"1\": \"For Rent\""
   ]
  },
  {
   "cell_type": "code",
   "execution_count": 6,
   "metadata": {},
   "outputs": [],
   "source": [
    "vacancy_recode = {0.0:'occ',1.0:'vac',2.0:'vac',3.0:'vac',4.0:'vac',5.0:'vac',6.0:'vac',7.0:'vac'}"
   ]
  },
  {
   "cell_type": "code",
   "execution_count": 7,
   "metadata": {},
   "outputs": [],
   "source": [
    "# create a list of replicate weights\n",
    "repwt = 'WGTP'\n",
    "repwts = [repwt+str(i) for i in range(1, 81)]"
   ]
  },
  {
   "cell_type": "markdown",
   "metadata": {},
   "source": [
    "## Get PUMA data"
   ]
  },
  {
   "cell_type": "code",
   "execution_count": 8,
   "metadata": {
    "scrolled": true
   },
   "outputs": [],
   "source": [
    "raw = get.get_puma(sample,year,data_cols)"
   ]
  },
  {
   "cell_type": "code",
   "execution_count": 9,
   "metadata": {},
   "outputs": [],
   "source": [
    "df = raw.copy()"
   ]
  },
  {
   "cell_type": "code",
   "execution_count": 10,
   "metadata": {},
   "outputs": [],
   "source": [
    "df['ST'] = df['ST'].str.zfill(2)\n",
    "df['PUMA'] = df['PUMA'].str.zfill(5)\n",
    "df['GEO_ID'] = df['ST']+df['PUMA']"
   ]
  },
  {
   "cell_type": "code",
   "execution_count": 11,
   "metadata": {},
   "outputs": [],
   "source": [
    "#make geo identifiers, reduce df to PHX PUMAs\n",
    "df['GEO_ID'] = df['ST']+df['PUMA']\n",
    "df = df[df.GEO_ID.isin(phx_pumas)]\n",
    "df  = df.drop(['SERIALNO','ST','PUMA'],axis=1)\n",
    "df = df[['GEO_ID']+[col for col in df.columns if col !='GEO_ID']] #move id to first col\n",
    "\n",
    "#clean data cols to be numeric\n",
    "for col in df.columns[1:]: df[col] = df[col].astype(float)"
   ]
  },
  {
   "cell_type": "code",
   "execution_count": 12,
   "metadata": {},
   "outputs": [],
   "source": [
    "df['BSize'] = df['BLD'].map(bld_recode)\n",
    "df['Occ'] = df['VACS'].map(vacancy_recode)"
   ]
  },
  {
   "cell_type": "code",
   "execution_count": 13,
   "metadata": {},
   "outputs": [
    {
     "data": {
      "text/plain": [
       "array(['occ', 'vac'], dtype=object)"
      ]
     },
     "execution_count": 13,
     "metadata": {},
     "output_type": "execute_result"
    }
   ],
   "source": [
    "df.Occ.unique()"
   ]
  },
  {
   "cell_type": "code",
   "execution_count": 14,
   "metadata": {},
   "outputs": [
    {
     "data": {
      "text/plain": [
       "array(['na', 'mf', 'sf', 'oth'], dtype=object)"
      ]
     },
     "execution_count": 14,
     "metadata": {},
     "output_type": "execute_result"
    }
   ],
   "source": [
    "df.BSize.unique()"
   ]
  },
  {
   "cell_type": "code",
   "execution_count": 15,
   "metadata": {},
   "outputs": [
    {
     "data": {
      "text/plain": [
       "occ    7142\n",
       "vac     347\n",
       "Name: Occ, dtype: int64"
      ]
     },
     "execution_count": 15,
     "metadata": {},
     "output_type": "execute_result"
    }
   ],
   "source": [
    "df.Occ.value_counts()"
   ]
  },
  {
   "cell_type": "code",
   "execution_count": 16,
   "metadata": {},
   "outputs": [
    {
     "data": {
      "text/plain": [
       "sf     5195\n",
       "mf     1663\n",
       "na      622\n",
       "oth       9\n",
       "Name: BSize, dtype: int64"
      ]
     },
     "execution_count": 16,
     "metadata": {},
     "output_type": "execute_result"
    }
   ],
   "source": [
    "df.BSize.value_counts()"
   ]
  },
  {
   "cell_type": "code",
   "execution_count": 19,
   "metadata": {},
   "outputs": [],
   "source": [
    "dff = df.copy()"
   ]
  },
  {
   "cell_type": "markdown",
   "metadata": {},
   "source": [
    "dff = df[~(df.HHSz.isna())].copy()"
   ]
  },
  {
   "cell_type": "code",
   "execution_count": 20,
   "metadata": {},
   "outputs": [],
   "source": [
    "pivot = dff.drop(['BLD','VACS'],axis=1).copy()\n",
    "pivot = pivot.groupby(['GEO_ID','Occ','BSize']).sum().reset_index()\n",
    "pivot.rename(columns={'WGTP':'hh_e'},inplace=True)"
   ]
  },
  {
   "cell_type": "code",
   "execution_count": 21,
   "metadata": {},
   "outputs": [],
   "source": [
    "pivot['hh_SE'] = pivot.apply(lambda x: (calc.get_se(x['hh_e'],x[repwts])),axis=1)\n",
    "pivot['hh_MOE'] = pivot.apply(lambda x: (calc.get_moe(x['hh_SE'])),axis=1)\n",
    "pivot['hh_CV'] = pivot.apply(lambda x: (calc.get_cv(x['hh_e'],x['hh_SE'])),axis=1)\n",
    "pivot = pivot.drop(columns=repwts)"
   ]
  },
  {
   "cell_type": "code",
   "execution_count": 23,
   "metadata": {},
   "outputs": [
    {
     "data": {
      "text/html": [
       "<div>\n",
       "<style scoped>\n",
       "    .dataframe tbody tr th:only-of-type {\n",
       "        vertical-align: middle;\n",
       "    }\n",
       "\n",
       "    .dataframe tbody tr th {\n",
       "        vertical-align: top;\n",
       "    }\n",
       "\n",
       "    .dataframe thead th {\n",
       "        text-align: right;\n",
       "    }\n",
       "</style>\n",
       "<table border=\"1\" class=\"dataframe\">\n",
       "  <thead>\n",
       "    <tr style=\"text-align: right;\">\n",
       "      <th></th>\n",
       "      <th>GEO_ID</th>\n",
       "      <th>Occ</th>\n",
       "      <th>BSize</th>\n",
       "      <th>hh_e</th>\n",
       "      <th>hh_SE</th>\n",
       "      <th>hh_MOE</th>\n",
       "      <th>hh_CV</th>\n",
       "    </tr>\n",
       "  </thead>\n",
       "  <tbody>\n",
       "    <tr>\n",
       "      <th>0</th>\n",
       "      <td>0400112</td>\n",
       "      <td>occ</td>\n",
       "      <td>mf</td>\n",
       "      <td>9264.0</td>\n",
       "      <td>775.466585</td>\n",
       "      <td>1275.642533</td>\n",
       "      <td>5.088604</td>\n",
       "    </tr>\n",
       "    <tr>\n",
       "      <th>1</th>\n",
       "      <td>0400112</td>\n",
       "      <td>occ</td>\n",
       "      <td>na</td>\n",
       "      <td>0.0</td>\n",
       "      <td>0.000000</td>\n",
       "      <td>0.000000</td>\n",
       "      <td>0.000000</td>\n",
       "    </tr>\n",
       "    <tr>\n",
       "      <th>2</th>\n",
       "      <td>0400112</td>\n",
       "      <td>occ</td>\n",
       "      <td>sf</td>\n",
       "      <td>48993.0</td>\n",
       "      <td>1311.516698</td>\n",
       "      <td>2157.444969</td>\n",
       "      <td>1.627323</td>\n",
       "    </tr>\n",
       "    <tr>\n",
       "      <th>3</th>\n",
       "      <td>0400112</td>\n",
       "      <td>vac</td>\n",
       "      <td>mf</td>\n",
       "      <td>2424.0</td>\n",
       "      <td>541.144990</td>\n",
       "      <td>890.183508</td>\n",
       "      <td>13.571102</td>\n",
       "    </tr>\n",
       "    <tr>\n",
       "      <th>4</th>\n",
       "      <td>0400112</td>\n",
       "      <td>vac</td>\n",
       "      <td>sf</td>\n",
       "      <td>5709.0</td>\n",
       "      <td>672.579215</td>\n",
       "      <td>1106.392808</td>\n",
       "      <td>7.161723</td>\n",
       "    </tr>\n",
       "    <tr>\n",
       "      <th>5</th>\n",
       "      <td>0400113</td>\n",
       "      <td>occ</td>\n",
       "      <td>mf</td>\n",
       "      <td>10631.0</td>\n",
       "      <td>804.731757</td>\n",
       "      <td>1323.783740</td>\n",
       "      <td>4.601624</td>\n",
       "    </tr>\n",
       "    <tr>\n",
       "      <th>6</th>\n",
       "      <td>0400113</td>\n",
       "      <td>occ</td>\n",
       "      <td>na</td>\n",
       "      <td>0.0</td>\n",
       "      <td>0.000000</td>\n",
       "      <td>0.000000</td>\n",
       "      <td>0.000000</td>\n",
       "    </tr>\n",
       "    <tr>\n",
       "      <th>7</th>\n",
       "      <td>0400113</td>\n",
       "      <td>occ</td>\n",
       "      <td>oth</td>\n",
       "      <td>269.0</td>\n",
       "      <td>139.121170</td>\n",
       "      <td>228.854325</td>\n",
       "      <td>31.439457</td>\n",
       "    </tr>\n",
       "    <tr>\n",
       "      <th>8</th>\n",
       "      <td>0400113</td>\n",
       "      <td>occ</td>\n",
       "      <td>sf</td>\n",
       "      <td>32232.0</td>\n",
       "      <td>1149.534090</td>\n",
       "      <td>1890.983579</td>\n",
       "      <td>2.168047</td>\n",
       "    </tr>\n",
       "    <tr>\n",
       "      <th>9</th>\n",
       "      <td>0400113</td>\n",
       "      <td>vac</td>\n",
       "      <td>mf</td>\n",
       "      <td>2386.0</td>\n",
       "      <td>490.791402</td>\n",
       "      <td>807.351856</td>\n",
       "      <td>12.504335</td>\n",
       "    </tr>\n",
       "    <tr>\n",
       "      <th>10</th>\n",
       "      <td>0400113</td>\n",
       "      <td>vac</td>\n",
       "      <td>sf</td>\n",
       "      <td>2393.0</td>\n",
       "      <td>411.972784</td>\n",
       "      <td>677.695230</td>\n",
       "      <td>10.465499</td>\n",
       "    </tr>\n",
       "    <tr>\n",
       "      <th>11</th>\n",
       "      <td>0400114</td>\n",
       "      <td>occ</td>\n",
       "      <td>mf</td>\n",
       "      <td>15743.0</td>\n",
       "      <td>1014.284452</td>\n",
       "      <td>1668.497924</td>\n",
       "      <td>3.916574</td>\n",
       "    </tr>\n",
       "  </tbody>\n",
       "</table>\n",
       "</div>"
      ],
      "text/plain": [
       "     GEO_ID  Occ BSize     hh_e        hh_SE       hh_MOE      hh_CV\n",
       "0   0400112  occ    mf   9264.0   775.466585  1275.642533   5.088604\n",
       "1   0400112  occ    na      0.0     0.000000     0.000000   0.000000\n",
       "2   0400112  occ    sf  48993.0  1311.516698  2157.444969   1.627323\n",
       "3   0400112  vac    mf   2424.0   541.144990   890.183508  13.571102\n",
       "4   0400112  vac    sf   5709.0   672.579215  1106.392808   7.161723\n",
       "5   0400113  occ    mf  10631.0   804.731757  1323.783740   4.601624\n",
       "6   0400113  occ    na      0.0     0.000000     0.000000   0.000000\n",
       "7   0400113  occ   oth    269.0   139.121170   228.854325  31.439457\n",
       "8   0400113  occ    sf  32232.0  1149.534090  1890.983579   2.168047\n",
       "9   0400113  vac    mf   2386.0   490.791402   807.351856  12.504335\n",
       "10  0400113  vac    sf   2393.0   411.972784   677.695230  10.465499\n",
       "11  0400114  occ    mf  15743.0  1014.284452  1668.497924   3.916574"
      ]
     },
     "execution_count": 23,
     "metadata": {},
     "output_type": "execute_result"
    }
   ],
   "source": [
    "pivot.head(12)"
   ]
  },
  {
   "cell_type": "code",
   "execution_count": 24,
   "metadata": {},
   "outputs": [],
   "source": [
    "final = pd.pivot_table(pivot,values=['hh_e','hh_MOE','hh_CV'],index='GEO_ID',\\\n",
    "                      columns=['Occ','BSize'],aggfunc=np.sum).reset_index()"
   ]
  },
  {
   "cell_type": "code",
   "execution_count": 25,
   "metadata": {},
   "outputs": [
    {
     "data": {
      "text/html": [
       "<div>\n",
       "<style scoped>\n",
       "    .dataframe tbody tr th:only-of-type {\n",
       "        vertical-align: middle;\n",
       "    }\n",
       "\n",
       "    .dataframe tbody tr th {\n",
       "        vertical-align: top;\n",
       "    }\n",
       "\n",
       "    .dataframe thead tr th {\n",
       "        text-align: left;\n",
       "    }\n",
       "</style>\n",
       "<table border=\"1\" class=\"dataframe\">\n",
       "  <thead>\n",
       "    <tr>\n",
       "      <th></th>\n",
       "      <th>GEO_ID</th>\n",
       "      <th colspan=\"6\" halign=\"left\">hh_CV</th>\n",
       "      <th colspan=\"6\" halign=\"left\">hh_MOE</th>\n",
       "      <th colspan=\"6\" halign=\"left\">hh_e</th>\n",
       "    </tr>\n",
       "    <tr>\n",
       "      <th>Occ</th>\n",
       "      <th></th>\n",
       "      <th colspan=\"4\" halign=\"left\">occ</th>\n",
       "      <th colspan=\"2\" halign=\"left\">vac</th>\n",
       "      <th colspan=\"4\" halign=\"left\">occ</th>\n",
       "      <th colspan=\"2\" halign=\"left\">vac</th>\n",
       "      <th colspan=\"4\" halign=\"left\">occ</th>\n",
       "      <th colspan=\"2\" halign=\"left\">vac</th>\n",
       "    </tr>\n",
       "    <tr>\n",
       "      <th>BSize</th>\n",
       "      <th></th>\n",
       "      <th>mf</th>\n",
       "      <th>na</th>\n",
       "      <th>oth</th>\n",
       "      <th>sf</th>\n",
       "      <th>mf</th>\n",
       "      <th>sf</th>\n",
       "      <th>mf</th>\n",
       "      <th>na</th>\n",
       "      <th>oth</th>\n",
       "      <th>sf</th>\n",
       "      <th>mf</th>\n",
       "      <th>sf</th>\n",
       "      <th>mf</th>\n",
       "      <th>na</th>\n",
       "      <th>oth</th>\n",
       "      <th>sf</th>\n",
       "      <th>mf</th>\n",
       "      <th>sf</th>\n",
       "    </tr>\n",
       "  </thead>\n",
       "  <tbody>\n",
       "    <tr>\n",
       "      <th>0</th>\n",
       "      <td>0400112</td>\n",
       "      <td>5.088604</td>\n",
       "      <td>0.0</td>\n",
       "      <td>NaN</td>\n",
       "      <td>1.627323</td>\n",
       "      <td>13.571102</td>\n",
       "      <td>7.161723</td>\n",
       "      <td>1275.642533</td>\n",
       "      <td>0.0</td>\n",
       "      <td>NaN</td>\n",
       "      <td>2157.444969</td>\n",
       "      <td>890.183508</td>\n",
       "      <td>1106.392808</td>\n",
       "      <td>9264.0</td>\n",
       "      <td>0.0</td>\n",
       "      <td>NaN</td>\n",
       "      <td>48993.0</td>\n",
       "      <td>2424.0</td>\n",
       "      <td>5709.0</td>\n",
       "    </tr>\n",
       "    <tr>\n",
       "      <th>1</th>\n",
       "      <td>0400113</td>\n",
       "      <td>4.601624</td>\n",
       "      <td>0.0</td>\n",
       "      <td>31.439457</td>\n",
       "      <td>2.168047</td>\n",
       "      <td>12.504335</td>\n",
       "      <td>10.465499</td>\n",
       "      <td>1323.783740</td>\n",
       "      <td>0.0</td>\n",
       "      <td>228.854325</td>\n",
       "      <td>1890.983579</td>\n",
       "      <td>807.351856</td>\n",
       "      <td>677.695230</td>\n",
       "      <td>10631.0</td>\n",
       "      <td>0.0</td>\n",
       "      <td>269.0</td>\n",
       "      <td>32232.0</td>\n",
       "      <td>2386.0</td>\n",
       "      <td>2393.0</td>\n",
       "    </tr>\n",
       "    <tr>\n",
       "      <th>2</th>\n",
       "      <td>0400114</td>\n",
       "      <td>3.916574</td>\n",
       "      <td>0.0</td>\n",
       "      <td>NaN</td>\n",
       "      <td>1.971734</td>\n",
       "      <td>14.058544</td>\n",
       "      <td>13.285215</td>\n",
       "      <td>1668.497924</td>\n",
       "      <td>0.0</td>\n",
       "      <td>NaN</td>\n",
       "      <td>1699.323099</td>\n",
       "      <td>594.988962</td>\n",
       "      <td>490.000190</td>\n",
       "      <td>15743.0</td>\n",
       "      <td>0.0</td>\n",
       "      <td>NaN</td>\n",
       "      <td>31849.0</td>\n",
       "      <td>1564.0</td>\n",
       "      <td>1363.0</td>\n",
       "    </tr>\n",
       "    <tr>\n",
       "      <th>3</th>\n",
       "      <td>0400115</td>\n",
       "      <td>3.747735</td>\n",
       "      <td>0.0</td>\n",
       "      <td>NaN</td>\n",
       "      <td>2.921256</td>\n",
       "      <td>11.446379</td>\n",
       "      <td>19.266046</td>\n",
       "      <td>1573.144170</td>\n",
       "      <td>0.0</td>\n",
       "      <td>NaN</td>\n",
       "      <td>2256.875284</td>\n",
       "      <td>549.172354</td>\n",
       "      <td>526.557472</td>\n",
       "      <td>15512.0</td>\n",
       "      <td>0.0</td>\n",
       "      <td>NaN</td>\n",
       "      <td>28550.0</td>\n",
       "      <td>1773.0</td>\n",
       "      <td>1010.0</td>\n",
       "    </tr>\n",
       "    <tr>\n",
       "      <th>4</th>\n",
       "      <td>0400116</td>\n",
       "      <td>3.083457</td>\n",
       "      <td>0.0</td>\n",
       "      <td>42.164872</td>\n",
       "      <td>2.379116</td>\n",
       "      <td>9.298747</td>\n",
       "      <td>12.347473</td>\n",
       "      <td>2090.900641</td>\n",
       "      <td>0.0</td>\n",
       "      <td>261.287162</td>\n",
       "      <td>1634.401752</td>\n",
       "      <td>820.553760</td>\n",
       "      <td>483.479884</td>\n",
       "      <td>25059.0</td>\n",
       "      <td>0.0</td>\n",
       "      <td>229.0</td>\n",
       "      <td>25387.0</td>\n",
       "      <td>3261.0</td>\n",
       "      <td>1447.0</td>\n",
       "    </tr>\n",
       "    <tr>\n",
       "      <th>5</th>\n",
       "      <td>0400117</td>\n",
       "      <td>2.941089</td>\n",
       "      <td>0.0</td>\n",
       "      <td>NaN</td>\n",
       "      <td>2.404474</td>\n",
       "      <td>8.931555</td>\n",
       "      <td>9.418352</td>\n",
       "      <td>1697.184336</td>\n",
       "      <td>0.0</td>\n",
       "      <td>NaN</td>\n",
       "      <td>1736.863047</td>\n",
       "      <td>666.581321</td>\n",
       "      <td>804.857206</td>\n",
       "      <td>21325.0</td>\n",
       "      <td>0.0</td>\n",
       "      <td>NaN</td>\n",
       "      <td>26694.0</td>\n",
       "      <td>2758.0</td>\n",
       "      <td>3158.0</td>\n",
       "    </tr>\n",
       "    <tr>\n",
       "      <th>6</th>\n",
       "      <td>0400118</td>\n",
       "      <td>2.429980</td>\n",
       "      <td>0.0</td>\n",
       "      <td>NaN</td>\n",
       "      <td>2.706494</td>\n",
       "      <td>7.625012</td>\n",
       "      <td>10.426155</td>\n",
       "      <td>1875.554615</td>\n",
       "      <td>0.0</td>\n",
       "      <td>NaN</td>\n",
       "      <td>1528.924916</td>\n",
       "      <td>926.236565</td>\n",
       "      <td>631.698849</td>\n",
       "      <td>28523.0</td>\n",
       "      <td>0.0</td>\n",
       "      <td>NaN</td>\n",
       "      <td>20876.0</td>\n",
       "      <td>4489.0</td>\n",
       "      <td>2239.0</td>\n",
       "    </tr>\n",
       "    <tr>\n",
       "      <th>7</th>\n",
       "      <td>0400119</td>\n",
       "      <td>6.152877</td>\n",
       "      <td>0.0</td>\n",
       "      <td>NaN</td>\n",
       "      <td>1.974457</td>\n",
       "      <td>21.690076</td>\n",
       "      <td>11.983551</td>\n",
       "      <td>974.015599</td>\n",
       "      <td>0.0</td>\n",
       "      <td>NaN</td>\n",
       "      <td>1580.598766</td>\n",
       "      <td>316.360060</td>\n",
       "      <td>489.983898</td>\n",
       "      <td>5850.0</td>\n",
       "      <td>0.0</td>\n",
       "      <td>NaN</td>\n",
       "      <td>29583.0</td>\n",
       "      <td>539.0</td>\n",
       "      <td>1511.0</td>\n",
       "    </tr>\n",
       "    <tr>\n",
       "      <th>8</th>\n",
       "      <td>0400120</td>\n",
       "      <td>6.108457</td>\n",
       "      <td>0.0</td>\n",
       "      <td>NaN</td>\n",
       "      <td>1.885597</td>\n",
       "      <td>16.367664</td>\n",
       "      <td>16.706809</td>\n",
       "      <td>1381.877597</td>\n",
       "      <td>0.0</td>\n",
       "      <td>NaN</td>\n",
       "      <td>1760.710498</td>\n",
       "      <td>499.163046</td>\n",
       "      <td>650.106050</td>\n",
       "      <td>8360.0</td>\n",
       "      <td>0.0</td>\n",
       "      <td>NaN</td>\n",
       "      <td>34507.0</td>\n",
       "      <td>1127.0</td>\n",
       "      <td>1438.0</td>\n",
       "    </tr>\n",
       "    <tr>\n",
       "      <th>9</th>\n",
       "      <td>0400121</td>\n",
       "      <td>7.476878</td>\n",
       "      <td>0.0</td>\n",
       "      <td>43.034017</td>\n",
       "      <td>1.712950</td>\n",
       "      <td>43.766410</td>\n",
       "      <td>12.805096</td>\n",
       "      <td>844.914181</td>\n",
       "      <td>0.0</td>\n",
       "      <td>125.767216</td>\n",
       "      <td>1830.428319</td>\n",
       "      <td>116.064339</td>\n",
       "      <td>459.124554</td>\n",
       "      <td>4176.0</td>\n",
       "      <td>0.0</td>\n",
       "      <td>108.0</td>\n",
       "      <td>39489.0</td>\n",
       "      <td>98.0</td>\n",
       "      <td>1325.0</td>\n",
       "    </tr>\n",
       "  </tbody>\n",
       "</table>\n",
       "</div>"
      ],
      "text/plain": [
       "        GEO_ID     hh_CV                                                  \\\n",
       "Occ                  occ                                  vac              \n",
       "BSize                 mf   na        oth        sf         mf         sf   \n",
       "0      0400112  5.088604  0.0        NaN  1.627323  13.571102   7.161723   \n",
       "1      0400113  4.601624  0.0  31.439457  2.168047  12.504335  10.465499   \n",
       "2      0400114  3.916574  0.0        NaN  1.971734  14.058544  13.285215   \n",
       "3      0400115  3.747735  0.0        NaN  2.921256  11.446379  19.266046   \n",
       "4      0400116  3.083457  0.0  42.164872  2.379116   9.298747  12.347473   \n",
       "5      0400117  2.941089  0.0        NaN  2.404474   8.931555   9.418352   \n",
       "6      0400118  2.429980  0.0        NaN  2.706494   7.625012  10.426155   \n",
       "7      0400119  6.152877  0.0        NaN  1.974457  21.690076  11.983551   \n",
       "8      0400120  6.108457  0.0        NaN  1.885597  16.367664  16.706809   \n",
       "9      0400121  7.476878  0.0  43.034017  1.712950  43.766410  12.805096   \n",
       "\n",
       "            hh_MOE                                                         \\\n",
       "Occ            occ                                       vac                \n",
       "BSize           mf   na         oth           sf          mf           sf   \n",
       "0      1275.642533  0.0         NaN  2157.444969  890.183508  1106.392808   \n",
       "1      1323.783740  0.0  228.854325  1890.983579  807.351856   677.695230   \n",
       "2      1668.497924  0.0         NaN  1699.323099  594.988962   490.000190   \n",
       "3      1573.144170  0.0         NaN  2256.875284  549.172354   526.557472   \n",
       "4      2090.900641  0.0  261.287162  1634.401752  820.553760   483.479884   \n",
       "5      1697.184336  0.0         NaN  1736.863047  666.581321   804.857206   \n",
       "6      1875.554615  0.0         NaN  1528.924916  926.236565   631.698849   \n",
       "7       974.015599  0.0         NaN  1580.598766  316.360060   489.983898   \n",
       "8      1381.877597  0.0         NaN  1760.710498  499.163046   650.106050   \n",
       "9       844.914181  0.0  125.767216  1830.428319  116.064339   459.124554   \n",
       "\n",
       "          hh_e                                       \n",
       "Occ        occ                          vac          \n",
       "BSize       mf   na    oth       sf      mf      sf  \n",
       "0       9264.0  0.0    NaN  48993.0  2424.0  5709.0  \n",
       "1      10631.0  0.0  269.0  32232.0  2386.0  2393.0  \n",
       "2      15743.0  0.0    NaN  31849.0  1564.0  1363.0  \n",
       "3      15512.0  0.0    NaN  28550.0  1773.0  1010.0  \n",
       "4      25059.0  0.0  229.0  25387.0  3261.0  1447.0  \n",
       "5      21325.0  0.0    NaN  26694.0  2758.0  3158.0  \n",
       "6      28523.0  0.0    NaN  20876.0  4489.0  2239.0  \n",
       "7       5850.0  0.0    NaN  29583.0   539.0  1511.0  \n",
       "8       8360.0  0.0    NaN  34507.0  1127.0  1438.0  \n",
       "9       4176.0  0.0  108.0  39489.0    98.0  1325.0  "
      ]
     },
     "execution_count": 25,
     "metadata": {},
     "output_type": "execute_result"
    }
   ],
   "source": [
    "final.head(10)"
   ]
  },
  {
   "cell_type": "code",
   "execution_count": 26,
   "metadata": {},
   "outputs": [],
   "source": [
    "final.to_excel(f'../../output/acs/occ_bsize_pumas_{year[-2:]}.xlsx')"
   ]
  }
 ],
 "metadata": {
  "kernelspec": {
   "display_name": "Python 3",
   "language": "python",
   "name": "python3"
  },
  "language_info": {
   "codemirror_mode": {
    "name": "ipython",
    "version": 3
   },
   "file_extension": ".py",
   "mimetype": "text/x-python",
   "name": "python",
   "nbconvert_exporter": "python",
   "pygments_lexer": "ipython3",
   "version": "3.8.5"
  }
 },
 "nbformat": 4,
 "nbformat_minor": 2
}
