{
 "cells": [
  {
   "cell_type": "markdown",
   "metadata": {},
   "source": [
    "# PUMS Household Income vs. AMI (2021) in Phoenix  PUMAS\n",
    "\n",
    "- https://www.census.gov/data/developers/data-sets/\n",
    "\n",
    "For households by income and household size to compare to HUD AMI in same year\n",
    "-  https://api.census.gov/data/2021/acs/acs1/pums/variables.html\n",
    "\n",
    "2021 AMI by HH Size (from City of Phoenix)\n",
    "- https://www.phoenix.gov/humanservicessite/Documents/2021%20AMI%20Limits%204.2.21.pdf\n",
    "\n",
    "Variables of note:\n",
    "\n",
    "ADJHSG - adjustment factor for housing dollar amounts (6 decimal places)\n",
    "'1000000' = 1.000000\n",
    "\n",
    "FHINCP - income flag - 1: yes https://api.census.gov/data/2021/acs/acs1/pums/variables/FHINCP.json\n",
    "\n",
    "HINCP - HHI in past 12 months (not -60000:n/a, 0:no income, -59999 loss of 59k+)\n",
    "-1 to -59998 loss, 1+\n",
    "https://api.census.gov/data/2021/acs/acs1/pums/variables/HINCP.json\n",
    "\n",
    "GRNTP - gross rent (monthly) (not 0: n/a,not paying rent, owned)\n",
    "https://api.census.gov/data/2021/acs/acs1/pums/variables/GRNTP.json"
   ]
  },
  {
   "cell_type": "code",
   "execution_count": 1,
   "metadata": {},
   "outputs": [],
   "source": [
    "import pandas as pd\n",
    "import math\n",
    "import numpy as np\n",
    "import os"
   ]
  },
  {
   "cell_type": "code",
   "execution_count": 2,
   "metadata": {},
   "outputs": [],
   "source": [
    "import get_pums as get\n",
    "import pums as calc"
   ]
  },
  {
   "cell_type": "code",
   "execution_count": 3,
   "metadata": {},
   "outputs": [],
   "source": [
    "from AMI_BANDS_2021 import *"
   ]
  },
  {
   "cell_type": "code",
   "execution_count": 4,
   "metadata": {},
   "outputs": [],
   "source": [
    "#Search parameters\n",
    "y1 = '2021'\n",
    "\n",
    "sample = 'acs1'\n",
    "\n",
    "phx_pumas = ['0400113','0400114','0400115','0400116','0400117',\n",
    "             '0400118','0400119','0400120','0400121','0400122','0400123',\n",
    "             '0400125','0400128','0400112','0400129']\n",
    "\n",
    "data_cols = 'SERIALNO,ST,PUMA,HINCP,NP,WGTP,ADJINC,ADJHSG,GRNTP,HHLDRRAC1P,HHLDRHISP'"
   ]
  },
  {
   "cell_type": "code",
   "execution_count": 5,
   "metadata": {},
   "outputs": [],
   "source": [
    "# create a list of replicate weights\n",
    "repwt = 'WGTP'\n",
    "repwts = [repwt+str(i) for i in range(1, 81)]"
   ]
  },
  {
   "cell_type": "markdown",
   "metadata": {},
   "source": [
    "## Get data - build base df"
   ]
  },
  {
   "cell_type": "code",
   "execution_count": 6,
   "metadata": {
    "scrolled": true
   },
   "outputs": [],
   "source": [
    "df = get.get_puma(sample,y1,data_cols)"
   ]
  },
  {
   "cell_type": "code",
   "execution_count": 7,
   "metadata": {},
   "outputs": [],
   "source": [
    "#make geo identifiers, reduce df to PHX PUMAs\n",
    "df['GEO_ID'] = df['ST']+df['PUMA']\n",
    "df = df[df.GEO_ID.isin(phx_pumas)]\n",
    "df  = df.drop(['SERIALNO','ST','PUMA'],axis=1)\n",
    "df = df[['GEO_ID']+[col for col in df.columns if col != 'GEO_ID']] #move id to first col\n",
    "\n",
    "#clean data cols to be numeric\n",
    "for col in df.columns[1:]: df[col] = df[col].astype(float)"
   ]
  },
  {
   "cell_type": "markdown",
   "metadata": {},
   "source": [
    "#for PHX housing\n",
    "df.to_excel('output/raw_Census_rent.xlsx',index=False)"
   ]
  },
  {
   "cell_type": "code",
   "execution_count": 8,
   "metadata": {},
   "outputs": [],
   "source": [
    "#assign a household size\n",
    "df['HHSz'] = pd.cut(df['NP'],bins=[0,1,2,3,4,5,6,7,25],\n",
    "                   labels=['1','2','3','4','5','6','7','8'])\n",
    "df['HHSz'] = df['HHSz'].astype(str)\n",
    "\n",
    "#generate adjusted household income using ACS adjustment factor\n",
    "df['HINCP'] = df.ADJINC * df.HINCP"
   ]
  },
  {
   "cell_type": "code",
   "execution_count": 9,
   "metadata": {},
   "outputs": [],
   "source": [
    "df['White_Alone']=np.where((df['HHLDRHISP']==1)&(df['HHLDRRAC1P']==1),'WhiteAlone','Other')"
   ]
  },
  {
   "cell_type": "code",
   "execution_count": 11,
   "metadata": {},
   "outputs": [
    {
     "name": "stdout",
     "output_type": "stream",
     "text": [
      "there are 4045.0 households with no size,income, or rent information\n"
     ]
    }
   ],
   "source": [
    "#identify the records that are renter households, but with no other info\n",
    "#will be included in supply but not demand\n",
    "bad_records = df[(df.HHSz.isna())&(df.HINCP<0)|(df.HINCP==0)&(df.GRNTP==0)].copy()\n",
    "print(f'there are {bad_records.WGTP.sum()} households with no size,income, or rent information') "
   ]
  },
  {
   "cell_type": "code",
   "execution_count": 12,
   "metadata": {},
   "outputs": [],
   "source": [
    "#df for supply of units that are for rent - rent is not 0 \n",
    "#(i.e., universe of renter households)\n",
    "df_supply = df[(df.GRNTP!=0)].copy()"
   ]
  },
  {
   "cell_type": "code",
   "execution_count": 13,
   "metadata": {},
   "outputs": [],
   "source": [
    "df_demand = df[~(df.HHSz.isna()) & (df.HINCP>-60000)&(df.HINCP!=0)&(df.GRNTP!=0)].copy()"
   ]
  },
  {
   "cell_type": "code",
   "execution_count": 14,
   "metadata": {},
   "outputs": [],
   "source": [
    "dfs = [df_supply,df_demand]"
   ]
  },
  {
   "cell_type": "code",
   "execution_count": 15,
   "metadata": {},
   "outputs": [],
   "source": [
    "#for both supply and demand dataframes, assign housing cost (rent), recategorize based on AMI calculation\n",
    "\n",
    "for frame in dfs:\n",
    "    frame['hou_cost'] = frame.GRNTP\n",
    "    frame['aff_cost'] = np.where(frame.HINCP>=1,(frame.HINCP*0.333)/12,0)\n",
    "\n",
    "    #who is the unit affordable to based on the rent\n",
    "    frame['unit_aff'] = np.where(frame.HHSz=='1',pd.cut(frame['hou_cost'],bins=affordable_rent['1'],labels=inc_lbl),\n",
    "                      np.where(frame.HHSz=='2',pd.cut(frame['hou_cost'],bins=affordable_rent['2'],labels=inc_lbl),\n",
    "                      np.where(frame.HHSz=='3',pd.cut(frame['hou_cost'],bins=affordable_rent['3'],labels=inc_lbl),\n",
    "                      np.where(frame.HHSz=='4',pd.cut(frame['hou_cost'],bins=affordable_rent['4'],labels=inc_lbl),\n",
    "                      np.where(frame.HHSz=='5',pd.cut(frame['hou_cost'],bins=affordable_rent['5'],labels=inc_lbl),\n",
    "                      np.where(frame.HHSz=='6',pd.cut(frame['hou_cost'],bins=affordable_rent['6'],labels=inc_lbl),\n",
    "                      np.where(frame.HHSz=='7',pd.cut(frame['hou_cost'],bins=affordable_rent['7'],labels=inc_lbl),\n",
    "                      np.where(frame.HHSz=='8',pd.cut(frame['hou_cost'],bins=affordable_rent['8'],labels=inc_lbl),''))))))))"
   ]
  },
  {
   "cell_type": "code",
   "execution_count": 16,
   "metadata": {},
   "outputs": [],
   "source": [
    "#assign AMI range based on household size and ami dictionaries\n",
    "df_demand['AMI_range'] = np.where((df_demand['HINCP']<=df_demand['HHSz'].map(AMI_30pct)),inc_lbl[0],\n",
    "                   np.where((df_demand['HINCP']>df_demand['HHSz'].map(AMI_30pct))&(df_demand['HINCP']<=df_demand['HHSz'].map(AMI_50pct)),inc_lbl[1],\n",
    "                   np.where((df_demand['HINCP']>df_demand['HHSz'].map(AMI_50pct))&(df_demand['HINCP']<=df_demand['HHSz'].map(AMI_80pct)),\n",
    "                   inc_lbl[2],np.where((df_demand['HINCP']>df_demand['HHSz'].map(AMI_80pct))&(df_demand['HINCP']<=df_demand['HHSz'].map(AMI_100pct)),\n",
    "                   inc_lbl[3],np.where((df_demand['HINCP']>df_demand['HHSz'].map(AMI_100pct))&(df_demand['HINCP']<=df_demand['HHSz'].map(AMI_120pct)),\n",
    "                                       inc_lbl[4],inc_lbl[5])))))\n",
    "\n",
    "#assign cost burden\n",
    "df_demand['cost_burdened'] = np.where(df_demand.hou_cost>df_demand.aff_cost,'burdened','not burdened')"
   ]
  },
  {
   "cell_type": "code",
   "execution_count": 17,
   "metadata": {},
   "outputs": [
    {
     "data": {
      "text/html": [
       "<div>\n",
       "<style scoped>\n",
       "    .dataframe tbody tr th:only-of-type {\n",
       "        vertical-align: middle;\n",
       "    }\n",
       "\n",
       "    .dataframe tbody tr th {\n",
       "        vertical-align: top;\n",
       "    }\n",
       "\n",
       "    .dataframe thead th {\n",
       "        text-align: right;\n",
       "    }\n",
       "</style>\n",
       "<table border=\"1\" class=\"dataframe\">\n",
       "  <thead>\n",
       "    <tr style=\"text-align: right;\">\n",
       "      <th></th>\n",
       "      <th>GEO_ID</th>\n",
       "      <th>HINCP</th>\n",
       "      <th>NP</th>\n",
       "      <th>WGTP</th>\n",
       "      <th>ADJINC</th>\n",
       "      <th>ADJHSG</th>\n",
       "      <th>GRNTP</th>\n",
       "      <th>HHLDRRAC1P</th>\n",
       "      <th>HHLDRHISP</th>\n",
       "      <th>WGTP1</th>\n",
       "      <th>...</th>\n",
       "      <th>WGTP78</th>\n",
       "      <th>WGTP79</th>\n",
       "      <th>WGTP80</th>\n",
       "      <th>HHSz</th>\n",
       "      <th>White_Alone</th>\n",
       "      <th>hou_cost</th>\n",
       "      <th>aff_cost</th>\n",
       "      <th>unit_aff</th>\n",
       "      <th>AMI_range</th>\n",
       "      <th>cost_burdened</th>\n",
       "    </tr>\n",
       "  </thead>\n",
       "  <tbody>\n",
       "    <tr>\n",
       "      <th>3612</th>\n",
       "      <td>0400120</td>\n",
       "      <td>177353.6016</td>\n",
       "      <td>3.0</td>\n",
       "      <td>42.0</td>\n",
       "      <td>1.029928</td>\n",
       "      <td>1000000.0</td>\n",
       "      <td>2460.0</td>\n",
       "      <td>1.0</td>\n",
       "      <td>1.0</td>\n",
       "      <td>74.0</td>\n",
       "      <td>...</td>\n",
       "      <td>44.0</td>\n",
       "      <td>43.0</td>\n",
       "      <td>42.0</td>\n",
       "      <td>3</td>\n",
       "      <td>WhiteAlone</td>\n",
       "      <td>2460.0</td>\n",
       "      <td>4921.562444</td>\n",
       "      <td>o120_ami</td>\n",
       "      <td>o120_ami</td>\n",
       "      <td>not burdened</td>\n",
       "    </tr>\n",
       "    <tr>\n",
       "      <th>3637</th>\n",
       "      <td>0400119</td>\n",
       "      <td>55307.1336</td>\n",
       "      <td>7.0</td>\n",
       "      <td>172.0</td>\n",
       "      <td>1.029928</td>\n",
       "      <td>1000000.0</td>\n",
       "      <td>1405.0</td>\n",
       "      <td>9.0</td>\n",
       "      <td>2.0</td>\n",
       "      <td>70.0</td>\n",
       "      <td>...</td>\n",
       "      <td>164.0</td>\n",
       "      <td>282.0</td>\n",
       "      <td>65.0</td>\n",
       "      <td>7</td>\n",
       "      <td>Other</td>\n",
       "      <td>1405.0</td>\n",
       "      <td>1534.772957</td>\n",
       "      <td>50_80_ami</td>\n",
       "      <td>50_80_ami</td>\n",
       "      <td>not burdened</td>\n",
       "    </tr>\n",
       "    <tr>\n",
       "      <th>3639</th>\n",
       "      <td>0400116</td>\n",
       "      <td>70344.0824</td>\n",
       "      <td>2.0</td>\n",
       "      <td>177.0</td>\n",
       "      <td>1.029928</td>\n",
       "      <td>1000000.0</td>\n",
       "      <td>1808.0</td>\n",
       "      <td>8.0</td>\n",
       "      <td>2.0</td>\n",
       "      <td>244.0</td>\n",
       "      <td>...</td>\n",
       "      <td>299.0</td>\n",
       "      <td>161.0</td>\n",
       "      <td>194.0</td>\n",
       "      <td>2</td>\n",
       "      <td>Other</td>\n",
       "      <td>1808.0</td>\n",
       "      <td>1952.048287</td>\n",
       "      <td>100_120_ami</td>\n",
       "      <td>100_120_ami</td>\n",
       "      <td>not burdened</td>\n",
       "    </tr>\n",
       "    <tr>\n",
       "      <th>3642</th>\n",
       "      <td>0400128</td>\n",
       "      <td>9887.3088</td>\n",
       "      <td>1.0</td>\n",
       "      <td>114.0</td>\n",
       "      <td>1.029928</td>\n",
       "      <td>1000000.0</td>\n",
       "      <td>1168.0</td>\n",
       "      <td>1.0</td>\n",
       "      <td>1.0</td>\n",
       "      <td>98.0</td>\n",
       "      <td>...</td>\n",
       "      <td>224.0</td>\n",
       "      <td>33.0</td>\n",
       "      <td>130.0</td>\n",
       "      <td>1</td>\n",
       "      <td>WhiteAlone</td>\n",
       "      <td>1168.0</td>\n",
       "      <td>274.372819</td>\n",
       "      <td>80_100_ami</td>\n",
       "      <td>u30_ami</td>\n",
       "      <td>burdened</td>\n",
       "    </tr>\n",
       "    <tr>\n",
       "      <th>3645</th>\n",
       "      <td>0400120</td>\n",
       "      <td>28065.5380</td>\n",
       "      <td>4.0</td>\n",
       "      <td>73.0</td>\n",
       "      <td>1.029928</td>\n",
       "      <td>1000000.0</td>\n",
       "      <td>1450.0</td>\n",
       "      <td>1.0</td>\n",
       "      <td>1.0</td>\n",
       "      <td>73.0</td>\n",
       "      <td>...</td>\n",
       "      <td>76.0</td>\n",
       "      <td>121.0</td>\n",
       "      <td>70.0</td>\n",
       "      <td>4</td>\n",
       "      <td>WhiteAlone</td>\n",
       "      <td>1450.0</td>\n",
       "      <td>778.818680</td>\n",
       "      <td>50_80_ami</td>\n",
       "      <td>30_50_ami</td>\n",
       "      <td>burdened</td>\n",
       "    </tr>\n",
       "  </tbody>\n",
       "</table>\n",
       "<p>5 rows × 96 columns</p>\n",
       "</div>"
      ],
      "text/plain": [
       "       GEO_ID        HINCP   NP   WGTP    ADJINC     ADJHSG   GRNTP  \\\n",
       "3612  0400120  177353.6016  3.0   42.0  1.029928  1000000.0  2460.0   \n",
       "3637  0400119   55307.1336  7.0  172.0  1.029928  1000000.0  1405.0   \n",
       "3639  0400116   70344.0824  2.0  177.0  1.029928  1000000.0  1808.0   \n",
       "3642  0400128    9887.3088  1.0  114.0  1.029928  1000000.0  1168.0   \n",
       "3645  0400120   28065.5380  4.0   73.0  1.029928  1000000.0  1450.0   \n",
       "\n",
       "      HHLDRRAC1P  HHLDRHISP  WGTP1  ...  WGTP78  WGTP79  WGTP80  HHSz  \\\n",
       "3612         1.0        1.0   74.0  ...    44.0    43.0    42.0     3   \n",
       "3637         9.0        2.0   70.0  ...   164.0   282.0    65.0     7   \n",
       "3639         8.0        2.0  244.0  ...   299.0   161.0   194.0     2   \n",
       "3642         1.0        1.0   98.0  ...   224.0    33.0   130.0     1   \n",
       "3645         1.0        1.0   73.0  ...    76.0   121.0    70.0     4   \n",
       "\n",
       "      White_Alone  hou_cost     aff_cost     unit_aff    AMI_range  \\\n",
       "3612   WhiteAlone    2460.0  4921.562444     o120_ami     o120_ami   \n",
       "3637        Other    1405.0  1534.772957    50_80_ami    50_80_ami   \n",
       "3639        Other    1808.0  1952.048287  100_120_ami  100_120_ami   \n",
       "3642   WhiteAlone    1168.0   274.372819   80_100_ami      u30_ami   \n",
       "3645   WhiteAlone    1450.0   778.818680    50_80_ami    30_50_ami   \n",
       "\n",
       "      cost_burdened  \n",
       "3612   not burdened  \n",
       "3637   not burdened  \n",
       "3639   not burdened  \n",
       "3642       burdened  \n",
       "3645       burdened  \n",
       "\n",
       "[5 rows x 96 columns]"
      ]
     },
     "execution_count": 17,
     "metadata": {},
     "output_type": "execute_result"
    }
   ],
   "source": [
    "df_demand.head()"
   ]
  },
  {
   "cell_type": "markdown",
   "metadata": {},
   "source": [
    "### table by PUMA for renters by AMI range - cost burdened vs. not cost burdened"
   ]
  },
  {
   "cell_type": "code",
   "execution_count": 18,
   "metadata": {},
   "outputs": [],
   "source": [
    "def make_est(df):\n",
    "    df['hh_SE'] = df.apply(lambda x: (calc.get_se(x['WGTP'],x[repwts])),axis=1)\n",
    "    df['hh_MOE'] = df.apply(lambda x: (calc.get_moe(x['hh_SE'])),axis=1)\n",
    "    df['hh_CV'] = df.apply(lambda x: (calc.get_cv(x['WGTP'],x['hh_SE'])),axis=1)\n",
    "    df.rename(columns={'WGTP':'hh'},inplace=True)\n",
    "    return df"
   ]
  },
  {
   "cell_type": "code",
   "execution_count": 19,
   "metadata": {},
   "outputs": [],
   "source": [
    "drop_cols_supply = ['HINCP','NP','ADJINC','ADJHSG','GRNTP','hou_cost', 'HHSz','HHLDRHISP','HHLDRRAC1P']\n",
    "\n",
    "drop_cols_demand = drop_cols_supply + ['aff_cost']"
   ]
  },
  {
   "cell_type": "markdown",
   "metadata": {},
   "source": [
    "##### demand tables"
   ]
  },
  {
   "cell_type": "code",
   "execution_count": 20,
   "metadata": {},
   "outputs": [],
   "source": [
    "df_d = df_demand.copy().drop(columns=drop_cols_demand)\n",
    "df_d = df_d.groupby(['GEO_ID','AMI_range','unit_aff','cost_burdened','White_Alone']).sum().reset_index()"
   ]
  },
  {
   "cell_type": "code",
   "execution_count": 21,
   "metadata": {},
   "outputs": [],
   "source": [
    "rent = df_d.copy().groupby(['GEO_ID','AMI_range','unit_aff','cost_burdened','White_Alone']).sum().reset_index()\n",
    "rent = make_est(rent)\n",
    "rent = rent.drop(columns=repwts)"
   ]
  },
  {
   "cell_type": "code",
   "execution_count": 22,
   "metadata": {},
   "outputs": [],
   "source": [
    "rent_ami = df_d.copy().drop(columns=['unit_aff','cost_burdened']).groupby(['GEO_ID','AMI_range','White_Alone']).sum().reset_index()\n",
    "rent_ami = make_est(rent_ami)\n",
    "rent_ami = rent_ami.drop(columns=repwts)"
   ]
  },
  {
   "cell_type": "code",
   "execution_count": 23,
   "metadata": {},
   "outputs": [],
   "source": [
    "rent_aff = df_d.copy().drop(columns=['AMI_range','cost_burdened']).groupby(['GEO_ID','unit_aff','White_Alone']).sum().reset_index()\n",
    "rent_aff = make_est(rent_aff)\n",
    "rent_aff = rent_aff.drop(columns=repwts)"
   ]
  },
  {
   "cell_type": "code",
   "execution_count": 24,
   "metadata": {},
   "outputs": [],
   "source": [
    "cost_burd = df_d.copy().drop(columns=['unit_aff','AMI_range']).groupby(['GEO_ID','cost_burdened','White_Alone']).sum().reset_index()\n",
    "cost_burd = make_est(cost_burd)\n",
    "cost_burd = cost_burd.drop(columns=repwts)"
   ]
  },
  {
   "cell_type": "code",
   "execution_count": 25,
   "metadata": {},
   "outputs": [],
   "source": [
    "cost_burd_ami = df_d.copy().drop(columns=['unit_aff']).groupby(['GEO_ID','cost_burdened','AMI_range','White_Alone']).sum().reset_index()\n",
    "cost_burd_ami = make_est(cost_burd_ami)\n",
    "cost_burd_ami = cost_burd_ami.drop(columns=repwts)"
   ]
  },
  {
   "cell_type": "code",
   "execution_count": 26,
   "metadata": {},
   "outputs": [],
   "source": [
    "ami_aff = df_d.copy().drop(columns='cost_burdened').groupby(['GEO_ID','AMI_range','unit_aff','White_Alone']).sum().reset_index()\n",
    "ami_aff = make_est(ami_aff)\n",
    "ami_aff = ami_aff.drop(columns=repwts)"
   ]
  },
  {
   "cell_type": "code",
   "execution_count": 27,
   "metadata": {},
   "outputs": [],
   "source": [
    "rent = pd.pivot_table(rent,values=['hh','hh_MOE','hh_CV'],index='GEO_ID',\\\n",
    "                          columns=['AMI_range','unit_aff','cost_burdened','White_Alone'],aggfunc=np.sum).reset_index()\n",
    "\n",
    "rent_ami = pd.pivot_table(rent_ami,values=['hh','hh_MOE','hh_CV'],index='GEO_ID',\\\n",
    "                          columns=['AMI_range','White_Alone'],aggfunc=np.sum).reset_index()\n",
    "\n",
    "rent_aff = pd.pivot_table(rent_aff,values=['hh','hh_MOE','hh_CV'],index='GEO_ID',\\\n",
    "                          columns=['unit_aff','White_Alone'],aggfunc=np.sum).reset_index()\n",
    "\n",
    "cost_burd = pd.pivot_table(cost_burd,values=['hh','hh_MOE','hh_CV'],index='GEO_ID',\\\n",
    "                          columns=['cost_burdened','White_Alone'],aggfunc=np.sum).reset_index()\n",
    "\n",
    "cost_burd_ami = pd.pivot_table(cost_burd_ami,values=['hh','hh_MOE','hh_CV'],index='GEO_ID',\\\n",
    "                          columns=['cost_burdened','AMI_range','White_Alone'],aggfunc=np.sum).reset_index()\n",
    "\n",
    "ami_aff = pd.pivot_table(ami_aff,values=['hh','hh_MOE','hh_CV'],index='GEO_ID',\\\n",
    "                          columns=['AMI_range','unit_aff','White_Alone'],aggfunc=np.sum).reset_index()"
   ]
  },
  {
   "cell_type": "markdown",
   "metadata": {},
   "source": [
    "##### supply table"
   ]
  },
  {
   "cell_type": "code",
   "execution_count": 28,
   "metadata": {},
   "outputs": [],
   "source": [
    "df_s = df_supply.copy().drop(columns=drop_cols_supply)\n",
    "df_s = df_s.groupby(['GEO_ID','unit_aff']).sum().reset_index()"
   ]
  },
  {
   "cell_type": "code",
   "execution_count": 29,
   "metadata": {},
   "outputs": [],
   "source": [
    "supply_aff = df_s.copy().groupby(['GEO_ID','unit_aff']).sum().reset_index()\n",
    "supply_aff = make_est(supply_aff)\n",
    "supply_aff = supply_aff.drop(columns=repwts)"
   ]
  },
  {
   "cell_type": "code",
   "execution_count": 30,
   "metadata": {},
   "outputs": [],
   "source": [
    "supply_aff = pd.pivot_table(supply_aff,values=['hh','hh_MOE','hh_CV'],index='GEO_ID',\\\n",
    "                          columns=['unit_aff'],aggfunc=np.sum).reset_index()"
   ]
  },
  {
   "cell_type": "code",
   "execution_count": 31,
   "metadata": {},
   "outputs": [],
   "source": [
    "with pd.ExcelWriter(f'../../output/pums_gap_rent/pums_rent_gap_whitenonwhite_033124.xlsx') as writer:\n",
    "    rent.to_excel(writer,sheet_name='full_renter')\n",
    "    rent_ami.to_excel(writer,sheet_name='hh_ami_lvl_renter')\n",
    "    rent_aff.to_excel(writer,sheet_name='hh_afford_byAMI_renter')\n",
    "    cost_burd.to_excel(writer,sheet_name='cost_burdened_renter')\n",
    "    cost_burd_ami.to_excel(writer,sheet_name='cost_burdened_byAMI_renter')\n",
    "    ami_aff.to_excel(writer,sheet_name='demand_supply_amilvl')\n",
    "    supply_aff.to_excel(writer,sheet_name='supply_ami_aff')"
   ]
  }
 ],
 "metadata": {
  "kernelspec": {
   "display_name": "Python 3",
   "language": "python",
   "name": "python3"
  },
  "language_info": {
   "codemirror_mode": {
    "name": "ipython",
    "version": 3
   },
   "file_extension": ".py",
   "mimetype": "text/x-python",
   "name": "python",
   "nbconvert_exporter": "python",
   "pygments_lexer": "ipython3",
   "version": "3.8.5"
  }
 },
 "nbformat": 4,
 "nbformat_minor": 2
}
