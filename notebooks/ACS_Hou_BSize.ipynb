{
 "cells": [
  {
   "cell_type": "markdown",
   "metadata": {},
   "source": [
    "## ACS Housing Units by Building Size for Urban Villages, City of Phoenix\n",
    "\n",
    "- https://www.census.gov/data/developers/data-sets/acs-5year.html\n",
    "- https://api.census.gov/data/2013/acs/acs5/variables.html\n",
    "- https://api.census.gov/data/2021/acs/acs5/variables.html"
   ]
  },
  {
   "cell_type": "code",
   "execution_count": 1,
   "metadata": {},
   "outputs": [],
   "source": [
    "import pandas as pd\n",
    "import math\n",
    "import numpy as np\n",
    "import os"
   ]
  },
  {
   "cell_type": "code",
   "execution_count": 2,
   "metadata": {},
   "outputs": [],
   "source": [
    "import get_acs as get\n",
    "import utilcalcs as calc\n",
    "import geo_agg\n",
    "from hou_size_vars import *"
   ]
  },
  {
   "cell_type": "code",
   "execution_count": 3,
   "metadata": {},
   "outputs": [],
   "source": [
    "bgp_10 = pd.read_csv('../data/geo/bgp_vil_10.csv')\n",
    "bgp_20 = pd.read_csv('../data/geo/bgp_vil_20.csv')\n",
    "for df in [bgp_10,bgp_20]: df.geoid = df.geoid.apply(lambda x: '{0:0>12}'.format(x))\n",
    "    \n",
    "#get ride of area & geo stuff not being useed\n",
    "bgp_20 = bgp_20.drop(['aland20','awater20','lat20','lon20','land_acre'],axis=1)\n",
    "bgp_10 = bgp_10.drop(['aland10','awater10','lat10','lon10','land_acre'],axis=1)"
   ]
  },
  {
   "cell_type": "code",
   "execution_count": 4,
   "metadata": {},
   "outputs": [],
   "source": [
    "#Search parameters - NOTE DIFFERENT VARIABLE # ASSIGNMENTS IN 2010 VS 2020\n",
    "y1 = '2021'\n",
    "y0 = '2013'\n",
    "\n",
    "cols = 'group(B25024)'\n",
    "\n",
    "source = 'acs/acs5'"
   ]
  },
  {
   "cell_type": "markdown",
   "metadata": {},
   "source": [
    "#### Calculate building size columns function"
   ]
  },
  {
   "cell_type": "code",
   "execution_count": 5,
   "metadata": {},
   "outputs": [],
   "source": [
    "# function to sum select building columns & recalc MOES\n",
    "def group_bsize(df,year):\n",
    "    df['u_1_E'] = df.loc[:,U1E].sum(axis=1)\n",
    "    df['u_1_M'] = df.apply(lambda x: (calc.get_moe(x[U1M])),axis=1)\n",
    "    df['u_24_E'] = df.loc[:,U24E].sum(axis=1)\n",
    "    df['u_24_M'] = df.apply(lambda x: (calc.get_moe(x[U24M])),axis=1)\n",
    "    df['u_520_E'] = df.loc[:,U520E].sum(axis=1)\n",
    "    df['u_520_M'] = df.apply(lambda x: (calc.get_moe(x[U520M])),axis=1)\n",
    "    df['u_o20_E'] = df.loc[:,Uo20E].sum(axis=1)\n",
    "    df['u_o20_M'] = df.apply(lambda x: (calc.get_moe(x[Uo20M])),axis=1)\n",
    "    df['u_oth_E'] = df.loc[:,UOthE].sum(axis=1)\n",
    "    df['u_oth_M'] = df.apply(lambda x: (calc.get_moe(x[UOthM])),axis=1)\n",
    "    df = df.drop(columns=hou_vars).rename(hou_rename,axis=1)\n",
    "    \n",
    "    #add end-year into column name\n",
    "    for col in df.columns[1:]:\n",
    "        df.rename(columns={col:f'{col[:-1]}{year[-2:]}{col[-1:]}'},inplace=True)\n",
    "    return df"
   ]
  },
  {
   "cell_type": "code",
   "execution_count": 6,
   "metadata": {},
   "outputs": [],
   "source": [
    "# make urban villages from Census Block Groups\n",
    "\n",
    "def make_uvil(geo_df,year): \n",
    "    df = get.get_bgp(source,year,cols)\n",
    "    df = df.filter(regex='(?<!A)$',axis=1) #drop non-estimate columns\n",
    "    df = df[['GEO_ID']+[col for col in df.columns if col != 'GEO_ID']] #move id to first col\n",
    "    df = get.clean_data(df,df.columns)\n",
    "    df = group_bsize(df,year)\n",
    "    df = pd.merge(geo_df,df,how='left',left_on='geoid',right_on='GEO_ID')\n",
    "    df = df.drop(['geoid','GEO_ID'],axis=1)\n",
    "    df = geo_agg.sumgeo_cv(df,'name')\n",
    "    return df"
   ]
  },
  {
   "cell_type": "code",
   "execution_count": 7,
   "metadata": {},
   "outputs": [],
   "source": [
    "# make Phoenix or U.S.\n",
    "def make_table(year,geo):\n",
    "    if geo == 'phoenix':\n",
    "        df = get.get_phx(source,year,cols)\n",
    "    elif geo == 'us':\n",
    "        df = get.get_us(source,year,cols)\n",
    "        df = df.drop(['NAME','us'],axis=1)\n",
    "    else:\n",
    "        pass\n",
    "    df = df.filter(regex='(?<!A)$',axis=1) #drop non-estimate columns\n",
    "    df = df[['GEO_ID']+[col for col in df.columns if col != 'GEO_ID']] #move id to first col\n",
    "    df = get.clean_data(df,df.columns)\n",
    "    df = group_bsize(df,year)\n",
    "    df = geo_agg.sumgeo_cv(df,'GEO_ID')\n",
    "    return df"
   ]
  },
  {
   "cell_type": "markdown",
   "metadata": {},
   "source": [
    "### Make a table with urban villages, city, and  U.S."
   ]
  },
  {
   "cell_type": "code",
   "execution_count": 8,
   "metadata": {
    "scrolled": true
   },
   "outputs": [],
   "source": [
    "dfY1 = make_uvil(bgp_20,y1)"
   ]
  },
  {
   "cell_type": "code",
   "execution_count": 9,
   "metadata": {},
   "outputs": [
    {
     "data": {
      "text/html": [
       "<div>\n",
       "<style scoped>\n",
       "    .dataframe tbody tr th:only-of-type {\n",
       "        vertical-align: middle;\n",
       "    }\n",
       "\n",
       "    .dataframe tbody tr th {\n",
       "        vertical-align: top;\n",
       "    }\n",
       "\n",
       "    .dataframe thead th {\n",
       "        text-align: right;\n",
       "    }\n",
       "</style>\n",
       "<table border=\"1\" class=\"dataframe\">\n",
       "  <thead>\n",
       "    <tr style=\"text-align: right;\">\n",
       "      <th></th>\n",
       "      <th>name</th>\n",
       "      <th>u_tot_21E</th>\n",
       "      <th>u_tot_21M</th>\n",
       "      <th>u_tot_21C</th>\n",
       "      <th>u_24_21E</th>\n",
       "      <th>u_24_21M</th>\n",
       "      <th>u_24_21C</th>\n",
       "      <th>u_1_21E</th>\n",
       "      <th>u_1_21M</th>\n",
       "      <th>u_1_21C</th>\n",
       "      <th>u_520_21E</th>\n",
       "      <th>u_520_21M</th>\n",
       "      <th>u_520_21C</th>\n",
       "      <th>u_o20_21E</th>\n",
       "      <th>u_o20_21M</th>\n",
       "      <th>u_o20_21C</th>\n",
       "      <th>u_oth_21E</th>\n",
       "      <th>u_oth_21M</th>\n",
       "      <th>u_oth_21C</th>\n",
       "    </tr>\n",
       "  </thead>\n",
       "  <tbody>\n",
       "    <tr>\n",
       "      <th>0</th>\n",
       "      <td>Alhambra</td>\n",
       "      <td>52655.0</td>\n",
       "      <td>1562.444239</td>\n",
       "      <td>1.803844</td>\n",
       "      <td>4300.0</td>\n",
       "      <td>577.579432</td>\n",
       "      <td>8.165398</td>\n",
       "      <td>29728.0</td>\n",
       "      <td>1276.070139</td>\n",
       "      <td>2.609414</td>\n",
       "      <td>8741.0</td>\n",
       "      <td>853.039272</td>\n",
       "      <td>5.932558</td>\n",
       "      <td>8573.0</td>\n",
       "      <td>697.810863</td>\n",
       "      <td>4.948106</td>\n",
       "      <td>1313.0</td>\n",
       "      <td>305.108178</td>\n",
       "      <td>14.126131</td>\n",
       "    </tr>\n",
       "    <tr>\n",
       "      <th>1</th>\n",
       "      <td>North Mountain</td>\n",
       "      <td>71371.0</td>\n",
       "      <td>1957.484866</td>\n",
       "      <td>1.667288</td>\n",
       "      <td>4973.0</td>\n",
       "      <td>670.345433</td>\n",
       "      <td>8.194346</td>\n",
       "      <td>41716.0</td>\n",
       "      <td>1496.202192</td>\n",
       "      <td>2.180327</td>\n",
       "      <td>11182.0</td>\n",
       "      <td>996.422601</td>\n",
       "      <td>5.416992</td>\n",
       "      <td>12309.0</td>\n",
       "      <td>1120.230780</td>\n",
       "      <td>5.532467</td>\n",
       "      <td>1191.0</td>\n",
       "      <td>284.852593</td>\n",
       "      <td>14.539267</td>\n",
       "    </tr>\n",
       "    <tr>\n",
       "      <th>2</th>\n",
       "      <td>Maryvale</td>\n",
       "      <td>71196.0</td>\n",
       "      <td>2069.086513</td>\n",
       "      <td>1.766677</td>\n",
       "      <td>3597.0</td>\n",
       "      <td>748.336154</td>\n",
       "      <td>12.647084</td>\n",
       "      <td>52135.0</td>\n",
       "      <td>1754.488529</td>\n",
       "      <td>2.045763</td>\n",
       "      <td>8721.0</td>\n",
       "      <td>811.039457</td>\n",
       "      <td>5.653401</td>\n",
       "      <td>5925.0</td>\n",
       "      <td>930.276841</td>\n",
       "      <td>9.544605</td>\n",
       "      <td>818.0</td>\n",
       "      <td>301.695210</td>\n",
       "      <td>22.420702</td>\n",
       "    </tr>\n",
       "  </tbody>\n",
       "</table>\n",
       "</div>"
      ],
      "text/plain": [
       "             name  u_tot_21E    u_tot_21M  u_tot_21C  u_24_21E    u_24_21M  \\\n",
       "0        Alhambra    52655.0  1562.444239   1.803844    4300.0  577.579432   \n",
       "1  North Mountain    71371.0  1957.484866   1.667288    4973.0  670.345433   \n",
       "2        Maryvale    71196.0  2069.086513   1.766677    3597.0  748.336154   \n",
       "\n",
       "    u_24_21C  u_1_21E      u_1_21M   u_1_21C  u_520_21E   u_520_21M  \\\n",
       "0   8.165398  29728.0  1276.070139  2.609414     8741.0  853.039272   \n",
       "1   8.194346  41716.0  1496.202192  2.180327    11182.0  996.422601   \n",
       "2  12.647084  52135.0  1754.488529  2.045763     8721.0  811.039457   \n",
       "\n",
       "   u_520_21C  u_o20_21E    u_o20_21M  u_o20_21C  u_oth_21E   u_oth_21M  \\\n",
       "0   5.932558     8573.0   697.810863   4.948106     1313.0  305.108178   \n",
       "1   5.416992    12309.0  1120.230780   5.532467     1191.0  284.852593   \n",
       "2   5.653401     5925.0   930.276841   9.544605      818.0  301.695210   \n",
       "\n",
       "   u_oth_21C  \n",
       "0  14.126131  \n",
       "1  14.539267  \n",
       "2  22.420702  "
      ]
     },
     "execution_count": 9,
     "metadata": {},
     "output_type": "execute_result"
    }
   ],
   "source": [
    "dfY1.head(3)"
   ]
  },
  {
   "cell_type": "code",
   "execution_count": 10,
   "metadata": {},
   "outputs": [],
   "source": [
    "phY1 = make_table(y1,'phoenix')\n",
    "phY1.rename(columns={'GEO_ID':'name'},inplace=True)"
   ]
  },
  {
   "cell_type": "code",
   "execution_count": 11,
   "metadata": {
    "scrolled": true
   },
   "outputs": [
    {
     "data": {
      "text/html": [
       "<div>\n",
       "<style scoped>\n",
       "    .dataframe tbody tr th:only-of-type {\n",
       "        vertical-align: middle;\n",
       "    }\n",
       "\n",
       "    .dataframe tbody tr th {\n",
       "        vertical-align: top;\n",
       "    }\n",
       "\n",
       "    .dataframe thead th {\n",
       "        text-align: right;\n",
       "    }\n",
       "</style>\n",
       "<table border=\"1\" class=\"dataframe\">\n",
       "  <thead>\n",
       "    <tr style=\"text-align: right;\">\n",
       "      <th></th>\n",
       "      <th>name</th>\n",
       "      <th>u_tot_21E</th>\n",
       "      <th>u_tot_21M</th>\n",
       "      <th>u_tot_21C</th>\n",
       "      <th>u_24_21E</th>\n",
       "      <th>u_24_21M</th>\n",
       "      <th>u_24_21C</th>\n",
       "      <th>u_1_21E</th>\n",
       "      <th>u_1_21M</th>\n",
       "      <th>u_1_21C</th>\n",
       "      <th>u_520_21E</th>\n",
       "      <th>u_520_21M</th>\n",
       "      <th>u_520_21C</th>\n",
       "      <th>u_o20_21E</th>\n",
       "      <th>u_o20_21M</th>\n",
       "      <th>u_o20_21C</th>\n",
       "      <th>u_oth_21E</th>\n",
       "      <th>u_oth_21M</th>\n",
       "      <th>u_oth_21C</th>\n",
       "    </tr>\n",
       "  </thead>\n",
       "  <tbody>\n",
       "    <tr>\n",
       "      <th>0</th>\n",
       "      <td>0455000</td>\n",
       "      <td>624409.0</td>\n",
       "      <td>3175.0</td>\n",
       "      <td>0.309107</td>\n",
       "      <td>37961.0</td>\n",
       "      <td>1760.392286</td>\n",
       "      <td>2.81907</td>\n",
       "      <td>406366.0</td>\n",
       "      <td>3848.168525</td>\n",
       "      <td>0.575666</td>\n",
       "      <td>75603.0</td>\n",
       "      <td>2678.381041</td>\n",
       "      <td>2.153612</td>\n",
       "      <td>84876.0</td>\n",
       "      <td>2392.082356</td>\n",
       "      <td>1.713268</td>\n",
       "      <td>19603.0</td>\n",
       "      <td>1111.260546</td>\n",
       "      <td>3.446097</td>\n",
       "    </tr>\n",
       "  </tbody>\n",
       "</table>\n",
       "</div>"
      ],
      "text/plain": [
       "      name  u_tot_21E  u_tot_21M  u_tot_21C  u_24_21E     u_24_21M  u_24_21C  \\\n",
       "0  0455000   624409.0     3175.0   0.309107   37961.0  1760.392286   2.81907   \n",
       "\n",
       "    u_1_21E      u_1_21M   u_1_21C  u_520_21E    u_520_21M  u_520_21C  \\\n",
       "0  406366.0  3848.168525  0.575666    75603.0  2678.381041   2.153612   \n",
       "\n",
       "   u_o20_21E    u_o20_21M  u_o20_21C  u_oth_21E    u_oth_21M  u_oth_21C  \n",
       "0    84876.0  2392.082356   1.713268    19603.0  1111.260546   3.446097  "
      ]
     },
     "execution_count": 11,
     "metadata": {},
     "output_type": "execute_result"
    }
   ],
   "source": [
    "phY1"
   ]
  },
  {
   "cell_type": "code",
   "execution_count": 12,
   "metadata": {},
   "outputs": [],
   "source": [
    "usY1 = make_table(y1,'us')\n",
    "usY1.rename(columns={'GEO_ID':'name'},inplace=True)"
   ]
  },
  {
   "cell_type": "code",
   "execution_count": 13,
   "metadata": {},
   "outputs": [
    {
     "data": {
      "text/html": [
       "<div>\n",
       "<style scoped>\n",
       "    .dataframe tbody tr th:only-of-type {\n",
       "        vertical-align: middle;\n",
       "    }\n",
       "\n",
       "    .dataframe tbody tr th {\n",
       "        vertical-align: top;\n",
       "    }\n",
       "\n",
       "    .dataframe thead th {\n",
       "        text-align: right;\n",
       "    }\n",
       "</style>\n",
       "<table border=\"1\" class=\"dataframe\">\n",
       "  <thead>\n",
       "    <tr style=\"text-align: right;\">\n",
       "      <th></th>\n",
       "      <th>name</th>\n",
       "      <th>u_tot_21E</th>\n",
       "      <th>u_tot_21M</th>\n",
       "      <th>u_tot_21C</th>\n",
       "      <th>u_24_21E</th>\n",
       "      <th>u_24_21M</th>\n",
       "      <th>u_24_21C</th>\n",
       "      <th>u_1_21E</th>\n",
       "      <th>u_1_21M</th>\n",
       "      <th>u_1_21C</th>\n",
       "      <th>u_520_21E</th>\n",
       "      <th>u_520_21M</th>\n",
       "      <th>u_520_21C</th>\n",
       "      <th>u_o20_21E</th>\n",
       "      <th>u_o20_21M</th>\n",
       "      <th>u_o20_21C</th>\n",
       "      <th>u_oth_21E</th>\n",
       "      <th>u_oth_21M</th>\n",
       "      <th>u_oth_21C</th>\n",
       "    </tr>\n",
       "  </thead>\n",
       "  <tbody>\n",
       "    <tr>\n",
       "      <th>0</th>\n",
       "      <td>0100000US</td>\n",
       "      <td>139647020.0</td>\n",
       "      <td>3504.0</td>\n",
       "      <td>0.001525</td>\n",
       "      <td>10911007.0</td>\n",
       "      <td>39117.315258</td>\n",
       "      <td>0.217941</td>\n",
       "      <td>94432071.0</td>\n",
       "      <td>117778.628524</td>\n",
       "      <td>0.07582</td>\n",
       "      <td>12494740.0</td>\n",
       "      <td>42232.765384</td>\n",
       "      <td>0.205474</td>\n",
       "      <td>13480195.0</td>\n",
       "      <td>29822.808218</td>\n",
       "      <td>0.134489</td>\n",
       "      <td>8329007.0</td>\n",
       "      <td>46744.176279</td>\n",
       "      <td>0.341168</td>\n",
       "    </tr>\n",
       "  </tbody>\n",
       "</table>\n",
       "</div>"
      ],
      "text/plain": [
       "        name    u_tot_21E  u_tot_21M  u_tot_21C    u_24_21E      u_24_21M  \\\n",
       "0  0100000US  139647020.0     3504.0   0.001525  10911007.0  39117.315258   \n",
       "\n",
       "   u_24_21C     u_1_21E        u_1_21M  u_1_21C   u_520_21E     u_520_21M  \\\n",
       "0  0.217941  94432071.0  117778.628524  0.07582  12494740.0  42232.765384   \n",
       "\n",
       "   u_520_21C   u_o20_21E     u_o20_21M  u_o20_21C  u_oth_21E     u_oth_21M  \\\n",
       "0   0.205474  13480195.0  29822.808218   0.134489  8329007.0  46744.176279   \n",
       "\n",
       "   u_oth_21C  \n",
       "0   0.341168  "
      ]
     },
     "execution_count": 13,
     "metadata": {},
     "output_type": "execute_result"
    }
   ],
   "source": [
    "usY1"
   ]
  },
  {
   "cell_type": "markdown",
   "metadata": {},
   "source": [
    "## Build current year table for all geos & export to Excel"
   ]
  },
  {
   "cell_type": "code",
   "execution_count": 14,
   "metadata": {},
   "outputs": [],
   "source": [
    "final = pd.concat([dfY1,phY1,usY1])\n",
    "final.to_excel(f'output/Hou_bsize.xlsx',index=False)"
   ]
  }
 ],
 "metadata": {
  "kernelspec": {
   "display_name": "Python 3 (ipykernel)",
   "language": "python",
   "name": "python3"
  },
  "language_info": {
   "codemirror_mode": {
    "name": "ipython",
    "version": 3
   },
   "file_extension": ".py",
   "mimetype": "text/x-python",
   "name": "python",
   "nbconvert_exporter": "python",
   "pygments_lexer": "ipython3",
   "version": "3.9.13"
  }
 },
 "nbformat": 4,
 "nbformat_minor": 2
}
