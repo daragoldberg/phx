{
 "cells": [
  {
   "cell_type": "markdown",
   "metadata": {},
   "source": [
    "## ACS Housing Units by Building Size for Urban Villages, City of Phoenix\n",
    "\n",
    "- https://www.census.gov/data/developers/data-sets/acs-5year.html\n",
    "- https://api.census.gov/data/2013/acs/acs5/variables.html\n",
    "- https://api.census.gov/data/2021/acs/acs5/variables.html"
   ]
  },
  {
   "cell_type": "code",
   "execution_count": 1,
   "metadata": {},
   "outputs": [],
   "source": [
    "import pandas as pd\n",
    "import math\n",
    "import numpy as np"
   ]
  },
  {
   "cell_type": "code",
   "execution_count": 2,
   "metadata": {},
   "outputs": [],
   "source": [
    "import getters as get\n",
    "import utilcalcs as calc\n",
    "import geo_agg\n",
    "from hou_size_vars import *"
   ]
  },
  {
   "cell_type": "code",
   "execution_count": 3,
   "metadata": {},
   "outputs": [],
   "source": [
    "#Search parameters - NOTE DIFFERENT VARIABLE # ASSIGNMENTS IN 2010 VS 2020\n",
    "y1 = '2021'\n",
    "y0_5 = '2013'\n",
    "y0_1 = '2010'\n",
    "\n",
    "cols = 'group(B25024)'\n",
    "\n",
    "source_1 = 'acs/acs1'\n",
    "source_5 = 'acs/acs5'"
   ]
  },
  {
   "cell_type": "markdown",
   "metadata": {},
   "source": [
    "#### Calculate building size columns function"
   ]
  },
  {
   "cell_type": "code",
   "execution_count": 4,
   "metadata": {},
   "outputs": [],
   "source": [
    "# function to sum select building columns & recalc MOES\n",
    "def group_bsize(df,year):\n",
    "    df['u_1_E'] = df.loc[:,U1E].sum(axis=1)\n",
    "    df['u_1_M'] = df.apply(lambda x: (calc.get_moe(x[U1M])),axis=1)\n",
    "    df['u_24_E'] = df.loc[:,U24E].sum(axis=1)\n",
    "    df['u_24_M'] = df.apply(lambda x: (calc.get_moe(x[U24M])),axis=1)\n",
    "    df['u_520_E'] = df.loc[:,U520E].sum(axis=1)\n",
    "    df['u_520_M'] = df.apply(lambda x: (calc.get_moe(x[U520M])),axis=1)\n",
    "    df['u_o20_E'] = df.loc[:,Uo20E].sum(axis=1)\n",
    "    df['u_o20_M'] = df.apply(lambda x: (calc.get_moe(x[Uo20M])),axis=1)\n",
    "    df['u_oth_E'] = df.loc[:,UOthE].sum(axis=1)\n",
    "    df['u_oth_M'] = df.apply(lambda x: (calc.get_moe(x[UOthM])),axis=1)\n",
    "    df = df.rename(hou_rename,axis=1).drop(columns=hou_vars)\n",
    "    return df"
   ]
  },
  {
   "cell_type": "markdown",
   "metadata": {},
   "source": [
    "#### make urban villages from Census Block Groups\n",
    "def make_uvil(geo_df,year): \n",
    "    df = get.get_bgp(source,year,cols)\n",
    "    df = get.clean_data(df)\n",
    "    df = group_bsize(df,year)\n",
    "    \n",
    "    #df = pd.merge(geo_df,df,how='left',left_on='geoid',right_on='GEO_ID')\n",
    "    #df = df.drop(['geoid','GEO_ID'],axis=1)\n",
    "    #df = geo_agg.sumgeo_cv(df,'name')\n",
    "    return df"
   ]
  },
  {
   "cell_type": "code",
   "execution_count": 5,
   "metadata": {},
   "outputs": [],
   "source": [
    "# make city and larger geos\n",
    "def make_table(source,year,cols,geotype='big'):\n",
    "    if geotype=='big':\n",
    "        ph = get.get_phx(source,year,cols)\n",
    "        mar = get.get_maricopa(source,year,cols)\n",
    "        us = get.get_us(source,year,cols)\n",
    "        az = get.get_az(source,year,cols)\n",
    "        cit = get.get_comp_cities(source,year,cols)\n",
    "        df = pd.concat([ph,mar,us,az,cit])\n",
    "        df = df.drop(['NAME','us','state'],axis=1)\n",
    "        aggtype='GEO_ID'\n",
    "    elif geotype=='uv':\n",
    "        df = get.get_bgp(source,year,cols)\n",
    "        aggtype='name'\n",
    "    else:\n",
    "        pass\n",
    "    df = get.clean_table(df)\n",
    "    df = group_bsize(df,year)\n",
    "    if geotype=='uv': df = make_uv(df,year)\n",
    "    df = geo_agg.sumgeo_cv(df,aggtype)\n",
    "    \n",
    "    for col in df.columns[1:]:\n",
    "        df.rename(columns={col:f'{col[:-1]}{year[-2:]}{col[-1:]}'},inplace=True)\n",
    "    return df"
   ]
  },
  {
   "cell_type": "markdown",
   "metadata": {},
   "source": [
    "## Calculate for Phoenix, Maricopa, larger geos"
   ]
  },
  {
   "cell_type": "markdown",
   "metadata": {},
   "source": [
    "### Make a table with urban villages, city, and  U.S."
   ]
  },
  {
   "cell_type": "code",
   "execution_count": 6,
   "metadata": {},
   "outputs": [],
   "source": [
    "geo_y1_1y = make_table(source_1,y1,cols)\n",
    "geo_y0_1y = make_table(source_1,y0_1,cols)"
   ]
  },
  {
   "cell_type": "code",
   "execution_count": 8,
   "metadata": {},
   "outputs": [
    {
     "data": {
      "text/plain": [
       "Index(['GEO_ID', 'u_520_21E', 'u_520_21M', 'u_520_21C', 'u_59_21E', 'u_59_21M',\n",
       "       'u_59_21C', 'u_1019_21E', 'u_1019_21M', 'u_1019_21C', 'u_24_21E',\n",
       "       'u_24_21M', 'u_24_21C', 'u_o50_21E', 'u_o50_21M', 'u_o50_21C',\n",
       "       'u_oth_21E', 'u_oth_21M', 'u_oth_21C', 'u_1_21E', 'u_1_21M', 'u_1_21C',\n",
       "       'u_2049_21E', 'u_2049_21M', 'u_2049_21C', 'u_tot_21E', 'u_tot_21M',\n",
       "       'u_tot_21C', 'u_o20_21E', 'u_o20_21M', 'u_o20_21C'],\n",
       "      dtype='object')"
      ]
     },
     "execution_count": 8,
     "metadata": {},
     "output_type": "execute_result"
    }
   ],
   "source": [
    "geo_y1_1y.columns"
   ]
  },
  {
   "cell_type": "code",
   "execution_count": null,
   "metadata": {},
   "outputs": [],
   "source": [
    "change_vars = ['tot','1','24','59','1019','2049','o50','oth','520','o20']"
   ]
  },
  {
   "cell_type": "code",
   "execution_count": null,
   "metadata": {},
   "outputs": [],
   "source": []
  },
  {
   "cell_type": "code",
   "execution_count": null,
   "metadata": {},
   "outputs": [],
   "source": []
  },
  {
   "cell_type": "code",
   "execution_count": null,
   "metadata": {},
   "outputs": [],
   "source": []
  },
  {
   "cell_type": "code",
   "execution_count": null,
   "metadata": {
    "scrolled": true
   },
   "outputs": [],
   "source": [
    "dfY1 = make_uvil(bgp_20,y1)"
   ]
  },
  {
   "cell_type": "code",
   "execution_count": null,
   "metadata": {},
   "outputs": [],
   "source": [
    "dfY1.head(3)"
   ]
  },
  {
   "cell_type": "code",
   "execution_count": null,
   "metadata": {},
   "outputs": [],
   "source": [
    "phY1 = make_table(y1,'phoenix')\n",
    "phY1.rename(columns={'GEO_ID':'name'},inplace=True)"
   ]
  },
  {
   "cell_type": "code",
   "execution_count": null,
   "metadata": {
    "scrolled": true
   },
   "outputs": [],
   "source": [
    "phY1"
   ]
  },
  {
   "cell_type": "code",
   "execution_count": null,
   "metadata": {},
   "outputs": [],
   "source": [
    "usY1 = make_table(y1,'us')\n",
    "usY1.rename(columns={'GEO_ID':'name'},inplace=True)"
   ]
  },
  {
   "cell_type": "code",
   "execution_count": null,
   "metadata": {},
   "outputs": [],
   "source": [
    "usY1"
   ]
  },
  {
   "cell_type": "markdown",
   "metadata": {},
   "source": [
    "## Build current year table for all geos & export to Excel"
   ]
  },
  {
   "cell_type": "code",
   "execution_count": null,
   "metadata": {},
   "outputs": [],
   "source": [
    "final = pd.concat([dfY1,phY1,usY1])\n",
    "final.to_excel(f'output/Hou_bsize.xlsx',index=False)"
   ]
  }
 ],
 "metadata": {
  "kernelspec": {
   "display_name": "Python 3 (ipykernel)",
   "language": "python",
   "name": "python3"
  },
  "language_info": {
   "codemirror_mode": {
    "name": "ipython",
    "version": 3
   },
   "file_extension": ".py",
   "mimetype": "text/x-python",
   "name": "python",
   "nbconvert_exporter": "python",
   "pygments_lexer": "ipython3",
   "version": "3.9.13"
  }
 },
 "nbformat": 4,
 "nbformat_minor": 2
}
