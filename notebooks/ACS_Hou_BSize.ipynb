{
 "cells": [
  {
   "cell_type": "markdown",
   "metadata": {},
   "source": [
    "## ACS Housing Units by Building Size for Urban Villages, City of Phoenix\n",
    "\n",
    "- https://www.census.gov/data/developers/data-sets/acs-5year.html\n",
    "- https://api.census.gov/data/2013/acs/acs5/variables.html\n",
    "- https://api.census.gov/data/2021/acs/acs5/variables.html"
   ]
  },
  {
   "cell_type": "code",
   "execution_count": null,
   "metadata": {},
   "outputs": [],
   "source": [
    "import pandas as pd\n",
    "import math\n",
    "import numpy as np\n",
    "import os"
   ]
  },
  {
   "cell_type": "code",
   "execution_count": null,
   "metadata": {},
   "outputs": [],
   "source": [
    "import get_acs as get\n",
    "import utilcalcs as calc\n",
    "import geo_agg\n",
    "from hou_size_vars import *"
   ]
  },
  {
   "cell_type": "code",
   "execution_count": null,
   "metadata": {},
   "outputs": [],
   "source": [
    "bgp_10 = pd.read_csv('../data/geo/bgp_vil_10.csv')\n",
    "bgp_20 = pd.read_csv('../data/geo/bgp_vil_20.csv')\n",
    "for df in [bgp_10,bgp_20]: df.geoid = df.geoid.apply(lambda x: '{0:0>12}'.format(x))\n",
    "    \n",
    "#get ride of area & geo stuff not being useed\n",
    "bgp_20 = bgp_20.drop(['aland20','awater20','lat20','lon20','land_acre'],axis=1)\n",
    "bgp_10 = bgp_10.drop(['aland10','awater10','lat10','lon10','land_acre'],axis=1)"
   ]
  },
  {
   "cell_type": "code",
   "execution_count": null,
   "metadata": {},
   "outputs": [],
   "source": [
    "#Search parameters - NOTE DIFFERENT VARIABLE # ASSIGNMENTS IN 2010 VS 2020\n",
    "y1 = '2021'\n",
    "y0 = '2013'\n",
    "\n",
    "cols = 'group(B25024)'\n",
    "\n",
    "source = 'acs/acs5'"
   ]
  },
  {
   "cell_type": "markdown",
   "metadata": {},
   "source": [
    "#### Calculate building size columns function"
   ]
  },
  {
   "cell_type": "code",
   "execution_count": null,
   "metadata": {},
   "outputs": [],
   "source": [
    "# function to sum select building columns & recalc MOES\n",
    "def group_bsize(df,year):\n",
    "    df['u_1_E'] = df.loc[:,U1E].sum(axis=1)\n",
    "    df['u_1_M'] = df.apply(lambda x: (calc.get_moe(x[U1M])),axis=1)\n",
    "    df['u_24_E'] = df.loc[:,U24E].sum(axis=1)\n",
    "    df['u_24_M'] = df.apply(lambda x: (calc.get_moe(x[U24M])),axis=1)\n",
    "    df['u_520_E'] = df.loc[:,U520E].sum(axis=1)\n",
    "    df['u_520_M'] = df.apply(lambda x: (calc.get_moe(x[U520M])),axis=1)\n",
    "    df['u_o20_E'] = df.loc[:,Uo20E].sum(axis=1)\n",
    "    df['u_o20_M'] = df.apply(lambda x: (calc.get_moe(x[Uo20M])),axis=1)\n",
    "    df['u_oth_E'] = df.loc[:,UOthE].sum(axis=1)\n",
    "    df['u_oth_M'] = df.apply(lambda x: (calc.get_moe(x[UOthM])),axis=1)\n",
    "    df = df.drop(columns=hou_vars).rename(hou_rename,axis=1)\n",
    "    \n",
    "    #add end-year into column name\n",
    "    for col in df.columns[1:]:\n",
    "        df.rename(columns={col:f'{col[:-1]}{year[-2:]}{col[-1:]}'},inplace=True)\n",
    "    return df"
   ]
  },
  {
   "cell_type": "code",
   "execution_count": null,
   "metadata": {},
   "outputs": [],
   "source": [
    "# make urban villages from Census Block Groups\n",
    "\n",
    "def make_uvil(geo_df,year): \n",
    "    df = get.get_bgp(source,year,cols)\n",
    "    df = df.filter(regex='(?<!A)$',axis=1) #drop non-estimate columns\n",
    "    df = df[['GEO_ID']+[col for col in df.columns if col != 'GEO_ID']] #move id to first col\n",
    "    df = get.clean_data(df,df.columns)\n",
    "    df = group_bsize(df,year)\n",
    "    df = pd.merge(geo_df,df,how='left',left_on='geoid',right_on='GEO_ID')\n",
    "    df = df.drop(['geoid','GEO_ID'],axis=1)\n",
    "    df = geo_agg.sumgeo_cv(df,'name')\n",
    "    return df"
   ]
  },
  {
   "cell_type": "code",
   "execution_count": null,
   "metadata": {},
   "outputs": [],
   "source": [
    "# make Phoenix or U.S.\n",
    "def make_table(year,geo):\n",
    "    if geo == 'phoenix':\n",
    "        df = get.get_phx(source,year,cols)\n",
    "    elif geo == 'us':\n",
    "        df = get.get_us(source,year,cols)\n",
    "        df = df.drop(['NAME','us'],axis=1)\n",
    "    else:\n",
    "        pass\n",
    "    df = df.filter(regex='(?<!A)$',axis=1) #drop non-estimate columns\n",
    "    df = df[['GEO_ID']+[col for col in df.columns if col != 'GEO_ID']] #move id to first col\n",
    "    df = get.clean_data(df,df.columns)\n",
    "    df = group_bsize(df,year)\n",
    "    df = geo_agg.sumgeo_cv(df,'GEO_ID')\n",
    "    return df"
   ]
  },
  {
   "cell_type": "markdown",
   "metadata": {},
   "source": [
    "### Make a table with urban villages, city, and  U.S."
   ]
  },
  {
   "cell_type": "code",
   "execution_count": null,
   "metadata": {
    "scrolled": true
   },
   "outputs": [],
   "source": [
    "dfY1 = make_uvil(bgp_20,y1)"
   ]
  },
  {
   "cell_type": "code",
   "execution_count": null,
   "metadata": {},
   "outputs": [],
   "source": [
    "dfY1.head(3)"
   ]
  },
  {
   "cell_type": "code",
   "execution_count": null,
   "metadata": {},
   "outputs": [],
   "source": [
    "phY1 = make_table(y1,'phoenix')\n",
    "phY1.rename(columns={'GEO_ID':'name'},inplace=True)"
   ]
  },
  {
   "cell_type": "code",
   "execution_count": null,
   "metadata": {
    "scrolled": true
   },
   "outputs": [],
   "source": [
    "phY1"
   ]
  },
  {
   "cell_type": "code",
   "execution_count": null,
   "metadata": {},
   "outputs": [],
   "source": [
    "usY1 = make_table(y1,'us')\n",
    "usY1.rename(columns={'GEO_ID':'name'},inplace=True)"
   ]
  },
  {
   "cell_type": "code",
   "execution_count": null,
   "metadata": {},
   "outputs": [],
   "source": [
    "usY1"
   ]
  },
  {
   "cell_type": "markdown",
   "metadata": {},
   "source": [
    "## Build current year table for all geos & export to Excel"
   ]
  },
  {
   "cell_type": "code",
   "execution_count": null,
   "metadata": {},
   "outputs": [],
   "source": [
    "final = pd.concat([dfY1,phY1,usY1])"
   ]
  },
  {
   "cell_type": "code",
   "execution_count": null,
   "metadata": {},
   "outputs": [],
   "source": [
    "final"
   ]
  },
  {
   "cell_type": "code",
   "execution_count": null,
   "metadata": {},
   "outputs": [],
   "source": [
    "final.to_excel(f'output/.xlsx',index=False)"
   ]
  },
  {
   "cell_type": "code",
   "execution_count": null,
   "metadata": {},
   "outputs": [],
   "source": [
    "ct_y1.to_excel(f'../output/Housing/BuildSize_ACS_tract_{years[1]}.xlsx',index=False)"
   ]
  }
 ],
 "metadata": {
  "kernelspec": {
   "display_name": "Python 3",
   "language": "python",
   "name": "python3"
  },
  "language_info": {
   "codemirror_mode": {
    "name": "ipython",
    "version": 3
   },
   "file_extension": ".py",
   "mimetype": "text/x-python",
   "name": "python",
   "nbconvert_exporter": "python",
   "pygments_lexer": "ipython3",
   "version": "3.8.5"
  }
 },
 "nbformat": 4,
 "nbformat_minor": 2
}
