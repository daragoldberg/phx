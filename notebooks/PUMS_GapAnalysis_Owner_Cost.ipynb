{
 "cells": [
  {
   "cell_type": "markdown",
   "metadata": {},
   "source": [
    "# PUMS Household Income vs. AMI (2021) in Phoenix  PUMAS\n",
    "\n",
    "- https://www.census.gov/data/developers/data-sets/\n",
    "\n",
    "For households by income and household size to compare to HUD AMI in same year\n",
    "-  https://api.census.gov/data/2021/acs/acs1/pums/variables.html\n",
    "\n",
    "2021 AMI by HH Size (from City of Phoenix)\n",
    "- https://www.phoenix.gov/humanservicessite/Documents/2021%20AMI%20Limits%204.2.21.pdf"
   ]
  },
  {
   "cell_type": "code",
   "execution_count": 1,
   "metadata": {},
   "outputs": [],
   "source": [
    "import pandas as pd\n",
    "import math\n",
    "import numpy as np\n",
    "import os"
   ]
  },
  {
   "cell_type": "code",
   "execution_count": 2,
   "metadata": {},
   "outputs": [],
   "source": [
    "import get_pums as get\n",
    "import pums as calc"
   ]
  },
  {
   "cell_type": "code",
   "execution_count": 3,
   "metadata": {},
   "outputs": [],
   "source": [
    "#Search parameters\n",
    "y1 = '2021'\n",
    "\n",
    "sample = 'acs1'\n",
    "\n",
    "phx_pumas = ['0400113','0400114','0400115','0400116','0400117',\\\n",
    "             '0400118','0400119','0400120','0400121','0400122','0400123',\\\n",
    "             '0400125','0400128','0400112','0400129']\n",
    "\n",
    "#north_pumas = ['0400112','0400129']\n",
    "\n",
    "data_cols = 'SERIALNO,ST,PUMA,HINCP,NP,WGTP,ADJINC,ADJHSG,SMOCP'"
   ]
  },
  {
   "cell_type": "markdown",
   "metadata": {},
   "source": [
    "ADJHSG - adjustment factor for housing dollar amounts (6 decimal places)\n",
    "1000000 = 1.000000\n",
    "\n",
    "FHINCP - income flag - 1: yes | https://api.census.gov/data/2021/acs/acs1/pums/variables/FHINCP.json\n",
    "\n",
    "HINCP - HHI in past 12 months (not -60000:n/a, 0:no income, -59999 loss of 59k+)\n",
    "-1 to -59998 loss, 1+\n",
    "https://api.census.gov/data/2021/acs/acs1/pums/variables/HINCP.json\n",
    "\n",
    "SMOCP - selected owner costs (monthly) (not '00000': none / '-1')\n",
    "https://api.census.gov/data/2021/acs/acs1/pums/variables/SMOCP.json"
   ]
  },
  {
   "cell_type": "code",
   "execution_count": 4,
   "metadata": {},
   "outputs": [],
   "source": [
    "#AMI bands in 2021 by household size\n",
    "AMI_30pct = {'1':16600,'2':19000,'3':21960,'4':26500,'5':31040,'6':35580,\\\n",
    "            '7':40120,'8':44660}\n",
    "AMI_50pct = {'1':27650,'2':31600,'3':35500,'4':39500,'5':42700,'6':45850,\\\n",
    "            '7':49000,'8':52150}\n",
    "AMI_80pct = {'1':44250,'2':50600,'3':56900,'4':63200,'5':68300,'6':73350,\\\n",
    "            '7':78400,'8':83450}\n",
    "AMI_100pct = {'1':55300,'2':63200,'3':71100,'4':79000,'5':85400,'6':91700,\\\n",
    "            '7':98000,'8':104300}"
   ]
  },
  {
   "cell_type": "code",
   "execution_count": 5,
   "metadata": {},
   "outputs": [],
   "source": [
    "#Housing costs affordable to different AMI bands based on household size\n",
    "aff_1p = {'30pct':461,'50pct':767,'80pct':1217,'100pct':1535}\n",
    "aff_2p = {'30pct':527,'50pct':877,'80pct':1392,'100pct':1754}\n",
    "aff_3p = {'30pct':609,'50pct':985,'80pct':1565,'100pct':1973}\n",
    "aff_4p = {'30pct':735,'50pct':1096,'80pct':1738,'100pct':2192}\n",
    "aff_5p = {'30pct':861,'50pct':1185,'80pct':1878,'100pct':2370}\n",
    "aff_6p = {'30pct':987,'50pct':1272,'80pct':2017,'100pct':2545}\n",
    "aff_7p = {'30pct':1113,'50pct':1360,'80pct':2156,'100pct':2720}\n",
    "aff_8p = {'30pct':1239,'50pct':1447,'80pct':2295,'100pct':2894}\n",
    "\n",
    "unit_afford = {'1':[0,461,767,1217,1535,1000000000],\\\n",
    "              '2':[0,527,877,1392,1535,1000000000],\\\n",
    "              '3':[0,609,985,1565,1973,1000000000],\\\n",
    "              '4':[0,735,1096,1738,2192,1000000000],\\\n",
    "              '5':[0,861,1185,1878,2370,1000000000],\\\n",
    "              '6':[0,987,1272,2017,2545,1000000000],\\\n",
    "              '7':[0,1113,1360,2156,2720,1000000000],\\\n",
    "              '8':[0,1239,1447,2295,2894,1000000000]}\n",
    "\n",
    "inc_lbls = ['u30_ami','30_50_ami','50_80_ami','80_100_ami','o100_ami']"
   ]
  },
  {
   "cell_type": "code",
   "execution_count": 6,
   "metadata": {},
   "outputs": [],
   "source": [
    "# create a list of replicate weights\n",
    "repwt = 'WGTP'\n",
    "repwts = [repwt+str(i) for i in range(1, 81)]"
   ]
  },
  {
   "cell_type": "markdown",
   "metadata": {},
   "source": [
    "## Get PUMA data"
   ]
  },
  {
   "cell_type": "code",
   "execution_count": 7,
   "metadata": {
    "scrolled": true
   },
   "outputs": [],
   "source": [
    "df = get.get_puma(sample,y1,data_cols)"
   ]
  },
  {
   "cell_type": "code",
   "execution_count": 8,
   "metadata": {},
   "outputs": [],
   "source": [
    "df['GEO_ID'] = df['ST']+df['PUMA']\n",
    "df = df[df.GEO_ID.isin(phx_pumas)]\n",
    "df  = df.drop(['SERIALNO','ST','PUMA'],axis=1)\n",
    "df = df[['GEO_ID']+[col for col in df.columns if col != 'GEO_ID']] #move id to first col\n",
    "for col in df.columns[1:]: df[col] = df[col].astype(float)"
   ]
  },
  {
   "cell_type": "code",
   "execution_count": 9,
   "metadata": {},
   "outputs": [],
   "source": [
    "df['HHSz'] = pd.cut(df['NP'],bins=[0,1,2,3,4,5,6,7,14],\\\n",
    "                   labels=['1','2','3','4','5','6','7','8'])\n",
    "df['HHSz'] = df['HHSz'].astype(str)\n",
    "df['HINCP'] = df.ADJINC * df.HINCP"
   ]
  },
  {
   "cell_type": "code",
   "execution_count": 10,
   "metadata": {},
   "outputs": [],
   "source": [
    "dff = df[~(df.HHSz.isna())&(df.HINCP!=-60000)&(df.HINCP!=0)&(df.SMOCP!=0)&(df.SMOCP!=-1)].copy()"
   ]
  },
  {
   "cell_type": "code",
   "execution_count": 11,
   "metadata": {},
   "outputs": [],
   "source": [
    "dff['hou_cost'] = dff.SMOCP\n",
    "dff['aff_cost'] = np.where(dff.HINCP>=1,(dff.HINCP*0.333)/12,0)"
   ]
  },
  {
   "cell_type": "code",
   "execution_count": 12,
   "metadata": {},
   "outputs": [],
   "source": [
    "#assign AMI range based on household size and ami dictionaries\n",
    "dff['AMI_range'] = np.where((dff['HINCP']<=dff['HHSz'].map(AMI_30pct)),'u30_ami',\\\n",
    "                   np.where((dff['HINCP']>dff['HHSz'].map(AMI_30pct))&(dff['HINCP']<=dff['HHSz'].map(AMI_50pct)),'30_50_ami',\\\n",
    "                   np.where((dff['HINCP']>dff['HHSz'].map(AMI_50pct))&(dff['HINCP']<=dff['HHSz'].map(AMI_80pct)),\\\n",
    "                   '50_80_ami',np.where((dff['HINCP']>dff['HHSz'].map(AMI_80pct))&(dff['HINCP']<=dff['HHSz'].map(AMI_100pct)),\\\n",
    "                   '80_100_ami','o100_ami'))))"
   ]
  },
  {
   "cell_type": "code",
   "execution_count": 13,
   "metadata": {},
   "outputs": [],
   "source": [
    "dff['cost_burdened'] = np.where(dff.hou_cost>dff.aff_cost,'burdened','not burdened')"
   ]
  },
  {
   "cell_type": "code",
   "execution_count": 14,
   "metadata": {},
   "outputs": [],
   "source": [
    "#who is the unit affordable to based on the rent\n",
    "dff['unit_aff'] = np.where(dff.HHSz=='1',pd.cut(dff['hou_cost'],bins=unit_afford['1'],labels=inc_lbls),\\\n",
    "                  np.where(dff.HHSz=='2',pd.cut(dff['hou_cost'],bins=unit_afford['2'],labels=inc_lbls),\\\n",
    "                  np.where(dff.HHSz=='3',pd.cut(dff['hou_cost'],bins=unit_afford['3'],labels=inc_lbls),\\\n",
    "                  np.where(dff.HHSz=='4',pd.cut(dff['hou_cost'],bins=unit_afford['4'],labels=inc_lbls),\\\n",
    "                  np.where(dff.HHSz=='5',pd.cut(dff['hou_cost'],bins=unit_afford['5'],labels=inc_lbls),\\\n",
    "                  np.where(dff.HHSz=='6',pd.cut(dff['hou_cost'],bins=unit_afford['6'],labels=inc_lbls),\\\n",
    "                  np.where(dff.HHSz=='7',pd.cut(dff['hou_cost'],bins=unit_afford['7'],labels=inc_lbls),\\\n",
    "                  np.where(dff.HHSz=='8',pd.cut(dff['hou_cost'],bins=unit_afford['8'],labels=inc_lbls),''))))))))"
   ]
  },
  {
   "cell_type": "code",
   "execution_count": 15,
   "metadata": {},
   "outputs": [
    {
     "data": {
      "text/html": [
       "<div>\n",
       "<style scoped>\n",
       "    .dataframe tbody tr th:only-of-type {\n",
       "        vertical-align: middle;\n",
       "    }\n",
       "\n",
       "    .dataframe tbody tr th {\n",
       "        vertical-align: top;\n",
       "    }\n",
       "\n",
       "    .dataframe thead th {\n",
       "        text-align: right;\n",
       "    }\n",
       "</style>\n",
       "<table border=\"1\" class=\"dataframe\">\n",
       "  <thead>\n",
       "    <tr style=\"text-align: right;\">\n",
       "      <th></th>\n",
       "      <th>GEO_ID</th>\n",
       "      <th>HINCP</th>\n",
       "      <th>NP</th>\n",
       "      <th>WGTP</th>\n",
       "      <th>ADJINC</th>\n",
       "      <th>ADJHSG</th>\n",
       "      <th>SMOCP</th>\n",
       "      <th>WGTP1</th>\n",
       "      <th>WGTP2</th>\n",
       "      <th>WGTP3</th>\n",
       "      <th>...</th>\n",
       "      <th>WGTP77</th>\n",
       "      <th>WGTP78</th>\n",
       "      <th>WGTP79</th>\n",
       "      <th>WGTP80</th>\n",
       "      <th>HHSz</th>\n",
       "      <th>hou_cost</th>\n",
       "      <th>aff_cost</th>\n",
       "      <th>AMI_range</th>\n",
       "      <th>cost_burdened</th>\n",
       "      <th>unit_aff</th>\n",
       "    </tr>\n",
       "  </thead>\n",
       "  <tbody>\n",
       "    <tr>\n",
       "      <th>3602</th>\n",
       "      <td>0400112</td>\n",
       "      <td>76214.6720</td>\n",
       "      <td>2.0</td>\n",
       "      <td>55.0</td>\n",
       "      <td>1.029928</td>\n",
       "      <td>1000000.0</td>\n",
       "      <td>3176.0</td>\n",
       "      <td>56.0</td>\n",
       "      <td>96.0</td>\n",
       "      <td>91.0</td>\n",
       "      <td>...</td>\n",
       "      <td>93.0</td>\n",
       "      <td>51.0</td>\n",
       "      <td>56.0</td>\n",
       "      <td>94.0</td>\n",
       "      <td>2</td>\n",
       "      <td>3176.0</td>\n",
       "      <td>2114.957148</td>\n",
       "      <td>o100_ami</td>\n",
       "      <td>burdened</td>\n",
       "      <td>o100_ami</td>\n",
       "    </tr>\n",
       "    <tr>\n",
       "      <th>3607</th>\n",
       "      <td>0400116</td>\n",
       "      <td>138010.3520</td>\n",
       "      <td>6.0</td>\n",
       "      <td>53.0</td>\n",
       "      <td>1.029928</td>\n",
       "      <td>1000000.0</td>\n",
       "      <td>1628.0</td>\n",
       "      <td>15.0</td>\n",
       "      <td>16.0</td>\n",
       "      <td>62.0</td>\n",
       "      <td>...</td>\n",
       "      <td>18.0</td>\n",
       "      <td>90.0</td>\n",
       "      <td>58.0</td>\n",
       "      <td>54.0</td>\n",
       "      <td>6</td>\n",
       "      <td>1628.0</td>\n",
       "      <td>3829.787268</td>\n",
       "      <td>o100_ami</td>\n",
       "      <td>not burdened</td>\n",
       "      <td>50_80_ami</td>\n",
       "    </tr>\n",
       "    <tr>\n",
       "      <th>3618</th>\n",
       "      <td>0400122</td>\n",
       "      <td>32339.7392</td>\n",
       "      <td>2.0</td>\n",
       "      <td>109.0</td>\n",
       "      <td>1.029928</td>\n",
       "      <td>1000000.0</td>\n",
       "      <td>717.0</td>\n",
       "      <td>96.0</td>\n",
       "      <td>152.0</td>\n",
       "      <td>114.0</td>\n",
       "      <td>...</td>\n",
       "      <td>216.0</td>\n",
       "      <td>235.0</td>\n",
       "      <td>169.0</td>\n",
       "      <td>186.0</td>\n",
       "      <td>2</td>\n",
       "      <td>717.0</td>\n",
       "      <td>897.427763</td>\n",
       "      <td>50_80_ami</td>\n",
       "      <td>not burdened</td>\n",
       "      <td>30_50_ami</td>\n",
       "    </tr>\n",
       "  </tbody>\n",
       "</table>\n",
       "<p>3 rows × 93 columns</p>\n",
       "</div>"
      ],
      "text/plain": [
       "       GEO_ID        HINCP   NP   WGTP    ADJINC     ADJHSG   SMOCP  WGTP1  \\\n",
       "3602  0400112   76214.6720  2.0   55.0  1.029928  1000000.0  3176.0   56.0   \n",
       "3607  0400116  138010.3520  6.0   53.0  1.029928  1000000.0  1628.0   15.0   \n",
       "3618  0400122   32339.7392  2.0  109.0  1.029928  1000000.0   717.0   96.0   \n",
       "\n",
       "      WGTP2  WGTP3  ...  WGTP77  WGTP78  WGTP79  WGTP80  HHSz  hou_cost  \\\n",
       "3602   96.0   91.0  ...    93.0    51.0    56.0    94.0     2    3176.0   \n",
       "3607   16.0   62.0  ...    18.0    90.0    58.0    54.0     6    1628.0   \n",
       "3618  152.0  114.0  ...   216.0   235.0   169.0   186.0     2     717.0   \n",
       "\n",
       "         aff_cost  AMI_range  cost_burdened   unit_aff  \n",
       "3602  2114.957148   o100_ami       burdened   o100_ami  \n",
       "3607  3829.787268   o100_ami   not burdened  50_80_ami  \n",
       "3618   897.427763  50_80_ami   not burdened  30_50_ami  \n",
       "\n",
       "[3 rows x 93 columns]"
      ]
     },
     "execution_count": 15,
     "metadata": {},
     "output_type": "execute_result"
    }
   ],
   "source": [
    "dff.head(3)"
   ]
  },
  {
   "cell_type": "markdown",
   "metadata": {},
   "source": [
    "### table by PUMA for renters by AMI range - cost burdened vs. not cost burdened"
   ]
  },
  {
   "cell_type": "code",
   "execution_count": 16,
   "metadata": {},
   "outputs": [],
   "source": [
    "def make_est(df):\n",
    "    df['hh_SE'] = df.apply(lambda x: (calc.get_se(x['WGTP'],x[repwts])),axis=1)\n",
    "    df['hh_MOE'] = df.apply(lambda x: (calc.get_moe(x['hh_SE'])),axis=1)\n",
    "    df['hh_CV'] = df.apply(lambda x: (calc.get_cv(x['WGTP'],x['hh_SE'])),axis=1)\n",
    "    df.rename(columns={'WGTP':'hh'},inplace=True)\n",
    "    return df"
   ]
  },
  {
   "cell_type": "code",
   "execution_count": 17,
   "metadata": {},
   "outputs": [],
   "source": [
    "drop_cols = ['HINCP','NP','ADJINC','ADJHSG','SMOCP','hou_cost','aff_cost','HHSz']"
   ]
  },
  {
   "cell_type": "code",
   "execution_count": 18,
   "metadata": {},
   "outputs": [],
   "source": [
    "table = dff.copy().drop(columns=drop_cols)"
   ]
  },
  {
   "cell_type": "code",
   "execution_count": 19,
   "metadata": {},
   "outputs": [],
   "source": [
    "table = table.groupby(['GEO_ID','AMI_range','unit_aff','cost_burdened']).sum().reset_index()"
   ]
  },
  {
   "cell_type": "code",
   "execution_count": 20,
   "metadata": {},
   "outputs": [],
   "source": [
    "table_2 = table.copy().groupby(['GEO_ID','AMI_range','unit_aff','cost_burdened']).sum().reset_index()\n",
    "table_2 = make_est(table_2)\n",
    "table_2 = table_2.drop(columns=repwts)"
   ]
  },
  {
   "cell_type": "code",
   "execution_count": 21,
   "metadata": {},
   "outputs": [],
   "source": [
    "own_ami = table.copy().drop(columns=['unit_aff','cost_burdened']).groupby(['GEO_ID','AMI_range']).sum().reset_index()\n",
    "own_ami = make_est(own_ami)\n",
    "own_ami = own_ami.drop(columns=repwts)"
   ]
  },
  {
   "cell_type": "code",
   "execution_count": 22,
   "metadata": {},
   "outputs": [],
   "source": [
    "own_aff = table.copy().drop(columns=['AMI_range','cost_burdened']).groupby(['GEO_ID','unit_aff']).sum().reset_index()\n",
    "own_aff = make_est(own_aff)\n",
    "own_aff = own_aff.drop(columns=repwts)"
   ]
  },
  {
   "cell_type": "code",
   "execution_count": 23,
   "metadata": {},
   "outputs": [],
   "source": [
    "cost_burd = table.copy().drop(columns=['unit_aff','AMI_range']).groupby(['GEO_ID','cost_burdened']).sum().reset_index()\n",
    "cost_burd = make_est(cost_burd)\n",
    "cost_burd = cost_burd.drop(columns=repwts)"
   ]
  },
  {
   "cell_type": "code",
   "execution_count": 24,
   "metadata": {},
   "outputs": [],
   "source": [
    "table_3 = table.copy().drop(columns='cost_burdened').groupby(['GEO_ID','AMI_range','unit_aff']).sum().reset_index()\n",
    "table_3 = make_est(table_3)\n",
    "table_3 = table_3.drop(columns=repwts)"
   ]
  },
  {
   "cell_type": "code",
   "execution_count": 25,
   "metadata": {},
   "outputs": [
    {
     "ename": "NameError",
     "evalue": "name 'rent_ami' is not defined",
     "output_type": "error",
     "traceback": [
      "\u001b[0;31m---------------------------------------------------------------------------\u001b[0m",
      "\u001b[0;31mNameError\u001b[0m                                 Traceback (most recent call last)",
      "\u001b[0;32m/var/folders/s1/ytnwss3951g16cgxh_xr_rq00000gp/T/ipykernel_9514/4163572809.py\u001b[0m in \u001b[0;36m<module>\u001b[0;34m\u001b[0m\n\u001b[1;32m      2\u001b[0m                           columns=['AMI_range','unit_aff','cost_burdened'],aggfunc=np.sum).reset_index()\n\u001b[1;32m      3\u001b[0m \u001b[0;34m\u001b[0m\u001b[0m\n\u001b[0;32m----> 4\u001b[0;31m own_ami = pd.pivot_table(rent_ami,values=['hh','hh_MOE','hh_CV'],index='GEO_ID',\\\n\u001b[0m\u001b[1;32m      5\u001b[0m                           columns=['AMI_range'],aggfunc=np.sum).reset_index()\n\u001b[1;32m      6\u001b[0m \u001b[0;34m\u001b[0m\u001b[0m\n",
      "\u001b[0;31mNameError\u001b[0m: name 'rent_ami' is not defined"
     ]
    }
   ],
   "source": [
    "table_2 = pd.pivot_table(table_2,values=['hh','hh_MOE','hh_CV'],index='GEO_ID',\\\n",
    "                          columns=['AMI_range','unit_aff','cost_burdened'],aggfunc=np.sum).reset_index()"
   ]
  },
  {
   "cell_type": "code",
   "execution_count": 26,
   "metadata": {},
   "outputs": [],
   "source": [
    "own_ami = pd.pivot_table(own_ami,values=['hh','hh_MOE','hh_CV'],index='GEO_ID',\\\n",
    "                          columns=['AMI_range'],aggfunc=np.sum).reset_index()\n",
    "\n",
    "own_aff = pd.pivot_table(own_aff,values=['hh','hh_MOE','hh_CV'],index='GEO_ID',\\\n",
    "                          columns=['unit_aff'],aggfunc=np.sum).reset_index()\n",
    "\n",
    "cost_burd = pd.pivot_table(cost_burd,values=['hh','hh_MOE','hh_CV'],index='GEO_ID',\\\n",
    "                          columns=['cost_burdened'],aggfunc=np.sum).reset_index()"
   ]
  },
  {
   "cell_type": "code",
   "execution_count": 27,
   "metadata": {},
   "outputs": [],
   "source": [
    "table_3 = pd.pivot_table(table_3,values=['hh','hh_MOE','hh_CV'],index='GEO_ID',\\\n",
    "                          columns=['AMI_range','unit_aff'],aggfunc=np.sum).reset_index()"
   ]
  },
  {
   "cell_type": "code",
   "execution_count": 29,
   "metadata": {},
   "outputs": [],
   "source": [
    "with pd.ExcelWriter(f'output/pums_grossrent_gap.xlsx') as writer:\n",
    "    table_2.to_excel(writer,sheet_name='full_owner')\n",
    "    own_ami.to_excel(writer,sheet_name='hh_ami_lvl_owner')\n",
    "    own_aff.to_excel(writer,sheet_name='hh_afford_byAMI_owner')\n",
    "    cost_burd.to_excel(writer,sheet_name='cost_burdened_byAMI_owner')\n",
    "    table_3.to_excel(writer,sheet_name='demand_supply_amilvl')"
   ]
  }
 ],
 "metadata": {
  "kernelspec": {
   "display_name": "Python 3 (ipykernel)",
   "language": "python",
   "name": "python3"
  },
  "language_info": {
   "codemirror_mode": {
    "name": "ipython",
    "version": 3
   },
   "file_extension": ".py",
   "mimetype": "text/x-python",
   "name": "python",
   "nbconvert_exporter": "python",
   "pygments_lexer": "ipython3",
   "version": "3.9.13"
  }
 },
 "nbformat": 4,
 "nbformat_minor": 2
}
