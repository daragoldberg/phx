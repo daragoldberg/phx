{
 "cells": [
  {
   "cell_type": "markdown",
   "metadata": {},
   "source": [
    "### get geography information (area and land area) from Census Tigerweb, pull in population and housing Decennial Census counts and calculate population and housing density in 2010 and 2020"
   ]
  },
  {
   "cell_type": "code",
   "execution_count": 1,
   "metadata": {},
   "outputs": [],
   "source": [
    "import pandas as pd\n",
    "import numpy as np"
   ]
  },
  {
   "cell_type": "code",
   "execution_count": 2,
   "metadata": {},
   "outputs": [],
   "source": [
    "import geo_getter as get"
   ]
  },
  {
   "cell_type": "markdown",
   "metadata": {},
   "source": [
    "## urban villages - blocks"
   ]
  },
  {
   "cell_type": "code",
   "execution_count": 3,
   "metadata": {},
   "outputs": [],
   "source": [
    "blk_10 = pd.read_csv('../data/geo/blk_vil_10_reduced.csv')\n",
    "blk_20 = pd.read_csv('../data/geo/blk_vil_20_reduced.csv')\n",
    "\n",
    "blk_10 = blk_10[['name','land_acre','aland']].copy()\n",
    "blk_10 = blk_10.groupby(['name']).sum().reset_index()\n",
    "blk_10.rename(columns={'land_acre':'AREALAND_ACRE10','aland':'AREALAND10'},\\\n",
    "                        inplace=True)\n",
    "\n",
    "blk_20 = blk_20[['name','land_acre','aland']].copy()\n",
    "blk_20 = blk_20.groupby(['name']).sum().reset_index()\n",
    "blk_20.rename(columns={'land_acre':'AREALAND_ACRE20','aland':'AREALAND20'},\\\n",
    "                        inplace=True)"
   ]
  },
  {
   "cell_type": "code",
   "execution_count": 4,
   "metadata": {},
   "outputs": [],
   "source": [
    "blk = pd.merge(blk_10,blk_20,how='left',on='name')"
   ]
  },
  {
   "cell_type": "code",
   "execution_count": 5,
   "metadata": {},
   "outputs": [],
   "source": [
    "bg_10 = pd.read_csv('../data/geo/bgp_vil_10.csv')\n",
    "bg_20 = pd.read_csv('../data/geo/bgp_vil_20.csv')"
   ]
  },
  {
   "cell_type": "code",
   "execution_count": 6,
   "metadata": {},
   "outputs": [],
   "source": [
    "uv10 = bg_10[['name','land_acre','aland']].copy()\n",
    "uv10 = uv10.groupby(['name']).sum().reset_index()\n",
    "uv10.rename(columns={'land_acre':'AREALAND_ACRE10','aland':'AREALAND10'},\\\n",
    "                        inplace=True)"
   ]
  },
  {
   "cell_type": "code",
   "execution_count": 7,
   "metadata": {},
   "outputs": [],
   "source": [
    "uv20 = bg_20[['name','land_acre','aland']].copy()\n",
    "uv20 = uv20.groupby(['name']).sum().reset_index()\n",
    "uv20.rename(columns={'land_acre':'AREALAND_ACRE20','aland':'AREALAND20'},\\\n",
    "                        inplace=True)"
   ]
  },
  {
   "cell_type": "code",
   "execution_count": 8,
   "metadata": {},
   "outputs": [],
   "source": [
    "uv = pd.merge(uv10,uv20,how='left',on='name')\n",
    "uv['name'] = uv['name']+'_bg'"
   ]
  },
  {
   "cell_type": "markdown",
   "metadata": {},
   "source": [
    "## comps"
   ]
  },
  {
   "cell_type": "code",
   "execution_count": 9,
   "metadata": {},
   "outputs": [],
   "source": [
    "cities = {4865000:'San Antonio', 4819000:'Dallas',1235000:'Jacksonville',\\\n",
    "          1836000:'Indianapolis'}\n",
    "\n",
    "geoids = list(cities.keys())"
   ]
  },
  {
   "cell_type": "code",
   "execution_count": 10,
   "metadata": {},
   "outputs": [],
   "source": [
    "comp10 = get.make_city('2010')\n",
    "comp20 = get.make_city('2020')\n",
    "comps = pd.merge(comp10,comp20,how='left',on='GEOID')\n",
    "comps = comps[comps.GEOID.isin(list(cities.keys()))].copy()\n",
    "comps.rename(columns={'BASENAME10':'name'},inplace=True)\n",
    "comps = comps.drop(['GEOID','AREAWATER10','BASENAME20','AREAWATER20'],axis=1)"
   ]
  },
  {
   "cell_type": "markdown",
   "metadata": {},
   "source": [
    "## maricopa places"
   ]
  },
  {
   "cell_type": "code",
   "execution_count": 11,
   "metadata": {},
   "outputs": [],
   "source": [
    "plc10 = get.make_maricopa_pl('2010')\n",
    "plc20 = get.make_maricopa_pl('2020')\n",
    "plcs = pd.merge(plc10,plc20,how='left',on='GEOID')\n",
    "plcs.rename(columns={'BASENAME10':'name'},inplace=True)\n",
    "plcs = plcs.drop(['GEOID','AREAWATER10','BASENAME20','AREAWATER20'],axis=1)"
   ]
  },
  {
   "cell_type": "markdown",
   "metadata": {},
   "source": [
    "## maricopa"
   ]
  },
  {
   "cell_type": "code",
   "execution_count": 12,
   "metadata": {},
   "outputs": [],
   "source": [
    "mar10 = get.make_maricopa('2010')\n",
    "mar20 = get.make_maricopa('2020')"
   ]
  },
  {
   "cell_type": "code",
   "execution_count": 13,
   "metadata": {},
   "outputs": [],
   "source": [
    "mar = pd.merge(mar10,mar20,how='left',on='GEOID')"
   ]
  },
  {
   "cell_type": "code",
   "execution_count": 14,
   "metadata": {},
   "outputs": [],
   "source": [
    "mar.rename(columns={'BASENAME10':'name'},inplace=True)\n",
    "mar = mar.drop(['GEOID','AREAWATER10','BASENAME20','AREAWATER20'],axis=1)"
   ]
  },
  {
   "cell_type": "markdown",
   "metadata": {},
   "source": [
    "## arizona"
   ]
  },
  {
   "cell_type": "code",
   "execution_count": 15,
   "metadata": {},
   "outputs": [],
   "source": [
    "az10 = get.make_az('2010')\n",
    "az20 = get.make_az('2020')\n",
    "az = pd.merge(az10,az20,how='left',on='GEOID')\n",
    "az['name'] = 'AZ'"
   ]
  },
  {
   "cell_type": "code",
   "execution_count": 16,
   "metadata": {},
   "outputs": [],
   "source": [
    "az = az.drop(['GEOID','AREAWATER10','BASENAME10','BASENAME20','AREAWATER20'],axis=1)"
   ]
  },
  {
   "cell_type": "markdown",
   "metadata": {},
   "source": [
    "## us"
   ]
  },
  {
   "cell_type": "code",
   "execution_count": 17,
   "metadata": {},
   "outputs": [],
   "source": [
    "us10 = get.make_us('2010')\n",
    "us20 = get.make_us('2020')\n",
    "us = pd.merge(us10,us20,how='left',on='FUNCSTAT')"
   ]
  },
  {
   "cell_type": "code",
   "execution_count": 18,
   "metadata": {},
   "outputs": [],
   "source": [
    "us['name'] = 'US'\n",
    "us = us.drop(['FUNCSTAT','AREAWATER10','AREAWATER20'],axis=1)"
   ]
  },
  {
   "cell_type": "markdown",
   "metadata": {},
   "source": [
    "## make big geography table - no urban vil"
   ]
  },
  {
   "cell_type": "code",
   "execution_count": 19,
   "metadata": {},
   "outputs": [],
   "source": [
    "geos = pd.concat([blk,mar,az,us,plcs,comps,uv])"
   ]
  },
  {
   "cell_type": "markdown",
   "metadata": {},
   "source": [
    "## read in pop and housing from output folder"
   ]
  },
  {
   "cell_type": "code",
   "execution_count": 20,
   "metadata": {},
   "outputs": [],
   "source": [
    "data = pd.read_csv('output/dec_pop_hou_race.csv')"
   ]
  },
  {
   "cell_type": "code",
   "execution_count": 21,
   "metadata": {},
   "outputs": [],
   "source": [
    "data = data[['name','Hou_10E','Hou_20E','Pop_10E','Pop_20E']]"
   ]
  },
  {
   "cell_type": "markdown",
   "metadata": {},
   "source": [
    "## calc housing and pop density in 2010 and 2020"
   ]
  },
  {
   "cell_type": "code",
   "execution_count": 22,
   "metadata": {},
   "outputs": [],
   "source": [
    "geos = pd.merge(data,geos,how='left',on='name')"
   ]
  },
  {
   "cell_type": "code",
   "execution_count": 23,
   "metadata": {},
   "outputs": [],
   "source": [
    "geos['HouDen_10'] = geos.Hou_10E / geos.AREALAND_ACRE10\n",
    "geos['PopDen_10'] = geos.Pop_10E / geos.AREALAND_ACRE10\n",
    "geos['HouDen_20'] = geos.Hou_20E / geos.AREALAND_ACRE20\n",
    "geos['PopDen_20'] = geos.Pop_20E / geos.AREALAND_ACRE20"
   ]
  },
  {
   "cell_type": "code",
   "execution_count": 24,
   "metadata": {},
   "outputs": [],
   "source": [
    "geos.to_csv('output/dec_pop_hou_den.csv',index=False)"
   ]
  }
 ],
 "metadata": {
  "kernelspec": {
   "display_name": "Python 3",
   "language": "python",
   "name": "python3"
  },
  "language_info": {
   "codemirror_mode": {
    "name": "ipython",
    "version": 3
   },
   "file_extension": ".py",
   "mimetype": "text/x-python",
   "name": "python",
   "nbconvert_exporter": "python",
   "pygments_lexer": "ipython3",
   "version": "3.8.5"
  }
 },
 "nbformat": 4,
 "nbformat_minor": 5
}
