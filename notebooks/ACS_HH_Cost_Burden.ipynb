{
 "cells": [
  {
   "cell_type": "markdown",
   "metadata": {},
   "source": [
    "# ACS Cost Burden for Renters and Homeowners in Phoenix Urban Villages City of Phoenix\n",
    "\n",
    "- https://www.census.gov/data/developers/data-sets/acs-5year.html\n",
    "\n",
    "For income as a percentage of rent, or owner costs for with and without a mortgage\n",
    "- https://api.census.gov/data/2013/acs/acs5/variables.html\n",
    "- https://api.census.gov/data/2021/acs/acs5/variables.html\n",
    "\n",
    "** Note: Census Block Groups (which are aggregated to Phoenix Urban Village areas) are not available until 2013. "
   ]
  },
  {
   "cell_type": "code",
   "execution_count": 1,
   "metadata": {},
   "outputs": [],
   "source": [
    "import pandas as pd\n",
    "import math\n",
    "import numpy as np\n",
    "import os"
   ]
  },
  {
   "cell_type": "code",
   "execution_count": 2,
   "metadata": {},
   "outputs": [],
   "source": [
    "import get_acs as get\n",
    "import utilcalcs as calc\n",
    "import geo_agg\n",
    "from acs_cost_vars import *"
   ]
  },
  {
   "cell_type": "code",
   "execution_count": 3,
   "metadata": {},
   "outputs": [],
   "source": [
    "bgp_10 = pd.read_csv('../data/geo/bgp_vil_10.csv')\n",
    "bgp_20 = pd.read_csv('../data/geo/bgp_vil_20.csv')\n",
    "for df in [bgp_10,bgp_20]: df.geoid = df.geoid.apply(lambda x: '{0:0>12}'.format(x))\n",
    "    \n",
    "#get ride of area & geo stuff not being useed\n",
    "bgp_20 = bgp_20.drop(['aland20','awater20','lat20','lon20','land_acre'],axis=1)\n",
    "bgp_10 = bgp_10.drop(['aland10','awater10','lat10','lon10','land_acre'],axis=1)"
   ]
  },
  {
   "cell_type": "code",
   "execution_count": 4,
   "metadata": {},
   "outputs": [],
   "source": [
    "#Search parameters - NOTE DIFFERENT VARIABLE # ASSIGNMENTS IN 2010 VS 2020\n",
    "y1 = '2021'\n",
    "y0 = '2013'\n",
    "\n",
    "cols_rent = 'group(B25070)'\n",
    "cols_own = 'group(B25091)'\n",
    "\n",
    "source = 'acs/acs5'\n",
    "\n",
    "rent_vars = ['GEO_ID']+rent_vars  #imported from acs vars\n",
    "own_vars = ['GEO_ID']+own_vars    #\""
   ]
  },
  {
   "cell_type": "markdown",
   "metadata": {},
   "source": [
    "##  RENT BURDEN "
   ]
  },
  {
   "cell_type": "code",
   "execution_count": 5,
   "metadata": {},
   "outputs": [],
   "source": [
    "def group_rent(df,year):\n",
    "    df['r_u30_E'] = df.loc[:,r_u30_e].sum(axis=1)\n",
    "    df['r_u30_M'] = df.apply(lambda x: (calc.get_moe(x[r_u30_m])),axis=1)\n",
    "    df['r_3050_E'] = df.loc[:,r_3050_e].sum(axis=1)\n",
    "    df['r_3050_M'] = df.apply(lambda x: (calc.get_moe(x[r_3050_m])),axis=1)\n",
    "    df = df.rename({'B25070_001E':'r_tot_E','B25070_001M':'r_tot_M',\n",
    "                    'B25070_010E':'r_o50_E','B25070_010M':'r_o50_M',\n",
    "                    'B25070_011E':'r_na_E', 'B25070_011M':'r_na_M'},axis=1)\n",
    "    \n",
    "    df = df.drop(r_u30_e+r_u30_m+r_3050_e+r_3050_m,axis=1)\n",
    "    \n",
    "    for col in df.columns[1:]:\n",
    "        df.rename(columns={col:f'{col[:-1]}{year[-2:]}{col[-1:]}'},inplace=True)\n",
    "    return df"
   ]
  },
  {
   "cell_type": "code",
   "execution_count": 6,
   "metadata": {},
   "outputs": [],
   "source": [
    "def rent_uvil(geo_df,year):\n",
    "    df = get.get_bgp(source,year,cols_rent)\n",
    "    df = get.clean_data(df,rent_vars)\n",
    "    df = group_rent(df,year)\n",
    "    df = pd.merge(geo_df,df,how='left',left_on='geoid',right_on='GEO_ID')\n",
    "    df = df.drop(['geoid','GEO_ID'],axis=1)\n",
    "    df = geo_agg.sumgeo_cv(df,'name')\n",
    "    return df"
   ]
  },
  {
   "cell_type": "code",
   "execution_count": 7,
   "metadata": {},
   "outputs": [],
   "source": [
    "def rent_change(df,change_vars,year1,year0):\n",
    "    for var in change_vars:\n",
    "        df[f'r_{var}_{year0[-2:]}{year1[-2:]}E'] = df[f'r_{var}_{year1[-2:]}E'] - df[f'r_{var}_{year0[-2:]}E']\n",
    "        df[f'r_{var}_{year0[-2:]}{year1[-2:]}M'] = df.apply(lambda x: (calc.get_moe([x[f'r_{var}_{year0[-2:]}M'],\\\n",
    "                                                                                x[f'r_{var}_{year1[-2:]}M']])),axis=1)\n",
    "        df[f'r_{var}_{year0[-2:]}{year1[-2:]}C'] = df.apply(lambda x: (calc.get_cv(x[f'r_{var}_{year0[-2:]}{year1[-2:]}E'],\\\n",
    "                                                                            x[f'r_{var}_{year0[-2:]}{year1[-2:]}M'])),axis=1)\n",
    "        for  y  in [year0[-2:],year1[-2:]]:\n",
    "            df[f'r_{var}_{y}P'] = df[f'r_{var}_{y}E'] / df[f'r_tot_{y}E']\n",
    "        \n",
    "    return  df"
   ]
  },
  {
   "cell_type": "markdown",
   "metadata": {},
   "source": [
    "####  Urban Villages"
   ]
  },
  {
   "cell_type": "code",
   "execution_count": 8,
   "metadata": {},
   "outputs": [],
   "source": [
    "dfY1 = rent_uvil(bgp_20,y1)\n",
    "dfY0 = rent_uvil(bgp_10,y0)\n",
    "df_uv = pd.merge(dfY0,dfY1,on='name',how='left')\n",
    "df_uv = rent_change(df_uv,['u30','3050','o50','na'],y1,y0)"
   ]
  },
  {
   "cell_type": "code",
   "execution_count": 9,
   "metadata": {
    "scrolled": true
   },
   "outputs": [
    {
     "data": {
      "text/html": [
       "<div>\n",
       "<style scoped>\n",
       "    .dataframe tbody tr th:only-of-type {\n",
       "        vertical-align: middle;\n",
       "    }\n",
       "\n",
       "    .dataframe tbody tr th {\n",
       "        vertical-align: top;\n",
       "    }\n",
       "\n",
       "    .dataframe thead th {\n",
       "        text-align: right;\n",
       "    }\n",
       "</style>\n",
       "<table border=\"1\" class=\"dataframe\">\n",
       "  <thead>\n",
       "    <tr style=\"text-align: right;\">\n",
       "      <th></th>\n",
       "      <th>name</th>\n",
       "      <th>r_o50_13E</th>\n",
       "      <th>r_o50_13M</th>\n",
       "      <th>r_o50_13C</th>\n",
       "      <th>r_tot_13E</th>\n",
       "      <th>r_tot_13M</th>\n",
       "      <th>r_tot_13C</th>\n",
       "      <th>r_3050_13E</th>\n",
       "      <th>r_3050_13M</th>\n",
       "      <th>r_3050_13C</th>\n",
       "      <th>...</th>\n",
       "      <th>r_o50_1321E</th>\n",
       "      <th>r_o50_1321M</th>\n",
       "      <th>r_o50_1321C</th>\n",
       "      <th>r_o50_13P</th>\n",
       "      <th>r_o50_21P</th>\n",
       "      <th>r_na_1321E</th>\n",
       "      <th>r_na_1321M</th>\n",
       "      <th>r_na_1321C</th>\n",
       "      <th>r_na_13P</th>\n",
       "      <th>r_na_21P</th>\n",
       "    </tr>\n",
       "  </thead>\n",
       "  <tbody>\n",
       "    <tr>\n",
       "      <th>0</th>\n",
       "      <td>Laveen</td>\n",
       "      <td>1132.0</td>\n",
       "      <td>281.465806</td>\n",
       "      <td>15.115180</td>\n",
       "      <td>3846.0</td>\n",
       "      <td>473.684494</td>\n",
       "      <td>7.487106</td>\n",
       "      <td>1033.0</td>\n",
       "      <td>293.600068</td>\n",
       "      <td>17.277859</td>\n",
       "      <td>...</td>\n",
       "      <td>-74.0</td>\n",
       "      <td>380.267011</td>\n",
       "      <td>312.385617</td>\n",
       "      <td>0.294332</td>\n",
       "      <td>0.247023</td>\n",
       "      <td>-123.0</td>\n",
       "      <td>168.949697</td>\n",
       "      <td>83.499986</td>\n",
       "      <td>0.060322</td>\n",
       "      <td>0.025449</td>\n",
       "    </tr>\n",
       "    <tr>\n",
       "      <th>1</th>\n",
       "      <td>Deer Valley</td>\n",
       "      <td>4496.0</td>\n",
       "      <td>497.294681</td>\n",
       "      <td>6.723906</td>\n",
       "      <td>23216.0</td>\n",
       "      <td>1017.806956</td>\n",
       "      <td>2.665091</td>\n",
       "      <td>5979.0</td>\n",
       "      <td>623.671388</td>\n",
       "      <td>6.341053</td>\n",
       "      <td>...</td>\n",
       "      <td>766.0</td>\n",
       "      <td>866.019630</td>\n",
       "      <td>68.727898</td>\n",
       "      <td>0.193660</td>\n",
       "      <td>0.198252</td>\n",
       "      <td>125.0</td>\n",
       "      <td>465.665116</td>\n",
       "      <td>226.463278</td>\n",
       "      <td>0.043289</td>\n",
       "      <td>0.042574</td>\n",
       "    </tr>\n",
       "    <tr>\n",
       "      <th>2</th>\n",
       "      <td>Maryvale</td>\n",
       "      <td>9413.0</td>\n",
       "      <td>710.069011</td>\n",
       "      <td>4.585710</td>\n",
       "      <td>30255.0</td>\n",
       "      <td>1109.630119</td>\n",
       "      <td>2.229540</td>\n",
       "      <td>7943.0</td>\n",
       "      <td>687.452544</td>\n",
       "      <td>5.261290</td>\n",
       "      <td>...</td>\n",
       "      <td>-2331.0</td>\n",
       "      <td>1005.710197</td>\n",
       "      <td>26.227970</td>\n",
       "      <td>0.311122</td>\n",
       "      <td>0.223541</td>\n",
       "      <td>-603.0</td>\n",
       "      <td>535.111203</td>\n",
       "      <td>53.946196</td>\n",
       "      <td>0.070831</td>\n",
       "      <td>0.048610</td>\n",
       "    </tr>\n",
       "    <tr>\n",
       "      <th>3</th>\n",
       "      <td>North Mountain</td>\n",
       "      <td>6782.0</td>\n",
       "      <td>635.919806</td>\n",
       "      <td>5.700050</td>\n",
       "      <td>28423.0</td>\n",
       "      <td>1098.145710</td>\n",
       "      <td>2.348682</td>\n",
       "      <td>7054.0</td>\n",
       "      <td>696.894540</td>\n",
       "      <td>6.005729</td>\n",
       "      <td>...</td>\n",
       "      <td>835.0</td>\n",
       "      <td>1008.883046</td>\n",
       "      <td>73.449433</td>\n",
       "      <td>0.238610</td>\n",
       "      <td>0.240322</td>\n",
       "      <td>48.0</td>\n",
       "      <td>562.500667</td>\n",
       "      <td>712.386863</td>\n",
       "      <td>0.061675</td>\n",
       "      <td>0.056823</td>\n",
       "    </tr>\n",
       "    <tr>\n",
       "      <th>4</th>\n",
       "      <td>Paradise Valley</td>\n",
       "      <td>5205.0</td>\n",
       "      <td>576.446008</td>\n",
       "      <td>6.732432</td>\n",
       "      <td>23616.0</td>\n",
       "      <td>1016.715791</td>\n",
       "      <td>2.617142</td>\n",
       "      <td>5307.0</td>\n",
       "      <td>588.318791</td>\n",
       "      <td>6.739035</td>\n",
       "      <td>...</td>\n",
       "      <td>95.0</td>\n",
       "      <td>946.788255</td>\n",
       "      <td>605.847548</td>\n",
       "      <td>0.220401</td>\n",
       "      <td>0.220081</td>\n",
       "      <td>-151.0</td>\n",
       "      <td>447.912938</td>\n",
       "      <td>180.322848</td>\n",
       "      <td>0.050263</td>\n",
       "      <td>0.043020</td>\n",
       "    </tr>\n",
       "  </tbody>\n",
       "</table>\n",
       "<p>5 rows × 51 columns</p>\n",
       "</div>"
      ],
      "text/plain": [
       "              name  r_o50_13E   r_o50_13M  r_o50_13C  r_tot_13E    r_tot_13M  \\\n",
       "0           Laveen     1132.0  281.465806  15.115180     3846.0   473.684494   \n",
       "1      Deer Valley     4496.0  497.294681   6.723906    23216.0  1017.806956   \n",
       "2         Maryvale     9413.0  710.069011   4.585710    30255.0  1109.630119   \n",
       "3   North Mountain     6782.0  635.919806   5.700050    28423.0  1098.145710   \n",
       "4  Paradise Valley     5205.0  576.446008   6.732432    23616.0  1016.715791   \n",
       "\n",
       "   r_tot_13C  r_3050_13E  r_3050_13M  r_3050_13C  ...  r_o50_1321E  \\\n",
       "0   7.487106      1033.0  293.600068   17.277859  ...        -74.0   \n",
       "1   2.665091      5979.0  623.671388    6.341053  ...        766.0   \n",
       "2   2.229540      7943.0  687.452544    5.261290  ...      -2331.0   \n",
       "3   2.348682      7054.0  696.894540    6.005729  ...        835.0   \n",
       "4   2.617142      5307.0  588.318791    6.739035  ...         95.0   \n",
       "\n",
       "   r_o50_1321M  r_o50_1321C  r_o50_13P  r_o50_21P  r_na_1321E  r_na_1321M  \\\n",
       "0   380.267011   312.385617   0.294332   0.247023      -123.0  168.949697   \n",
       "1   866.019630    68.727898   0.193660   0.198252       125.0  465.665116   \n",
       "2  1005.710197    26.227970   0.311122   0.223541      -603.0  535.111203   \n",
       "3  1008.883046    73.449433   0.238610   0.240322        48.0  562.500667   \n",
       "4   946.788255   605.847548   0.220401   0.220081      -151.0  447.912938   \n",
       "\n",
       "   r_na_1321C  r_na_13P  r_na_21P  \n",
       "0   83.499986  0.060322  0.025449  \n",
       "1  226.463278  0.043289  0.042574  \n",
       "2   53.946196  0.070831  0.048610  \n",
       "3  712.386863  0.061675  0.056823  \n",
       "4  180.322848  0.050263  0.043020  \n",
       "\n",
       "[5 rows x 51 columns]"
      ]
     },
     "execution_count": 9,
     "metadata": {},
     "output_type": "execute_result"
    }
   ],
   "source": [
    "df_uv.head()"
   ]
  },
  {
   "cell_type": "markdown",
   "metadata": {},
   "source": [
    "#### City of Phoenix"
   ]
  },
  {
   "cell_type": "code",
   "execution_count": null,
   "metadata": {
    "scrolled": true
   },
   "outputs": [],
   "source": [
    "def make_phx(year):\n",
    "    df = get.get_phx(source,year,cols_rent)\n",
    "    df = get.clean_data(df,rent_vars)\n",
    "    df = group_rent(df,year)\n",
    "    return df"
   ]
  },
  {
   "cell_type": "code",
   "execution_count": null,
   "metadata": {},
   "outputs": [],
   "source": [
    "df1 = make_phx(y1)\n",
    "df0 = make_phx(y0)"
   ]
  },
  {
   "cell_type": "code",
   "execution_count": null,
   "metadata": {},
   "outputs": [],
   "source": [
    "df_phx = pd.merge(df0,df1,on='GEO_ID',how='left')\n",
    "df_phx = geo_agg.sumgeo_cv(df_phx,'GEO_ID') #calc cvs\n",
    "df_phx =  rent_change(df_phx,['u30','3050','o50','na'],y1,y0)"
   ]
  },
  {
   "cell_type": "code",
   "execution_count": null,
   "metadata": {
    "scrolled": true
   },
   "outputs": [],
   "source": [
    "df_phx.head()"
   ]
  },
  {
   "cell_type": "markdown",
   "metadata": {},
   "source": [
    "df_phx.to_excel('output/phx_rent.xlsx',index=False)"
   ]
  },
  {
   "cell_type": "markdown",
   "metadata": {},
   "source": [
    "## OWNER BURDEN\n",
    "*Note: judging by statistical reliability in the renter cohort, this code assess owner cost burden for all owners, with or without a mortgage. Hypothesis is that the more detailed cut for Urban Village areas (i.e., with a mortgage vs. without a mortgage) will not yield any statistically significant findings."
   ]
  },
  {
   "cell_type": "markdown",
   "metadata": {},
   "source": [
    "#### Urban Villages"
   ]
  },
  {
   "cell_type": "code",
   "execution_count": null,
   "metadata": {},
   "outputs": [],
   "source": [
    "def group_own(df,year):\n",
    "    df['o_tot_E'] = df.loc[:,o_tot_e].sum(axis=1)\n",
    "    df['o_tot_M'] = df.apply(lambda x: (calc.get_moe(x[o_tot_m])),axis=1)\n",
    "    df['o_u30_E'] = df.loc[:,o_u30_e].sum(axis=1)\n",
    "    df['o_u30_M'] = df.apply(lambda x: (calc.get_moe(x[o_u30_m])),axis=1)\n",
    "    df['o_3050_E'] = df.loc[:,o_3050_e].sum(axis=1)\n",
    "    df['o_3050_M'] = df.apply(lambda x: (calc.get_moe(x[o_3050_m])),axis=1)\n",
    "    df['o_o50_E'] = df.loc[:,o_o50_e].sum(axis=1)\n",
    "    df['o_o50_M'] = df.apply(lambda x: (calc.get_moe(x[o_o50_m])),axis=1)\n",
    "    df['o_na_E'] = df.loc[:,o_na_e].sum(axis=1)\n",
    "    df['o_na_M'] = df.apply(lambda x: (calc.get_moe(x[o_na_m])),axis=1)\n",
    "    \n",
    "    df = df.drop(own_vars[1:],axis=1).copy()\n",
    "    \n",
    "    for col in df.columns[1:]:\n",
    "        df.rename(columns={col:f'{col[:-1]}{year[-2:]}{col[-1:]}'},inplace=True)\n",
    "    return df"
   ]
  },
  {
   "cell_type": "code",
   "execution_count": null,
   "metadata": {},
   "outputs": [],
   "source": [
    "def own_uvil(geo_df,year):\n",
    "    df = get.get_bgp(source,year,cols_own)\n",
    "    df = get.clean_data(df,own_vars)\n",
    "    df = group_own(df,year)\n",
    "    df = pd.merge(geo_df,df,how='left',left_on='geoid',right_on='GEO_ID')\n",
    "    df = df.drop(['geoid','GEO_ID'],axis=1)\n",
    "    df = geo_agg.sumgeo_cv(df,'name')\n",
    "    return df"
   ]
  },
  {
   "cell_type": "code",
   "execution_count": null,
   "metadata": {},
   "outputs": [],
   "source": [
    "def own_change(df,change_vars,year1,year0):\n",
    "    for var in change_vars:\n",
    "        df[f'o_{var}_{year0[-2:]}{year1[-2:]}E'] = df[f'o_{var}_{year1[-2:]}E'] - df[f'o_{var}_{year0[-2:]}E']\n",
    "        df[f'o_{var}_{year0[-2:]}{year1[-2:]}M'] = df.apply(lambda x: (calc.get_moe([x[f'o_{var}_{year0[-2:]}M'],\\\n",
    "                                                                                x[f'o_{var}_{year1[-2:]}M']])),axis=1)\n",
    "        df[f'o_{var}_{year0[-2:]}{year1[-2:]}C'] = df.apply(lambda x: (calc.get_cv(x[f'o_{var}_{year0[-2:]}{year1[-2:]}E'],\\\n",
    "                                                                            x[f'o_{var}_{year0[-2:]}{year1[-2:]}M'])),axis=1)\n",
    "        for  y  in [year0[-2:],year1[-2:]]:\n",
    "            df[f'o_{var}_{y}P'] = df[f'o_{var}_{y}E'] / df[f'o_tot_{y}E']\n",
    "        \n",
    "    return  df"
   ]
  },
  {
   "cell_type": "code",
   "execution_count": null,
   "metadata": {
    "scrolled": true
   },
   "outputs": [],
   "source": [
    "dfoY1 = own_uvil(bgp_20,y1)\n",
    "dfoY0 = own_uvil(bgp_10,y0)\n",
    "\n",
    "dfo_uv = pd.merge(dfoY0,dfoY1,on='name',how='left')\n",
    "dfo_uv = own_change(dfo_uv,['u30','3050','o50','na'],y1,y0)"
   ]
  },
  {
   "cell_type": "code",
   "execution_count": null,
   "metadata": {},
   "outputs": [],
   "source": [
    "dfo_uv.head()"
   ]
  },
  {
   "cell_type": "code",
   "execution_count": null,
   "metadata": {},
   "outputs": [],
   "source": [
    "dfo_uv.to_excel('output/own_uv.xlsx',index=False)"
   ]
  },
  {
   "cell_type": "markdown",
   "metadata": {},
   "source": [
    "#### City of Phoenix"
   ]
  },
  {
   "cell_type": "code",
   "execution_count": null,
   "metadata": {},
   "outputs": [],
   "source": [
    "def make_phx_o(year):\n",
    "    df = get.get_phx(source,year,cols_own)\n",
    "    df = get.clean_data(df,own_vars)\n",
    "    df = group_own(df,year)\n",
    "    return df"
   ]
  },
  {
   "cell_type": "code",
   "execution_count": null,
   "metadata": {},
   "outputs": [],
   "source": [
    "dfo1 = make_phx_o(y1)\n",
    "dfo0 = make_phx_o(y0)"
   ]
  },
  {
   "cell_type": "code",
   "execution_count": null,
   "metadata": {},
   "outputs": [],
   "source": [
    "df_phx_o = pd.merge(dfo0,dfo1,on='GEO_ID',how='left')\n",
    "df_phx_o = geo_agg.sumgeo_cv(df_phx_o,'GEO_ID') #calc cvs\n",
    "df_phx_o =  own_change(df_phx_o,['u30','3050','o50','na'],y1,y0)"
   ]
  },
  {
   "cell_type": "code",
   "execution_count": null,
   "metadata": {},
   "outputs": [],
   "source": [
    "df_phx_o"
   ]
  },
  {
   "cell_type": "code",
   "execution_count": null,
   "metadata": {},
   "outputs": [],
   "source": [
    "df_phx_o.to_excel('output/df_phx_o.xlsx',index=False)"
   ]
  }
 ],
 "metadata": {
  "kernelspec": {
   "display_name": "Python 3",
   "language": "python",
   "name": "python3"
  },
  "language_info": {
   "codemirror_mode": {
    "name": "ipython",
    "version": 3
   },
   "file_extension": ".py",
   "mimetype": "text/x-python",
   "name": "python",
   "nbconvert_exporter": "python",
   "pygments_lexer": "ipython3",
   "version": "3.8.5"
  }
 },
 "nbformat": 4,
 "nbformat_minor": 2
}
