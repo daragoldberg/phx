{
 "cells": [
  {
   "cell_type": "markdown",
   "metadata": {},
   "source": [
    "# ACS Cost Burden for Renters and Homeowners\n",
    "\n",
    "#### This notebook analyzes NYC Metro cost burden (30% or more of HHI on rent or mortgage) - UPDATE THIS MORE\n",
    "\n",
    "- https://www.census.gov/data/developers/data-sets/acs-5year.html\n",
    "\n",
    "For total labor force & population\n",
    "- https://api.census.gov/data/2010/acs/acs5/profile/variables.html\n",
    "- https://api.census.gov/data/2020/acs/acs5/profile/variables.html\n",
    "\n",
    "For labor force by cohort\n",
    "- https://api.census.gov/data/2010/acs/acs5/variables.html\n",
    "- https://api.census.gov/data/2020/acs/acs5/variables.html"
   ]
  },
  {
   "cell_type": "code",
   "execution_count": null,
   "metadata": {},
   "outputs": [],
   "source": []
  },
  {
   "cell_type": "markdown",
   "metadata": {},
   "source": [
    "### Set proxy prior to running"
   ]
  },
  {
   "cell_type": "code",
   "execution_count": 23,
   "metadata": {},
   "outputs": [],
   "source": [
    "# SET TO TRUE/FALSE\n",
    "onDCPServer = True\n",
    "#\n",
    "#"
   ]
  },
  {
   "cell_type": "code",
   "execution_count": 24,
   "metadata": {},
   "outputs": [],
   "source": [
    "import pandas as pd\n",
    "import math\n",
    "import numpy as np\n",
    "import os"
   ]
  },
  {
   "cell_type": "code",
   "execution_count": 25,
   "metadata": {},
   "outputs": [],
   "source": [
    "from geo import *\n",
    "import get_acs as get\n",
    "import geo_agg"
   ]
  },
  {
   "cell_type": "code",
   "execution_count": 26,
   "metadata": {},
   "outputs": [],
   "source": [
    "## proxy assignment, None if working off-network\n",
    "if onDCPServer == False:\n",
    "    p = None\n",
    "else:\n",
    "    from proxy import p"
   ]
  },
  {
   "cell_type": "code",
   "execution_count": 27,
   "metadata": {},
   "outputs": [],
   "source": [
    "date = '220510'"
   ]
  },
  {
   "cell_type": "code",
   "execution_count": 28,
   "metadata": {},
   "outputs": [],
   "source": [
    "#Search parameters - NOTE DIFFERENT VARIABLE # ASSIGNMENTS IN 2010 VS 2020\n",
    "y1 = '2020'\n",
    "y0 = '2010'\n",
    "\n",
    "cols_y1 = f'GEO_ID,DP04_0136E,DP04_0136M,DP04_0141E,DP04_0141M,DP04_0142E,DP04_0142M,DP04_0110E,DP04_0110M,DP04_0114E,DP04_0114M,DP04_0115E,DP04_0115M'\n",
    "cols_y0 = f'GEO_ID,DP04_0134E,DP04_0134M,DP04_0139E,DP04_0139M,DP04_0140E,DP04_0140M,DP04_0108E,DP04_0108M,DP04_0112E,DP04_0112M,DP04_0113E,DP04_0113M'\n",
    "\n",
    "source = 'acs/acs5/profile'"
   ]
  },
  {
   "cell_type": "code",
   "execution_count": 29,
   "metadata": {},
   "outputs": [],
   "source": [
    "#variables and variable aggregation\n",
    "var_data_y1 = ['GEO_ID','DP04_0136E','DP04_0136M','DP04_0141E','DP04_0141M','DP04_0142E','DP04_0142M',\\\n",
    "               'DP04_0110E','DP04_0110M','DP04_0114E','DP04_0114M','DP04_0115E','DP04_0115M']\n",
    "\n",
    "rb_y1_E = ['DP04_0141E','DP04_0142E'] #gross rent over 30% of hh income\n",
    "rb_y1_M = ['DP04_0141M','DP04_0142M']\n",
    "ob_y1_E = ['DP04_0114E','DP04_0115E'] #mortgage payment over 30% of hh income\n",
    "ob_y1_M = ['DP04_0114M','DP04_0115M']\n",
    "\n",
    "\n",
    "var_data_y0 = ['GEO_ID','DP04_0134E','DP04_0134M','DP04_0139E','DP04_0139M','DP04_0140E','DP04_0140M',\\\n",
    "               'DP04_0108E','DP04_0108M','DP04_0112E','DP04_0112M','DP04_0113E','DP04_0113M']\n",
    "\n",
    "rb_y0_E = ['DP04_0139E','DP04_0140E'] #gross rent over 30% of hh income\n",
    "rb_y0_M = ['DP04_0139M','DP04_0140M']\n",
    "ob_y0_E = ['DP04_0112E','DP04_0113E'] #mortgage payment over 30% of hh income\n",
    "ob_y0_M = ['DP04_0112M','DP04_0113M']"
   ]
  },
  {
   "cell_type": "markdown",
   "metadata": {},
   "source": [
    "## NYC Metro counties, subregion, region labor force in Y1 and Y0, with change"
   ]
  },
  {
   "cell_type": "code",
   "execution_count": 30,
   "metadata": {},
   "outputs": [],
   "source": [
    "dfY1 = get.get_county(p,source,y1,cols_y1)\n",
    "dfY1 = get.clean_data(dfY1,var_data_y1)"
   ]
  },
  {
   "cell_type": "code",
   "execution_count": 31,
   "metadata": {},
   "outputs": [],
   "source": [
    "dfY1['Rent_Burd_Y1'] = dfY1.loc[:,rb_y1_E].sum(axis=1)\n",
    "dfY1['Rent_Tot_Y1'] = dfY1['DP04_0136E']\n",
    "dfY1['Own_Burd_Y1'] = dfY1.loc[:,ob_y1_E].sum(axis=1)\n",
    "dfY1['Own_Tot_Y1'] = dfY1['DP04_0110E']\n",
    "dfY1 = dfY1.drop(var_data_y1[1:],axis=1)"
   ]
  },
  {
   "cell_type": "code",
   "execution_count": 37,
   "metadata": {},
   "outputs": [
    {
     "data": {
      "text/html": [
       "<div>\n",
       "<style scoped>\n",
       "    .dataframe tbody tr th:only-of-type {\n",
       "        vertical-align: middle;\n",
       "    }\n",
       "\n",
       "    .dataframe tbody tr th {\n",
       "        vertical-align: top;\n",
       "    }\n",
       "\n",
       "    .dataframe thead th {\n",
       "        text-align: right;\n",
       "    }\n",
       "</style>\n",
       "<table border=\"1\" class=\"dataframe\">\n",
       "  <thead>\n",
       "    <tr style=\"text-align: right;\">\n",
       "      <th></th>\n",
       "      <th>GEO_ID</th>\n",
       "      <th>Rent_Burd_Y1</th>\n",
       "      <th>Rent_Tot_Y1</th>\n",
       "      <th>Own_Burd_Y1</th>\n",
       "      <th>Own_Tot_Y1</th>\n",
       "    </tr>\n",
       "  </thead>\n",
       "  <tbody>\n",
       "    <tr>\n",
       "      <th>400</th>\n",
       "      <td>36027</td>\n",
       "      <td>17495.0</td>\n",
       "      <td>32985.0</td>\n",
       "      <td>14979.0</td>\n",
       "      <td>47339.0</td>\n",
       "    </tr>\n",
       "    <tr>\n",
       "      <th>406</th>\n",
       "      <td>36061</td>\n",
       "      <td>247346.0</td>\n",
       "      <td>550771.0</td>\n",
       "      <td>23163.0</td>\n",
       "      <td>90176.0</td>\n",
       "    </tr>\n",
       "    <tr>\n",
       "      <th>409</th>\n",
       "      <td>36079</td>\n",
       "      <td>2881.0</td>\n",
       "      <td>5701.0</td>\n",
       "      <td>8098.0</td>\n",
       "      <td>20048.0</td>\n",
       "    </tr>\n",
       "    <tr>\n",
       "      <th>410</th>\n",
       "      <td>36085</td>\n",
       "      <td>25744.0</td>\n",
       "      <td>47467.0</td>\n",
       "      <td>30490.0</td>\n",
       "      <td>75908.0</td>\n",
       "    </tr>\n",
       "    <tr>\n",
       "      <th>612</th>\n",
       "      <td>34003</td>\n",
       "      <td>54778.0</td>\n",
       "      <td>114546.0</td>\n",
       "      <td>50008.0</td>\n",
       "      <td>141705.0</td>\n",
       "    </tr>\n",
       "  </tbody>\n",
       "</table>\n",
       "</div>"
      ],
      "text/plain": [
       "    GEO_ID  Rent_Burd_Y1  Rent_Tot_Y1  Own_Burd_Y1  Own_Tot_Y1\n",
       "400  36027       17495.0      32985.0      14979.0     47339.0\n",
       "406  36061      247346.0     550771.0      23163.0     90176.0\n",
       "409  36079        2881.0       5701.0       8098.0     20048.0\n",
       "410  36085       25744.0      47467.0      30490.0     75908.0\n",
       "612  34003       54778.0     114546.0      50008.0    141705.0"
      ]
     },
     "execution_count": 37,
     "metadata": {},
     "output_type": "execute_result"
    }
   ],
   "source": [
    "dfY1.head()"
   ]
  },
  {
   "cell_type": "code",
   "execution_count": 33,
   "metadata": {},
   "outputs": [],
   "source": [
    "dfY0 = get.get_county(p,source,y0,cols_y0)\n",
    "dfY0 = get.clean_data(dfY0,var_data_y0)"
   ]
  },
  {
   "cell_type": "code",
   "execution_count": 34,
   "metadata": {},
   "outputs": [],
   "source": [
    "dfY0['Rent_Burd_Y0'] = dfY0.loc[:,rb_y0_E].sum(axis=1)\n",
    "dfY0['Rent_Tot_Y0'] = dfY0['DP04_0134E']\n",
    "dfY0['Own_Burd_Y0'] = dfY0.loc[:,ob_y0_E].sum(axis=1)\n",
    "dfY0['Own_Tot_Y0'] = dfY0['DP04_0108E']\n",
    "dfY0 = dfY0.drop(var_data_y0[1:],axis=1)"
   ]
  },
  {
   "cell_type": "code",
   "execution_count": 35,
   "metadata": {},
   "outputs": [
    {
     "data": {
      "text/html": [
       "<div>\n",
       "<style scoped>\n",
       "    .dataframe tbody tr th:only-of-type {\n",
       "        vertical-align: middle;\n",
       "    }\n",
       "\n",
       "    .dataframe tbody tr th {\n",
       "        vertical-align: top;\n",
       "    }\n",
       "\n",
       "    .dataframe thead th {\n",
       "        text-align: right;\n",
       "    }\n",
       "</style>\n",
       "<table border=\"1\" class=\"dataframe\">\n",
       "  <thead>\n",
       "    <tr style=\"text-align: right;\">\n",
       "      <th></th>\n",
       "      <th>GEO_ID</th>\n",
       "      <th>Rent_Burd_Y0</th>\n",
       "      <th>Rent_Tot_Y0</th>\n",
       "      <th>Own_Burd_Y0</th>\n",
       "      <th>Own_Tot_Y0</th>\n",
       "    </tr>\n",
       "  </thead>\n",
       "  <tbody>\n",
       "    <tr>\n",
       "      <th>438</th>\n",
       "      <td>09001</td>\n",
       "      <td>49148.0</td>\n",
       "      <td>92171.0</td>\n",
       "      <td>77685.0</td>\n",
       "      <td>171350.0</td>\n",
       "    </tr>\n",
       "    <tr>\n",
       "      <th>440</th>\n",
       "      <td>09005</td>\n",
       "      <td>7082.0</td>\n",
       "      <td>14646.0</td>\n",
       "      <td>17579.0</td>\n",
       "      <td>42894.0</td>\n",
       "    </tr>\n",
       "    <tr>\n",
       "      <th>442</th>\n",
       "      <td>09009</td>\n",
       "      <td>60022.0</td>\n",
       "      <td>107535.0</td>\n",
       "      <td>65006.0</td>\n",
       "      <td>155173.0</td>\n",
       "    </tr>\n",
       "    <tr>\n",
       "      <th>1900</th>\n",
       "      <td>34003</td>\n",
       "      <td>49738.0</td>\n",
       "      <td>102534.0</td>\n",
       "      <td>74701.0</td>\n",
       "      <td>152821.0</td>\n",
       "    </tr>\n",
       "    <tr>\n",
       "      <th>1905</th>\n",
       "      <td>34013</td>\n",
       "      <td>72973.0</td>\n",
       "      <td>140545.0</td>\n",
       "      <td>49716.0</td>\n",
       "      <td>95135.0</td>\n",
       "    </tr>\n",
       "  </tbody>\n",
       "</table>\n",
       "</div>"
      ],
      "text/plain": [
       "     GEO_ID  Rent_Burd_Y0  Rent_Tot_Y0  Own_Burd_Y0  Own_Tot_Y0\n",
       "438   09001       49148.0      92171.0      77685.0    171350.0\n",
       "440   09005        7082.0      14646.0      17579.0     42894.0\n",
       "442   09009       60022.0     107535.0      65006.0    155173.0\n",
       "1900  34003       49738.0     102534.0      74701.0    152821.0\n",
       "1905  34013       72973.0     140545.0      49716.0     95135.0"
      ]
     },
     "execution_count": 35,
     "metadata": {},
     "output_type": "execute_result"
    }
   ],
   "source": [
    "dfY0.head()"
   ]
  },
  {
   "cell_type": "code",
   "execution_count": 38,
   "metadata": {},
   "outputs": [],
   "source": [
    "#Merge the two dataframes using the stco identifier\n",
    "dfY0Y1 = pd.merge(dfY0,dfY1,how='left',on='GEO_ID')"
   ]
  },
  {
   "cell_type": "code",
   "execution_count": 39,
   "metadata": {},
   "outputs": [
    {
     "data": {
      "text/html": [
       "<div>\n",
       "<style scoped>\n",
       "    .dataframe tbody tr th:only-of-type {\n",
       "        vertical-align: middle;\n",
       "    }\n",
       "\n",
       "    .dataframe tbody tr th {\n",
       "        vertical-align: top;\n",
       "    }\n",
       "\n",
       "    .dataframe thead th {\n",
       "        text-align: right;\n",
       "    }\n",
       "</style>\n",
       "<table border=\"1\" class=\"dataframe\">\n",
       "  <thead>\n",
       "    <tr style=\"text-align: right;\">\n",
       "      <th></th>\n",
       "      <th>GEO_ID</th>\n",
       "      <th>Rent_Burd_Y0</th>\n",
       "      <th>Rent_Tot_Y0</th>\n",
       "      <th>Own_Burd_Y0</th>\n",
       "      <th>Own_Tot_Y0</th>\n",
       "      <th>Rent_Burd_Y1</th>\n",
       "      <th>Rent_Tot_Y1</th>\n",
       "      <th>Own_Burd_Y1</th>\n",
       "      <th>Own_Tot_Y1</th>\n",
       "    </tr>\n",
       "  </thead>\n",
       "  <tbody>\n",
       "    <tr>\n",
       "      <th>0</th>\n",
       "      <td>09001</td>\n",
       "      <td>49148.0</td>\n",
       "      <td>92171.0</td>\n",
       "      <td>77685.0</td>\n",
       "      <td>171350.0</td>\n",
       "      <td>59050.0</td>\n",
       "      <td>109228.0</td>\n",
       "      <td>56090.0</td>\n",
       "      <td>158270.0</td>\n",
       "    </tr>\n",
       "    <tr>\n",
       "      <th>1</th>\n",
       "      <td>09005</td>\n",
       "      <td>7082.0</td>\n",
       "      <td>14646.0</td>\n",
       "      <td>17579.0</td>\n",
       "      <td>42894.0</td>\n",
       "      <td>8027.0</td>\n",
       "      <td>16242.0</td>\n",
       "      <td>11804.0</td>\n",
       "      <td>37612.0</td>\n",
       "    </tr>\n",
       "    <tr>\n",
       "      <th>2</th>\n",
       "      <td>09009</td>\n",
       "      <td>60022.0</td>\n",
       "      <td>107535.0</td>\n",
       "      <td>65006.0</td>\n",
       "      <td>155173.0</td>\n",
       "      <td>61681.0</td>\n",
       "      <td>118782.0</td>\n",
       "      <td>43395.0</td>\n",
       "      <td>137490.0</td>\n",
       "    </tr>\n",
       "    <tr>\n",
       "      <th>3</th>\n",
       "      <td>34003</td>\n",
       "      <td>49738.0</td>\n",
       "      <td>102534.0</td>\n",
       "      <td>74701.0</td>\n",
       "      <td>152821.0</td>\n",
       "      <td>54778.0</td>\n",
       "      <td>114546.0</td>\n",
       "      <td>50008.0</td>\n",
       "      <td>141705.0</td>\n",
       "    </tr>\n",
       "    <tr>\n",
       "      <th>4</th>\n",
       "      <td>34013</td>\n",
       "      <td>72973.0</td>\n",
       "      <td>140545.0</td>\n",
       "      <td>49716.0</td>\n",
       "      <td>95135.0</td>\n",
       "      <td>83585.0</td>\n",
       "      <td>154816.0</td>\n",
       "      <td>36342.0</td>\n",
       "      <td>89499.0</td>\n",
       "    </tr>\n",
       "  </tbody>\n",
       "</table>\n",
       "</div>"
      ],
      "text/plain": [
       "  GEO_ID  Rent_Burd_Y0  Rent_Tot_Y0  Own_Burd_Y0  Own_Tot_Y0  Rent_Burd_Y1  \\\n",
       "0  09001       49148.0      92171.0      77685.0    171350.0       59050.0   \n",
       "1  09005        7082.0      14646.0      17579.0     42894.0        8027.0   \n",
       "2  09009       60022.0     107535.0      65006.0    155173.0       61681.0   \n",
       "3  34003       49738.0     102534.0      74701.0    152821.0       54778.0   \n",
       "4  34013       72973.0     140545.0      49716.0     95135.0       83585.0   \n",
       "\n",
       "   Rent_Tot_Y1  Own_Burd_Y1  Own_Tot_Y1  \n",
       "0     109228.0      56090.0    158270.0  \n",
       "1      16242.0      11804.0     37612.0  \n",
       "2     118782.0      43395.0    137490.0  \n",
       "3     114546.0      50008.0    141705.0  \n",
       "4     154816.0      36342.0     89499.0  "
      ]
     },
     "execution_count": 39,
     "metadata": {},
     "output_type": "execute_result"
    }
   ],
   "source": [
    "dfY0Y1.head()"
   ]
  },
  {
   "cell_type": "code",
   "execution_count": 41,
   "metadata": {},
   "outputs": [
    {
     "data": {
      "text/html": [
       "<div>\n",
       "<style scoped>\n",
       "    .dataframe tbody tr th:only-of-type {\n",
       "        vertical-align: middle;\n",
       "    }\n",
       "\n",
       "    .dataframe tbody tr th {\n",
       "        vertical-align: top;\n",
       "    }\n",
       "\n",
       "    .dataframe thead th {\n",
       "        text-align: right;\n",
       "    }\n",
       "</style>\n",
       "<table border=\"1\" class=\"dataframe\">\n",
       "  <thead>\n",
       "    <tr style=\"text-align: right;\">\n",
       "      <th></th>\n",
       "      <th>reg</th>\n",
       "      <th>Rent_Burd_Y0</th>\n",
       "      <th>Rent_Tot_Y0</th>\n",
       "      <th>Own_Burd_Y0</th>\n",
       "      <th>Own_Tot_Y0</th>\n",
       "      <th>Rent_Burd_Y1</th>\n",
       "      <th>Rent_Tot_Y1</th>\n",
       "      <th>Own_Burd_Y1</th>\n",
       "      <th>Own_Tot_Y1</th>\n",
       "    </tr>\n",
       "  </thead>\n",
       "  <tbody>\n",
       "    <tr>\n",
       "      <th>0</th>\n",
       "      <td>Metro</td>\n",
       "      <td>1763570.0</td>\n",
       "      <td>3399606.0</td>\n",
       "      <td>1461211.0</td>\n",
       "      <td>3063416.0</td>\n",
       "      <td>1890504.0</td>\n",
       "      <td>3646869.0</td>\n",
       "      <td>1055281.0</td>\n",
       "      <td>2828351.0</td>\n",
       "    </tr>\n",
       "  </tbody>\n",
       "</table>\n",
       "</div>"
      ],
      "text/plain": [
       "     reg  Rent_Burd_Y0  Rent_Tot_Y0  Own_Burd_Y0  Own_Tot_Y0  Rent_Burd_Y1  \\\n",
       "0  Metro     1763570.0    3399606.0    1461211.0   3063416.0     1890504.0   \n",
       "\n",
       "   Rent_Tot_Y1  Own_Burd_Y1  Own_Tot_Y1  \n",
       "0    3646869.0    1055281.0   2828351.0  "
      ]
     },
     "execution_count": 41,
     "metadata": {},
     "output_type": "execute_result"
    }
   ],
   "source": [
    "reg = dfY0Y1.copy()\n",
    "reg['reg'] = 'Metro'\n",
    "reg = reg.groupby('reg').sum().reset_index()\n",
    "reg"
   ]
  },
  {
   "cell_type": "code",
   "execution_count": 42,
   "metadata": {},
   "outputs": [],
   "source": [
    "reg.to_excel('../../output/Housing/CostBurden_region_20102020.xlsx',index=False)"
   ]
  },
  {
   "cell_type": "code",
   "execution_count": 43,
   "metadata": {},
   "outputs": [],
   "source": [
    "dfY0Y1.to_excel('../../output/Housing/CostBurden_counties_20102020.xlsx',index=False)"
   ]
  }
 ],
 "metadata": {
  "kernelspec": {
   "display_name": "Python 3 (ipykernel)",
   "language": "python",
   "name": "python3"
  },
  "language_info": {
   "codemirror_mode": {
    "name": "ipython",
    "version": 3
   },
   "file_extension": ".py",
   "mimetype": "text/x-python",
   "name": "python",
   "nbconvert_exporter": "python",
   "pygments_lexer": "ipython3",
   "version": "3.9.12"
  }
 },
 "nbformat": 4,
 "nbformat_minor": 2
}
