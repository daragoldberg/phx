{
 "cells": [
  {
   "cell_type": "code",
   "execution_count": null,
   "id": "f94eb107",
   "metadata": {},
   "outputs": [],
   "source": [
    "import pandas as pd\n",
    "import numpy as np\n",
    "\n",
    "%matplotlib inline\n",
    "import matplotlib as mpl\n",
    "import matplotlib.pyplot as plt\n",
    "\n",
    "from shapely.geometry import Point, Polygon\n",
    "import geopandas as gpd"
   ]
  },
  {
   "cell_type": "markdown",
   "id": "eeda2a24",
   "metadata": {},
   "source": [
    "#### ZHVI"
   ]
  },
  {
   "cell_type": "code",
   "execution_count": null,
   "id": "70d102b5",
   "metadata": {},
   "outputs": [],
   "source": [
    "zhvi_zip_path = 'https://files.zillowstatic.com/research/public_csvs/zhvi/Zip_zhvi_uc_sfrcondo_tier_0.33_0.67_sm_sa_month.csv?t=1678040670'\n",
    "zhvi_zip = pd.read_csv(zhvi_zip_path)"
   ]
  },
  {
   "cell_type": "code",
   "execution_count": null,
   "id": "2bd4fec7",
   "metadata": {},
   "outputs": [],
   "source": [
    "#phx_zhvi = zhvi_zip[(zhvi_zip.City=='Phoenix')&(zhvi_zip.State=='AZ')].copy()\n",
    "#phx_zhvi.head(2)"
   ]
  },
  {
   "cell_type": "markdown",
   "id": "714acf7f",
   "metadata": {},
   "source": [
    "#### ZORI"
   ]
  },
  {
   "cell_type": "code",
   "execution_count": null,
   "id": "e686ca35",
   "metadata": {},
   "outputs": [],
   "source": [
    "zori_zip_path='https://files.zillowstatic.com/research/public_csvs/zori/Zip_zori_sm_month.csv?t=1678040670'\n",
    "zori_zip = pd.read_csv(zori_zip_path)"
   ]
  },
  {
   "cell_type": "code",
   "execution_count": null,
   "id": "4c8e3545",
   "metadata": {},
   "outputs": [],
   "source": [
    "#phx_zori = zori_zip[(zori_zip.City=='Phoenix')&(zori_zip.State=='AZ')].copy()"
   ]
  },
  {
   "cell_type": "code",
   "execution_count": null,
   "id": "b862f5bd",
   "metadata": {},
   "outputs": [],
   "source": [
    "#phx_zori.head(2)"
   ]
  },
  {
   "cell_type": "markdown",
   "id": "e98b14f8",
   "metadata": {},
   "source": [
    "## Map prices"
   ]
  },
  {
   "cell_type": "code",
   "execution_count": null,
   "id": "244a73bd",
   "metadata": {},
   "outputs": [],
   "source": [
    "# allow max rows and colums to be displayed\n",
    "pd.set_option('display.max_columns', None)\n",
    "pd.set_option('display.max_rows', None)"
   ]
  },
  {
   "cell_type": "code",
   "execution_count": null,
   "id": "58fcafe4",
   "metadata": {
    "scrolled": true
   },
   "outputs": [],
   "source": [
    "geo = gpd.read_file('../data/geo/shapefiles/Phoenix_ZCTA.shp')\n",
    "geo['joinid'] = geo['GEOID20'].astype(int)\n",
    "geo.head(2)"
   ]
  },
  {
   "cell_type": "code",
   "execution_count": null,
   "id": "0e865e21",
   "metadata": {},
   "outputs": [],
   "source": [
    "villages = gpd.read_file('../data/geo/shapefiles/Villages.shp')\n",
    "villages.head(2)"
   ]
  },
  {
   "cell_type": "code",
   "execution_count": null,
   "id": "e32bbab3",
   "metadata": {},
   "outputs": [],
   "source": [
    "villages = villages.to_crs(4269)\n",
    "villages.crs == geo.crs"
   ]
  },
  {
   "cell_type": "code",
   "execution_count": null,
   "id": "365cfdfb",
   "metadata": {},
   "outputs": [],
   "source": [
    "road = gpd.read_file('../data/geo/shapefiles/maricopa_primroads.geojson')"
   ]
  },
  {
   "cell_type": "markdown",
   "id": "db765c2a",
   "metadata": {},
   "source": [
    "## map"
   ]
  },
  {
   "cell_type": "code",
   "execution_count": null,
   "id": "e20ec7b2",
   "metadata": {},
   "outputs": [],
   "source": [
    "own_cost = pd.merge(geo,zhvi_zip,how='left',left_on='joinid',right_on='RegionName')"
   ]
  },
  {
   "cell_type": "code",
   "execution_count": null,
   "id": "687699e9",
   "metadata": {},
   "outputs": [],
   "source": [
    "date_cols = list(own_cost.columns[own_cost.columns.get_loc('2000-01-31'):])\n",
    "cur_month = date_cols[-1]"
   ]
  },
  {
   "cell_type": "code",
   "execution_count": null,
   "id": "bf40df72",
   "metadata": {},
   "outputs": [],
   "source": [
    "own_cost = own_cost[['geometry','joinid']+date_cols]"
   ]
  },
  {
   "cell_type": "code",
   "execution_count": null,
   "id": "f271f22b",
   "metadata": {},
   "outputs": [],
   "source": [
    "#melted table for animation of multiple months (if interested)\n",
    "own_cost_melt = pd.melt(own_cost,id_vars=['joinid','geometry'],value_vars=date_cols)"
   ]
  },
  {
   "cell_type": "code",
   "execution_count": null,
   "id": "5fdf0884",
   "metadata": {},
   "outputs": [],
   "source": [
    "#table for current month for visualization\n",
    "own_cost_cur = own_cost[['geometry','joinid',cur_month]]"
   ]
  },
  {
   "cell_type": "code",
   "execution_count": null,
   "id": "fc371b0e",
   "metadata": {},
   "outputs": [],
   "source": [
    "own_cost_cur.describe()"
   ]
  },
  {
   "cell_type": "code",
   "execution_count": null,
   "id": "5c2fca50",
   "metadata": {},
   "outputs": [],
   "source": [
    "fig, ax = plt.subplots(1, figsize = (20,16))\n",
    "ax.axis('off')\n",
    "new_norm = plt.Normalize(vmin=250000,vmax=750000)\n",
    "sm = plt.cm.ScalarMappable(cmap='Blues', norm=new_norm)\n",
    "sm.set_array([])\n",
    "own_cost_cur.plot(column = '2023-01-31', cmap='Blues', norm=new_norm, edgecolor=\"white\", linewidth=0.4, ax=ax)\n",
    "villages.plot(ax=ax,color='none',edgecolor='gray',linewidth=0.8)\n",
    "phx.plot(ax=ax,color='none',edgecolor='gray',linewidth=0.6)\n",
    "    road.plot(ax=ax,color='black',edgecolor='none',linewidth=0.5)\n",
    "fig.colorbar(sm)\n",
    "#ax.set_title(f'Median Price {month[:3]} 20{month[-2:]}', color = 'k',  fontsize = 15)\n",
    "#             xy = (0.6,.05), xycoords = 'figure fraction', fontsize = 11, color = 'k')"
   ]
  },
  {
   "cell_type": "code",
   "execution_count": null,
   "id": "8f03f3f9",
   "metadata": {},
   "outputs": [],
   "source": [
    "plt.savefig(f'output/test/{month}.jpg', dpi = 250) # saving each"
   ]
  }
 ],
 "metadata": {
  "kernelspec": {
   "display_name": "Python 3 (ipykernel)",
   "language": "python",
   "name": "python3"
  },
  "language_info": {
   "codemirror_mode": {
    "name": "ipython",
    "version": 3
   },
   "file_extension": ".py",
   "mimetype": "text/x-python",
   "name": "python",
   "nbconvert_exporter": "python",
   "pygments_lexer": "ipython3",
   "version": "3.9.13"
  }
 },
 "nbformat": 4,
 "nbformat_minor": 5
}
